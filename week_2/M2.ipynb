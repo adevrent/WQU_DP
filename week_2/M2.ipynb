{
 "cells": [
  {
   "cell_type": "code",
   "execution_count": 13,
   "metadata": {},
   "outputs": [],
   "source": [
    "import numpy as np"
   ]
  },
  {
   "cell_type": "code",
   "execution_count": 14,
   "metadata": {},
   "outputs": [
    {
     "data": {
      "text/plain": [
       "0.6281777409400603"
      ]
     },
     "execution_count": 14,
     "metadata": {},
     "output_type": "execute_result"
    }
   ],
   "source": [
    "def calc_q(u, d, r, dt):\n",
    "    return (np.exp(r*dt) - d) / (u - d)\n",
    "\n",
    "def calc_expected_payoff(cf_u, cf_d, q, r, dt):\n",
    "    E_cf = q*cf_u + (1-q)*cf_d\n",
    "    return np.exp(-r*dt) * E_cf  # discount the cash flow\n",
    "\n",
    "def get_american_value(expected_payoff, early_exercise_payoff):\n",
    "    return np.max(expected_payoff, early_exercise_payoff)\n",
    "\n",
    "u = 1.2\n",
    "d = 0.8\n",
    "r = 0.05\n",
    "dt = 1\n",
    "\n",
    "q = calc_q(u, d, r, dt)\n",
    "q"
   ]
  },
  {
   "cell_type": "code",
   "execution_count": 15,
   "metadata": {},
   "outputs": [
    {
     "data": {
      "text/plain": [
       "1.4147530940085673"
      ]
     },
     "execution_count": 15,
     "metadata": {},
     "output_type": "execute_result"
    }
   ],
   "source": [
    "calc_expected_payoff(0, 4, q, r, dt)"
   ]
  },
  {
   "cell_type": "code",
   "execution_count": null,
   "metadata": {},
   "outputs": [],
   "source": [
    "def american_option(S_ini, K, T, r, u, d, N, opttype):\n",
    "    dt = T / N  # Define time step\n",
    "    p = (np.exp(r * dt) - d) / (u - d)  # risk neutral probs\n",
    "    C = np.zeros([N + 1, N + 1])  # call prices\n",
    "    S = np.zeros([N + 1, N + 1])  # underlying price\n",
    "\n",
    "    for i in range(0, N + 1):\n",
    "        S[N, i] = S_ini * (u ** (i)) * (d ** (N - i))\n",
    "        if opttype == \"C\":\n",
    "            C[N, i] = max(S[N, i] - K, 0)\n",
    "        else:\n",
    "            C[N, i] = max(K - S[N, i], 0)\n",
    "\n",
    "    for j in range(N - 1, -1, -1):\n",
    "        for i in range(0, j + 1):\n",
    "            C[j, i] = np.exp(-r * dt) * (\n",
    "                p * C[j + 1, i + 1] + (1 - p) * C[j + 1, i]\n",
    "            )  # Computing the European option prices\n",
    "            S[j, i] = (\n",
    "                S_ini * (u ** (i)) * (d ** (j - i))\n",
    "            )  # Underlying evolution for each node\n",
    "            if opttype == \"C\":\n",
    "                C[j, i] = max(\n",
    "                    C[j, i], S[j, i] - K\n",
    "                )  # Decision between the European option price and the payoff from early-exercise\n",
    "            else:\n",
    "                C[j, i] = max(\n",
    "                    C[j, i], K - S[j, i]\n",
    "                )  # Decision between the European option price and the payoff from early-exercise\n",
    "\n",
    "    return C[0, 0], C, S\n",
    "\n",
    "def american_option_vol(S_ini, K, T, r, sigma, N, opttype):\n",
    "    dt = T / N  # Define time step\n",
    "    u = np.exp(sigma * np.sqrt(dt))  # Define u\n",
    "    d = np.exp(-sigma * np.sqrt(dt))  # Define d\n",
    "    p = (np.exp(r * dt) - d) / (u - d)  # risk neutral probs\n",
    "    C = np.zeros([N + 1, N + 1])  # call prices\n",
    "    S = np.zeros([N + 1, N + 1])  # underlying price\n",
    "\n",
    "    for i in range(0, N + 1):\n",
    "        S[N, i] = S_ini * (u ** (i)) * (d ** (N - i))\n",
    "        if opttype == \"C\":\n",
    "            C[N, i] = max(S[N, i] - K, 0)\n",
    "        else:\n",
    "            C[N, i] = max(K - S[N, i], 0)\n",
    "\n",
    "    for j in range(N - 1, -1, -1):\n",
    "        for i in range(0, j + 1):\n",
    "            C[j, i] = np.exp(-r * dt) * (\n",
    "                p * C[j + 1, i + 1] + (1 - p) * C[j + 1, i]\n",
    "            )  # Computing the European option prices\n",
    "            S[j, i] = (\n",
    "                S_ini * (u ** (i)) * (d ** (j - i))\n",
    "            )  # Underlying evolution for each node\n",
    "            if opttype == \"C\":\n",
    "                C[j, i] = max(\n",
    "                    C[j, i], S[j, i] - K\n",
    "                )  # Decision between the European option price and the payoff from early-exercise\n",
    "            else:\n",
    "                C[j, i] = max(\n",
    "                    C[j, i], K - S[j, i]\n",
    "                )  # Decision between the European option price and the payoff from early-exercise\n",
    "\n",
    "    return C[0, 0], C, S"
   ]
  }
 ],
 "metadata": {
  "kernelspec": {
   "display_name": "base",
   "language": "python",
   "name": "python3"
  },
  "language_info": {
   "codemirror_mode": {
    "name": "ipython",
    "version": 3
   },
   "file_extension": ".py",
   "mimetype": "text/x-python",
   "name": "python",
   "nbconvert_exporter": "python",
   "pygments_lexer": "ipython3",
   "version": "3.11.5"
  }
 },
 "nbformat": 4,
 "nbformat_minor": 2
}
