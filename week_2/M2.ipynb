{
 "cells": [
  {
   "cell_type": "code",
   "execution_count": 16,
   "metadata": {},
   "outputs": [],
   "source": [
    "import numpy as np"
   ]
  },
  {
   "cell_type": "code",
   "execution_count": 17,
   "metadata": {},
   "outputs": [
    {
     "data": {
      "text/plain": [
       "0.6281777409400603"
      ]
     },
     "execution_count": 17,
     "metadata": {},
     "output_type": "execute_result"
    }
   ],
   "source": [
    "def calc_q(u, d, r, dt):\n",
    "    return (np.exp(r*dt) - d) / (u - d)\n",
    "\n",
    "def calc_expected_payoff(cf_u, cf_d, q, r, dt):\n",
    "    E_cf = q*cf_u + (1-q)*cf_d\n",
    "    return np.exp(-r*dt) * E_cf  # discount the cash flow\n",
    "\n",
    "def get_american_value(expected_payoff, early_exercise_payoff):\n",
    "    return np.max(expected_payoff, early_exercise_payoff)\n",
    "\n",
    "u = 1.2\n",
    "d = 0.8\n",
    "r = 0.05\n",
    "dt = 1\n",
    "\n",
    "q = calc_q(u, d, r, dt)\n",
    "q"
   ]
  },
  {
   "cell_type": "code",
   "execution_count": 18,
   "metadata": {},
   "outputs": [
    {
     "data": {
      "text/plain": [
       "1.4147530940085673"
      ]
     },
     "execution_count": 18,
     "metadata": {},
     "output_type": "execute_result"
    }
   ],
   "source": [
    "calc_expected_payoff(0, 4, q, r, dt)"
   ]
  },
  {
   "cell_type": "markdown",
   "metadata": {},
   "source": [
    "# FUNCTIONS"
   ]
  },
  {
   "cell_type": "code",
   "execution_count": 19,
   "metadata": {},
   "outputs": [],
   "source": [
    "def american_option(S_ini, K, T, r, u, d, N, opttype):\n",
    "    dt = T / N  # Define time step\n",
    "    p = (np.exp(r * dt) - d) / (u - d)  # risk neutral probs\n",
    "    C = np.zeros([N + 1, N + 1])  # call prices\n",
    "    S = np.zeros([N + 1, N + 1])  # underlying price\n",
    "\n",
    "    for i in range(0, N + 1):\n",
    "        S[N, i] = S_ini * (u ** (i)) * (d ** (N - i))\n",
    "        if opttype == \"C\":\n",
    "            C[N, i] = max(S[N, i] - K, 0)\n",
    "        else:\n",
    "            C[N, i] = max(K - S[N, i], 0)\n",
    "\n",
    "    for j in range(N - 1, -1, -1):\n",
    "        for i in range(0, j + 1):\n",
    "            C[j, i] = np.exp(-r * dt) * (\n",
    "                p * C[j + 1, i + 1] + (1 - p) * C[j + 1, i]\n",
    "            )  # Computing the European option prices\n",
    "            S[j, i] = (\n",
    "                S_ini * (u ** (i)) * (d ** (j - i))\n",
    "            )  # Underlying evolution for each node\n",
    "            if opttype == \"C\":\n",
    "                C[j, i] = max(\n",
    "                    C[j, i], S[j, i] - K\n",
    "                )  # Decision between the European option price and the payoff from early-exercise\n",
    "            else:\n",
    "                C[j, i] = max(\n",
    "                    C[j, i], K - S[j, i]\n",
    "                )  # Decision between the European option price and the payoff from early-exercise\n",
    "\n",
    "    return C[0, 0], C, S\n",
    "\n",
    "def american_option_vol(S_ini, K, T, r, sigma, N, opttype):\n",
    "    dt = T / N  # Define time step\n",
    "    u = np.exp(sigma * np.sqrt(dt))  # Define u\n",
    "    d = np.exp(-sigma * np.sqrt(dt))  # Define d\n",
    "    p = (np.exp(r * dt) - d) / (u - d)  # risk neutral probs\n",
    "    C = np.zeros([N + 1, N + 1])  # call prices\n",
    "    S = np.zeros([N + 1, N + 1])  # underlying price\n",
    "\n",
    "    for i in range(0, N + 1):\n",
    "        S[N, i] = S_ini * (u ** (i)) * (d ** (N - i))\n",
    "        if opttype == \"C\":\n",
    "            C[N, i] = max(S[N, i] - K, 0)\n",
    "        else:\n",
    "            C[N, i] = max(K - S[N, i], 0)\n",
    "\n",
    "    for j in range(N - 1, -1, -1):\n",
    "        for i in range(0, j + 1):\n",
    "            C[j, i] = np.exp(-r * dt) * (\n",
    "                p * C[j + 1, i + 1] + (1 - p) * C[j + 1, i]\n",
    "            )  # Computing the European option prices\n",
    "            S[j, i] = (\n",
    "                S_ini * (u ** (i)) * (d ** (j - i))\n",
    "            )  # Underlying evolution for each node\n",
    "            if opttype == \"C\":\n",
    "                C[j, i] = max(\n",
    "                    C[j, i], S[j, i] - K\n",
    "                )  # Decision between the European option price and the payoff from early-exercise\n",
    "            else:\n",
    "                C[j, i] = max(\n",
    "                    C[j, i], K - S[j, i]\n",
    "                )  # Decision between the European option price and the payoff from early-exercise\n",
    "\n",
    "    return C[0, 0], C, S"
   ]
  },
  {
   "cell_type": "code",
   "execution_count": 20,
   "metadata": {},
   "outputs": [],
   "source": [
    "def european_option(S_ini, K, T, r, u, d, N, opttype):\n",
    "    dt = T / N  # Define time step\n",
    "    p = (np.exp(r * dt) - d) / (u - d)  # risk neutral probs\n",
    "    C = np.zeros([N + 1, N + 1])  # call prices\n",
    "    S = np.zeros([N + 1, N + 1])  # underlying price\n",
    "    Delta = np.zeros([N, N])  # delta\n",
    "\n",
    "    for i in range(0, N + 1):\n",
    "        S[N, i] = S_ini * (u ** (i)) * (d ** (N - i))\n",
    "        if opttype == \"C\":\n",
    "            C[N, i] = max(S[N, i] - K, 0)\n",
    "        else:\n",
    "            C[N, i] = max(K - S[N, i], 0)\n",
    "\n",
    "    for j in range(N - 1, -1, -1):\n",
    "        for i in range(0, j + 1):\n",
    "            C[j, i] = np.exp(-r * dt) * (\n",
    "                p * C[j + 1, i + 1] + (1 - p) * C[j + 1, i]\n",
    "            )  # Computing the European option prices\n",
    "            S[j, i] = (\n",
    "                S_ini * (u ** (i)) * (d ** (j - i))\n",
    "            )  # Underlying evolution for each node\n",
    "\n",
    "            Delta[j, i] = (C[j + 1, i + 1] - C[j + 1, i]) / (\n",
    "                S[j + 1, i + 1] - S[j + 1, i]\n",
    "            )  # Computing the delta for each node\n",
    "\n",
    "    return C[0, 0], C, S, Delta\n",
    "\n",
    "def call_option_mc(S_ini, K, T, r, sigma, N, M):\n",
    "    dt = T / N  # Define time step\n",
    "    u = np.exp(sigma * np.sqrt(dt))  # Define u\n",
    "    d = np.exp(-sigma * np.sqrt(dt))  # Define d\n",
    "    p = (np.exp(r * dt) - d) / (u - d)  # risk neutral probs\n",
    "    C = np.zeros([M])  # call prices\n",
    "    S = np.zeros([M, N + 1])  # underlying price\n",
    "    S[:, 0] = S_ini\n",
    "\n",
    "    for j in range(0, M):\n",
    "        random = np.random.binomial(\n",
    "            1, p, N + 1\n",
    "        )  # We sample random realizations for the paths of the tree under a binomial distribution\n",
    "        for i in range(1, N + 1):\n",
    "            if random[i] == 1:\n",
    "                S[j, i] = S[j, i - 1] * u\n",
    "            else:\n",
    "                S[j, i] = S[j, i - 1] * d\n",
    "\n",
    "        C[j] = np.exp(-r * T) * max(S[j, N] - K, 0)\n",
    "\n",
    "    return S, C\n",
    "\n",
    "def asian_option_mc(S_ini, K, T, r, sigma, N, M):\n",
    "    dt = T / N  # Define time step\n",
    "    u = np.exp(sigma * np.sqrt(dt))  # Define u\n",
    "    d = np.exp(-sigma * np.sqrt(dt))  # Define d\n",
    "    p = (np.exp(r * dt) - d) / (u - d)  # risk neutral probs\n",
    "    Asian = np.zeros([M])  # Asian prices\n",
    "    S = np.zeros([M, N + 1])  # underlying price\n",
    "    S[:, 0] = S_ini\n",
    "\n",
    "    for j in range(0, M):\n",
    "        random = np.random.binomial(1, p, N + 1)\n",
    "        Total = S_ini\n",
    "        for i in range(1, N + 1):\n",
    "            if random[i] == 1:\n",
    "                S[j, i] = S[j, i - 1] * u\n",
    "                Total = Total + S[j, i]\n",
    "            else:\n",
    "                S[j, i] = S[j, i - 1] * d\n",
    "                Total = Total + S[j, i]\n",
    "\n",
    "        Asian[j] = np.exp(-r * T) * max(Total / (N + 1) - K, 0)\n",
    "\n",
    "    return S, Asian\n",
    "\n",
    "def asian_option_mc_2(S_ini, K, T, r, u, d, N, M):\n",
    "    dt = T / N  # Define time step\n",
    "    p = (np.exp(r * dt) - d) / (u - d)  # risk neutral probs\n",
    "    Asian = np.zeros([M])  # Asian prices\n",
    "    S = np.zeros([M, N + 1])  # underlying price\n",
    "    S[:, 0] = S_ini\n",
    "\n",
    "    for j in range(0, M):\n",
    "        random = np.random.binomial(1, p, N + 1)\n",
    "        Total = S_ini\n",
    "        for i in range(1, N + 1):\n",
    "            if random[i] == 1:\n",
    "                S[j, i] = S[j, i - 1] * u\n",
    "                Total = Total + S[j, i]\n",
    "            else:\n",
    "                S[j, i] = S[j, i - 1] * d\n",
    "                Total = Total + S[j, i]\n",
    "\n",
    "        Asian[j] = np.exp(-r * T) * max(Total / (N + 1) - K, 0)\n",
    "\n",
    "    return S, Asian"
   ]
  },
  {
   "cell_type": "markdown",
   "metadata": {},
   "source": [
    "$C_E \\ge max(S_0 - K e^{-rT}, 0) $\n",
    "\n",
    "$P_E \\ge max(K e^{-rT} - S_0, 0) $\n",
    "\n",
    "$C_A \\ge max(S_0 - K, 0) $\n",
    "\n",
    "$P_A \\ge max(K - S_0, 0) $"
   ]
  },
  {
   "cell_type": "code",
   "execution_count": 31,
   "metadata": {},
   "outputs": [
    {
     "data": {
      "text/plain": [
       "array([[60. , 54. , 64.8],\n",
       "       [60. , 54. , 64.8]])"
      ]
     },
     "execution_count": 31,
     "metadata": {},
     "output_type": "execute_result"
    }
   ],
   "source": [
    "S_ini = 60\n",
    "K = 50\n",
    "T = 2\n",
    "r = 0\n",
    "u = 1.2\n",
    "d = 0.9\n",
    "N = 2\n",
    "M = N\n",
    "\n",
    "S, Asian = asian_option_mc_2(S_ini, K, T, r, u, d, N, M)\n",
    "S"
   ]
  },
  {
   "cell_type": "code",
   "execution_count": 22,
   "metadata": {},
   "outputs": [
    {
     "data": {
      "text/plain": [
       "51.3"
      ]
     },
     "execution_count": 22,
     "metadata": {},
     "output_type": "execute_result"
    }
   ],
   "source": [
    "np.mean((54, 48.6))"
   ]
  },
  {
   "cell_type": "code",
   "execution_count": 27,
   "metadata": {},
   "outputs": [
    {
     "data": {
      "text/plain": [
       "21.52996397466726"
      ]
     },
     "execution_count": 27,
     "metadata": {},
     "output_type": "execute_result"
    }
   ],
   "source": [
    "callprice, C, S = american_option(45, 45, 50, 0, 1.2, 1/1.2, 50, \"P\")\n",
    "callprice"
   ]
  },
  {
   "cell_type": "code",
   "execution_count": 36,
   "metadata": {},
   "outputs": [
    {
     "data": {
      "text/plain": [
       "39.6"
      ]
     },
     "execution_count": 36,
     "metadata": {},
     "output_type": "execute_result"
    }
   ],
   "source": [
    "np.mean((36, 43.2))"
   ]
  },
  {
   "cell_type": "code",
   "execution_count": 38,
   "metadata": {},
   "outputs": [
    {
     "data": {
      "text/plain": [
       "9.731520000000003"
      ]
     },
     "execution_count": 38,
     "metadata": {},
     "output_type": "execute_result"
    }
   ],
   "source": [
    "putprice, C, S = american_option(36, 31, 5, 0, 1.5, 1/1.5, 5, \"P\")\n",
    "putprice"
   ]
  }
 ],
 "metadata": {
  "kernelspec": {
   "display_name": "base",
   "language": "python",
   "name": "python3"
  },
  "language_info": {
   "codemirror_mode": {
    "name": "ipython",
    "version": 3
   },
   "file_extension": ".py",
   "mimetype": "text/x-python",
   "name": "python",
   "nbconvert_exporter": "python",
   "pygments_lexer": "ipython3",
   "version": "3.11.5"
  }
 },
 "nbformat": 4,
 "nbformat_minor": 2
}
