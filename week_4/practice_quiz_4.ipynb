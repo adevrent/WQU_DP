{
 "cells": [
  {
   "cell_type": "code",
   "execution_count": 241,
   "metadata": {},
   "outputs": [],
   "source": [
    "import numpy as np\n",
    "import scipy.stats as ss\n",
    "np.set_printoptions(precision=2, suppress=True)\n",
    "rng = np.random.default_rng(1)\n",
    "np.random.seed(1)"
   ]
  },
  {
   "cell_type": "markdown",
   "metadata": {},
   "source": [
    "GBM :\n",
    "\n",
    "$dS_t = S_t \\mu dt + S_t \\sigma W_t, \\qquad W_t \\sim N(0, dt)$\n",
    "\n",
    "$S_T = S_0 \\times e^{(\\mu - \\frac{\\sigma^2}{2}) T + \\sigma \\sqrt{T} Z} $"
   ]
  },
  {
   "cell_type": "code",
   "execution_count": 242,
   "metadata": {},
   "outputs": [
    {
     "data": {
      "text/plain": [
       "array([149.91])"
      ]
     },
     "execution_count": 242,
     "metadata": {},
     "output_type": "execute_result"
    }
   ],
   "source": [
    "def GBM(S0, mu, sigma, T):\n",
    "    np.random.seed(1)\n",
    "    # rng = np.random.default_rng(1)\n",
    "    Z = np.random.standard_normal(1)\n",
    "    S_T = S0 * np.exp((mu - sigma**2 / 2)*T + sigma * np.sqrt(T) * Z)\n",
    "    return S_T\n",
    "\n",
    "S0 = 100\n",
    "mu = 0.1\n",
    "sigma = 0.2\n",
    "T = 1\n",
    "\n",
    "GBM(S0, mu, sigma, T)"
   ]
  },
  {
   "cell_type": "code",
   "execution_count": 243,
   "metadata": {},
   "outputs": [],
   "source": [
    "def BS_price(S0, K, r, sigma, T, t, call_or_put=\"C\"):\n",
    "    T = T-t\n",
    "    d1 = (np.log(S0/K) + (r + sigma**2 / 2) * T) / (sigma * np.sqrt(T))\n",
    "    print(\"d1 =\", d1)\n",
    "    d2 = d1 - sigma * np.sqrt(T)\n",
    "    \n",
    "    if call_or_put == \"C\":\n",
    "        return S0 * ss.norm.cdf(d1) - np.exp(-r*T) * K * ss.norm.cdf(d2)\n",
    "    else:\n",
    "        return np.exp(-r*T) * K * ss.norm.cdf(-d2) - S0 * ss.norm.cdf(-d1)"
   ]
  },
  {
   "cell_type": "code",
   "execution_count": 244,
   "metadata": {},
   "outputs": [
    {
     "name": "stdout",
     "output_type": "stream",
     "text": [
      "d1 = -0.15793679287545465\n"
     ]
    },
    {
     "data": {
      "text/plain": [
       "3.7827324909512487"
      ]
     },
     "execution_count": 244,
     "metadata": {},
     "output_type": "execute_result"
    }
   ],
   "source": [
    "BS_price(12.5, 15, 0.01, 0.45, 1, 0, \"P\")"
   ]
  },
  {
   "cell_type": "code",
   "execution_count": 245,
   "metadata": {},
   "outputs": [
    {
     "data": {
      "text/plain": [
       "-0.5627466973133798"
      ]
     },
     "execution_count": 245,
     "metadata": {},
     "output_type": "execute_result"
    }
   ],
   "source": [
    "d1 = -0.15793679287545465\n",
    "N_d1 = ss.norm.cdf(-0.15793679287545465)\n",
    "N_d1 - 1"
   ]
  },
  {
   "cell_type": "code",
   "execution_count": 246,
   "metadata": {},
   "outputs": [],
   "source": [
    "import matplotlib.pyplot as plt\n",
    "import numpy as np\n",
    "from scipy.stats import lognorm, norm\n",
    "\n",
    "# Write a Black-Scholes pricer function\n",
    "def BS(S0, r, sigma, t, T, K, call_or_put=\"C\"):\n",
    "    dt = T - t\n",
    "    d1 = (np.log(S0/K) + (r + 1/2*sigma**2)*dt) / (sigma*np.sqrt(dt))\n",
    "    d2 = (np.log(S0/K) + (r - 1/2*sigma**2)*dt) / (sigma*np.sqrt(dt))\n",
    "    if call_or_put == \"C\":  # if call\n",
    "        return S0 * norm.cdf(d1) - np.exp(-r*dt) * K * norm.cdf(d2)\n",
    "    else:  # if put\n",
    "        return np.exp(-r*dt) * K * norm.cdf(-d2) - S0 * norm.cdf(-d1)\n",
    "    \n",
    "def MC_price(S0, K, r, sigma, T, M, Ite, t, call_or_put=\"C\"):\n",
    "    np.random.seed(42)\n",
    "    T = T - t\n",
    "    dt = T / M\n",
    "    S = np.zeros((M+1, Ite))\n",
    "    S[0] = S0  # at t=0, all prices are S0. (first row is S0 repeated.)\n",
    "    rn = np.random.standard_normal((M, Ite))\n",
    "    multipliers = np.exp((r - sigma**2 / 2) * dt + sigma * np.sqrt(dt) * rn)\n",
    "    print(\"multipliers.cumprod() =\\n\", multipliers.cumprod(axis=0))\n",
    "    S[1:, :] = S0 * multipliers.cumprod(axis=0)  # price paths are generated\n",
    "    print(\"S =\\n\", S)\n",
    "    \n",
    "    if call_or_put == \"C\":\n",
    "        average_payoff = np.maximum(S[-1, :] - K, 0).mean()\n",
    "    else:\n",
    "        average_payoff = np.maximum(K - S[-1, :], 0).mean()\n",
    "    \n",
    "    opt_price = np.exp(-r*dt) * average_payoff\n",
    "    return opt_price"
   ]
  },
  {
   "cell_type": "code",
   "execution_count": 247,
   "metadata": {},
   "outputs": [
    {
     "name": "stdout",
     "output_type": "stream",
     "text": [
      "d1 = 0.1739926775249994\n"
     ]
    },
    {
     "data": {
      "text/plain": [
       "3.1113021537768724"
      ]
     },
     "execution_count": 247,
     "metadata": {},
     "output_type": "execute_result"
    }
   ],
   "source": [
    "K = 23\n",
    "S0 = 22.75\n",
    "r = 0.02\n",
    "T = 7/12\n",
    "sigma = 0.45\n",
    "\n",
    "BS_price(S0, K, r, sigma, T, 0, \"C\")"
   ]
  },
  {
   "cell_type": "code",
   "execution_count": 248,
   "metadata": {},
   "outputs": [
    {
     "name": "stdout",
     "output_type": "stream",
     "text": [
      "multipliers.cumprod() =\n",
      " [[1.   1.   1.   ... 1.   1.01 1.  ]\n",
      " [1.01 1.01 1.   ... 1.02 1.01 1.  ]\n",
      " [1.   1.   0.99 ... 1.03 0.99 1.  ]\n",
      " ...\n",
      " [1.06 1.23 1.24 ... 1.02 1.01 1.4 ]\n",
      " [1.06 1.23 1.23 ... 1.02 1.01 1.41]\n",
      " [1.06 1.23 1.23 ... 1.03 1.01 1.42]]\n",
      "S =\n",
      " [[22.75 22.75 22.75 ... 22.75 22.75 22.75]\n",
      " [22.83 22.73 22.85 ... 22.71 22.87 22.8 ]\n",
      " [22.92 22.88 22.8  ... 23.2  23.   22.67]\n",
      " ...\n",
      " [24.08 27.97 28.12 ... 23.2  22.94 31.76]\n",
      " [24.19 28.06 27.89 ... 23.13 22.87 32.03]\n",
      " [24.15 27.99 28.01 ... 23.35 22.9  32.33]]\n"
     ]
    },
    {
     "data": {
      "text/plain": [
       "3.175239308600649"
      ]
     },
     "execution_count": 248,
     "metadata": {},
     "output_type": "execute_result"
    }
   ],
   "source": [
    "MC_price(S0, K, r, sigma, T, 2500, 2500, 0, \"C\")"
   ]
  },
  {
   "cell_type": "code",
   "execution_count": 249,
   "metadata": {},
   "outputs": [
    {
     "name": "stdout",
     "output_type": "stream",
     "text": [
      "d1 = 0.0975\n"
     ]
    },
    {
     "data": {
      "text/plain": [
       "6.440522540754287"
      ]
     },
     "execution_count": 249,
     "metadata": {},
     "output_type": "execute_result"
    }
   ],
   "source": [
    "K = 124\n",
    "S0 = 124\n",
    "r = 0.0175\n",
    "T = 3/12\n",
    "sigma = 0.25\n",
    "\n",
    "BS_price(S0, K, r, sigma, T, 0, \"C\")"
   ]
  },
  {
   "cell_type": "code",
   "execution_count": 250,
   "metadata": {},
   "outputs": [
    {
     "name": "stdout",
     "output_type": "stream",
     "text": [
      "R =\n",
      " [[0.02]\n",
      " [0.  ]\n",
      " [0.  ]\n",
      " [0.  ]\n",
      " [0.  ]\n",
      " [0.  ]\n",
      " [0.  ]\n",
      " [0.  ]\n",
      " [0.  ]\n",
      " [0.  ]\n",
      " [0.  ]\n",
      " [0.  ]\n",
      " [0.  ]\n",
      " [0.  ]\n",
      " [0.  ]\n",
      " [0.  ]\n",
      " [0.  ]\n",
      " [0.  ]\n",
      " [0.  ]\n",
      " [0.  ]\n",
      " [0.  ]\n",
      " [0.  ]\n",
      " [0.  ]\n",
      " [0.  ]\n",
      " [0.  ]\n",
      " [0.  ]\n",
      " [0.  ]\n",
      " [0.  ]\n",
      " [0.  ]\n",
      " [0.  ]\n",
      " [0.  ]\n",
      " [0.  ]\n",
      " [0.  ]\n",
      " [0.  ]\n",
      " [0.  ]\n",
      " [0.  ]\n",
      " [0.  ]\n",
      " [0.  ]\n",
      " [0.  ]\n",
      " [0.  ]\n",
      " [0.  ]\n",
      " [0.  ]\n",
      " [0.  ]\n",
      " [0.  ]\n",
      " [0.  ]\n",
      " [0.  ]\n",
      " [0.  ]\n",
      " [0.  ]\n",
      " [0.  ]\n",
      " [0.  ]\n",
      " [0.  ]\n",
      " [0.  ]\n",
      " [0.  ]\n",
      " [0.  ]\n",
      " [0.  ]\n",
      " [0.  ]\n",
      " [0.  ]\n",
      " [0.  ]\n",
      " [0.  ]\n",
      " [0.  ]\n",
      " [0.  ]\n",
      " [0.  ]\n",
      " [0.  ]\n",
      " [0.  ]\n",
      " [0.  ]\n",
      " [0.  ]\n",
      " [0.  ]\n",
      " [0.  ]\n",
      " [0.  ]\n",
      " [0.  ]\n",
      " [0.  ]\n",
      " [0.  ]\n",
      " [0.  ]\n",
      " [0.  ]\n",
      " [0.  ]\n",
      " [0.  ]\n",
      " [0.  ]\n",
      " [0.  ]\n",
      " [0.  ]\n",
      " [0.  ]\n",
      " [0.  ]\n",
      " [0.  ]\n",
      " [0.  ]\n",
      " [0.  ]\n",
      " [0.  ]\n",
      " [0.  ]\n",
      " [0.  ]\n",
      " [0.  ]\n",
      " [0.  ]\n",
      " [0.  ]\n",
      " [0.  ]\n",
      " [0.  ]\n",
      " [0.  ]\n",
      " [0.  ]\n",
      " [0.  ]\n",
      " [0.  ]\n",
      " [0.  ]\n",
      " [0.  ]\n",
      " [0.  ]\n",
      " [0.  ]\n",
      " [0.  ]\n",
      " [0.  ]\n",
      " [0.  ]\n",
      " [0.  ]\n",
      " [0.  ]\n",
      " [0.  ]\n",
      " [0.  ]\n",
      " [0.  ]\n",
      " [0.  ]\n",
      " [0.  ]\n",
      " [0.  ]\n",
      " [0.  ]\n",
      " [0.  ]\n",
      " [0.  ]\n",
      " [0.  ]\n",
      " [0.  ]\n",
      " [0.  ]\n",
      " [0.  ]\n",
      " [0.  ]\n",
      " [0.  ]\n",
      " [0.  ]\n",
      " [0.  ]\n",
      " [0.  ]\n",
      " [0.  ]\n",
      " [0.  ]\n",
      " [0.  ]\n",
      " [0.  ]\n",
      " [0.  ]\n",
      " [0.  ]\n",
      " [0.  ]\n",
      " [0.  ]\n",
      " [0.  ]\n",
      " [0.  ]\n",
      " [0.  ]\n",
      " [0.  ]\n",
      " [0.  ]\n",
      " [0.  ]\n",
      " [0.  ]\n",
      " [0.  ]\n",
      " [0.  ]\n",
      " [0.  ]\n",
      " [0.  ]\n",
      " [0.  ]\n",
      " [0.  ]\n",
      " [0.  ]\n",
      " [0.  ]\n",
      " [0.  ]\n",
      " [0.  ]\n",
      " [0.  ]\n",
      " [0.  ]]\n",
      "rates_mean = 0.0030317874529839513\n",
      "rates_min = 0.0030317874529839513\n",
      "rates_max = 0.0030317874529839513\n"
     ]
    }
   ],
   "source": [
    "def vasicek(r0, k, theta, sigma, T, N, M):\n",
    "    \"\"\"_summary_\n",
    "\n",
    "    Args:\n",
    "        r0 (_type_): starting interest rate\n",
    "        k (_type_): speed of mean-reversion\n",
    "        theta (_type_): long term average of interest rates\n",
    "        sigma (_type_): short-term volatility of interest rates\n",
    "        T (_type_): maturity\n",
    "        N (_type_): num of steps\n",
    "        M (_type_): num of paths\n",
    "    \"\"\"\n",
    "    np.random.seed(42)\n",
    "    dt = T / N\n",
    "    rn = np.random.standard_normal((N, M))\n",
    "    R = np.zeros((N, M))\n",
    "    R[0, :] = r0  # first row is initial rates\n",
    "    print(\"R =\\n\", R)\n",
    "    for i in range(N-1):\n",
    "        # print(\"R[i, :] =\\n\", R[i, :])\n",
    "        dr = k * (theta - R[i, :]) * dt + sigma * np.sqrt(dt) * rn[i, :]\n",
    "        R[i+1, :] = R[i, :] + dr\n",
    "    return R\n",
    "\n",
    "M = 1  # Number of paths for MC\n",
    "N = 150  # Number of steps\n",
    "T = 1.0  # Maturity\n",
    "r0 = 0.01875\n",
    "k = 0.25\n",
    "theta = 0.02\n",
    "sigma = 0.0180\n",
    "\n",
    "rates = vasicek(r0, k, theta, sigma, T, N, M)\n",
    "rates_min = rates[-1, :].min()\n",
    "rates_max = rates[-1, :].max()\n",
    "\n",
    "print(\"rates_mean =\", rates[-1].mean())\n",
    "print(\"rates_min =\", rates_min)\n",
    "print(\"rates_max =\", rates_max)"
   ]
  },
  {
   "cell_type": "code",
   "execution_count": 251,
   "metadata": {},
   "outputs": [
    {
     "data": {
      "text/plain": [
       "0.0030317874529839513"
      ]
     },
     "execution_count": 251,
     "metadata": {},
     "output_type": "execute_result"
    }
   ],
   "source": [
    "def vasicek(r0, K, theta, sigma, T, N, M):\n",
    "    np.random.seed(42)\n",
    "    dt = T / N\n",
    "    rates = np.zeros((N, M))\n",
    "    rates[0, :] = r0\n",
    "    for j in range(M):\n",
    "        for i in range(1, N):\n",
    "            dr = (\n",
    "                K * (theta - rates[i - 1, j]) * dt\n",
    "                + sigma * np.sqrt(dt) * np.random.normal()\n",
    "            )\n",
    "            rates[i, j] = rates[i - 1, j] + dr\n",
    "    return rates\n",
    "\n",
    "rates = vasicek(r0, k, theta, sigma, T, N, M)\n",
    "rates[-1,  :].mean()"
   ]
  },
  {
   "cell_type": "code",
   "execution_count": null,
   "metadata": {},
   "outputs": [],
   "source": []
  }
 ],
 "metadata": {
  "kernelspec": {
   "display_name": "base",
   "language": "python",
   "name": "python3"
  },
  "language_info": {
   "codemirror_mode": {
    "name": "ipython",
    "version": 3
   },
   "file_extension": ".py",
   "mimetype": "text/x-python",
   "name": "python",
   "nbconvert_exporter": "python",
   "pygments_lexer": "ipython3",
   "version": "3.11.5"
  }
 },
 "nbformat": 4,
 "nbformat_minor": 2
}
