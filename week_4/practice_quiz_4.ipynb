{
 "cells": [
  {
   "cell_type": "code",
   "execution_count": 305,
   "metadata": {},
   "outputs": [],
   "source": [
    "import numpy as np\n",
    "import scipy.stats as ss\n",
    "np.set_printoptions(precision=2, suppress=True)\n",
    "rng = np.random.default_rng(1)\n",
    "np.random.seed(1)"
   ]
  },
  {
   "cell_type": "markdown",
   "metadata": {},
   "source": [
    "GBM :\n",
    "\n",
    "$dS_t = S_t \\mu dt + S_t \\sigma W_t, \\qquad W_t \\sim N(0, dt)$\n",
    "\n",
    "$S_T = S_0 \\times e^{(\\mu - \\frac{\\sigma^2}{2}) T + \\sigma \\sqrt{T} Z} $"
   ]
  },
  {
   "cell_type": "code",
   "execution_count": 306,
   "metadata": {},
   "outputs": [
    {
     "data": {
      "text/plain": [
       "array([1.64])"
      ]
     },
     "execution_count": 306,
     "metadata": {},
     "output_type": "execute_result"
    }
   ],
   "source": [
    "def GBM(S0, mu, sigma, T):\n",
    "    np.random.seed(42)\n",
    "    Z = np.random.standard_normal(1)\n",
    "    S_T = S0 * np.exp((mu - sigma**2 / 2)*T + sigma * np.sqrt(T) * Z)\n",
    "    return S_T\n",
    "\n",
    "S0 = 125\n",
    "mu = 0.0825\n",
    "sigma = 0.42\n",
    "T = 1/255\n",
    "\n",
    "GBM(S0, mu, sigma, T) - S0"
   ]
  },
  {
   "cell_type": "code",
   "execution_count": 307,
   "metadata": {},
   "outputs": [],
   "source": [
    "def BS_price(S0, K, r, sigma, T, t, call_or_put=\"C\"):\n",
    "    T = T-t\n",
    "    d1 = (np.log(S0/K) + (r + sigma**2 / 2) * T) / (sigma * np.sqrt(T))\n",
    "    print(\"d1 =\", d1)\n",
    "    d2 = d1 - sigma * np.sqrt(T)\n",
    "    \n",
    "    if call_or_put == \"C\":\n",
    "        return S0 * ss.norm.cdf(d1) - np.exp(-r*T) * K * ss.norm.cdf(d2)\n",
    "    else:\n",
    "        return np.exp(-r*T) * K * ss.norm.cdf(-d2) - S0 * ss.norm.cdf(-d1)"
   ]
  },
  {
   "cell_type": "code",
   "execution_count": 308,
   "metadata": {},
   "outputs": [
    {
     "name": "stdout",
     "output_type": "stream",
     "text": [
      "d1 = -0.15793679287545465\n"
     ]
    },
    {
     "data": {
      "text/plain": [
       "3.7827324909512487"
      ]
     },
     "execution_count": 308,
     "metadata": {},
     "output_type": "execute_result"
    }
   ],
   "source": [
    "BS_price(12.5, 15, 0.01, 0.45, 1, 0, \"P\")"
   ]
  },
  {
   "cell_type": "code",
   "execution_count": 309,
   "metadata": {},
   "outputs": [
    {
     "data": {
      "text/plain": [
       "-0.5627466973133798"
      ]
     },
     "execution_count": 309,
     "metadata": {},
     "output_type": "execute_result"
    }
   ],
   "source": [
    "d1 = -0.15793679287545465\n",
    "N_d1 = ss.norm.cdf(-0.15793679287545465)\n",
    "N_d1 - 1"
   ]
  },
  {
   "cell_type": "code",
   "execution_count": 310,
   "metadata": {},
   "outputs": [],
   "source": [
    "import matplotlib.pyplot as plt\n",
    "import numpy as np\n",
    "from scipy.stats import lognorm, norm\n",
    "import scipy.stats as ss\n",
    "\n",
    "np.set_printoptions(precision=4, suppress=True)\n",
    "\n",
    "def BS_price(S0, K, r, sigma, T, t, call_or_put=\"C\"):\n",
    "    T = T-t\n",
    "    d1 = (np.log(S0/K) + (r + sigma**2 / 2) * T) / (sigma * np.sqrt(T))\n",
    "    d2 = d1 - sigma * np.sqrt(T)\n",
    "    \n",
    "    if call_or_put == \"C\":\n",
    "        rho = K * (T-t) * np.exp(-r * (T-t)) * ss.norm.cdf(d2)\n",
    "        print(\"rho of the call option =\", rho)\n",
    "        return S0 * ss.norm.cdf(d1) - np.exp(-r*T) * K * ss.norm.cdf(d2)\n",
    "    else:\n",
    "        return np.exp(-r*T) * K * ss.norm.cdf(-d2) - S0 * ss.norm.cdf(-d1)\n",
    "    \n",
    "def MC_price(S0, K, r, sigma, T, N, M, t, call_or_put=\"C\"):\n",
    "    np.random.seed(42)\n",
    "    T = T - t\n",
    "    dt = T / N\n",
    "    S = np.zeros((N+1, M))\n",
    "    S[0] = S0  # at t=0, all prices are S0. (first row is S0 repeated.)\n",
    "    rn = np.random.standard_normal((N, M))\n",
    "    multipliers = np.exp((r - sigma**2 / 2) * dt + sigma * np.sqrt(dt) * rn)\n",
    "    # print(\"multipliers.cumprod() =\\n\", multipliers.cumprod(axis=0))\n",
    "    S[1:, :] = S0 * multipliers.cumprod(axis=0)  # price paths are generated\n",
    "    # print(\"S =\\n\", S)\n",
    "    \n",
    "    if call_or_put == \"C\":\n",
    "        average_payoff = np.maximum(S[-1, :] - K, 0).mean()\n",
    "    else:\n",
    "        average_payoff = np.maximum(K - S[-1, :], 0).mean()\n",
    "    \n",
    "    opt_price = np.exp(-r*dt) * average_payoff\n",
    "    return opt_price"
   ]
  },
  {
   "cell_type": "code",
   "execution_count": 311,
   "metadata": {},
   "outputs": [
    {
     "data": {
      "text/plain": [
       "3.1113021537768724"
      ]
     },
     "execution_count": 311,
     "metadata": {},
     "output_type": "execute_result"
    }
   ],
   "source": [
    "K = 23\n",
    "S0 = 22.75\n",
    "r = 0.02\n",
    "T = 7/12\n",
    "sigma = 0.45\n",
    "\n",
    "BS_price(S0, K, r, sigma, T, 0, \"C\")"
   ]
  },
  {
   "cell_type": "code",
   "execution_count": 312,
   "metadata": {},
   "outputs": [
    {
     "data": {
      "text/plain": [
       "3.175239308600649"
      ]
     },
     "execution_count": 312,
     "metadata": {},
     "output_type": "execute_result"
    }
   ],
   "source": [
    "MC_price(S0, K, r, sigma, T, 2500, 2500, 0, \"C\")"
   ]
  },
  {
   "cell_type": "code",
   "execution_count": 313,
   "metadata": {},
   "outputs": [
    {
     "name": "stdout",
     "output_type": "stream",
     "text": [
      "call_price_BS BS = 14.215238492284897\n",
      "call_price_MC_arr = 13.8716594145513\n",
      "MC - BS = -0.3435790777335974\n"
     ]
    }
   ],
   "source": [
    "K = 122\n",
    "S0 = 118.75\n",
    "r = 0.015\n",
    "T = 18/12\n",
    "sigma = 0.25\n",
    "\n",
    "call_price_BS = BS_price(S0, K, r, sigma, T, 0, \"C\")\n",
    "print(\"call_price_BS BS =\", call_price_BS)\n",
    "\n",
    "stop_num = 5000\n",
    "# M_arr = np.arange(start=100, stop=stop_num, step=200)\n",
    "# put_price_MC_arr = np.array([MC_price(S0, K, r, sigma, T, 1000, M, t=0, call_or_put=\"C\") for M in M_arr])\n",
    "call_price_MC_arr = MC_price(S0, K, r, sigma, T, N=365, M = stop_num, t=0, call_or_put=\"C\")\n",
    "print(\"call_price_MC_arr =\", call_price_MC_arr)\n",
    "\n",
    "# plt.plot(M_arr, (put_price_MC_arr - put_price_BS))\n",
    "# plt.hlines(y=0.2, xmin=0, xmax=stop_num)\n",
    "# plt.hlines(y=-0.2, xmin=0, xmax=stop_num)\n",
    "\n",
    "print(\"MC - BS =\", call_price_MC_arr - call_price_BS)"
   ]
  },
  {
   "cell_type": "code",
   "execution_count": 314,
   "metadata": {},
   "outputs": [
    {
     "name": "stdout",
     "output_type": "stream",
     "text": [
      "rates_mean = 2.2228553177248997\n",
      "rates_min = 2.2228553177248997\n",
      "rates_max = 2.2228553177248997\n"
     ]
    }
   ],
   "source": [
    "def vasicek(r0, k, theta, sigma, T, N, M):\n",
    "    \"\"\"_summary_\n",
    "\n",
    "    Args:\n",
    "        r0 (_type_): starting interest rate\n",
    "        k (_type_): speed of mean-reversion\n",
    "        theta (_type_): long term average of interest rates\n",
    "        sigma (_type_): short-term volatility of interest rates\n",
    "        T (_type_): maturity\n",
    "        N (_type_): num of steps\n",
    "        M (_type_): num of paths\n",
    "    \"\"\"\n",
    "    np.random.seed(0)\n",
    "    dt = T / N\n",
    "    rn = np.random.standard_normal((N, M))\n",
    "    R = np.zeros((N, M))\n",
    "    R[0, :] = r0  # first row is initial rates\n",
    "    # print(\"R =\\n\", R)\n",
    "    for i in range(N-1):\n",
    "        # print(\"R[i, :] =\\n\", R[i, :])\n",
    "        dr = k * (theta - R[i, :]) * dt + sigma * np.sqrt(dt) * rn[i, :]\n",
    "        R[i+1, :] = R[i, :] + dr\n",
    "    return R\n",
    "\n",
    "M = 1  # Number of paths for MC\n",
    "N = 125  # Number of steps\n",
    "T = 3/12  # Maturity\n",
    "r0 = 0.985\n",
    "k = 0.22\n",
    "theta = 0.018\n",
    "sigma = 1.75\n",
    "\n",
    "rates = vasicek(r0, k, theta, sigma, T, N, M)\n",
    "rates_min = rates[-1, :].min()\n",
    "rates_max = rates[-1, :].max()\n",
    "\n",
    "print(\"rates_mean =\", rates[-1].mean())\n",
    "print(\"rates_min =\", rates_min)\n",
    "print(\"rates_max =\", rates_max)"
   ]
  },
  {
   "cell_type": "code",
   "execution_count": 315,
   "metadata": {},
   "outputs": [
    {
     "data": {
      "text/plain": [
       "0.2112951078387043"
      ]
     },
     "execution_count": 315,
     "metadata": {},
     "output_type": "execute_result"
    }
   ],
   "source": [
    "def vasicek(r0, K, theta, sigma, T, N, M):\n",
    "    np.random.seed(42)\n",
    "    dt = T / N\n",
    "    rates = np.zeros((N, M))\n",
    "    rates[0, :] = r0\n",
    "    for j in range(M):\n",
    "        for i in range(1, N):\n",
    "            dr = (\n",
    "                K * (theta - rates[i - 1, j]) * dt\n",
    "                + sigma * np.sqrt(dt) * np.random.normal()\n",
    "            )\n",
    "            rates[i, j] = rates[i - 1, j] + dr\n",
    "    return rates\n",
    "\n",
    "rates = vasicek(r0, k, theta, sigma, T, N, M)\n",
    "rates[-1,  :].mean()"
   ]
  },
  {
   "cell_type": "code",
   "execution_count": null,
   "metadata": {},
   "outputs": [],
   "source": []
  },
  {
   "cell_type": "code",
   "execution_count": 316,
   "metadata": {},
   "outputs": [
    {
     "data": {
      "text/plain": [
       "6.391440240040197"
      ]
     },
     "execution_count": 316,
     "metadata": {},
     "output_type": "execute_result"
    }
   ],
   "source": [
    "S0 = 32.5\n",
    "K = 27.5\n",
    "T = 4/12\n",
    "sigma = 0.45\n",
    "r = 0.0275\n",
    "t = 0\n",
    "\n",
    "BS_price(S0, K, r, sigma, T, t, \"C\")"
   ]
  },
  {
   "cell_type": "code",
   "execution_count": null,
   "metadata": {},
   "outputs": [],
   "source": []
  }
 ],
 "metadata": {
  "kernelspec": {
   "display_name": "base",
   "language": "python",
   "name": "python3"
  },
  "language_info": {
   "codemirror_mode": {
    "name": "ipython",
    "version": 3
   },
   "file_extension": ".py",
   "mimetype": "text/x-python",
   "name": "python",
   "nbconvert_exporter": "python",
   "pygments_lexer": "ipython3",
   "version": "3.11.5"
  }
 },
 "nbformat": 4,
 "nbformat_minor": 2
}
