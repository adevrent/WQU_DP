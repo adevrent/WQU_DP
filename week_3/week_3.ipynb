{
 "cells": [
  {
   "cell_type": "code",
   "execution_count": 4,
   "metadata": {},
   "outputs": [],
   "source": [
    "import numpy as np\n",
    "\n",
    "def _gen_stock_vec(nb, h):\n",
    "    s0 = 100\n",
    "    sigma = 0.5\n",
    "    up = np.exp(sigma * np.sqrt(2 * h))\n",
    "    down = 1 / up  # down movement to force a \"recombining tree\"\n",
    "\n",
    "    vec_u = up * np.ones(nb)\n",
    "    np.cumprod(vec_u, out=vec_u)  # Computing u, u^2, u^3....u^nb\n",
    "\n",
    "    vec_d = down * np.ones(nb)\n",
    "    np.cumprod(vec_d, out=vec_d)  # Computing d, d^2, d^3....d^nb\n",
    "\n",
    "    res = np.concatenate(\n",
    "        (vec_d[::-1], [1.0], vec_u)\n",
    "    )  # putting together the last period tree underlyings\n",
    "    res *= s0\n",
    "    return res\n",
    "\n",
    "def price(\n",
    "    nb_steps,\n",
    "):  # For now, the only input to the function is the number of steps for the tree, N.\n",
    "    # Define parameters\n",
    "    r = 0\n",
    "    sigma = 0.5\n",
    "    T = 1\n",
    "    K = 130\n",
    "    h = T / nb_steps  # This would be our 'dt' from previous examples\n",
    "    discount = np.exp(-r * h)  # Define discount factor for simplicity later on\n",
    "\n",
    "    # Define risk-neutral probabilities:\n",
    "    pu = (\n",
    "        (np.exp(r * h / 2) - np.exp(-sigma * np.sqrt(h / 2)))\n",
    "        / (np.exp(sigma * np.sqrt(h / 2)) - np.exp(-sigma * np.sqrt(h / 2)))\n",
    "    ) ** 2\n",
    "    pd = (\n",
    "        (-np.exp(r * h / 2) + np.exp(sigma * np.sqrt(h / 2)))\n",
    "        / (np.exp(sigma * np.sqrt(h / 2)) - np.exp(-sigma * np.sqrt(h / 2)))\n",
    "    ) ** 2\n",
    "    pm = 1 - pu - pd\n",
    "    print(pu, pd, pm)\n",
    "    # This would be our underlying evolution (Note we are using the function from before!)\n",
    "    s = _gen_stock_vec(nb_steps, h)\n",
    "\n",
    "    # Define Payoff (in this case, European Call Option)\n",
    "    final_payoff = np.maximum(s - K, 0)\n",
    "    nxt_vec_prices = final_payoff\n",
    "\n",
    "    # Proceed with iterations for the calculation of payoffs\n",
    "    for i in range(1, nb_steps + 1):\n",
    "        vec_stock = _gen_stock_vec(nb_steps - i, h)\n",
    "        expectation = np.zeros(vec_stock.size)\n",
    "\n",
    "        for j in range(expectation.size):\n",
    "            tmp = nxt_vec_prices[j] * pd\n",
    "            tmp += nxt_vec_prices[j + 1] * pm\n",
    "            tmp += nxt_vec_prices[j + 2] * pu\n",
    "\n",
    "            expectation[j] = tmp\n",
    "        # Discount option payoff!\n",
    "        nxt_vec_prices = discount * expectation\n",
    "\n",
    "    return nxt_vec_prices[\n",
    "        0\n",
    "    ]  # Notice here we only 'return' the expected discounted value of the option at t=0, that is, the price of the call option!"
   ]
  },
  {
   "cell_type": "code",
   "execution_count": 5,
   "metadata": {},
   "outputs": [
    {
     "name": "stdout",
     "output_type": "stream",
     "text": [
      "0.24124019455888882 0.25891602289479126 0.49984378254631995\n",
      " Price of the Euro Call Option is  10.686959567311135\n"
     ]
    }
   ],
   "source": [
    "print(\" Price of the Euro Call Option is \", price(100))"
   ]
  }
 ],
 "metadata": {
  "kernelspec": {
   "display_name": "base",
   "language": "python",
   "name": "python3"
  },
  "language_info": {
   "codemirror_mode": {
    "name": "ipython",
    "version": 3
   },
   "file_extension": ".py",
   "mimetype": "text/x-python",
   "name": "python",
   "nbconvert_exporter": "python",
   "pygments_lexer": "ipython3",
   "version": "3.11.5"
  }
 },
 "nbformat": 4,
 "nbformat_minor": 2
}
