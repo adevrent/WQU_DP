{
 "cells": [
  {
   "cell_type": "markdown",
   "metadata": {},
   "source": [
    "# Step 1"
   ]
  },
  {
   "cell_type": "markdown",
   "metadata": {},
   "source": [
    "**1)** The put-call parity applies to European options because these options can only be exercised at maturity. The put-call parity relationship for European options is derived based on the assumption that there are no arbitrage opportunities in the market and that the options are held to maturity."
   ]
  },
  {
   "cell_type": "markdown",
   "metadata": {},
   "source": [
    "**2)** The put-call parity formula for European options is:\n",
    "\n",
    "$C + K e^{-rT} = P + S$\n",
    "\n",
    "Solving for the call price $C$:\n",
    "\n",
    "$C = P + S - K e^{-rT}$\n"
   ]
  },
  {
   "cell_type": "markdown",
   "metadata": {},
   "source": [
    "**3)** Solving for the put price $P$:\n",
    "\n",
    "$P = C + K e^{-rT} - S$\n"
   ]
  },
  {
   "cell_type": "markdown",
   "metadata": {},
   "source": [
    "**4)** Put-call parity does <u>not</u> apply in the same way to American options as it does to European options because <u>American options can be exercised at any time before or at maturity</u>. This early exercise feature introduces additional complexities and potential early exercise premiums that disrupt the straightforward relationship described by European put-call parity."
   ]
  },
  {
   "cell_type": "markdown",
   "metadata": {},
   "source": [
    "**5, 6, 7)**\n",
    "\n",
    "$S_0 = 100$\n",
    "\n",
    "$r = 0.05$\n",
    "\n",
    "$\\sigma = 0.2$\n",
    "\n",
    "$T = 0.25$ *years*"
   ]
  },
  {
   "cell_type": "code",
   "execution_count": 52,
   "metadata": {},
   "outputs": [
    {
     "name": "stdout",
     "output_type": "stream",
     "text": [
      "European Call Option Price = 4.57\n",
      "European Put Option Price = 3.0\n",
      "    Does the put-call parity hold? True\n"
     ]
    }
   ],
   "source": [
    "import numpy as np\n",
    "\n",
    "def call_option_delta(S_ini, K, T, r, sigma, N):\n",
    "    dt = T / N  # Define time step\n",
    "    u = np.exp(sigma * np.sqrt(dt))  # Define u\n",
    "    d = np.exp(-sigma * np.sqrt(dt))  # Define d\n",
    "    p = (np.exp(r * dt) - d) / (u - d)  # risk neutral probs\n",
    "    C = np.zeros([N + 1, N + 1])  # call prices\n",
    "    S = np.zeros([N + 1, N + 1])  # underlying price\n",
    "    Delta = np.zeros([N, N])  # delta\n",
    "    for i in range(0, N + 1):\n",
    "        C[N, i] = max(S_ini * (u ** (i)) * (d ** (N - i)) - K, 0)\n",
    "        S[N, i] = S_ini * (u ** (i)) * (d ** (N - i))\n",
    "    for j in range(N - 1, -1, -1):\n",
    "        for i in range(0, j + 1):\n",
    "            C[j, i] = np.exp(-r * dt) * (p * C[j + 1, i + 1] + (1 - p) * C[j + 1, i])\n",
    "            S[j, i] = S_ini * (u ** (i)) * (d ** (j - i))\n",
    "            Delta[j, i] = (C[j + 1, i + 1] - C[j + 1, i]) / (\n",
    "                S[j + 1, i + 1] - S[j + 1, i]\n",
    "            )\n",
    "    return C[0, 0], C, S, Delta\n",
    "\n",
    "def put_option_delta(S_ini, K, T, r, sigma, N):\n",
    "    dt = T / N  # Define time step\n",
    "    u = np.exp(sigma * np.sqrt(dt))  # Define u\n",
    "    d = np.exp(-sigma * np.sqrt(dt))  # Define d\n",
    "    p = (np.exp(r * dt) - d) / (u - d)  # risk neutral probs\n",
    "    P = np.zeros([N + 1, N + 1])  # put prices\n",
    "    S = np.zeros([N + 1, N + 1])  # underlying price\n",
    "    Delta = np.zeros([N, N])  # delta\n",
    "    for i in range(0, N + 1):\n",
    "        P[N, i] = max(K - S_ini * (u ** (i)) * (d ** (N - i)), 0)\n",
    "        S[N, i] = S_ini * (u ** (i)) * (d ** (N - i))\n",
    "    for j in range(N - 1, -1, -1):\n",
    "        for i in range(0, j + 1):\n",
    "            P[j, i] = np.exp(-r * dt) * (p * P[j + 1, i + 1] + (1 - p) * P[j + 1, i])\n",
    "            S[j, i] = S_ini * (u ** (i)) * (d ** (j - i))\n",
    "            Delta[j, i] = (P[j + 1, i + 1] - P[j + 1, i]) / (\n",
    "                S[j + 1, i + 1] - S[j + 1, i]\n",
    "            )\n",
    "    return P[0, 0], P, S, Delta\n",
    "\n",
    "S_ini = 100  # price at t=0\n",
    "r = 0.05  # risk-free rate\n",
    "sigma = 0.2  # volatility\n",
    "T = 0.25  # time to maturity in years\n",
    "K = 100  # at the money strike price is equal to the underlying price at t=0\n",
    "N = 20  # N is large to make sure we have good accuracy on the option price\n",
    "\n",
    "european_call_price, C, S, Delta = call_option_delta(S_ini, K, T, r, sigma, N)\n",
    "european_call_delta = Delta[0, 0]\n",
    "\n",
    "european_put_price, C, S, Delta = put_option_delta(S_ini, K, T, r, sigma, N)\n",
    "european_put_delta = Delta[0, 0]\n",
    "\n",
    "print(\"European Call Option Price =\", np.round(european_call_price, 2))\n",
    "print(\"European Put Option Price =\", np.round(european_put_price, ))\n",
    "\n",
    "# Ensure put-call parity holds\n",
    "is_parity_true = np.isclose(european_call_price + K * np.exp(-r*T), european_put_price + S_ini, atol=1e-6)\n",
    "print(\"    Does the put-call parity hold?\", is_parity_true)"
   ]
  },
  {
   "cell_type": "markdown",
   "metadata": {},
   "source": [
    "My code calculates European call and put option prices using a binomial tree model by iterating from the terminal nodes (maturity) back to the root (current time), computing option prices at each node based on risk-neutral probabilities and adjusting for time value of money (risk-free rate). Finally it verifies put-call parity using *np.isclose()* method to handle numerical precision issues."
   ]
  },
  {
   "cell_type": "code",
   "execution_count": 53,
   "metadata": {},
   "outputs": [
    {
     "name": "stdout",
     "output_type": "stream",
     "text": [
      "European Call Option Delta = 0.57\n",
      "European Put Option Delta = -0.43\n"
     ]
    }
   ],
   "source": [
    "print(\"European Call Option Delta =\", np.round(european_call_delta, 2))\n",
    "print(\"European Put Option Delta =\", np.round(european_put_delta, 2))"
   ]
  },
  {
   "cell_type": "markdown",
   "metadata": {},
   "source": [
    "Call option has a positive delta value and the put option has a negative delta value, as expected. That is because delta measures the sensitivity of the option price with respect to the change in the price of the underlying:\n",
    "\n",
    "$\\Delta_C = \\frac{\\partial C}{\\partial S}$\n",
    "\n",
    "$\\Delta_P = \\frac{\\partial C}{\\partial P}$\n",
    "\n",
    "Payoff of the call option **increases** when the price of the underlying asset increases, thus it has a **positive** delta value.\n",
    "\n",
    "Payoff of the put option **decreases** when the price of the underlying asset increases, thus it has a **negative** delta value."
   ]
  },
  {
   "cell_type": "code",
   "execution_count": 54,
   "metadata": {},
   "outputs": [
    {
     "name": "stdout",
     "output_type": "stream",
     "text": [
      "Call price change = 0.97\n",
      "Put price change = 0.97\n"
     ]
    }
   ],
   "source": [
    "# If we increase volatility to 0.25\n",
    "new_european_call_price, C, S, Delta = call_option_delta(S_ini, K, T, r, 0.25, N)  # sigma is changed to 0.25\n",
    "new_european_call_delta = Delta[0, 0]\n",
    "\n",
    "new_european_put_price, C, S, Delta = put_option_delta(S_ini, K, T, r, 0.25, N)  # sigma is changed to 0.25\n",
    "new_european_put_delta = Delta[0, 0]\n",
    "\n",
    "call_price_change = new_european_call_price - european_call_price\n",
    "put_price_change = new_european_put_price - european_put_price\n",
    "\n",
    "print(\"Call price change =\", np.round(call_price_change, 2))\n",
    "print(\"Put price change =\", np.round(put_price_change, 2))"
   ]
  },
  {
   "cell_type": "markdown",
   "metadata": {},
   "source": [
    "An **increase** in the underlying's volatility led to **higher** option prices, as expected. That's because increasing underlying volatility results in possible terminal (maturity) underlying prices being more spread out from the starting price, leading to possible extreme values. And because option payoffs are non-linear (the call option payoff is $max(0, S_T - K)$ and the put option payoff is $max(0, K - S_T)$), this leads to possible option payoffs being greater. This in turn results in option premiums (prices) being higher at $t=0$."
   ]
  }
 ],
 "metadata": {
  "kernelspec": {
   "display_name": "base",
   "language": "python",
   "name": "python3"
  },
  "language_info": {
   "codemirror_mode": {
    "name": "ipython",
    "version": 3
   },
   "file_extension": ".py",
   "mimetype": "text/x-python",
   "name": "python",
   "nbconvert_exporter": "python",
   "pygments_lexer": "ipython3",
   "version": "3.11.5"
  }
 },
 "nbformat": 4,
 "nbformat_minor": 2
}
