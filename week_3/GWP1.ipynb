{
 "cells": [
  {
   "cell_type": "markdown",
   "metadata": {},
   "source": [
    "# Step 1"
   ]
  },
  {
   "cell_type": "markdown",
   "metadata": {},
   "source": [
    "## Team Member A (Atakan Devrent)"
   ]
  },
  {
   "cell_type": "markdown",
   "metadata": {},
   "source": [
    "**1)** The put-call parity applies to European options because these options can only be exercised at maturity. The put-call parity relationship for European options is derived based on the assumption that there are no arbitrage opportunities in the market and that the options are held to maturity."
   ]
  },
  {
   "cell_type": "markdown",
   "metadata": {},
   "source": [
    "**2)** The put-call parity formula for European options is:\n",
    "\n",
    "$C + K e^{-rT} = P + S$\n",
    "\n",
    "Solving for the call price $C$:\n",
    "\n",
    "$C = P + S - K e^{-rT}$\n"
   ]
  },
  {
   "cell_type": "markdown",
   "metadata": {},
   "source": [
    "**3)** Solving for the put price $P$:\n",
    "\n",
    "$P = C + K e^{-rT} - S$\n"
   ]
  },
  {
   "cell_type": "markdown",
   "metadata": {},
   "source": [
    "**4)** Put-call parity does <u>not</u> apply in the same way to American options as it does to European options because <u>American options can be exercised at any time before or at maturity</u>. This early exercise feature introduces additional complexities and potential early exercise premiums that disrupt the straightforward relationship described by European put-call parity."
   ]
  },
  {
   "cell_type": "markdown",
   "metadata": {},
   "source": [
    "**5, 6, 7)**\n",
    "\n",
    "$S_0 = 100$\n",
    "\n",
    "$r = 0.05$\n",
    "\n",
    "$\\sigma = 0.2$\n",
    "\n",
    "$T = 0.25$ *years*"
   ]
  },
  {
   "cell_type": "code",
   "execution_count": 9,
   "metadata": {},
   "outputs": [
    {
     "name": "stdout",
     "output_type": "stream",
     "text": [
      "European Call Option Price = 4.57\n",
      "European Put Option Price = 3.0\n",
      "    Does the put-call parity hold? True\n"
     ]
    }
   ],
   "source": [
    "import numpy as np\n",
    "\n",
    "def call_option_delta(S_ini, K, T, r, sigma, N):\n",
    "    dt = T / N  # Define time step\n",
    "    u = np.exp(sigma * np.sqrt(dt))  # Define u\n",
    "    d = np.exp(-sigma * np.sqrt(dt))  # Define d\n",
    "    p = (np.exp(r * dt) - d) / (u - d)  # risk neutral probs\n",
    "    C = np.zeros([N + 1, N + 1])  # call prices\n",
    "    S = np.zeros([N + 1, N + 1])  # underlying price\n",
    "    Delta = np.zeros([N, N])  # delta\n",
    "    for i in range(0, N + 1):\n",
    "        C[N, i] = max(S_ini * (u ** (i)) * (d ** (N - i)) - K, 0)\n",
    "        S[N, i] = S_ini * (u ** (i)) * (d ** (N - i))\n",
    "    for j in range(N - 1, -1, -1):\n",
    "        for i in range(0, j + 1):\n",
    "            C[j, i] = np.exp(-r * dt) * (p * C[j + 1, i + 1] + (1 - p) * C[j + 1, i])\n",
    "            S[j, i] = S_ini * (u ** (i)) * (d ** (j - i))\n",
    "            Delta[j, i] = (C[j + 1, i + 1] - C[j + 1, i]) / (\n",
    "                S[j + 1, i + 1] - S[j + 1, i]\n",
    "            )\n",
    "    return C[0, 0], C, S, Delta\n",
    "\n",
    "def put_option_delta(S_ini, K, T, r, sigma, N):\n",
    "    dt = T / N  # Define time step\n",
    "    u = np.exp(sigma * np.sqrt(dt))  # Define u\n",
    "    d = np.exp(-sigma * np.sqrt(dt))  # Define d\n",
    "    p = (np.exp(r * dt) - d) / (u - d)  # risk neutral probs\n",
    "    P = np.zeros([N + 1, N + 1])  # put prices\n",
    "    S = np.zeros([N + 1, N + 1])  # underlying price\n",
    "    Delta = np.zeros([N, N])  # delta\n",
    "    for i in range(0, N + 1):\n",
    "        P[N, i] = max(K - S_ini * (u ** (i)) * (d ** (N - i)), 0)\n",
    "        S[N, i] = S_ini * (u ** (i)) * (d ** (N - i))\n",
    "    for j in range(N - 1, -1, -1):\n",
    "        for i in range(0, j + 1):\n",
    "            P[j, i] = np.exp(-r * dt) * (p * P[j + 1, i + 1] + (1 - p) * P[j + 1, i])\n",
    "            S[j, i] = S_ini * (u ** (i)) * (d ** (j - i))\n",
    "            Delta[j, i] = (P[j + 1, i + 1] - P[j + 1, i]) / (\n",
    "                S[j + 1, i + 1] - S[j + 1, i]\n",
    "            )\n",
    "    return P[0, 0], P, S, Delta\n",
    "\n",
    "S_ini = 100  # price at t=0\n",
    "r = 0.05  # risk-free rate\n",
    "sigma = 0.2  # volatility\n",
    "T = 0.25  # time to maturity in years\n",
    "K = 100  # at the money strike price is equal to the underlying price at t=0\n",
    "N = 20  # N is large to make sure we have good accuracy on the option price\n",
    "\n",
    "european_call_price, C, S, Delta = call_option_delta(S_ini, K, T, r, sigma, N)\n",
    "european_call_delta = Delta[0, 0]\n",
    "\n",
    "european_put_price, C, S, Delta = put_option_delta(S_ini, K, T, r, sigma, N)\n",
    "european_put_delta = Delta[0, 0]\n",
    "\n",
    "print(\"European Call Option Price =\", np.round(european_call_price, 2))\n",
    "print(\"European Put Option Price =\", np.round(european_put_price, ))\n",
    "\n",
    "# Ensure put-call parity holds\n",
    "is_parity_true = np.isclose(european_call_price + K * np.exp(-r*T), european_put_price + S_ini, atol=1e-6)\n",
    "print(\"    Does the put-call parity hold?\", is_parity_true)"
   ]
  },
  {
   "cell_type": "markdown",
   "metadata": {},
   "source": [
    "My code calculates European call and put option prices using a binomial tree model by iterating from the terminal nodes (maturity) back to the root (current time), computing option prices at each node based on risk-neutral probabilities and adjusting for time value of money (risk-free rate). Finally it verifies put-call parity using *np.isclose()* method to handle numerical precision issues."
   ]
  },
  {
   "cell_type": "code",
   "execution_count": 10,
   "metadata": {},
   "outputs": [
    {
     "name": "stdout",
     "output_type": "stream",
     "text": [
      "European Call Option Delta = 0.57\n",
      "European Put Option Delta = -0.43\n"
     ]
    }
   ],
   "source": [
    "print(\"European Call Option Delta =\", np.round(european_call_delta, 2))\n",
    "print(\"European Put Option Delta =\", np.round(european_put_delta, 2))"
   ]
  },
  {
   "cell_type": "markdown",
   "metadata": {},
   "source": [
    "Call option has a positive delta value and the put option has a negative delta value, as expected. That is because delta measures the sensitivity of the option price with respect to the change in the price of the underlying:\n",
    "\n",
    "$\\Delta_C = \\frac{\\partial C}{\\partial S}$\n",
    "\n",
    "$\\Delta_P = \\frac{\\partial C}{\\partial P}$\n",
    "\n",
    "Payoff of the call option **increases** when the price of the underlying asset increases, thus it has a **positive** delta value.\n",
    "\n",
    "Payoff of the put option **decreases** when the price of the underlying asset increases, thus it has a **negative** delta value."
   ]
  },
  {
   "cell_type": "code",
   "execution_count": 11,
   "metadata": {},
   "outputs": [
    {
     "name": "stdout",
     "output_type": "stream",
     "text": [
      "Call price change = 0.97\n",
      "Put price change = 0.97\n"
     ]
    }
   ],
   "source": [
    "# If we increase volatility to 0.25\n",
    "new_european_call_price, C, S, Delta = call_option_delta(S_ini, K, T, r, 0.25, N)  # sigma is changed to 0.25\n",
    "new_european_call_delta = Delta[0, 0]\n",
    "\n",
    "new_european_put_price, C, S, Delta = put_option_delta(S_ini, K, T, r, 0.25, N)  # sigma is changed to 0.25\n",
    "new_european_put_delta = Delta[0, 0]\n",
    "\n",
    "call_price_change = new_european_call_price - european_call_price\n",
    "put_price_change = new_european_put_price - european_put_price\n",
    "\n",
    "print(\"Call price change =\", np.round(call_price_change, 2))\n",
    "print(\"Put price change =\", np.round(put_price_change, 2))"
   ]
  },
  {
   "cell_type": "markdown",
   "metadata": {},
   "source": [
    "An **increase** in the underlying's volatility led to **higher** option prices, as expected. That's because increasing underlying volatility results in possible terminal (maturity) underlying prices being more spread out from the starting price, leading to possible extreme values. And because option payoffs are non-linear (the call option payoff is $max(0, S_T - K)$ and the put option payoff is $max(0, K - S_T)$), this leads to possible option payoffs being greater. This in turn results in option premiums (prices) being higher at $t=0$."
   ]
  },
  {
   "attachments": {
    "image-2.png": {
     "image/png": "[encoded data removed]"
    }
   },
   "cell_type": "markdown",
   "metadata": {},
   "source": [
    "All results neatly organized in a table:\n",
    "\n",
    "![image-2.png](attachment:image-2.png)"
   ]
  },
  {
   "cell_type": "markdown",
   "metadata": {},
   "source": [
    "# Step 2"
   ]
  },
  {
   "cell_type": "markdown",
   "metadata": {},
   "source": [
    "**15)**\n",
    "\n",
    "$S_0 = 100$\n",
    "\n",
    "$r = 0.05$\n",
    "\n",
    "$\\sigma = 0.2$\n",
    "\n",
    "$T = 0.25$ *years*\n",
    "\n",
    "Same parameters apply except the strike price $K$ where we select those values as\n",
    "\n",
    "$70, 90, 100, 110, 130$ for Deep OTM, OTM, ATM, ITM, and Deep ITM calls."
   ]
  },
  {
   "cell_type": "code",
   "execution_count": 12,
   "metadata": {},
   "outputs": [
    {
     "name": "stdout",
     "output_type": "stream",
     "text": [
      "American Call Option Price for K = 60: 40.0\n",
      "American Put Option Price for K = 60: 0.0\n",
      "American Call Option Price for K = 90: 10.0\n",
      "American Put Option Price for K = 90: 0.03\n",
      "American Call Option Price for K = 100: 1.08\n",
      "American Put Option Price for K = 100: 1.06\n",
      "American Call Option Price for K = 110: 0.05\n",
      "American Put Option Price for K = 110: 10.0\n",
      "American Call Option Price for K = 140: 0.0\n",
      "American Put Option Price for K = 140: 40.0\n"
     ]
    }
   ],
   "source": [
    "import numpy as np\n",
    "\n",
    "def american_option_trinomial(S0, K, T, r, sigma, N, option_type='call'):\n",
    "    # Calculate parameters\n",
    "    dt = T / N\n",
    "    u = np.exp(sigma * np.sqrt(2 * dt))\n",
    "    d = 1 / u\n",
    "    m = 1\n",
    "\n",
    "    pu = ((np.exp((r - 0.5 * sigma**2) * dt / 2) - np.exp(-sigma * np.sqrt(dt / 2))) / \n",
    "          (np.exp(sigma * np.sqrt(dt / 2)) - np.exp(-sigma * np.sqrt(dt / 2))))**2\n",
    "    pd = ((np.exp(sigma * np.sqrt(dt / 2)) - np.exp((r - 0.5 * sigma**2) * dt / 2)) / \n",
    "          (np.exp(sigma * np.sqrt(dt / 2)) - np.exp(-sigma * np.sqrt(dt / 2))))**2\n",
    "    pm = 1 - pu - pd\n",
    "\n",
    "    discount = np.exp(-r * dt)\n",
    "\n",
    "    # Initialize asset prices at maturity\n",
    "    asset_prices = np.zeros((2 * N + 1, N + 1))\n",
    "    asset_prices[N, 0] = S0\n",
    "\n",
    "    for i in range(1, N + 1):\n",
    "        for j in range(N - i, N + i + 1, 2):\n",
    "            asset_prices[j, i] = S0 * (u ** ((j - N + i) // 2)) * (d ** ((N + i - j) // 2))\n",
    "\n",
    "    # Initialize option values at maturity\n",
    "    option_values = np.zeros((2 * N + 1, N + 1))\n",
    "\n",
    "    if option_type == 'call':\n",
    "        option_values[:, N] = np.maximum(0, asset_prices[:, N] - K)\n",
    "    elif option_type == 'put':\n",
    "        option_values[:, N] = np.maximum(0, K - asset_prices[:, N])\n",
    "\n",
    "    # Backward induction for the possibility of early exercise\n",
    "    for i in range(N - 1, -1, -1):\n",
    "        for j in range(N - i, N + i + 1, 2):\n",
    "            hold_value = (pu * option_values[j - 1, i + 1] +\n",
    "                          pm * option_values[j, i + 1] +\n",
    "                          pd * option_values[j + 1, i + 1]) * discount\n",
    "            if option_type == 'call':\n",
    "                exercise_value = max(0, asset_prices[j, i] - K)\n",
    "            elif option_type == 'put':\n",
    "                exercise_value = max(0, K - asset_prices[j, i])\n",
    "            option_values[j, i] = max(hold_value, exercise_value)\n",
    "\n",
    "    return option_values[N, 0]\n",
    "\n",
    "# Example usage\n",
    "S0 = 100  # Initial stock price\n",
    "K_arr = [60, 90, 100, 110, 140]   # Different strike prices for Deep OTM, OTM, ATM, ITM, and Deep ITM\n",
    "T = 1     # Time to maturity (in years)\n",
    "r = 0.05  # Risk-free rate\n",
    "sigma = 0.2  # Volatility\n",
    "N = 50    # Number of time steps\n",
    "\n",
    "for K in K_arr:\n",
    "    call_price = american_option_trinomial(S0, K, T, r, sigma, N, option_type='call')\n",
    "    put_price = american_option_trinomial(S0, K, T, r, sigma, N, option_type='put')\n",
    "    print(f\"American Call Option Price for K = {K}: {np.round(call_price, 2)}\")\n",
    "    print(f\"American Put Option Price for K = {K}: {np.round(put_price, 2)}\")"
   ]
  },
  {
   "attachments": {
    "image-2.png": {
     "image/png": "[encoded data removed]"
    }
   },
   "cell_type": "markdown",
   "metadata": {},
   "source": [
    "Option prices neatly organized in a table:\n",
    "\n",
    "![image-2.png](attachment:image-2.png)"
   ]
  },
  {
   "cell_type": "markdown",
   "metadata": {},
   "source": [
    "# Step 3"
   ]
  },
  {
   "cell_type": "markdown",
   "metadata": {},
   "source": [
    "**25)**\n",
    "\n"
   ]
  }
 ],
 "metadata": {
  "kernelspec": {
   "display_name": "base",
   "language": "python",
   "name": "python3"
  },
  "language_info": {
   "codemirror_mode": {
    "name": "ipython",
    "version": 3
   },
   "file_extension": ".py",
   "mimetype": "text/x-python",
   "name": "python",
   "nbconvert_exporter": "python",
   "pygments_lexer": "ipython3",
   "version": "3.11.5"
  }
 },
 "nbformat": 4,
 "nbformat_minor": 2
}
