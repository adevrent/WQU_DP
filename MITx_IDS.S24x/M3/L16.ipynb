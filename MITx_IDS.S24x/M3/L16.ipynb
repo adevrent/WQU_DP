{
 "cells": [
  {
   "cell_type": "code",
   "execution_count": 114,
   "metadata": {},
   "outputs": [],
   "source": [
    "import numpy as np\n",
    "import sympy as sym"
   ]
  },
  {
   "cell_type": "code",
   "execution_count": 115,
   "metadata": {},
   "outputs": [
    {
     "data": {
      "text/latex": [
       "$\\displaystyle - 0.44 u_{0} - 0.2 u_{1} + 2.64$"
      ],
      "text/plain": [
       "-0.44*u_0 - 0.2*u_1 + 2.64"
      ]
     },
     "execution_count": 115,
     "metadata": {},
     "output_type": "execute_result"
    }
   ],
   "source": [
    "u0, u1, u2 = sym.symbols(\"u_0 u_1 u_2\")\n",
    "x0, x1, x2, x3 = sym.symbols(\"x0 x1 x2 x3\")\n",
    "\n",
    "def update_state(xk, uk, theta=0.2):\n",
    "    return xk + theta * (xk - uk)\n",
    "\n",
    "x0 = 1\n",
    "x1 = update_state(x0, u0)\n",
    "x2 = update_state(x1, u1)\n",
    "x3 = update_state(x2, u2)\n",
    "\n",
    "x1 + x2"
   ]
  }
 ],
 "metadata": {
  "kernelspec": {
   "display_name": "base",
   "language": "python",
   "name": "python3"
  },
  "language_info": {
   "codemirror_mode": {
    "name": "ipython",
    "version": 3
   },
   "file_extension": ".py",
   "mimetype": "text/x-python",
   "name": "python",
   "nbconvert_exporter": "python",
   "pygments_lexer": "ipython3",
   "version": "3.11.7"
  }
 },
 "nbformat": 4,
 "nbformat_minor": 2
}
