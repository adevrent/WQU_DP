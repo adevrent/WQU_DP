{
 "cells": [
  {
   "cell_type": "code",
   "execution_count": 186,
   "metadata": {},
   "outputs": [],
   "source": [
    "import numpy as np"
   ]
  },
  {
   "cell_type": "code",
   "execution_count": 187,
   "metadata": {},
   "outputs": [
    {
     "name": "stdout",
     "output_type": "stream",
     "text": [
      "a = 1.4142\n",
      "b = 0.4\n"
     ]
    }
   ],
   "source": [
    "def update_a(a):\n",
    "    return a / (a+2) + 1\n",
    "def update_b(b):\n",
    "    return 0.2 + b/2\n",
    "a = 0\n",
    "b = 0\n",
    "\n",
    "for i in range(100):\n",
    "    a = update_a(a)\n",
    "    b = update_b(b)\n",
    "    \n",
    "print(\"a =\", np.round(a, 4))\n",
    "print(\"b =\", b)\n"
   ]
  },
  {
   "cell_type": "code",
   "execution_count": 188,
   "metadata": {},
   "outputs": [
    {
     "name": "stdout",
     "output_type": "stream",
     "text": [
      "a = 2.0\n",
      "b = 2.0\n"
     ]
    }
   ],
   "source": [
    "def update_a(a):\n",
    "    return (a/2 + 1)\n",
    "\n",
    "def update_b(a, b):\n",
    "    return a/2 + b/2\n",
    "\n",
    "a = 0\n",
    "b = 0\n",
    "for i in range(1000):\n",
    "    a = update_a(a)\n",
    "    b = update_b(a, b)\n",
    "    \n",
    "print(\"a =\", np.round(a, 4))\n",
    "print(\"b =\", b)"
   ]
  },
  {
   "cell_type": "code",
   "execution_count": 189,
   "metadata": {},
   "outputs": [],
   "source": [
    "# FITTED VALUE ITERATION\n",
    "\n",
    "def f(s, a):  # transition function\n",
    "    demand = np.random.normal(0.5, 0.3, 1)\n",
    "    return np.maximum(np.minimum(s + a - demand, 10), 0)\n",
    "def g(s, a):  # reward function\n",
    "    return 2*s - a\n",
    "\n",
    "S = np.linspace(0.5, 9.5, 10)  # state space\n",
    "C = np.zeros(3)  # coefficients vector, initializie at 0\n",
    "A = np.array([0, 1, 2])  # Action space, quantity of items to reorder\n",
    "gamma = 0.7  # discount factor\n",
    "eta = 1e-5  # learning rate"
   ]
  },
  {
   "cell_type": "code",
   "execution_count": 190,
   "metadata": {},
   "outputs": [
    {
     "name": "stderr",
     "output_type": "stream",
     "text": [
      "<>:28: SyntaxWarning: 'int' object is not subscriptable; perhaps you missed a comma?\n",
      "<>:28: SyntaxWarning: 'int' object is not subscriptable; perhaps you missed a comma?\n",
      "C:\\Users\\adevr\\AppData\\Local\\Temp\\ipykernel_21628\\2068401643.py:28: SyntaxWarning: 'int' object is not subscriptable; perhaps you missed a comma?\n",
      "  S_poly = np.concatenate([np.ones(S.shape[0][:, np.newaxis]), S[:, np.newaxis], S**2[:, np.newaxis]], axis=1)  # (10, 3)\n"
     ]
    },
    {
     "ename": "TypeError",
     "evalue": "'int' object is not subscriptable",
     "output_type": "error",
     "traceback": [
      "\u001b[1;31m---------------------------------------------------------------------------\u001b[0m",
      "\u001b[1;31mTypeError\u001b[0m                                 Traceback (most recent call last)",
      "Cell \u001b[1;32mIn[190], line 50\u001b[0m\n\u001b[0;32m     47\u001b[0m eta \u001b[38;5;241m=\u001b[39m \u001b[38;5;241m1e-5\u001b[39m  \u001b[38;5;66;03m# learning rate\u001b[39;00m\n\u001b[0;32m     48\u001b[0m n \u001b[38;5;241m=\u001b[39m \u001b[38;5;241m100\u001b[39m\n\u001b[1;32m---> 50\u001b[0m a_hat_arr, V_hat_arr, C \u001b[38;5;241m=\u001b[39m \u001b[43mfitted_value_iteration\u001b[49m\u001b[43m(\u001b[49m\u001b[43mS\u001b[49m\u001b[43m,\u001b[49m\u001b[43m \u001b[49m\u001b[43mA\u001b[49m\u001b[43m,\u001b[49m\u001b[43m \u001b[49m\u001b[43mC\u001b[49m\u001b[43m,\u001b[49m\u001b[43m \u001b[49m\u001b[43mgamma\u001b[49m\u001b[43m,\u001b[49m\u001b[43m \u001b[49m\u001b[43mn\u001b[49m\u001b[38;5;241;43m=\u001b[39;49m\u001b[38;5;241;43m100\u001b[39;49m\u001b[43m,\u001b[49m\u001b[43m \u001b[49m\u001b[43mepsilon\u001b[49m\u001b[38;5;241;43m=\u001b[39;49m\u001b[38;5;241;43m1e-6\u001b[39;49m\u001b[43m)\u001b[49m\n",
      "Cell \u001b[1;32mIn[190], line 28\u001b[0m, in \u001b[0;36mfitted_value_iteration\u001b[1;34m(S, A, C, gamma, n, epsilon)\u001b[0m\n\u001b[0;32m     27\u001b[0m \u001b[38;5;28;01mdef\u001b[39;00m \u001b[38;5;21mfitted_value_iteration\u001b[39m(S, A, C, gamma, n\u001b[38;5;241m=\u001b[39m\u001b[38;5;241m100\u001b[39m, epsilon\u001b[38;5;241m=\u001b[39m\u001b[38;5;241m1e-6\u001b[39m):\n\u001b[1;32m---> 28\u001b[0m     S_poly \u001b[38;5;241m=\u001b[39m np\u001b[38;5;241m.\u001b[39mconcatenate([np\u001b[38;5;241m.\u001b[39mones(\u001b[43mS\u001b[49m\u001b[38;5;241;43m.\u001b[39;49m\u001b[43mshape\u001b[49m\u001b[43m[\u001b[49m\u001b[38;5;241;43m0\u001b[39;49m\u001b[43m]\u001b[49m\u001b[43m[\u001b[49m\u001b[43m:\u001b[49m\u001b[43m,\u001b[49m\u001b[43m \u001b[49m\u001b[43mnp\u001b[49m\u001b[38;5;241;43m.\u001b[39;49m\u001b[43mnewaxis\u001b[49m\u001b[43m]\u001b[49m), S[:, np\u001b[38;5;241m.\u001b[39mnewaxis], S\u001b[38;5;241m*\u001b[39m\u001b[38;5;241m*\u001b[39m\u001b[38;5;241m2\u001b[39m[:, np\u001b[38;5;241m.\u001b[39mnewaxis]], axis\u001b[38;5;241m=\u001b[39m\u001b[38;5;241m1\u001b[39m)  \u001b[38;5;66;03m# (10, 3)\u001b[39;00m\n\u001b[0;32m     30\u001b[0m     M \u001b[38;5;241m=\u001b[39m \u001b[38;5;28mlen\u001b[39m(S)\n\u001b[0;32m     31\u001b[0m     C_old \u001b[38;5;241m=\u001b[39m np\u001b[38;5;241m.\u001b[39minf\n",
      "\u001b[1;31mTypeError\u001b[0m: 'int' object is not subscriptable"
     ]
    }
   ],
   "source": [
    "np.set_printoptions(precision=4, suppress=True)\n",
    "\n",
    "def approximate_E_V_tilde(s, A, C, n=100):\n",
    "    demand = np.random.normal(0.5, 0.3, (3, n))\n",
    "    s_values = np.maximum(np.minimum(s + A[:, np.newaxis] - demand, 10), 0)[:, :, np.newaxis]\n",
    "    s_poly = np.concatenate([np.ones(s_values.shape), s_values, s_values**2], axis=2)\n",
    "    \n",
    "    E_V_tilde = (s_poly @ C).mean(axis=1)\n",
    "    return E_V_tilde\n",
    "\n",
    "def calc_V_hats(S, A, C, gamma, n=100):\n",
    "    V_hat_arr = []\n",
    "    a_hat_arr = []\n",
    "    for s in S:\n",
    "        E_V_tilde = approximate_E_V_tilde(s, A, C, n)\n",
    "        V_hat = np.max(g(s, A) + gamma*E_V_tilde)\n",
    "        a_hat = np.argmax(g(s, A) + gamma*E_V_tilde)  # optimum action\n",
    "        \n",
    "        V_hat_arr.append(V_hat)\n",
    "        a_hat_arr.append(a_hat)\n",
    "    \n",
    "    V_hat_arr = np.array(V_hat_arr)\n",
    "    a_hat_arr = np.array(a_hat_arr)\n",
    "        \n",
    "    return V_hat_arr, a_hat_arr\n",
    "\n",
    "def fitted_value_iteration(S, A, C, gamma, n=100, epsilon=1e-6):\n",
    "    S_poly = np.concatenate([np.ones(S.shape[0][:, np.newaxis]), S[:, np.newaxis], S**2[:, np.newaxis]], axis=1)  # (10, 3)\n",
    "    \n",
    "    M = len(S)\n",
    "    C_old = np.inf\n",
    "    while np.abs(C - C_old) > epsilon:\n",
    "        C_old = C\n",
    "        \n",
    "        V_tilde_arr = S_poly @ C\n",
    "        a_hat_arr, V_hat_arr = calc_V_hats(S, A, C, gamma, n)\n",
    "        \n",
    "        C = C - eta*2*(S_poly * (V_tilde_arr - V_hat_arr)[:, np.newaxis])  # gradient descent\n",
    "    return a_hat_arr, V_hat_arr, C\n",
    "        \n",
    "        \n",
    "\n",
    "S = np.linspace(0.5, 9.5, 10)  # state space\n",
    "C = np.zeros(3)  # coefficients vector, initializie at 0\n",
    "A = np.array([0, 1, 2])  # Action space, quantity of items to reorder\n",
    "gamma = 0.7  # discount factor\n",
    "eta = 1e-5  # learning rate\n",
    "n = 100\n",
    "\n",
    "a_hat_arr, V_hat_arr, C = fitted_value_iteration(S, A, C, gamma, n=100, epsilon=1e-6)"
   ]
  }
 ],
 "metadata": {
  "kernelspec": {
   "display_name": "Python 3",
   "language": "python",
   "name": "python3"
  },
  "language_info": {
   "codemirror_mode": {
    "name": "ipython",
    "version": 3
   },
   "file_extension": ".py",
   "mimetype": "text/x-python",
   "name": "python",
   "nbconvert_exporter": "python",
   "pygments_lexer": "ipython3",
   "version": "3.12.5"
  }
 },
 "nbformat": 4,
 "nbformat_minor": 2
}
