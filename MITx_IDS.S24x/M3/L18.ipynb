{
 "cells": [
  {
   "cell_type": "code",
   "execution_count": 45,
   "metadata": {},
   "outputs": [],
   "source": [
    "import numpy as np"
   ]
  },
  {
   "cell_type": "code",
   "execution_count": 46,
   "metadata": {},
   "outputs": [
    {
     "name": "stdout",
     "output_type": "stream",
     "text": [
      "a = 1.4142\n",
      "b = 0.4\n"
     ]
    }
   ],
   "source": [
    "def update_a(a):\n",
    "    return a / (a+2) + 1\n",
    "def update_b(b):\n",
    "    return 0.2 + b/2\n",
    "a = 0\n",
    "b = 0\n",
    "\n",
    "for i in range(100):\n",
    "    a = update_a(a)\n",
    "    b = update_b(b)\n",
    "    \n",
    "print(\"a =\", np.round(a, 4))\n",
    "print(\"b =\", b)\n"
   ]
  },
  {
   "cell_type": "code",
   "execution_count": 47,
   "metadata": {},
   "outputs": [
    {
     "name": "stdout",
     "output_type": "stream",
     "text": [
      "a = 2.0\n",
      "b = 2.0\n"
     ]
    }
   ],
   "source": [
    "def update_a(a):\n",
    "    return (a/2 + 1)\n",
    "\n",
    "def update_b(a, b):\n",
    "    return a/2 + b/2\n",
    "\n",
    "a = 0\n",
    "b = 0\n",
    "for i in range(1000):\n",
    "    a = update_a(a)\n",
    "    b = update_b(a, b)\n",
    "    \n",
    "print(\"a =\", np.round(a, 4))\n",
    "print(\"b =\", b)"
   ]
  },
  {
   "cell_type": "code",
   "execution_count": 48,
   "metadata": {},
   "outputs": [],
   "source": [
    "# FITTED VALUE ITERATION\n",
    "\n",
    "def f(s, a):  # transition function\n",
    "    demand = np.random.normal(0.5, 0.3, 1)\n",
    "    return np.maximum(np.minimum(s + a - demand, 10), 0)\n",
    "def g(s, a):  # reward function\n",
    "    return 2*s - a\n",
    "\n",
    "S = np.linspace(0.5, 9.5, 10)  # state space\n",
    "C = np.zeros(3)  # coefficients vector, initializie at 0\n",
    "A = np.array([0, 1, 2])  # Action space, quantity of items to reorder\n",
    "gamma = 0.7  # discount factor\n",
    "eta = 1e-5  # learning rate"
   ]
  },
  {
   "cell_type": "code",
   "execution_count": 49,
   "metadata": {},
   "outputs": [
    {
     "data": {
      "text/plain": [
       "3.981481481481482"
      ]
     },
     "execution_count": 49,
     "metadata": {},
     "output_type": "execute_result"
    }
   ],
   "source": [
    "86000/6 / 3600"
   ]
  },
  {
   "cell_type": "code",
   "execution_count": 50,
   "metadata": {},
   "outputs": [
    {
     "name": "stdout",
     "output_type": "stream",
     "text": [
      "C_old = [0. 0. 0.]\n",
      "C_new = [[0. 0. 0.]\n",
      " [0. 0. 0.]\n",
      " [0. 0. 0.]\n",
      " [0. 0. 0.]\n",
      " [0. 0. 0.]\n",
      " [0. 0. 0.]\n",
      " [0. 0. 0.]\n",
      " [0. 0. 0.]\n",
      " [0. 0. 0.]\n",
      " [0. 0. 0.]]\n",
      "Iteration count: 1\n"
     ]
    }
   ],
   "source": [
    "np.set_printoptions(precision=4, suppress=True)\n",
    "\n",
    "def approximate_E_V_tilde(s, A, C, n=100):\n",
    "    demand = np.random.normal(0.5, 0.3, (3, n))\n",
    "    s_values = np.maximum(np.minimum(s + A[:, np.newaxis] - demand, 10), 0)[:, :, np.newaxis]\n",
    "    s_poly = np.concatenate([np.ones(s_values.shape), s_values, s_values**2], axis=2)\n",
    "    \n",
    "    E_V_tilde = (s_poly @ C).mean(axis=1)\n",
    "    return E_V_tilde\n",
    "\n",
    "def calc_V_hats(S, A, C, gamma, n=100):\n",
    "    V_hat_arr = []\n",
    "    a_hat_arr = []\n",
    "    for s in S:\n",
    "        E_V_tilde = approximate_E_V_tilde(s, A, C, n)\n",
    "        V_hat = np.max(g(s, A) + gamma*E_V_tilde)\n",
    "        a_hat = np.argmax(g(s, A) + gamma*E_V_tilde)  # optimum action\n",
    "        \n",
    "        V_hat_arr.append(V_hat)\n",
    "        a_hat_arr.append(a_hat)\n",
    "    \n",
    "    V_hat_arr = np.array(V_hat_arr)\n",
    "    a_hat_arr = np.array(a_hat_arr)\n",
    "        \n",
    "    return V_hat_arr, a_hat_arr\n",
    "\n",
    "def fitted_value_iteration(S, A, C, gamma, n=100, epsilon=1e-6):\n",
    "    S_poly = np.concatenate([np.ones(len(S))[:, np.newaxis], S[:, np.newaxis], (S**2)[:, np.newaxis]], axis=1)  # (10, 3)\n",
    "    \n",
    "    M = len(S)\n",
    "    C_old = np.inf\n",
    "    num_iter = 0\n",
    "    while np.abs(C - C_old).max() > epsilon:\n",
    "        num_iter += 1\n",
    "        C_old = C\n",
    "        print(\"C_old =\", C_old)\n",
    "        \n",
    "        V_tilde_arr = S_poly @ C\n",
    "        a_hat_arr, V_hat_arr = calc_V_hats(S, A, C, gamma, n)\n",
    "        \n",
    "        C = C - eta*2*(S_poly * (V_tilde_arr - V_hat_arr)[:, np.newaxis])  # gradient descent\n",
    "        print(\"C_new =\", C)\n",
    "    print(\"Iteration count:\", num_iter)\n",
    "    return a_hat_arr, V_hat_arr, C\n",
    "        \n",
    "        \n",
    "\n",
    "S = np.linspace(0.5, 9.5, 10)  # state space\n",
    "C = np.zeros(3)  # coefficients vector, initializie at 0\n",
    "A = np.array([0, 1, 2])  # Action space, quantity of items to reorder\n",
    "gamma = 0.7  # discount factor\n",
    "eta = 1e-5  # learning rate\n",
    "n = 100\n",
    "\n",
    "a_hat_arr, V_hat_arr, C = fitted_value_iteration(S, A, C, gamma, n=100, epsilon=1e-6)\n"
   ]
  }
 ],
 "metadata": {
  "kernelspec": {
   "display_name": "base",
   "language": "python",
   "name": "python3"
  },
  "language_info": {
   "codemirror_mode": {
    "name": "ipython",
    "version": 3
   },
   "file_extension": ".py",
   "mimetype": "text/x-python",
   "name": "python",
   "nbconvert_exporter": "python",
   "pygments_lexer": "ipython3",
   "version": "3.11.7"
  }
 },
 "nbformat": 4,
 "nbformat_minor": 2
}
