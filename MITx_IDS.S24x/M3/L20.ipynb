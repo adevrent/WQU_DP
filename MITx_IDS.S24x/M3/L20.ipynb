{
 "cells": [
  {
   "cell_type": "code",
   "execution_count": 147,
   "metadata": {},
   "outputs": [],
   "source": [
    "import numpy as np"
   ]
  },
  {
   "cell_type": "code",
   "execution_count": 148,
   "metadata": {},
   "outputs": [],
   "source": [
    "# transition\n",
    "def calc_xt1(xt, ut, At, Bt):\n",
    "    return At @ xt + Bt @ ut\n",
    "\n",
    "# cleanup matrices\n",
    "\n",
    "def calc_Ft(Qt, At, Kt1):\n",
    "    return Qt + At.T @ Kt1 @ At\n",
    "\n",
    "def calc_Gt(Rt, Bt, Kt1):\n",
    "    return Rt + Bt.T @ Kt1 @ Bt\n",
    "\n",
    "def calc_Ht(At, Kt1, Bt):\n",
    "    return At.T @ Kt1 @ Bt\n",
    "\n",
    "def calc_Kt(At, Kt1, Bt, Gt, Qt):\n",
    "    return At.T @ (Kt1 - Kt1 @ Bt @ np.linalg.inv(Gt) @ Bt.T @ Kt1) @ At + Qt\n",
    "\n",
    "def cleanup_wrapper(Qt, At, Bt, Rt, Kt1):\n",
    "    F_t = calc_Ft(Qt, At, Kt1)\n",
    "    G_t = calc_Gt(Rt, Bt, Kt1)\n",
    "    H_t = calc_Ht(At, Kt1, Bt)\n",
    "    \n",
    "    print(\"F_t.shape =\", F_t.shape)\n",
    "    print(\"G_t.shape =\", G_t.shape)\n",
    "    print(\"H_t.shape =\", H_t.shape)\n",
    "    return F_t, G_t, H_t\n",
    "\n",
    "# optimal policy structure\n",
    "\n",
    "def mut(Gt, Ht, xt=None):\n",
    "    if xt is None:\n",
    "        return -np.linalg.inv(Gt) @ Ht.T\n",
    "    else:\n",
    "        return -np.linalg.inv(Gt) @ Ht.T @ xt\n",
    "\n",
    "def Vt(x, Kt, alphat=0):\n",
    "    return x.T @ Kt @ x + alphat\n",
    "\n",
    "def iterate_K(Qt, At, Bt, Rt, KT, T=3):\n",
    "    K_arr = [0]*T\n",
    "    K_arr[-1] = KT\n",
    "    \n",
    "    for i in range(len(K_arr) - 1):\n",
    "        K = K_arr[-1 - i]\n",
    "        F_t, G_t, H_t = cleanup_wrapper(Qt, At, Bt, Rt, K)\n",
    "        K_t = calc_Kt(At, K, Bt, G_t, Qt)\n",
    "        K_arr[-1 - i - 1] = K_t\n",
    "    \n",
    "    return K_arr\n",
    "    "
   ]
  },
  {
   "cell_type": "code",
   "execution_count": 149,
   "metadata": {},
   "outputs": [],
   "source": [
    "A = np.array([\n",
    "    [1, 2],\n",
    "    [0, 1]\n",
    "])\n",
    "\n",
    "B = np.array([0, 1])[:, np.newaxis]  # col vector\n",
    "\n",
    "Q = np.array([\n",
    "    [1, 0],\n",
    "    [0, 0]\n",
    "])\n",
    "\n",
    "R = 1\n",
    "\n",
    "K3 = np.zeros((2, 2))"
   ]
  },
  {
   "cell_type": "code",
   "execution_count": 150,
   "metadata": {},
   "outputs": [
    {
     "name": "stdout",
     "output_type": "stream",
     "text": [
      "F_t.shape = (2, 2)\n",
      "G_t.shape = (1, 1)\n",
      "H_t.shape = (2, 1)\n",
      "F_t.shape = (2, 2)\n",
      "G_t.shape = (1, 1)\n",
      "H_t.shape = (2, 1)\n",
      "----------------------------------------\n",
      "K_1:\n",
      "[[2. 2.]\n",
      " [2. 4.]]\n",
      "----------------------------------------\n",
      "K_2:\n",
      "[[1. 0.]\n",
      " [0. 0.]]\n",
      "----------------------------------------\n",
      "K_3:\n",
      "[[0. 0.]\n",
      " [0. 0.]]\n"
     ]
    }
   ],
   "source": [
    "K_arr = iterate_K(Q, A, B, R, K3, T=3)\n",
    "for idx, K in enumerate(K_arr):\n",
    "    print(\"-\"*40)\n",
    "    print(f\"K_{idx+1}:\")\n",
    "    print(K)"
   ]
  },
  {
   "cell_type": "code",
   "execution_count": 151,
   "metadata": {},
   "outputs": [
    {
     "name": "stdout",
     "output_type": "stream",
     "text": [
      "mu_0: [[-0.4 -1.6]]\n",
      "mu_1: [[0. 0.]]\n",
      "mu_2: [[0. 0.]]\n"
     ]
    }
   ],
   "source": [
    "mu_coeffs_arr = []\n",
    "for idx, K in enumerate(K_arr):\n",
    "    Gt = calc_Gt(R, B, K)\n",
    "    Ht = calc_Ht(A, K, B)\n",
    "    \n",
    "    mu_coeffs = mut(Gt, Ht)\n",
    "    mu_coeffs_arr.append(mu_coeffs)\n",
    "    \n",
    "    print(f\"mu_{idx}:\", mu_coeffs)"
   ]
  },
  {
   "cell_type": "code",
   "execution_count": 152,
   "metadata": {},
   "outputs": [
    {
     "name": "stdout",
     "output_type": "stream",
     "text": [
      "x1: [[ 3.]\n",
      " [-1.]]\n",
      "x2: [[ 1.]\n",
      " [-1.]]\n",
      "x3: [[-1.]\n",
      " [-1.]]\n"
     ]
    }
   ],
   "source": [
    "x0 = np.array([1, 1])[:, np.newaxis]\n",
    "u0 = mu_coeffs_arr[0] @ x0\n",
    "x1 = calc_xt1(x0, u0, A, B)\n",
    "print(\"x1:\", x1)\n",
    "\n",
    "u1 = mu_coeffs_arr[1] @ x1\n",
    "x2 = calc_xt1(x1, u1, A, B)\n",
    "print(\"x2:\", x2)\n",
    "\n",
    "u2 = mu_coeffs_arr[2] @ x2\n",
    "x3 = calc_xt1(x2, u2, A, B)\n",
    "print(\"x3:\", x3)"
   ]
  }
 ],
 "metadata": {
  "kernelspec": {
   "display_name": "Python 3",
   "language": "python",
   "name": "python3"
  },
  "language_info": {
   "codemirror_mode": {
    "name": "ipython",
    "version": 3
   },
   "file_extension": ".py",
   "mimetype": "text/x-python",
   "name": "python",
   "nbconvert_exporter": "python",
   "pygments_lexer": "ipython3",
   "version": "3.12.5"
  }
 },
 "nbformat": 4,
 "nbformat_minor": 2
}
