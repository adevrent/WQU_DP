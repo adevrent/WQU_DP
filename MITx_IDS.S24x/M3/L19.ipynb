{
 "cells": [
  {
   "cell_type": "code",
   "execution_count": 84,
   "metadata": {},
   "outputs": [],
   "source": [
    "import numpy as np"
   ]
  },
  {
   "cell_type": "code",
   "execution_count": 85,
   "metadata": {},
   "outputs": [],
   "source": [
    "gamma = 0.9"
   ]
  },
  {
   "cell_type": "code",
   "execution_count": 86,
   "metadata": {},
   "outputs": [
    {
     "data": {
      "text/plain": [
       "14.620000000000001"
      ]
     },
     "execution_count": 86,
     "metadata": {},
     "output_type": "execute_result"
    }
   ],
   "source": [
    "0.8*5 + gamma * (0.8*12 + 0.2*11)"
   ]
  },
  {
   "cell_type": "code",
   "execution_count": 87,
   "metadata": {},
   "outputs": [
    {
     "data": {
      "text/plain": [
       "8.56"
      ]
     },
     "execution_count": 87,
     "metadata": {},
     "output_type": "execute_result"
    }
   ],
   "source": [
    "-0.8 + gamma*(0.8*11 + 0.2*8)"
   ]
  },
  {
   "cell_type": "code",
   "execution_count": 88,
   "metadata": {},
   "outputs": [],
   "source": [
    "gamma = 0.7\n",
    "theta0 = np.array([1, 2, 3, 4, 5])\n",
    "\n",
    "def gen_phi(s, a):\n",
    "    phi = np.array([1, s, s**2, a, a**2])\n",
    "    return phi \n",
    "\n",
    "def expectation(s, a, theta):\n",
    "    A = np.array([0, 1, 2])\n",
    "\n",
    "    s_prime_1 = np.maximum(np.minimum(s+a-1, 10), 0)\n",
    "    s_prime_0 = np.maximum(np.minimum(s+a-0, 10), 0)\n",
    "\n",
    "    Q_arr = []\n",
    "    for a in A:\n",
    "        phi_1 = gen_phi(s_prime_1, a)\n",
    "        phi_0 = gen_phi(s_prime_0, a)\n",
    "        Q_arr.append(0.8*np.dot(theta, phi_1) + 0.2*np.dot(theta, phi_0))\n",
    "    \n",
    "    Q_arr = np.array(Q_arr)\n",
    "    return Q_arr.max()\n",
    "\n",
    "def update_Q(s, a, theta):\n",
    "    E = expectation(s, a, theta)\n",
    "\n",
    "    return s - 0.5*a + gamma*E"
   ]
  },
  {
   "cell_type": "code",
   "execution_count": 89,
   "metadata": {},
   "outputs": [
    {
     "data": {
      "text/plain": [
       "33.879999999999995"
      ]
     },
     "execution_count": 89,
     "metadata": {},
     "output_type": "execute_result"
    }
   ],
   "source": [
    "gamma = 0.7\n",
    "theta0 = np.array([1, 2, 3, 4, 5])\n",
    "\n",
    "update_Q(1, 2, theta0)"
   ]
  },
  {
   "cell_type": "code",
   "execution_count": 90,
   "metadata": {},
   "outputs": [
    {
     "data": {
      "text/plain": [
       "array([-34., -34., -34., -34., -34.])"
      ]
     },
     "execution_count": 90,
     "metadata": {},
     "output_type": "execute_result"
    }
   ],
   "source": [
    "phi_11 = gen_phi(1, 1)\n",
    "phi_22 = gen_phi(2, 2)\n",
    "\n",
    "grad_F = 2 * (np.dot(theta0, phi_11) - (0.5 + gamma*np.dot(theta0, phi_22))) * phi_11\n",
    "grad_F"
   ]
  },
  {
   "cell_type": "code",
   "execution_count": 91,
   "metadata": {},
   "outputs": [],
   "source": [
    "def update_theta(theta, alpha, grad_F):\n",
    "    return theta - alpha * grad_F"
   ]
  },
  {
   "cell_type": "code",
   "execution_count": 92,
   "metadata": {},
   "outputs": [
    {
     "data": {
      "text/plain": [
       "array([18., 19., 20., 21., 22.])"
      ]
     },
     "execution_count": 92,
     "metadata": {},
     "output_type": "execute_result"
    }
   ],
   "source": [
    "update_theta(theta0, 0.5, grad_F)"
   ]
  }
 ],
 "metadata": {
  "kernelspec": {
   "display_name": "base",
   "language": "python",
   "name": "python3"
  },
  "language_info": {
   "codemirror_mode": {
    "name": "ipython",
    "version": 3
   },
   "file_extension": ".py",
   "mimetype": "text/x-python",
   "name": "python",
   "nbconvert_exporter": "python",
   "pygments_lexer": "ipython3",
   "version": "3.11.7"
  }
 },
 "nbformat": 4,
 "nbformat_minor": 2
}
