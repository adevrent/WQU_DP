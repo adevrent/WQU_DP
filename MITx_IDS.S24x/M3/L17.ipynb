{
 "cells": [
  {
   "cell_type": "code",
   "execution_count": 71,
   "metadata": {},
   "outputs": [],
   "source": [
    "import numpy as np\n",
    "\n",
    "np.set_printoptions(precision=4, suppress=True)"
   ]
  },
  {
   "cell_type": "code",
   "execution_count": 76,
   "metadata": {},
   "outputs": [
    {
     "name": "stdout",
     "output_type": "stream",
     "text": [
      "    V_next = [4. 3. 2.]\n",
      "V_old at t=1: [0. 0. 0.]\n",
      "V at t=1: [4. 3. 2.]\n",
      "    V_next = [5.6 4.1 3.1]\n",
      "V_old at t=2: [4. 3. 2.]\n",
      "V at t=2: [5.6 4.1 3.1]\n",
      "    V_next = [6.2  4.65 3.65]\n",
      "V_old at t=3: [5.6 4.1 3.1]\n",
      "V at t=3: [6.2  4.65 3.65]\n",
      "    V_next = [6.48  4.925 3.925]\n",
      "V_old at t=4: [6.2  4.65 3.65]\n",
      "V at t=4: [6.48  4.925 3.925]\n",
      "    V_next = [6.618  5.0625 4.0625]\n",
      "V_old at t=5: [6.48  4.925 3.925]\n",
      "V at t=5: [6.618  5.0625 4.0625]\n",
      "    V_next = [6.6868 5.1312 4.1312]\n",
      "V_old at t=6: [6.618  5.0625 4.0625]\n",
      "V at t=6: [6.6868 5.1312 4.1312]\n",
      "    V_next = [6.7212 5.1656 4.1656]\n",
      "V_old at t=7: [6.6868 5.1312 4.1312]\n",
      "V at t=7: [6.7212 5.1656 4.1656]\n",
      "    V_next = [6.7384 5.1828 4.1828]\n",
      "V_old at t=8: [6.7212 5.1656 4.1656]\n",
      "V at t=8: [6.7384 5.1828 4.1828]\n",
      "    V_next = [6.747  5.1914 4.1914]\n",
      "V_old at t=9: [6.7384 5.1828 4.1828]\n",
      "V at t=9: [6.747  5.1914 4.1914]\n",
      "    V_next = [6.7513 5.1957 4.1957]\n",
      "V_old at t=10: [6.747  5.1914 4.1914]\n",
      "V at t=10: [6.7513 5.1957 4.1957]\n",
      "    V_next = [6.7534 5.1979 4.1979]\n",
      "V_old at t=11: [6.7513 5.1957 4.1957]\n",
      "V at t=11: [6.7534 5.1979 4.1979]\n",
      "    V_next = [6.7545 5.1989 4.1989]\n",
      "V_old at t=12: [6.7534 5.1979 4.1979]\n",
      "V at t=12: [6.7545 5.1989 4.1989]\n",
      "    V_next = [6.755  5.1995 4.1995]\n",
      "V_old at t=13: [6.7545 5.1989 4.1989]\n",
      "V at t=13: [6.755  5.1995 4.1995]\n",
      "    V_next = [6.7553 5.1997 4.1997]\n",
      "V_old at t=14: [6.755  5.1995 4.1995]\n",
      "V at t=14: [6.7553 5.1997 4.1997]\n",
      "    V_next = [6.7554 5.1999 4.1999]\n",
      "V_old at t=15: [6.7553 5.1997 4.1997]\n",
      "V at t=15: [6.7554 5.1999 4.1999]\n",
      "    V_next = [6.7555 5.1999 4.1999]\n",
      "V_old at t=16: [6.7554 5.1999 4.1999]\n",
      "V at t=16: [6.7555 5.1999 4.1999]\n"
     ]
    },
    {
     "data": {
      "text/plain": [
       "array([6.7555, 5.1999, 4.1999])"
      ]
     },
     "execution_count": 76,
     "metadata": {},
     "output_type": "execute_result"
    }
   ],
   "source": [
    "X = np.array([0, 1, 2])  # state space (low/moderate/high)\n",
    "U = np.array([0, 1])  # action space (buy/sell)\n",
    "\n",
    "# Construct state space, action, probability matrix,\n",
    "# depth index is ACTION, Row index is state FROM, col index is state TO\n",
    "P = np.array([\n",
    "    [\n",
    "        [0.2, 0.8, 0.0],\n",
    "        [0.0, 0.2, 0.8],\n",
    "        [0.0, 0.2, 0.8]\n",
    "    ],\n",
    "    [\n",
    "        [0.8, 0.2, 0.0],\n",
    "        [0.8, 0.2, 0.0],\n",
    "        [0.0, 0.8, 0.2]\n",
    "    ]\n",
    "])\n",
    "\n",
    "# Immediate rewards, rows are states, cols are actions\n",
    "G = np.array([\n",
    "    [4, -1],\n",
    "    [3, -1],\n",
    "    [2, -1]\n",
    "])\n",
    "\n",
    "gamma = 0.5  # discount factor\n",
    "\n",
    "def update_V(V, gamma=0.5):\n",
    "    # print(\"V.shape =\", V.shape)\n",
    "    V_next = V.copy()\n",
    "    for x in range(V.shape[0]):\n",
    "        future_expected_reward = (P[:, x, :] @ V)  # shape (2,)\n",
    "        opt_u = np.argmax(future_expected_reward + G[x, :])\n",
    "        V_next[x] = G[x, opt_u] + gamma * future_expected_reward[opt_u]\n",
    "    print(\"    V_next =\", V_next)\n",
    "    return V_next\n",
    "\n",
    "def value_iteration(num_states, gamma=0.5, epsilon=1e-4):\n",
    "    V_old = np.zeros(num_states)\n",
    "    V = update_V(V_old, gamma)\n",
    "    t = 1\n",
    "    print(f\"V_old at t={t}:\", V_old)\n",
    "    print(f\"V at t={t}:\", V)\n",
    "    while np.abs(V_old - V).max() > epsilon:\n",
    "        V_old = V.copy()\n",
    "        V = update_V(V)\n",
    "        t += 1\n",
    "        print(f\"V_old at t={t}:\", V_old)\n",
    "        print(f\"V at t={t}:\", V)\n",
    "    return V\n",
    "\n",
    "num_states = len(X)\n",
    "value_iteration(num_states)"
   ]
  },
  {
   "cell_type": "code",
   "execution_count": 69,
   "metadata": {},
   "outputs": [
    {
     "data": {
      "text/plain": [
       "array([-4, -3, -2])"
      ]
     },
     "execution_count": 69,
     "metadata": {},
     "output_type": "execute_result"
    }
   ],
   "source": [
    "V_old = np.array([0, 0, 0])\n",
    "V = np.array([4, 3, 2])\n",
    "V_old - V"
   ]
  }
 ],
 "metadata": {
  "kernelspec": {
   "display_name": "Python 3",
   "language": "python",
   "name": "python3"
  },
  "language_info": {
   "codemirror_mode": {
    "name": "ipython",
    "version": 3
   },
   "file_extension": ".py",
   "mimetype": "text/x-python",
   "name": "python",
   "nbconvert_exporter": "python",
   "pygments_lexer": "ipython3",
   "version": "3.12.5"
  }
 },
 "nbformat": 4,
 "nbformat_minor": 2
}
