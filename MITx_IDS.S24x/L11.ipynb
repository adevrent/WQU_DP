{
 "cells": [
  {
   "cell_type": "code",
   "execution_count": 908,
   "metadata": {},
   "outputs": [],
   "source": [
    "import numpy as np\n",
    "import pandas as pd\n",
    "import sympy as sy"
   ]
  },
  {
   "cell_type": "code",
   "execution_count": 909,
   "metadata": {},
   "outputs": [
    {
     "data": {
      "text/plain": [
       "2"
      ]
     },
     "execution_count": 909,
     "metadata": {},
     "output_type": "execute_result"
    }
   ],
   "source": [
    "P = np.array([2*i+1 for i in range(1, 10)]).reshape((3, 3)).T\n",
    "np.linalg.matrix_rank(P)"
   ]
  },
  {
   "cell_type": "code",
   "execution_count": 910,
   "metadata": {},
   "outputs": [
    {
     "data": {
      "text/plain": [
       "2"
      ]
     },
     "execution_count": 910,
     "metadata": {},
     "output_type": "execute_result"
    }
   ],
   "source": [
    "H = np.zeros((3, 7))\n",
    "for col in range(H.shape[1]):\n",
    "    H[:, col] = 2*np.arange(1+col, 4+col) + 1\n",
    "\n",
    "np.linalg.matrix_rank(H)"
   ]
  },
  {
   "cell_type": "code",
   "execution_count": 911,
   "metadata": {},
   "outputs": [
    {
     "data": {
      "text/plain": [
       "6.0"
      ]
     },
     "execution_count": 911,
     "metadata": {},
     "output_type": "execute_result"
    }
   ],
   "source": [
    "d = 2\n",
    "1/2 * (d+1) * (d+2)"
   ]
  },
  {
   "cell_type": "code",
   "execution_count": 912,
   "metadata": {},
   "outputs": [
    {
     "data": {
      "text/latex": [
       "$\\displaystyle \\left[\\begin{matrix}32 & - 4 c - 8\\\\- 4 c - 8 & c^{2} + 4\\end{matrix}\\right]$"
      ],
      "text/plain": [
       "Matrix([\n",
       "[      32, -4*c - 8],\n",
       "[-4*c - 8, c**2 + 4]])"
      ]
     },
     "execution_count": 912,
     "metadata": {},
     "output_type": "execute_result"
    }
   ],
   "source": [
    "S = np.array([\n",
    "    [4*np.sqrt(2), 0],\n",
    "    [0, 2*np.sqrt(2)]\n",
    "])\n",
    "\n",
    "V = np.array([\n",
    "    [1/np.sqrt(2), 1/np.sqrt(2)],\n",
    "    [-1/np.sqrt(2), 1/np.sqrt(2)]\n",
    "])\n",
    "\n",
    "Lambda, c = sy.symbols([\"lambda\", \"c\"])\n",
    "\n",
    "B = sy.Matrix([\n",
    "    [4, -4],\n",
    "    [-2, c]\n",
    "])\n",
    "\n",
    "BBT = B @ B.T\n",
    "BBT"
   ]
  },
  {
   "cell_type": "code",
   "execution_count": 913,
   "metadata": {},
   "outputs": [
    {
     "name": "stdout",
     "output_type": "stream",
     "text": [
      "BBT_eigenvals [c**2/2 - sqrt((c**2 - 8*c + 52)*(c**2 + 8*c + 20))/2 + 18, c**2/2 + sqrt((c**2 - 8*c + 52)*(c**2 + 8*c + 20))/2 + 18]\n",
      "Eigenvalue 0: c**2/2 - sqrt((c**2 - 8*c + 52)*(c**2 + 8*c + 20))/2 + 18\n",
      "Eigenvalue 1: c**2/2 + sqrt((c**2 - 8*c + 52)*(c**2 + 8*c + 20))/2 + 18\n"
     ]
    },
    {
     "data": {
      "text/plain": [
       "[(-2.00000000000000,)]"
      ]
     },
     "execution_count": 913,
     "metadata": {},
     "output_type": "execute_result"
    }
   ],
   "source": [
    "BBT_eigenvals = list(BBT.eigenvals().keys())\n",
    "print(\"BBT_eigenvals\", BBT_eigenvals)\n",
    "for idx, eigenval in enumerate(BBT_eigenvals):\n",
    "    print(f\"Eigenvalue {idx}:\", eigenval)\n",
    "\n",
    "eq1 = BBT_eigenvals[0] - (2*np.sqrt(2))**2\n",
    "eq2 = BBT_eigenvals[1] - (4*np.sqrt(2))**2\n",
    "\n",
    "\n",
    "sy.solve([eq1, eq2], c)"
   ]
  },
  {
   "cell_type": "code",
   "execution_count": 914,
   "metadata": {},
   "outputs": [
    {
     "data": {
      "text/plain": [
       "array([[ 1.,  0.],\n",
       "       [ 0., -1.]])"
      ]
     },
     "execution_count": 914,
     "metadata": {},
     "output_type": "execute_result"
    }
   ],
   "source": [
    "B = np.array(B)\n",
    "B[1, 1] = -2\n",
    "B = B.astype(np.float64)\n",
    "\n",
    "B @ np.linalg.inv(S @ V.T)"
   ]
  },
  {
   "cell_type": "code",
   "execution_count": 915,
   "metadata": {},
   "outputs": [
    {
     "data": {
      "text/plain": [
       "0    3.649738\n",
       "1    2.995497\n",
       "2    2.568774\n",
       "3    2.946819\n",
       "4    3.636283\n",
       "Name: Time Series Data, dtype: float64"
      ]
     },
     "execution_count": 915,
     "metadata": {},
     "output_type": "execute_result"
    }
   ],
   "source": [
    "# s_list = [3.64973815,  2.99549717,  0,  2.9468194, \n",
    "#  3.63628318,  2.20029144,  3.58499797,  2.30541867,  \n",
    "# 2.44001707,  1.91864557,  2.33640267,  0.71044036, \n",
    "# 1.25885197,  1.175712,    1.82684075,  1.090066,  \n",
    "#   1.73614439,  1.84846206, 2.72661025,  3.56022295, \n",
    "#  3.59882147,  5.28710702,  6.03863768,  6.76454015,\n",
    "#  7.82283933,  8.07749541,  9.15639392,  9.62977085, \n",
    "# 10.6195424,  11.56870074, 11.60384656, 12.13092488,\n",
    "#  12.30468568, 12.41261552, 12.53969402, 12.75664092]\n",
    "\n",
    "# s = pd.Series(s_list, name=\"Time Series Data\")\n",
    "# s.head()\n",
    "\n",
    "# s_list = [2.9468194,   3.63628318,  2.20029144,3.58499797, \n",
    "#  2.30541867,  2.44001707,  1.91864557,  2.33640267, \n",
    "#  0.71044036, 1.25885197,  1.175712,    1.82684075,  \n",
    "# 1.090066,    1.73614439,  1.84846206, 2.72661025,  \n",
    "# 3.56022295,  3.59882147,  5.28710702,  6.03863768,  \n",
    "# 6.76454015, 7.82283933,  8.07749541,  9.15639392,  \n",
    "# 9.62977085, 10.6195424,  11.56870074, 11.60384656, \n",
    "# 12.13092488, 12.30468568, 12.41261552, 12.53969402,\n",
    "#  12.75664092]\n",
    "\n",
    "s_list = [3.64973815,  2.99549717,  2.56877414,  2.9468194, \n",
    " 3.63628318,  2.20029144,  3.58499797,  2.30541867,  \n",
    "2.44001707,  1.91864557,  2.33640267,  0.71044036, \n",
    "1.25885197,  1.175712,    1.82684075,  1.090066,  \n",
    "  1.73614439,  1.84846206, 2.72661025,  3.56022295, \n",
    " 3.59882147,  5.28710702,  6.03863768,  6.76454015,\n",
    " 7.82283933,  8.07749541,  9.15639392,  9.62977085, \n",
    "10.6195424,  11.56870074, 11.60384656, 12.13092488,\n",
    " 12.30468568, 12.41261552, 12.53969402, 12.75664092]\n",
    "\n",
    "s = pd.Series(s_list, name=\"Time Series Data\")\n",
    "s.head()"
   ]
  },
  {
   "cell_type": "code",
   "execution_count": 916,
   "metadata": {},
   "outputs": [
    {
     "name": "stdout",
     "output_type": "stream",
     "text": [
      "len(s) = 36\n",
      "sum of s = 198.82849271\n"
     ]
    },
    {
     "data": {
      "text/plain": [
       "31    12.130925\n",
       "32    12.304686\n",
       "33    12.412616\n",
       "34    12.539694\n",
       "35    12.756641\n",
       "Name: Padded Series, dtype: float64"
      ]
     },
     "execution_count": 916,
     "metadata": {},
     "output_type": "execute_result"
    }
   ],
   "source": [
    "# s = pd.concat([s, pd.Series(np.zeros(3))])\n",
    "s = s.reset_index().iloc[:, -1]\n",
    "s = s.rename(\"Padded Series\")\n",
    "\n",
    "print(\"len(s) =\", len(s))\n",
    "print(\"sum of s =\", s.sum())\n",
    "s.tail()"
   ]
  },
  {
   "cell_type": "code",
   "execution_count": 917,
   "metadata": {},
   "outputs": [
    {
     "name": "stdout",
     "output_type": "stream",
     "text": [
      "[[ 3.65  3.58  1.26  2.73  7.82 11.6 ]\n",
      " [ 3.    2.31  1.18  3.56  8.08 12.13]\n",
      " [ 2.57  2.44  1.83  3.6   9.16 12.3 ]\n",
      " [ 2.95  1.92  1.09  5.29  9.63 12.41]\n",
      " [ 3.64  2.34  1.74  6.04 10.62 12.54]\n",
      " [ 2.2   0.71  1.85  6.76 11.57 12.76]]\n"
     ]
    }
   ],
   "source": [
    "T = len(s)\n",
    "L = 6\n",
    "\n",
    "P = np.zeros((L, T//L))\n",
    "\n",
    "for col in range(T//L):\n",
    "    P[:, col] = s[col*L:col*L+L]\n",
    "\n",
    "print(np.round(P, 2))"
   ]
  },
  {
   "cell_type": "code",
   "execution_count": 918,
   "metadata": {},
   "outputs": [
    {
     "data": {
      "text/plain": [
       "30.646884229999998"
      ]
     },
     "execution_count": 918,
     "metadata": {},
     "output_type": "execute_result"
    }
   ],
   "source": [
    "P[0, :].sum()"
   ]
  },
  {
   "cell_type": "code",
   "execution_count": 919,
   "metadata": {},
   "outputs": [
    {
     "data": {
      "text/plain": [
       "array([41.02168371,  4.21982278,  1.40840581,  0.89810717,  0.26783936,\n",
       "        0.08563239])"
      ]
     },
     "execution_count": 919,
     "metadata": {},
     "output_type": "execute_result"
    }
   ],
   "source": [
    "U, S, V_T = np.linalg.svd(P)\n",
    "S = np.sort(S)[::-1]\n",
    "S"
   ]
  },
  {
   "cell_type": "code",
   "execution_count": 920,
   "metadata": {},
   "outputs": [],
   "source": [
    "V = V_T.T"
   ]
  },
  {
   "cell_type": "code",
   "execution_count": 921,
   "metadata": {},
   "outputs": [
    {
     "data": {
      "text/plain": [
       "-1.9839175833961686"
      ]
     },
     "execution_count": 921,
     "metadata": {},
     "output_type": "execute_result"
    }
   ],
   "source": [
    "V[:, 0].sum()"
   ]
  },
  {
   "cell_type": "code",
   "execution_count": 922,
   "metadata": {},
   "outputs": [
    {
     "name": "stdout",
     "output_type": "stream",
     "text": [
      "Energy ratio at iteration 1: 0.86\n",
      "Energy ratio at iteration 2: 0.94\n",
      "Energy ratio at iteration 3: 0.97\n",
      "Energy ratio at iteration 4: 0.99\n",
      "Energy ratio at iteration 5: 1.0\n",
      "Energy ratio at iteration 6: 1.0\n"
     ]
    }
   ],
   "source": [
    "for i in range(S.shape[0]):\n",
    "    energy_ratio = S[:i+1].sum() / S.sum()\n",
    "    print(f\"Energy ratio at iteration {i+1}:\", np.round(energy_ratio, 2))\n",
    "\n",
    "r=2"
   ]
  },
  {
   "cell_type": "code",
   "execution_count": 923,
   "metadata": {},
   "outputs": [
    {
     "data": {
      "text/plain": [
       "array([[41.02168371,  0.        ,  0.        ,  0.        ,  0.        ,\n",
       "         0.        ],\n",
       "       [ 0.        ,  4.21982278,  0.        ,  0.        ,  0.        ,\n",
       "         0.        ],\n",
       "       [ 0.        ,  0.        ,  0.        ,  0.        ,  0.        ,\n",
       "         0.        ],\n",
       "       [ 0.        ,  0.        ,  0.        ,  0.        ,  0.        ,\n",
       "         0.        ],\n",
       "       [ 0.        ,  0.        ,  0.        ,  0.        ,  0.        ,\n",
       "         0.        ],\n",
       "       [ 0.        ,  0.        ,  0.        ,  0.        ,  0.        ,\n",
       "         0.        ]])"
      ]
     },
     "execution_count": 923,
     "metadata": {},
     "output_type": "execute_result"
    }
   ],
   "source": [
    "S_r = np.diag(S)\n",
    "S_r[r:, r:] = 0\n",
    "S_r"
   ]
  },
  {
   "cell_type": "code",
   "execution_count": 924,
   "metadata": {},
   "outputs": [
    {
     "name": "stdout",
     "output_type": "stream",
     "text": [
      "P_ =\n",
      "[[ 3.44749756  3.36687278  1.25545437  2.64059311  7.67355073 11.84103852]\n",
      " [ 3.1318397   2.69642545  1.34182112  3.5983077   8.38734103 11.75315097]\n",
      " [ 3.14487744  2.57276349  1.42238588  4.06002544  8.94977772 12.17313873]\n",
      " [ 2.88287854  1.94496577  1.53371544  5.09114599  9.82115185 12.29638578]\n",
      " [ 2.97855348  1.90336146  1.64362159  5.61167811 10.56223362 12.99648357]\n",
      " [ 2.44631961  0.84284447  1.75037337  6.99488305 11.49227451 12.655923  ]]\n"
     ]
    },
    {
     "data": {
      "text/plain": [
       "30.225"
      ]
     },
     "execution_count": 924,
     "metadata": {},
     "output_type": "execute_result"
    }
   ],
   "source": [
    "P_ = U @ S_r @ V_T\n",
    "print(\"P_ =\")\n",
    "print(P_)\n",
    "np.round(P_[0, :].sum(), 4)"
   ]
  },
  {
   "cell_type": "code",
   "execution_count": 925,
   "metadata": {},
   "outputs": [
    {
     "data": {
      "text/plain": [
       "array([30.22500707, 30.90888597, 32.32296869, 33.57024336, 35.69593183,\n",
       "       36.18261802])"
      ]
     },
     "execution_count": 925,
     "metadata": {},
     "output_type": "execute_result"
    }
   ],
   "source": [
    "P_.sum(axis=1)"
   ]
  },
  {
   "cell_type": "code",
   "execution_count": 926,
   "metadata": {},
   "outputs": [
    {
     "data": {
      "text/plain": [
       "array([[ 3.44749756,  3.1318397 ,  3.14487744,  2.88287854,  2.97855348],\n",
       "       [ 3.36687278,  2.69642545,  2.57276349,  1.94496577,  1.90336146],\n",
       "       [ 1.25545437,  1.34182112,  1.42238588,  1.53371544,  1.64362159],\n",
       "       [ 2.64059311,  3.5983077 ,  4.06002544,  5.09114599,  5.61167811],\n",
       "       [ 7.67355073,  8.38734103,  8.94977772,  9.82115185, 10.56223362],\n",
       "       [11.84103852, 11.75315097, 12.17313873, 12.29638578, 12.99648357]])"
      ]
     },
     "execution_count": 926,
     "metadata": {},
     "output_type": "execute_result"
    }
   ],
   "source": [
    "Phi = P_[:-1, :].T\n",
    "Y = P_[-1, :][:, np.newaxis]\n",
    "\n",
    "Phi"
   ]
  },
  {
   "cell_type": "code",
   "execution_count": 927,
   "metadata": {},
   "outputs": [
    {
     "data": {
      "text/plain": [
       "array([[ 2.44631961],\n",
       "       [ 0.84284447],\n",
       "       [ 1.75037337],\n",
       "       [ 6.99488305],\n",
       "       [11.49227451],\n",
       "       [12.655923  ]])"
      ]
     },
     "execution_count": 927,
     "metadata": {},
     "output_type": "execute_result"
    }
   ],
   "source": [
    "Y"
   ]
  },
  {
   "cell_type": "code",
   "execution_count": 928,
   "metadata": {},
   "outputs": [
    {
     "name": "stdout",
     "output_type": "stream",
     "text": [
      "Phi.shape = (6, 5)\n",
      "Y.shape = (6, 1)\n"
     ]
    },
    {
     "data": {
      "text/plain": [
       "array([[-1.64712269],\n",
       "       [ 2.13738144],\n",
       "       [-0.40330871],\n",
       "       [ 0.51124967],\n",
       "       [ 0.5407284 ]])"
      ]
     },
     "execution_count": 928,
     "metadata": {},
     "output_type": "execute_result"
    }
   ],
   "source": [
    "print(\"Phi.shape =\", Phi.shape)\n",
    "print(\"Y.shape =\", Y.shape)\n",
    "\n",
    "beta_hat = np.linalg.inv(Phi.T @ Phi) @ Phi.T @ Y\n",
    "beta_hat"
   ]
  },
  {
   "cell_type": "code",
   "execution_count": 929,
   "metadata": {},
   "outputs": [
    {
     "data": {
      "text/plain": [
       "array([11.75315097, 12.17313873, 12.29638578, 12.99648357, 12.655923  ,\n",
       "       15.18838465, 15.67294614, 18.66040656])"
      ]
     },
     "execution_count": 929,
     "metadata": {},
     "output_type": "execute_result"
    }
   ],
   "source": [
    "Y_new = P_[-1:-6:-1, -1][::-1]\n",
    "\n",
    "for i in range(3):\n",
    "    temp_arr = Y_new[i:] @ beta_hat\n",
    "    Y_new = np.concatenate([Y_new, temp_arr])\n",
    "Y_new"
   ]
  },
  {
   "cell_type": "code",
   "execution_count": 930,
   "metadata": {},
   "outputs": [
    {
     "data": {
      "text/plain": [
       "[<matplotlib.lines.Line2D at 0x1afe9220e60>]"
      ]
     },
     "execution_count": 930,
     "metadata": {},
     "output_type": "execute_result"
    },
    {
     "data": {
      "image/png": "[encoded data removed]",
      "text/plain": [
       "<Figure size 640x480 with 1 Axes>"
      ]
     },
     "metadata": {},
     "output_type": "display_data"
    }
   ],
   "source": [
    "plt.plot(Y_new)"
   ]
  },
  {
   "cell_type": "code",
   "execution_count": 932,
   "metadata": {},
   "outputs": [
    {
     "data": {
      "text/plain": [
       "<matplotlib.legend.Legend at 0x1afe9291f40>"
      ]
     },
     "execution_count": 932,
     "metadata": {},
     "output_type": "execute_result"
    },
    {
     "data": {
      "image/png": "[encoded data removed]",
      "text/plain": [
       "<Figure size 640x480 with 1 Axes>"
      ]
     },
     "metadata": {},
     "output_type": "display_data"
    }
   ],
   "source": [
    "from matplotlib import pyplot as plt\n",
    "\n",
    "plt.plot(Y, c=\"b\", label=\"data\")\n",
    "plt.plot(Phi @ beta_hat, c=\"r\", label=\"prediction\")\n",
    "plt.legend()"
   ]
  }
 ],
 "metadata": {
  "kernelspec": {
   "display_name": "Python 3",
   "language": "python",
   "name": "python3"
  },
  "language_info": {
   "codemirror_mode": {
    "name": "ipython",
    "version": 3
   },
   "file_extension": ".py",
   "mimetype": "text/x-python",
   "name": "python",
   "nbconvert_exporter": "python",
   "pygments_lexer": "ipython3",
   "version": "3.12.5"
  }
 },
 "nbformat": 4,
 "nbformat_minor": 2
}
