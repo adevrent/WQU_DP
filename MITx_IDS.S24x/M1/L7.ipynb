{
 "cells": [
  {
   "cell_type": "code",
   "execution_count": 241,
   "metadata": {},
   "outputs": [],
   "source": [
    "import numpy as np\n",
    "import pandas as pd"
   ]
  },
  {
   "cell_type": "code",
   "execution_count": 242,
   "metadata": {},
   "outputs": [
    {
     "name": "stdout",
     "output_type": "stream",
     "text": [
      "len series 40\n"
     ]
    },
    {
     "data": {
      "text/plain": [
       "y_1    1.624345\n",
       "y_2    1.987196\n",
       "y_3    1.611761\n",
       "y_4    0.234044\n",
       "y_5    0.208350\n",
       "dtype: float64"
      ]
     },
     "execution_count": 242,
     "metadata": {},
     "output_type": "execute_result"
    }
   ],
   "source": [
    "data = [1.62434536,  1.98719617,  1.61176108,  0.23404356,  0.20835024, -2.1179662,\n",
    " -1.7772783, -2.24935382, -2.1424689,  -2.23773417, -0.74708664, -1.82332947,\n",
    " -2.7616089,  -3.63569774, -2.91591724, -3.4385123,  -3.80786085, -4.76978791,\n",
    " -5.15241597, -4.60838607, -5.17649067, -4.18829428, -2.48672609, -0.79575907,\n",
    "  1.21914613,  1.77619176,  1.93876306,  1.02948874, 0.13848555,  0.09305955,\n",
    " -0.63139623, -1.4665456,  -2.62955207, -4.11389978, -5.57057245, -6.29268466,\n",
    " -7.62043943, -7.93096921, -6.15266733, -4.02640327]\n",
    "\n",
    "series = pd.Series(data)\n",
    "series.index = [f\"y_{i}\" for i in range(1, len(series)+1)]\n",
    "print(\"len series\", len(series))\n",
    "series.head()"
   ]
  },
  {
   "cell_type": "code",
   "execution_count": 243,
   "metadata": {},
   "outputs": [
    {
     "data": {
      "text/plain": [
       "(38, 2)"
      ]
     },
     "execution_count": 243,
     "metadata": {},
     "output_type": "execute_result"
    }
   ],
   "source": [
    "p = 2\n",
    "\n",
    "for p in range(1, 3):\n",
    "    df = pd.DataFrame([series.shift(-1), series])\n",
    "df = df.dropna(axis=1).T.iloc[:-1, :]\n",
    "df.columns = [\"y1\", \"y2\"]\n",
    "df.index = [f\"yhat_{i}\" for i in range(3, df.shape[0] + 3)]\n",
    "\n",
    "Phi = df\n",
    "Phi.shape"
   ]
  },
  {
   "cell_type": "code",
   "execution_count": 244,
   "metadata": {},
   "outputs": [
    {
     "data": {
      "text/html": [
       "<div>\n",
       "<style scoped>\n",
       "    .dataframe tbody tr th:only-of-type {\n",
       "        vertical-align: middle;\n",
       "    }\n",
       "\n",
       "    .dataframe tbody tr th {\n",
       "        vertical-align: top;\n",
       "    }\n",
       "\n",
       "    .dataframe thead th {\n",
       "        text-align: right;\n",
       "    }\n",
       "</style>\n",
       "<table border=\"1\" class=\"dataframe\">\n",
       "  <thead>\n",
       "    <tr style=\"text-align: right;\">\n",
       "      <th></th>\n",
       "      <th>y1</th>\n",
       "      <th>y2</th>\n",
       "    </tr>\n",
       "  </thead>\n",
       "  <tbody>\n",
       "    <tr>\n",
       "      <th>yhat_3</th>\n",
       "      <td>1.987196</td>\n",
       "      <td>1.624345</td>\n",
       "    </tr>\n",
       "    <tr>\n",
       "      <th>yhat_4</th>\n",
       "      <td>1.611761</td>\n",
       "      <td>1.987196</td>\n",
       "    </tr>\n",
       "    <tr>\n",
       "      <th>yhat_5</th>\n",
       "      <td>0.234044</td>\n",
       "      <td>1.611761</td>\n",
       "    </tr>\n",
       "    <tr>\n",
       "      <th>yhat_6</th>\n",
       "      <td>0.208350</td>\n",
       "      <td>0.234044</td>\n",
       "    </tr>\n",
       "    <tr>\n",
       "      <th>yhat_7</th>\n",
       "      <td>-2.117966</td>\n",
       "      <td>0.208350</td>\n",
       "    </tr>\n",
       "  </tbody>\n",
       "</table>\n",
       "</div>"
      ],
      "text/plain": [
       "              y1        y2\n",
       "yhat_3  1.987196  1.624345\n",
       "yhat_4  1.611761  1.987196\n",
       "yhat_5  0.234044  1.611761\n",
       "yhat_6  0.208350  0.234044\n",
       "yhat_7 -2.117966  0.208350"
      ]
     },
     "execution_count": 244,
     "metadata": {},
     "output_type": "execute_result"
    }
   ],
   "source": [
    "Phi.head()"
   ]
  },
  {
   "cell_type": "code",
   "execution_count": 245,
   "metadata": {},
   "outputs": [],
   "source": [
    "Phi = Phi.to_numpy()"
   ]
  },
  {
   "cell_type": "code",
   "execution_count": 246,
   "metadata": {},
   "outputs": [
    {
     "name": "stdout",
     "output_type": "stream",
     "text": [
      "len Y 38\n"
     ]
    },
    {
     "data": {
      "text/plain": [
       "y_3     1.611761\n",
       "y_4     0.234044\n",
       "y_5     0.208350\n",
       "y_6    -2.117966\n",
       "y_7    -1.777278\n",
       "y_8    -2.249354\n",
       "y_9    -2.142469\n",
       "y_10   -2.237734\n",
       "y_11   -0.747087\n",
       "y_12   -1.823329\n",
       "y_13   -2.761609\n",
       "y_14   -3.635698\n",
       "y_15   -2.915917\n",
       "y_16   -3.438512\n",
       "y_17   -3.807861\n",
       "y_18   -4.769788\n",
       "y_19   -5.152416\n",
       "y_20   -4.608386\n",
       "y_21   -5.176491\n",
       "y_22   -4.188294\n",
       "y_23   -2.486726\n",
       "y_24   -0.795759\n",
       "y_25    1.219146\n",
       "y_26    1.776192\n",
       "y_27    1.938763\n",
       "y_28    1.029489\n",
       "y_29    0.138486\n",
       "y_30    0.093060\n",
       "y_31   -0.631396\n",
       "y_32   -1.466546\n",
       "y_33   -2.629552\n",
       "y_34   -4.113900\n",
       "y_35   -5.570572\n",
       "y_36   -6.292685\n",
       "y_37   -7.620439\n",
       "y_38   -7.930969\n",
       "y_39   -6.152667\n",
       "y_40   -4.026403\n",
       "dtype: float64"
      ]
     },
     "execution_count": 246,
     "metadata": {},
     "output_type": "execute_result"
    }
   ],
   "source": [
    "Y = series[2:]\n",
    "print(\"len Y\", len(Y))\n",
    "Y"
   ]
  },
  {
   "cell_type": "code",
   "execution_count": 247,
   "metadata": {},
   "outputs": [
    {
     "data": {
      "text/plain": [
       "array([ 1.47061689, -0.54909306])"
      ]
     },
     "execution_count": 247,
     "metadata": {},
     "output_type": "execute_result"
    }
   ],
   "source": [
    "theta_hat = np.linalg.inv(Phi.T @ Phi) @ Phi.T @ Y\n",
    "theta_hat"
   ]
  },
  {
   "cell_type": "code",
   "execution_count": 248,
   "metadata": {},
   "outputs": [
    {
     "data": {
      "text/plain": [
       "array([ 2.03048748,  1.27912743, -0.54081842,  0.17789169, -3.22912053,\n",
       "       -1.45073493, -2.33204653, -1.91564637, -2.11443485,  0.13004608,\n",
       "       -2.27119902, -3.06009112, -3.8303382 , -2.29186073, -3.45562433,\n",
       "       -3.71184122, -4.92366067, -4.95817248, -3.94801451, -5.08220177,\n",
       "       -3.31700118, -1.35725805,  0.19518732,  2.22984267,  1.94267291,\n",
       "        1.87588312,  0.44942218, -0.36162594,  0.06081349, -0.97964031,\n",
       "       -1.81003143, -3.06179366, -4.60610169, -5.93326408, -6.19536564,\n",
       "       -7.75147742, -7.47908682, -4.6933763 ])"
      ]
     },
     "execution_count": 248,
     "metadata": {},
     "output_type": "execute_result"
    }
   ],
   "source": [
    "pred = Phi @ theta_hat\n",
    "pred"
   ]
  },
  {
   "cell_type": "code",
   "execution_count": 249,
   "metadata": {},
   "outputs": [
    {
     "data": {
      "text/plain": [
       "<matplotlib.legend.Legend at 0x1cddd1686b0>"
      ]
     },
     "execution_count": 249,
     "metadata": {},
     "output_type": "execute_result"
    },
    {
     "data": {
      "image/png": "[encoded data removed]",
      "text/plain": [
       "<Figure size 640x480 with 1 Axes>"
      ]
     },
     "metadata": {},
     "output_type": "display_data"
    }
   ],
   "source": [
    "from matplotlib import pyplot as plt\n",
    "\n",
    "plt.plot(Y, label=\"Y\", color=\"b\")\n",
    "plt.plot(pred, label = \"Prediction\", color=\"r\")\n",
    "plt.legend()"
   ]
  },
  {
   "cell_type": "code",
   "execution_count": 250,
   "metadata": {},
   "outputs": [
    {
     "data": {
      "text/plain": [
       "array([ 2.03048748,  1.27912743, -0.54081842,  0.17789169, -3.22912053,\n",
       "       -1.45073493, -2.33204653, -1.91564637, -2.11443485,  0.13004608,\n",
       "       -2.27119902, -3.06009112, -3.8303382 , -2.29186073, -3.45562433,\n",
       "       -3.71184122, -4.92366067, -4.95817248, -3.94801451, -5.08220177,\n",
       "       -3.31700118, -1.35725805,  0.19518732,  2.22984267,  1.94267291,\n",
       "        1.87588312,  0.44942218, -0.36162594,  0.06081349, -0.97964031,\n",
       "       -1.81003143, -3.06179366, -4.60610169, -5.93326408, -6.19536564,\n",
       "       -7.75147742, -7.47908682, -4.6933763 ])"
      ]
     },
     "execution_count": 250,
     "metadata": {},
     "output_type": "execute_result"
    }
   ],
   "source": [
    "pred"
   ]
  },
  {
   "cell_type": "code",
   "execution_count": 251,
   "metadata": {},
   "outputs": [
    {
     "data": {
      "text/plain": [
       "array([-4.02640327, -6.15266733])"
      ]
     },
     "execution_count": 251,
     "metadata": {},
     "output_type": "execute_result"
    }
   ],
   "source": [
    "Y_last_2 = Y[-1:-3:-1].to_numpy()\n",
    "Y_last_2"
   ]
  },
  {
   "cell_type": "code",
   "execution_count": 252,
   "metadata": {},
   "outputs": [
    {
     "data": {
      "text/plain": [
       "-2.542909695012663"
      ]
     },
     "execution_count": 252,
     "metadata": {},
     "output_type": "execute_result"
    }
   ],
   "source": [
    "np.dot(Y_last_2, theta_hat)"
   ]
  }
 ],
 "metadata": {
  "kernelspec": {
   "display_name": "Python 3",
   "language": "python",
   "name": "python3"
  },
  "language_info": {
   "codemirror_mode": {
    "name": "ipython",
    "version": 3
   },
   "file_extension": ".py",
   "mimetype": "text/x-python",
   "name": "python",
   "nbconvert_exporter": "python",
   "pygments_lexer": "ipython3",
   "version": "3.12.5"
  }
 },
 "nbformat": 4,
 "nbformat_minor": 2
}
