{
 "cells": [
  {
   "cell_type": "code",
   "execution_count": 130,
   "metadata": {},
   "outputs": [],
   "source": [
    "import numpy as np"
   ]
  },
  {
   "cell_type": "code",
   "execution_count": 131,
   "metadata": {},
   "outputs": [
    {
     "data": {
      "text/plain": [
       "-3"
      ]
     },
     "execution_count": 131,
     "metadata": {},
     "output_type": "execute_result"
    }
   ],
   "source": [
    "results = \"HTTTHHTTT\"\n",
    "pos = 0\n",
    "\n",
    "for result in results:\n",
    "    if result == \"H\":\n",
    "        pos += 1\n",
    "    else:\n",
    "        pos -= 1\n",
    "\n",
    "pos"
   ]
  },
  {
   "cell_type": "code",
   "execution_count": 132,
   "metadata": {},
   "outputs": [
    {
     "data": {
      "text/plain": [
       "15.0"
      ]
     },
     "execution_count": 132,
     "metadata": {},
     "output_type": "execute_result"
    }
   ],
   "source": [
    "p = 3/4\n",
    "t = 20\n",
    "E_Xt = t*(2*p - 1)\n",
    "E_Xt2 = t + t*(t-1)*(2*p-1)**2\n",
    "\n",
    "var = E_Xt2 - E_Xt**2\n",
    "var"
   ]
  },
  {
   "cell_type": "code",
   "execution_count": 133,
   "metadata": {},
   "outputs": [
    {
     "data": {
      "text/plain": [
       "0.5"
      ]
     },
     "execution_count": 133,
     "metadata": {},
     "output_type": "execute_result"
    }
   ],
   "source": [
    "2*p - 1"
   ]
  },
  {
   "cell_type": "code",
   "execution_count": 134,
   "metadata": {},
   "outputs": [],
   "source": [
    "import numpy as np\n",
    "import pandas as pd\n",
    "from matplotlib import pyplot as plt"
   ]
  },
  {
   "cell_type": "code",
   "execution_count": 135,
   "metadata": {},
   "outputs": [
    {
     "data": {
      "text/plain": [
       "1    0.461539\n",
       "2    1.769401\n",
       "3    0.195814\n",
       "4    2.524096\n",
       "5    0.896111\n",
       "dtype: float64"
      ]
     },
     "execution_count": 135,
     "metadata": {},
     "output_type": "execute_result"
    }
   ],
   "source": [
    "data = [0.4615389710760352, 1.769400733974482, 0.19581427277443453, 2.5240960936236094, 0.896111358581972, 0.6290864932121957, 0.9141040782383563, -0.5882766599718554, -1.5917510609356, -1.873706875223704, -2.431499341231343, -1.9152350528630826, 0.24653667829850678, 1.618510502004899, -0.23205544549864254, 1.8405816444017307, 3.74003005186653, 4.21793075839798, 4.327873685241645, 4.915347380117408, 4.720332088936803, 5.335274145783192, 6.4000586516451525, 6.932585922333053, 7.1007491353596635, 7.756868615874001, 8.319213233877978, 8.816183422797733, 8.336994855455323, 7.268770124891023, 8.914191499726073, 8.154902931055453, 7.361728977521851, 7.013864281520718, 6.844026249030305, 7.389350503413163, 8.429825008740107, 7.008293952513643, 7.7469455865647605, 9.23733098427278]\n",
    "\n",
    "s = pd.Series(data)\n",
    "s.index = range(1, len(s)+1)\n",
    "T = len(s)\n",
    "s.head()\n"
   ]
  },
  {
   "cell_type": "code",
   "execution_count": 136,
   "metadata": {},
   "outputs": [
    {
     "data": {
      "text/plain": [
       "168.75192843739833"
      ]
     },
     "execution_count": 136,
     "metadata": {},
     "output_type": "execute_result"
    }
   ],
   "source": [
    "s.sum()"
   ]
  },
  {
   "cell_type": "code",
   "execution_count": 137,
   "metadata": {},
   "outputs": [
    {
     "data": {
      "text/plain": [
       "35    6.844026\n",
       "36    7.389351\n",
       "37    8.429825\n",
       "38    7.008294\n",
       "39    7.746946\n",
       "dtype: float64"
      ]
     },
     "execution_count": 137,
     "metadata": {},
     "output_type": "execute_result"
    }
   ],
   "source": [
    "s_0 = pd.concat([pd.Series(0), s])[:-1]\n",
    "s_0.tail()"
   ]
  },
  {
   "cell_type": "code",
   "execution_count": 138,
   "metadata": {},
   "outputs": [
    {
     "data": {
      "text/plain": [
       "array([[1159.17405547]])"
      ]
     },
     "execution_count": 138,
     "metadata": {},
     "output_type": "execute_result"
    }
   ],
   "source": [
    "Phi = s_0.to_numpy()[:, np.newaxis]\n",
    "Phi.T @ Phi"
   ]
  },
  {
   "cell_type": "code",
   "execution_count": 139,
   "metadata": {},
   "outputs": [
    {
     "data": {
      "text/plain": [
       "array([1.01546676])"
      ]
     },
     "execution_count": 139,
     "metadata": {},
     "output_type": "execute_result"
    }
   ],
   "source": [
    "1 / (Phi.T @ Phi) @ Phi.T @ s.to_numpy()"
   ]
  },
  {
   "cell_type": "code",
   "execution_count": 140,
   "metadata": {},
   "outputs": [
    {
     "data": {
      "text/plain": [
       "array([1.01546676])"
      ]
     },
     "execution_count": 140,
     "metadata": {},
     "output_type": "execute_result"
    }
   ],
   "source": [
    "alpha_hat_1 = 1 / (Phi.T @ Phi) @ Phi.T @ s.to_numpy()\n",
    "alpha_hat_1"
   ]
  },
  {
   "cell_type": "code",
   "execution_count": 151,
   "metadata": {},
   "outputs": [
    {
     "name": "stdout",
     "output_type": "stream",
     "text": [
      "ADF Statistic: -0.5647129671622801\n",
      "p-value: 0.8787577825263682\n",
      "Number of lags used: 2\n",
      "Number of observations used: 37\n",
      "Critical Values: {'1%': -3.6209175221605827, '5%': -2.9435394610388332, '10%': -2.6104002410518627}\n"
     ]
    }
   ],
   "source": [
    "from statsmodels.tsa.stattools import adfuller\n",
    "# Perform the ADF test\n",
    "result = adfuller(s)\n",
    "\n",
    "# Output the results\n",
    "print('ADF Statistic:', result[0])\n",
    "print('p-value:', result[1])\n",
    "print('Number of lags used:', result[2])\n",
    "print('Number of observations used:', result[3])\n",
    "print('Critical Values:', result[4])"
   ]
  }
 ],
 "metadata": {
  "kernelspec": {
   "display_name": "base",
   "language": "python",
   "name": "python3"
  },
  "language_info": {
   "codemirror_mode": {
    "name": "ipython",
    "version": 3
   },
   "file_extension": ".py",
   "mimetype": "text/x-python",
   "name": "python",
   "nbconvert_exporter": "python",
   "pygments_lexer": "ipython3",
   "version": "3.11.7"
  }
 },
 "nbformat": 4,
 "nbformat_minor": 2
}
