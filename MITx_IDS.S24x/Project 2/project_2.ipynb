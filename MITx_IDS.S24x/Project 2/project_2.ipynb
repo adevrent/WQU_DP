{
 "cells": [
  {
   "cell_type": "code",
   "execution_count": 1,
   "metadata": {},
   "outputs": [],
   "source": [
    "import numpy as np\n",
    "import pandas as pd\n",
    "import matplotlib.pyplot as plt\n",
    "from statsmodels.tsa.stattools import acovf"
   ]
  },
  {
   "cell_type": "code",
   "execution_count": 2,
   "metadata": {},
   "outputs": [
    {
     "data": {
      "text/plain": [
       "2010-01-31    352001.0\n",
       "2010-02-28    353713.0\n",
       "2010-03-31    354899.0\n",
       "2010-04-30    356066.0\n",
       "2010-05-31    356716.0\n",
       "                ...   \n",
       "2017-08-31    452393.0\n",
       "2017-09-30    454372.0\n",
       "2017-10-31    455955.0\n",
       "2017-11-30    459183.0\n",
       "2017-12-31    461409.0\n",
       "Name: 11, Length: 96, dtype: float64"
      ]
     },
     "execution_count": 2,
     "metadata": {},
     "output_type": "execute_result"
    }
   ],
   "source": [
    "filename = \"data_zillow_house_prices-proj2.csv\"\n",
    "df = pd.read_csv(filename)\n",
    "data = df[df[\"RegionName\"].isin([\"Boston, MA\"])].iloc[0, 5:]\n",
    "data = data.astype(np.float64)\n",
    "data.index = pd.to_datetime(data.index)\n",
    "train = data.loc[\"2010-01-01\":\"2017-12-31\"]\n",
    "train"
   ]
  },
  {
   "cell_type": "code",
   "execution_count": 3,
   "metadata": {},
   "outputs": [
    {
     "name": "stdout",
     "output_type": "stream",
     "text": [
      "test.shape = (24,)\n"
     ]
    },
    {
     "data": {
      "text/plain": [
       "2018-01-31    464123.0\n",
       "2018-02-28    466719.0\n",
       "2018-03-31    470227.0\n",
       "2018-04-30    472858.0\n",
       "2018-05-31    475336.0\n",
       "2018-06-30    477316.0\n",
       "2018-07-31    478886.0\n",
       "2018-08-31    480190.0\n",
       "2018-09-30    480991.0\n",
       "2018-10-31    482472.0\n",
       "2018-11-30    483526.0\n",
       "2018-12-31    484936.0\n",
       "2019-01-31    486288.0\n",
       "2019-02-28    487146.0\n",
       "2019-03-31    486783.0\n",
       "2019-04-30    485946.0\n",
       "2019-05-31    485379.0\n",
       "2019-06-30    485838.0\n",
       "2019-07-31    485973.0\n",
       "2019-08-31    486692.0\n",
       "2019-09-30    488060.0\n",
       "2019-10-31    489468.0\n",
       "2019-11-30    490736.0\n",
       "2019-12-31    492230.0\n",
       "Name: 11, dtype: float64"
      ]
     },
     "execution_count": 3,
     "metadata": {},
     "output_type": "execute_result"
    }
   ],
   "source": [
    "test = data.loc[\"2018-01-01\":\"2019-12-31\"]\n",
    "print(\"test.shape =\", test.shape)\n",
    "test"
   ]
  },
  {
   "cell_type": "code",
   "execution_count": 4,
   "metadata": {},
   "outputs": [
    {
     "data": {
      "text/plain": [
       "Timestamp('2013-11-30 00:00:00')"
      ]
     },
     "execution_count": 4,
     "metadata": {},
     "output_type": "execute_result"
    }
   ],
   "source": [
    "train.index[-50]"
   ]
  },
  {
   "cell_type": "code",
   "execution_count": 5,
   "metadata": {},
   "outputs": [
    {
     "data": {
      "text/plain": [
       "array([1442.88, 1403.7 , 1363.79, 1324.13, 1283.63, 1242.5 , 1200.3 ,\n",
       "       1157.92, 1115.21, 1071.82, 1028.09,  983.55,  938.19,  892.5 ,\n",
       "        846.27,  800.17,  753.63,  706.83,  659.16,  610.86,  563.23,\n",
       "        516.41,  469.94,  423.98,  378.42,  333.34,  288.23,  243.64,\n",
       "        199.83,  156.67,  114.14,   72.87,   31.9 ,   -8.95,  -49.95,\n",
       "        -89.66, -127.04, -162.46, -196.59, -230.33, -263.78, -296.92,\n",
       "       -329.6 , -361.65, -392.45, -421.43, -448.63, -474.47, -499.36,\n",
       "       -522.92, -545.41, -566.11, -584.29, -599.54, -612.61, -623.91,\n",
       "       -633.35, -640.24, -643.71, -644.52, -642.65, -638.68, -631.52,\n",
       "       -621.93, -610.97, -599.01, -585.95, -571.18, -555.08, -537.29,\n",
       "       -517.79, -497.09, -475.94, -454.63, -433.25, -412.1 , -391.4 ,\n",
       "       -371.06, -350.68, -330.71, -310.6 , -290.61, -270.9 , -251.69,\n",
       "       -232.82, -213.66, -194.33, -175.74, -157.86, -140.89, -123.76,\n",
       "       -106.12,  -87.77,  -68.36,  -47.58,  -24.85])"
      ]
     },
     "execution_count": 5,
     "metadata": {},
     "output_type": "execute_result"
    }
   ],
   "source": [
    "acf = np.round(acovf(train) / 1e6, 2)\n",
    "acf"
   ]
  },
  {
   "cell_type": "code",
   "execution_count": 6,
   "metadata": {},
   "outputs": [
    {
     "data": {
      "text/plain": [
       "[<matplotlib.lines.Line2D at 0x1603b134980>]"
      ]
     },
     "execution_count": 6,
     "metadata": {},
     "output_type": "execute_result"
    },
    {
     "data": {
      "image/png": "[encoded data removed]",
      "text/plain": [
       "<Figure size 640x480 with 1 Axes>"
      ]
     },
     "metadata": {},
     "output_type": "display_data"
    }
   ],
   "source": [
    "plt.plot(acf)"
   ]
  },
  {
   "cell_type": "code",
   "execution_count": 7,
   "metadata": {},
   "outputs": [
    {
     "data": {
      "text/plain": [
       "array([[1, 4],\n",
       "       [2, 5],\n",
       "       [3, 6]])"
      ]
     },
     "execution_count": 7,
     "metadata": {},
     "output_type": "execute_result"
    }
   ],
   "source": [
    "np.hstack([np.array((1, 2, 3))[:, np.newaxis], np.array((4, 5, 6))[:, np.newaxis]])"
   ]
  },
  {
   "cell_type": "code",
   "execution_count": 8,
   "metadata": {},
   "outputs": [
    {
     "name": "stdout",
     "output_type": "stream",
     "text": [
      "U.shape = (10, 10)\n",
      "S.shape = (10, 10)\n",
      "Vh.shape = (41, 41)\n"
     ]
    },
    {
     "data": {
      "text/plain": [
       "array([7.03585688e+06, 8.83302374e+04, 1.64967133e+04, 7.18010902e+03,\n",
       "       4.99576741e+03, 2.63934200e+03, 1.40689575e+03, 1.30552078e+03,\n",
       "       8.21869785e+02, 6.54171967e+02])"
      ]
     },
     "execution_count": 8,
     "metadata": {},
     "output_type": "execute_result"
    }
   ],
   "source": [
    "def construct_Hankel(series, m, L):\n",
    "    series = series.to_numpy()\n",
    "    num_cols = L-m+1\n",
    "    H = series[:m][:, np.newaxis]\n",
    "    for j in range(1, num_cols):\n",
    "        H = np.hstack([H, series[j:m+j][:, np.newaxis]])\n",
    "    return H\n",
    "\n",
    "m = 10\n",
    "L = 50\n",
    "\n",
    "H = construct_Hankel(train, m, L)\n",
    "\n",
    "U, S, Vh = np.linalg.svd(H)\n",
    "print(\"U.shape =\", U.shape)\n",
    "print(\"S.shape =\", np.diag(S).shape)\n",
    "print(\"Vh.shape =\", Vh.shape)\n",
    "S"
   ]
  },
  {
   "cell_type": "code",
   "execution_count": 9,
   "metadata": {},
   "outputs": [
    {
     "name": "stdout",
     "output_type": "stream",
     "text": [
      "[0.983 0.995 0.997 0.998 0.999 0.999 1.    1.    1.    1.   ]\n"
     ]
    },
    {
     "data": {
      "image/png": "[encoded data removed]",
      "text/plain": [
       "<Figure size 640x480 with 1 Axes>"
      ]
     },
     "metadata": {},
     "output_type": "display_data"
    }
   ],
   "source": [
    "print(np.round(S.cumsum() / S.sum(), 3))\n",
    "plt.plot(S.cumsum() / S.sum())\n",
    "plt.grid()"
   ]
  },
  {
   "cell_type": "markdown",
   "metadata": {},
   "source": [
    "# Last row estimation"
   ]
  },
  {
   "cell_type": "code",
   "execution_count": 10,
   "metadata": {},
   "outputs": [],
   "source": [
    "def construct_Hankel(series, m, L):\n",
    "    series = series.to_numpy()\n",
    "    num_cols = L-m+1\n",
    "    H = series[:m][:, np.newaxis]\n",
    "    for j in range(1, num_cols):\n",
    "        H = np.hstack([H, series[j:m+j][:, np.newaxis]])\n",
    "    return H\n",
    "\n",
    "def construct_H_hat(H, r):\n",
    "    U, S, Vh = np.linalg.svd(H)\n",
    "    print(\"U.shape =\", U.shape)\n",
    "    print(\"S.shape =\", np.diag(S).shape)\n",
    "    print(\"Vh.shape =\", Vh.shape)\n",
    "    r = 2\n",
    "    S_r = np.diag(S)\n",
    "    S_r[r:, r:] = 0\n",
    "    S_r = np.hstack([S_r, np.zeros((S_r.shape[0], Vh.shape[0] - S_r.shape[1]))])\n",
    "    H_hat = U @ S_r @ Vh\n",
    "    print(\"H_hat.shape =\", H_hat.shape)\n",
    "    \n",
    "    return H_hat"
   ]
  },
  {
   "cell_type": "code",
   "execution_count": 11,
   "metadata": {},
   "outputs": [],
   "source": [
    "import statsmodels.api as sm"
   ]
  },
  {
   "cell_type": "code",
   "execution_count": 12,
   "metadata": {},
   "outputs": [
    {
     "name": "stdout",
     "output_type": "stream",
     "text": [
      "U.shape = (10, 10)\n",
      "S.shape = (10, 10)\n",
      "Vh.shape = (41, 41)\n",
      "H_hat.shape = (10, 41)\n",
      "H_valid.shape = (10, 41)\n",
      "H_hat_valid.shape = (10, 41)\n",
      "y.shape = (41, 1)\n",
      "X.shape = (41, 9)\n",
      "Num of residuals: 41\n",
      "Max abs of residuals: 3293.2945632570772\n",
      "beta =\n",
      " [[-0.2054957 ]\n",
      " [-0.13849696]\n",
      " [-0.06430727]\n",
      " [ 0.01592459]\n",
      " [ 0.10164352]\n",
      " [ 0.19065805]\n",
      " [ 0.28043368]\n",
      " [ 0.3682717 ]\n",
      " [ 0.45259089]]\n",
      "beta_manual =\n",
      " [[-1.69607741]\n",
      " [-5.32754675]\n",
      " [ 3.14411634]\n",
      " [ 2.51268807]\n",
      " [ 2.89646443]\n",
      " [-1.81081802]\n",
      " [-2.71397613]\n",
      " [ 2.23322292]\n",
      " [ 0.17423393]]\n"
     ]
    }
   ],
   "source": [
    "m = 10\n",
    "L = 50\n",
    "r = 2\n",
    "\n",
    "H_valid = construct_Hankel(train, m, L)\n",
    "H_hat_valid = construct_H_hat(H_valid, r)\n",
    "\n",
    "print(\"H_valid.shape =\", H_valid.shape)\n",
    "print(\"H_hat_valid.shape =\", H_hat_valid.shape)\n",
    "\n",
    "y = H_valid[-1, :][np.newaxis, :].T\n",
    "X = H_hat_valid[:-1, :].T\n",
    "print(\"y.shape =\", y.shape)\n",
    "print(\"X.shape =\", X.shape)\n",
    "\n",
    "# OLS\n",
    "model = sm.OLS(y, X).fit()\n",
    "\n",
    "print(\"Num of residuals:\", len(model.resid))\n",
    "print(\"Max abs of residuals:\", abs(model.resid).max())\n",
    "\n",
    "beta = model.params[:, np.newaxis]\n",
    "beta_manual = np.linalg.inv(X.T @ X) @ X.T @ y\n",
    "print(\"beta =\\n\", beta)\n",
    "print(\"beta_manual =\\n\", beta_manual)"
   ]
  },
  {
   "cell_type": "code",
   "execution_count": 13,
   "metadata": {},
   "outputs": [
    {
     "data": {
      "text/plain": [
       "array([[-208406.98178242, -214102.28952241, -218179.94920466,\n",
       "        -220856.87067735, -222363.00674188, -223253.8019591 ,\n",
       "        -223003.50800124, -221966.834734  , -219854.85268738,\n",
       "        -218449.64490986, -217728.86917002, -218137.57061497,\n",
       "        -218438.06317442, -218454.51850206, -218251.01578294,\n",
       "        -218275.36727149, -217591.94742123, -215731.19620946,\n",
       "        -211921.51315214, -207113.90164532, -202016.29656552,\n",
       "        -197380.85789959, -193775.79338248, -191490.26594569,\n",
       "        -189937.45275008, -188824.714491  , -187470.52078282,\n",
       "        -186448.98204324, -184581.18689721, -181751.05940924,\n",
       "        -177908.14422403, -174152.65591509, -171763.14670193,\n",
       "        -171269.15180924, -172161.40216921, -173376.28147119,\n",
       "        -174696.051803  , -177545.64311865, -181273.05620161,\n",
       "        -185152.56141312, -188176.36844704]])"
      ]
     },
     "execution_count": 13,
     "metadata": {},
     "output_type": "execute_result"
    }
   ],
   "source": [
    "# Last row plot\n",
    "last_row_forecast = beta_manual.T @ H_hat_valid[:-1, :]\n",
    "last_row_forecast"
   ]
  },
  {
   "cell_type": "code",
   "execution_count": 14,
   "metadata": {},
   "outputs": [
    {
     "data": {
      "text/plain": [
       "[<matplotlib.lines.Line2D at 0x1603f4e0920>]"
      ]
     },
     "execution_count": 14,
     "metadata": {},
     "output_type": "execute_result"
    },
    {
     "data": {
      "image/png": "[encoded data removed]",
      "text/plain": [
       "<Figure size 640x480 with 1 Axes>"
      ]
     },
     "metadata": {},
     "output_type": "display_data"
    }
   ],
   "source": [
    "plt.plot(model.resid)"
   ]
  },
  {
   "cell_type": "code",
   "execution_count": 15,
   "metadata": {},
   "outputs": [
    {
     "name": "stdout",
     "output_type": "stream",
     "text": [
      "U.shape = (10, 10)\n",
      "S.shape = (10, 10)\n",
      "Vh.shape = (24, 24)\n",
      "H_hat.shape = (10, 24)\n",
      "y.shape = (24,)\n",
      "X.shape = (24, 10)\n"
     ]
    },
    {
     "data": {
      "text/plain": [
       "14844.35196024389"
      ]
     },
     "execution_count": 15,
     "metadata": {},
     "output_type": "execute_result"
    }
   ],
   "source": [
    "m = 10\n",
    "L = 33\n",
    "r = 2\n",
    "\n",
    "H_valid = construct_Hankel(train.iloc[-L:], m, L)\n",
    "H_hat_valid = construct_H_hat(H_valid, r)\n",
    "\n",
    "y = test\n",
    "X = H_hat_valid.T\n",
    "print(\"y.shape =\", y.shape)\n",
    "print(\"X.shape =\", X.shape)\n",
    "# OLS\n",
    "model = sm.OLS(y, X).fit()\n",
    "abs(model.resid).max()"
   ]
  },
  {
   "cell_type": "code",
   "execution_count": 16,
   "metadata": {},
   "outputs": [
    {
     "name": "stdout",
     "output_type": "stream",
     "text": [
      "U.shape = (10, 10)\n",
      "S.shape = (10, 10)\n",
      "Vh.shape = (41, 41)\n",
      "H_hat.shape = (10, 41)\n"
     ]
    },
    {
     "data": {
      "text/plain": [
       "array([[354822.19800655, 356563.05981783, 357612.96350482,\n",
       "        358073.93759478, 357965.93857221, 357459.6833105 ,\n",
       "        356453.491844  , 355135.21959868, 353500.36813956,\n",
       "        352166.32458056, 351111.12979562, 350408.39603782,\n",
       "        349550.19496096, 348501.00265166, 347382.40548661,\n",
       "        346402.32223757, 345265.92677988, 343865.52536031,\n",
       "        341930.42082156, 339841.99378955, 337792.53184676,\n",
       "        336109.65576532, 334952.75438623, 334399.28079698,\n",
       "        334264.46262474, 334501.09678957, 334880.83487224,\n",
       "        335436.30410758, 335848.04498281, 336117.37319503,\n",
       "        336367.20163935, 336839.66673679, 337893.89435742,\n",
       "        339683.96949354, 342015.31945983, 344553.53182693,\n",
       "        347152.80691625, 350328.56826968, 353714.03287202,\n",
       "        357042.67195988, 359853.96239682],\n",
       "       [354832.46516883, 356222.71063998, 357012.91728237,\n",
       "        357293.33592812, 357067.54664903, 356472.11316446,\n",
       "        355440.32511643, 354141.70467616, 352593.23748082,\n",
       "        351305.80648764, 350258.160683  , 349493.76104687,\n",
       "        348575.15740546, 347478.45390481, 346325.7909127 ,\n",
       "        345300.65207743, 344165.42077067, 342842.89099231,\n",
       "        341108.33019762, 339288.57312319, 337531.26209348,\n",
       "        336122.02287236, 335184.63370338, 334778.26386428,\n",
       "        334754.02895387, 335084.6048089 , 335582.71624282,\n",
       "        336239.34590638, 336809.41447988, 337303.00651785,\n",
       "        337852.24256843, 338627.37413924, 339907.41898765,\n",
       "        341813.51972161, 344180.73940767, 346739.73406048,\n",
       "        349354.61324098, 352456.60133763, 355711.66654425,\n",
       "        358895.98622257, 361604.35394639],\n",
       "       [354817.89638856, 355819.84530798, 356322.46316273,\n",
       "        356402.95417527, 356046.76654096, 355352.64035347,\n",
       "        354292.58773461, 353015.82027592, 351563.10907933,\n",
       "        350327.38062899, 349288.16947163, 348455.55056405,\n",
       "        347470.13763676, 346320.91092177, 345130.61522618,\n",
       "        344055.6667392 , 342921.80733487, 341685.59204633,\n",
       "        340173.19579408, 338651.03737975, 337217.31805872,\n",
       "        336111.1467398 , 335416.86532521, 335173.39532363,\n",
       "        335271.59761314, 335706.15954018, 336335.29501409,\n",
       "        337103.87934961, 337849.20330411, 338591.05938684,\n",
       "        339471.75300565, 340581.93378109, 342111.90508235,\n",
       "        344146.32755728, 346553.08840071, 349134.90570804,\n",
       "        351766.87027169, 354786.95145339, 357897.40330293,\n",
       "        360921.70285293, 363515.91877713],\n",
       "       [354802.79742319, 355384.82733825, 355576.43504151,\n",
       "        355440.7157245 , 354943.50895216, 354142.65087931,\n",
       "        353052.02975761, 351798.89270628, 350449.73354357,\n",
       "        349269.91619634, 348239.82471275, 347333.42896396,\n",
       "        346275.76373284, 345069.73399296, 343838.73844563,\n",
       "        342709.92163636, 341577.54376983, 340434.67045534,\n",
       "        339162.52984917, 337962.20481385, 336878.4290539 ,\n",
       "        336100.00656085, 335668.63121024, 335601.32776054,\n",
       "        335831.93916962, 336378.95698251, 337149.78874219,\n",
       "        338039.44717362, 338974.30133369, 339984.6423747 ,\n",
       "        341223.79032008, 342696.30999914, 344496.5655173 ,\n",
       "        346669.76449331, 349119.29132417, 351725.79482324,\n",
       "        354376.24113544, 357307.750187  , 360261.81658702,\n",
       "        363113.06897254, 365583.84095158],\n",
       "       [354812.36001151, 354945.80077392, 354805.14663383,\n",
       "        354438.42360473, 353790.51939162, 352875.57355926,\n",
       "        351752.21480879, 350524.23316365, 349285.60878505,\n",
       "        348165.44006778, 347145.01722621, 346159.73444677,\n",
       "        345024.80000924, 343757.99595453, 342483.42852485,\n",
       "        341296.97835753, 340166.10132608, 339122.86955359,\n",
       "        338107.32013996, 337250.74717347, 336540.76416082,\n",
       "        336112.44421004, 335961.92009647, 336082.82385345,\n",
       "        336454.91466179, 337122.11723527, 338044.38969927,\n",
       "        339063.46519156, 340200.87653632, 341498.13357563,\n",
       "        343120.33518468, 344980.07561573, 347069.22662024,\n",
       "        349390.84842928, 351886.24279492, 354519.30918049,\n",
       "        357189.69288445, 360026.78590845, 362813.98780521,\n",
       "        365480.56726887, 367819.63365167],\n",
       "       [354860.30428368, 354527.98049903, 354042.31735315,\n",
       "        353435.69938442, 352631.25366919, 351597.75026766,\n",
       "        350440.27904162, 349238.28517589, 348114.29850551,\n",
       "        347055.9441042 , 346045.45107174, 344978.15278867,\n",
       "        343762.86663195, 342432.82369611, 341112.87817382,\n",
       "        339866.45905118, 338737.01920174, 337797.13540698,\n",
       "        337047.90081251, 336548.1605317 , 336226.21773153,\n",
       "        336161.37017038, 336302.44323253, 336618.77914748,\n",
       "        337137.81063493, 337929.87486877, 339009.48997618,\n",
       "        340163.05090611, 341510.90318067, 343106.20967326,\n",
       "        345126.31715898, 347388.31568592, 349777.65632964,\n",
       "        352253.63719649, 354796.92407697, 357457.85333593,\n",
       "        360149.22453146, 362888.58752864, 365502.82939141,\n",
       "        367977.94506987, 370180.50958175],\n",
       "       [354947.40668425, 354145.4085349 , 353311.81407779,\n",
       "        352463.2398314 , 351500.86287527, 350347.7030396 ,\n",
       "        349155.70921829, 347979.78797169, 346971.26962452,\n",
       "        345975.12801835, 344974.53700554, 343824.42456385,\n",
       "        342527.98570589, 341134.03269113, 339768.18752017,\n",
       "        338461.16457244, 337333.05049492, 336497.27151065,\n",
       "        336016.48470149, 335876.49011308, 335945.77948858,\n",
       "        336247.42004359, 336682.53075106, 337195.95868247,\n",
       "        337863.20956859, 338781.26038454, 340019.64459201,\n",
       "        341308.93540151, 342869.12595121, 344765.13486464,\n",
       "        347186.67804679, 349854.52710492, 352546.81488211,\n",
       "        355178.70896772, 357770.56444896, 360459.87894062,\n",
       "        363172.70613308, 365813.82553925, 368253.95448898,\n",
       "        370536.28442125, 372601.45242142],\n",
       "       [355086.81130124, 353825.37734398, 352651.39963881,\n",
       "        351566.07706722, 350449.1058349 , 349178.75303776,\n",
       "        347952.81609841, 346802.21266557, 345906.46132941,\n",
       "        344971.0079204 , 343979.94763171, 342748.67222449,\n",
       "        341372.6728528 , 339916.00667546, 338505.06575376,\n",
       "        337138.57624083, 336011.58635165, 335277.48793475,\n",
       "        335059.15347205, 335270.94715537, 335722.84866152,\n",
       "        336382.93863993, 337105.6669559 , 337811.91746364,\n",
       "        338624.21994312, 339665.61830811, 341059.45833207,\n",
       "        342481.68176237, 344249.76472192, 346440.13216839,\n",
       "        349254.6252542 , 352319.77928595, 355308.7424341 ,\n",
       "        358093.51233618, 360733.26093486, 363450.74531187,\n",
       "        366184.96960562, 368730.41615836, 371000.64591483,\n",
       "        373094.79163942, 375025.90959823],\n",
       "       [355297.13044214, 353594.80929843, 352094.13884007,\n",
       "        350781.53215519, 349516.05858082, 348133.03950942,\n",
       "        346874.28538638, 345747.71432857, 344959.91719558,\n",
       "        344082.46402186, 343100.33016645, 341790.95094142,\n",
       "        340338.35332873, 338821.22870092, 337366.73490888,\n",
       "        335942.92000519, 334816.76505536, 334180.02343875,\n",
       "        334213.34282296, 334762.55944272, 335581.49685561,\n",
       "        336585.49478665, 337584.21438905, 338475.54088249,\n",
       "        339427.12819265, 340587.04588947, 342130.27424902,\n",
       "        343680.29160895, 345648.13218659, 348121.2724077 ,\n",
       "        351313.22551614, 354760.07032554, 358034.20050813,\n",
       "        360966.18458863, 363652.43399806, 366397.52069257,\n",
       "        369152.85557986, 371607.09781593, 373714.87821488,\n",
       "        375629.00061714, 377431.97662857],\n",
       "       [355608.29456326, 353493.13658808, 351686.48129392,\n",
       "        350160.91070299, 348756.15986833, 347267.3371603 ,\n",
       "        345977.48898649, 344873.02838701, 344185.92897213,\n",
       "        343362.43100759, 342388.3280834 , 341005.48945487,\n",
       "        339480.79420429, 337906.64400165, 336410.95378735,\n",
       "        334933.07320458, 333807.33615249, 333261.43094438,\n",
       "        333530.09095832, 334395.01997785, 335557.4487776 ,\n",
       "        336883.37000755, 338140.50007163, 339205.18449583,\n",
       "        340287.32832061, 341558.45115297, 343241.87479604,\n",
       "        344911.89597892, 347067.17065676, 349805.53803878,\n",
       "        353351.49513082, 357156.38237769, 360698.23677692,\n",
       "        363768.83051406, 366499.42997264, 369271.21306505,\n",
       "        372047.17702524, 374416.92189989, 376373.46968631,\n",
       "        378119.86307369, 379803.59025701]])"
      ]
     },
     "execution_count": 16,
     "metadata": {},
     "output_type": "execute_result"
    }
   ],
   "source": [
    "construct_H_hat(H, r=2)"
   ]
  }
 ],
 "metadata": {
  "kernelspec": {
   "display_name": "Python 3",
   "language": "python",
   "name": "python3"
  },
  "language_info": {
   "codemirror_mode": {
    "name": "ipython",
    "version": 3
   },
   "file_extension": ".py",
   "mimetype": "text/x-python",
   "name": "python",
   "nbconvert_exporter": "python",
   "pygments_lexer": "ipython3",
   "version": "3.12.5"
  }
 },
 "nbformat": 4,
 "nbformat_minor": 2
}
