{
 "cells": [
  {
   "cell_type": "code",
   "execution_count": 681,
   "metadata": {},
   "outputs": [],
   "source": [
    "import numpy as np\n",
    "import pandas as pd\n",
    "import matplotlib.pyplot as plt\n",
    "import statsmodels.api as sm"
   ]
  },
  {
   "cell_type": "code",
   "execution_count": 682,
   "metadata": {},
   "outputs": [],
   "source": [
    "# Constructors\n",
    "def construct_P(series, L):\n",
    "    T = len(series)\n",
    "    num_cols = int(T/L)\n",
    "    P = np.zeros((L, num_cols))\n",
    "    for col in range(num_cols):\n",
    "        P[:, col] = series[col*L : (1+col)*L]\n",
    "    return P\n",
    "\n",
    "def construct_P_hat(P, r):\n",
    "    U, S, Vh = np.linalg.svd(P)\n",
    "    S_r = np.diag(S)\n",
    "    S_r[r:, r:] = 0\n",
    "    S_r = np.hstack([S_r, np.zeros((S_r.shape[0], Vh.shape[0] - S_r.shape[1]))])\n",
    "    P_hat = (U @ S_r @ Vh)\n",
    "    return P_hat\n",
    "\n",
    "# def construct_P_hat(P, r):\n",
    "#     U, S, Vh = np.linalg.svd(P, full_matrices=False)\n",
    "#     U_r = U[:, :r]\n",
    "#     S_r = np.diag(S[:r])\n",
    "#     Vh_r = Vh[:r, :]\n",
    "#     P_hat = U_r @ S_r @ Vh_r\n",
    "#     return P_hat\n",
    "\n",
    "def construct_normalized_P_hat(series, L, r):\n",
    "    P = construct_P(series, L)\n",
    "    ior = inverse_observed_ratio(series)\n",
    "    U, S, Vh = np.linalg.svd(P)\n",
    "    S_r = np.diag(S)\n",
    "    S_r[r:, r:] = 0\n",
    "    S_r = np.hstack([S_r, np.zeros((S_r.shape[0], Vh.shape[0] - S_r.shape[1]))])\n",
    "    P_hat = (U @ S_r @ Vh)\n",
    "    print(\"P_hat.shape =\", P_hat.shape)\n",
    "    \n",
    "    return P_hat * ior\n",
    "\n",
    "def optimize_r(P):\n",
    "    U, S, Vh = np.linalg.svd(P)\n",
    "    arr = (S**2).cumsum() / (S**2).sum()\n",
    "    print(arr)\n",
    "    r = np.searchsorted(arr, 0.99, side='right')\n",
    "    return r+1\n",
    "\n",
    "def inverse_observed_ratio(series):\n",
    "    num_missing = series.isnna().sum()\n",
    "    return 1/(1 - num_missing/len(series))\n",
    "\n",
    "def construct_stacked_P(df, L):\n",
    "    \"\"\"\n",
    "    Constructs a stacked Page matrix from multiple series\n",
    "    in a pd.DataFrame object.\n",
    "    \"\"\"\n",
    "    stacked_P = np.hstack([construct_P(df.loc[:, col], L) for col in df.columns])\n",
    "    return stacked_P\n",
    "\n",
    "def construct_multi_stacked_P_for_test(df_train, df_test, L):\n",
    "    n = df_test.shape[0]\n",
    "    multi_stacked_P = []\n",
    "    for i in range(n):\n",
    "        # Start from i th row of df_train and the first i rows of df_test\n",
    "        df_merged = pd.concat([df_train.iloc[i:, :], df_test.iloc[:i, :]], join=\"inner\")\n",
    "        # print(\"df_merged.shape =\", df_merged.shape)\n",
    "        multi_stacked_P.append(construct_stacked_P(df_merged, L))\n",
    "    return multi_stacked_P\n",
    "\n",
    "def construct_multi_stacked_P_hat_for_test(df_train, df_test, L, r):\n",
    "    n = df_test.shape[0]\n",
    "    multi_stacked_P_hat = []\n",
    "    for i in range(n):\n",
    "        df_merged = pd.concat([df_train.iloc[i:, :], df_test.iloc[:i, :]], join=\"inner\")\n",
    "        # print(\"df_merged.shape =\", df_merged.shape)\n",
    "        P = construct_stacked_P(df_merged, L)\n",
    "        P_hat = construct_P_hat(P, r)\n",
    "        multi_stacked_P_hat.append(P_hat)\n",
    "    return multi_stacked_P_hat\n"
   ]
  },
  {
   "cell_type": "code",
   "execution_count": 683,
   "metadata": {},
   "outputs": [],
   "source": [
    "# Calculators\n",
    "def optimize_beta(P_hat):\n",
    "    \"\"\"\n",
    "    Optimizes the beta coefficient vector such that\n",
    "    linear combinations of all rows except the last rows\n",
    "    give the last row with least squares error.\n",
    "    \"\"\"\n",
    "    X = P_hat[:-1, :].T\n",
    "    Y = P_hat[-1, :].T\n",
    "    beta_hat = (np.linalg.inv(X.T @ X) @ X.T @ Y)[:, np.newaxis]  # column vector\n",
    "    # print(\"beta_hat.shape =\", beta_hat)\n",
    "    return beta_hat\n",
    "\n",
    "def forecast_extra_row_SMOLS(P, P_hat):\n",
    "    \"\"\"\n",
    "    Returns a forecast for an extra row for the Page matrix\n",
    "    \"\"\"\n",
    "    # print(\"P_hat.shape in forecast =\", P_hat.shape)\n",
    "    X = P_hat[:-1, :].T\n",
    "    Y = P[-1, :].T  # predict last row of the original matrix\n",
    "    model = sm.OLS(Y, X).fit()\n",
    "    beta_hat = model.params[:, np.newaxis]\n",
    "    extra_row_forecast = (P[1:, :].T @ beta_hat).T\n",
    "    # print(\"forecast row shape:\", extra_row_forecast.shape)\n",
    "    \n",
    "    return extra_row_forecast  # return as a row\n",
    "\n",
    "def MSE_short_term_test(df_train, df_test, L, r, forecast_col=\"s10_d83\"):\n",
    "    stacked_P_list = construct_multi_stacked_P_for_test(df_train, df_test, L)\n",
    "    stacked_P_hat_list = construct_multi_stacked_P_hat_for_test(df_train, df_test, L, r)\n",
    "    n, d = df_train.shape\n",
    "    print(\"d =\", d)\n",
    "    # print(\"num columns stacked P =\", stacked_P_list[5].shape[1])\n",
    "    col_idx = df_test.columns.get_loc(\"s10_d83\")\n",
    "    print(\"col_idx =\", col_idx)\n",
    "    num_cols_P = int(stacked_P_list[5].shape[1] / d)\n",
    "    print(\"num_cols_P =\", num_cols_P)\n",
    "    forecasts = []\n",
    "    true_values = []\n",
    "    MSE = 0\n",
    "    for i, (P, P_hat) in enumerate(zip(stacked_P_list, stacked_P_hat_list)):\n",
    "        forecast = forecast_extra_row_SMOLS(P, P_hat)[-1, (num_cols_P*(1+col_idx)-1)]\n",
    "        forecasts.append(forecast)\n",
    "        \n",
    "        true_value = df_test.loc[:, forecast_col].iloc[i]\n",
    "        true_values.append(true_value)\n",
    "        MSE += (forecast - true_value)**2\n",
    "    MSE = MSE / n\n",
    "    MSE = np.round(MSE/1000, 2)\n",
    "    \n",
    "    plt.plot(true_values, label=\"True values\", c=\"b\")\n",
    "    plt.plot(forecasts, label=\"forecasts\", c=\"r\")\n",
    "    plt.title(f\"$r={r}$, MSE = ${MSE}$ thousand\")\n",
    "    plt.legend()\n",
    "    plt.grid()\n",
    "    plt.show()\n",
    "    \n",
    "    return MSE"
   ]
  },
  {
   "cell_type": "code",
   "execution_count": 684,
   "metadata": {},
   "outputs": [
    {
     "data": {
      "text/html": [
       "<div>\n",
       "<style scoped>\n",
       "    .dataframe tbody tr th:only-of-type {\n",
       "        vertical-align: middle;\n",
       "    }\n",
       "\n",
       "    .dataframe tbody tr th {\n",
       "        vertical-align: top;\n",
       "    }\n",
       "\n",
       "    .dataframe thead th {\n",
       "        text-align: right;\n",
       "    }\n",
       "</style>\n",
       "<table border=\"1\" class=\"dataframe\">\n",
       "  <thead>\n",
       "    <tr style=\"text-align: right;\">\n",
       "      <th></th>\n",
       "      <th>s1_d1</th>\n",
       "      <th>s1_d2</th>\n",
       "      <th>s1_d3</th>\n",
       "      <th>s1_d4</th>\n",
       "      <th>s1_d5</th>\n",
       "      <th>s1_d6</th>\n",
       "      <th>s1_d7</th>\n",
       "      <th>s1_d8</th>\n",
       "      <th>s1_d9</th>\n",
       "      <th>s1_d10</th>\n",
       "      <th>...</th>\n",
       "      <th>s10_d87</th>\n",
       "      <th>s10_d90</th>\n",
       "      <th>s10_d91</th>\n",
       "      <th>s10_d92</th>\n",
       "      <th>s10_d93</th>\n",
       "      <th>s10_d94</th>\n",
       "      <th>s10_d95</th>\n",
       "      <th>s10_d96</th>\n",
       "      <th>s10_d97</th>\n",
       "      <th>s10_d98</th>\n",
       "    </tr>\n",
       "    <tr>\n",
       "      <th>Date</th>\n",
       "      <th></th>\n",
       "      <th></th>\n",
       "      <th></th>\n",
       "      <th></th>\n",
       "      <th></th>\n",
       "      <th></th>\n",
       "      <th></th>\n",
       "      <th></th>\n",
       "      <th></th>\n",
       "      <th></th>\n",
       "      <th></th>\n",
       "      <th></th>\n",
       "      <th></th>\n",
       "      <th></th>\n",
       "      <th></th>\n",
       "      <th></th>\n",
       "      <th></th>\n",
       "      <th></th>\n",
       "      <th></th>\n",
       "      <th></th>\n",
       "      <th></th>\n",
       "    </tr>\n",
       "  </thead>\n",
       "  <tbody>\n",
       "    <tr>\n",
       "      <th>2010-02-05</th>\n",
       "      <td>24924.50</td>\n",
       "      <td>50605.27</td>\n",
       "      <td>13740.12</td>\n",
       "      <td>39954.04</td>\n",
       "      <td>32229.38</td>\n",
       "      <td>5749.03</td>\n",
       "      <td>21084.08</td>\n",
       "      <td>40129.01</td>\n",
       "      <td>16930.99</td>\n",
       "      <td>30721.50</td>\n",
       "      <td>...</td>\n",
       "      <td>26394.89</td>\n",
       "      <td>16873.50</td>\n",
       "      <td>16363.10</td>\n",
       "      <td>54538.90</td>\n",
       "      <td>1337.33</td>\n",
       "      <td>22.15</td>\n",
       "      <td>77349.87</td>\n",
       "      <td>10576.00</td>\n",
       "      <td>6242.07</td>\n",
       "      <td>74.00</td>\n",
       "    </tr>\n",
       "    <tr>\n",
       "      <th>2010-02-12</th>\n",
       "      <td>46039.49</td>\n",
       "      <td>44682.74</td>\n",
       "      <td>10887.84</td>\n",
       "      <td>35351.21</td>\n",
       "      <td>29620.81</td>\n",
       "      <td>9135.00</td>\n",
       "      <td>18310.31</td>\n",
       "      <td>37334.83</td>\n",
       "      <td>16562.49</td>\n",
       "      <td>31494.77</td>\n",
       "      <td>...</td>\n",
       "      <td>22280.68</td>\n",
       "      <td>16145.65</td>\n",
       "      <td>14371.53</td>\n",
       "      <td>52893.10</td>\n",
       "      <td>1482.82</td>\n",
       "      <td>1531.13</td>\n",
       "      <td>71980.72</td>\n",
       "      <td>9385.66</td>\n",
       "      <td>6101.56</td>\n",
       "      <td>181.25</td>\n",
       "    </tr>\n",
       "    <tr>\n",
       "      <th>2010-02-19</th>\n",
       "      <td>41595.55</td>\n",
       "      <td>47928.89</td>\n",
       "      <td>11523.47</td>\n",
       "      <td>36826.95</td>\n",
       "      <td>26468.27</td>\n",
       "      <td>6060.26</td>\n",
       "      <td>19985.20</td>\n",
       "      <td>38717.60</td>\n",
       "      <td>15880.85</td>\n",
       "      <td>29634.13</td>\n",
       "      <td>...</td>\n",
       "      <td>22896.50</td>\n",
       "      <td>15874.73</td>\n",
       "      <td>13266.10</td>\n",
       "      <td>48087.25</td>\n",
       "      <td>1322.86</td>\n",
       "      <td>3627.75</td>\n",
       "      <td>71524.04</td>\n",
       "      <td>9871.61</td>\n",
       "      <td>5676.73</td>\n",
       "      <td>9.00</td>\n",
       "    </tr>\n",
       "  </tbody>\n",
       "</table>\n",
       "<p>3 rows × 676 columns</p>\n",
       "</div>"
      ],
      "text/plain": [
       "               s1_d1     s1_d2     s1_d3     s1_d4     s1_d5    s1_d6  \\\n",
       "Date                                                                    \n",
       "2010-02-05  24924.50  50605.27  13740.12  39954.04  32229.38  5749.03   \n",
       "2010-02-12  46039.49  44682.74  10887.84  35351.21  29620.81  9135.00   \n",
       "2010-02-19  41595.55  47928.89  11523.47  36826.95  26468.27  6060.26   \n",
       "\n",
       "               s1_d7     s1_d8     s1_d9    s1_d10  ...   s10_d87   s10_d90  \\\n",
       "Date                                                ...                       \n",
       "2010-02-05  21084.08  40129.01  16930.99  30721.50  ...  26394.89  16873.50   \n",
       "2010-02-12  18310.31  37334.83  16562.49  31494.77  ...  22280.68  16145.65   \n",
       "2010-02-19  19985.20  38717.60  15880.85  29634.13  ...  22896.50  15874.73   \n",
       "\n",
       "             s10_d91   s10_d92  s10_d93  s10_d94   s10_d95   s10_d96  s10_d97  \\\n",
       "Date                                                                            \n",
       "2010-02-05  16363.10  54538.90  1337.33    22.15  77349.87  10576.00  6242.07   \n",
       "2010-02-12  14371.53  52893.10  1482.82  1531.13  71980.72   9385.66  6101.56   \n",
       "2010-02-19  13266.10  48087.25  1322.86  3627.75  71524.04   9871.61  5676.73   \n",
       "\n",
       "            s10_d98  \n",
       "Date                 \n",
       "2010-02-05    74.00  \n",
       "2010-02-12   181.25  \n",
       "2010-02-19     9.00  \n",
       "\n",
       "[3 rows x 676 columns]"
      ]
     },
     "execution_count": 684,
     "metadata": {},
     "output_type": "execute_result"
    }
   ],
   "source": [
    "# Load datasets\n",
    "train = pd.read_csv(\"data_walmart_train.csv\", index_col=\"Date\")\n",
    "test = pd.read_csv(\"data_walmart_test.csv\", index_col=\"Date\")\n",
    "missing_train = pd.read_csv(\"data_walmart_train_missing.csv\", index_col=\"Date\")\n",
    "train.index = pd.to_datetime(train.index)\n",
    "test.index = pd.to_datetime(test.index)\n",
    "missing_train.index = pd.to_datetime(missing_train.index)\n",
    "\n",
    "train.head(3)"
   ]
  },
  {
   "cell_type": "code",
   "execution_count": 685,
   "metadata": {},
   "outputs": [
    {
     "name": "stdout",
     "output_type": "stream",
     "text": [
      "Last train value of s10_d83\n",
      "159.18\n",
      "First test value of s10_d83\n",
      "357.96\n"
     ]
    }
   ],
   "source": [
    "# Construct dataframes\n",
    "df_s10_train = train.filter(like=\"s10\").dropna(axis=1)\n",
    "df_s10_test = test.filter(like=\"s10\").dropna(axis=1)\n",
    "df_s10_test = df_s10_test.loc[:, df_s10_train.columns]\n",
    "\n",
    "print(\"Last train value of s10_d83\")\n",
    "print(df_s10_train.loc[:, \"s10_d83\"].iloc[-1])\n",
    "\n",
    "print(\"First test value of s10_d83\")\n",
    "print(df_s10_test.loc[:, \"s10_d83\"].iloc[0])"
   ]
  },
  {
   "cell_type": "code",
   "execution_count": 686,
   "metadata": {},
   "outputs": [
    {
     "data": {
      "text/plain": [
       "Date\n",
       "2012-05-04    221.18\n",
       "2012-05-11    237.16\n",
       "2012-05-18    159.18\n",
       "Name: s10_d83, dtype: float64"
      ]
     },
     "execution_count": 686,
     "metadata": {},
     "output_type": "execute_result"
    }
   ],
   "source": [
    "df_s10_train.loc[:, \"s10_d83\"].tail(3)"
   ]
  },
  {
   "cell_type": "code",
   "execution_count": 687,
   "metadata": {},
   "outputs": [
    {
     "name": "stdout",
     "output_type": "stream",
     "text": [
      "Available columns for Store 10: 67\n",
      "Stacked Page matrix shape: (60, 134)\n"
     ]
    },
    {
     "data": {
      "text/plain": [
       "(1, 134)"
      ]
     },
     "execution_count": 687,
     "metadata": {},
     "output_type": "execute_result"
    }
   ],
   "source": [
    "# Create stacked Page matrix.\n",
    "L = 60\n",
    "r = 1\n",
    "\n",
    "print(\"Available columns for Store 10:\", df_s10_train.shape[1])\n",
    "\n",
    "stacked_P = construct_stacked_P(df_s10_train, L)\n",
    "print(\"Stacked Page matrix shape:\", stacked_P.shape)\n",
    "\n",
    "stacked_P_hat = construct_P_hat(stacked_P, r)\n",
    "\n",
    "forecast_extra_row_SMOLS(stacked_P, stacked_P_hat).shape"
   ]
  },
  {
   "cell_type": "code",
   "execution_count": 688,
   "metadata": {},
   "outputs": [
    {
     "data": {
      "text/plain": [
       "Date\n",
       "2010-02-05    231.78\n",
       "2010-02-12    266.68\n",
       "2010-02-19    330.24\n",
       "2010-02-26    252.28\n",
       "2010-03-05    290.18\n",
       "               ...  \n",
       "2012-04-20    210.92\n",
       "2012-04-27    254.00\n",
       "2012-05-04    221.18\n",
       "2012-05-11    237.16\n",
       "2012-05-18    159.18\n",
       "Name: s10_d83, Length: 120, dtype: float64"
      ]
     },
     "execution_count": 688,
     "metadata": {},
     "output_type": "execute_result"
    }
   ],
   "source": [
    "df_s10_train.iloc[:, 57]"
   ]
  },
  {
   "cell_type": "code",
   "execution_count": 689,
   "metadata": {},
   "outputs": [
    {
     "name": "stdout",
     "output_type": "stream",
     "text": [
      "d = 67\n",
      "col_idx = 57\n",
      "num_cols_P = 2\n"
     ]
    },
    {
     "data": {
      "image/png": "[encoded data removed]",
      "text/plain": [
       "<Figure size 640x480 with 1 Axes>"
      ]
     },
     "metadata": {},
     "output_type": "display_data"
    },
    {
     "data": {
      "text/plain": [
       "0.67"
      ]
     },
     "execution_count": 689,
     "metadata": {},
     "output_type": "execute_result"
    }
   ],
   "source": [
    "L = 60  # Window length\n",
    "r = 10  # Rank for approximation\n",
    "forecast_col = \"s10_d83\"\n",
    "\n",
    "MSE_short_term_test(df_s10_train, df_s10_test, L, r, forecast_col)"
   ]
  }
 ],
 "metadata": {
  "kernelspec": {
   "display_name": "Python 3",
   "language": "python",
   "name": "python3"
  },
  "language_info": {
   "codemirror_mode": {
    "name": "ipython",
    "version": 3
   },
   "file_extension": ".py",
   "mimetype": "text/x-python",
   "name": "python",
   "nbconvert_exporter": "python",
   "pygments_lexer": "ipython3",
   "version": "3.12.5"
  }
 },
 "nbformat": 4,
 "nbformat_minor": 2
}
