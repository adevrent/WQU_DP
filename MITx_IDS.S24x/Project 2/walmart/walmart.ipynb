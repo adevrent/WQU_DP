{
 "cells": [
  {
   "cell_type": "code",
   "execution_count": 268,
   "metadata": {},
   "outputs": [],
   "source": [
    "import numpy as np\n",
    "import pandas as pd\n",
    "import matplotlib.pyplot as plt\n",
    "import statsmodels.api as sm"
   ]
  },
  {
   "cell_type": "code",
   "execution_count": 269,
   "metadata": {},
   "outputs": [
    {
     "data": {
      "text/html": [
       "<div>\n",
       "<style scoped>\n",
       "    .dataframe tbody tr th:only-of-type {\n",
       "        vertical-align: middle;\n",
       "    }\n",
       "\n",
       "    .dataframe tbody tr th {\n",
       "        vertical-align: top;\n",
       "    }\n",
       "\n",
       "    .dataframe thead th {\n",
       "        text-align: right;\n",
       "    }\n",
       "</style>\n",
       "<table border=\"1\" class=\"dataframe\">\n",
       "  <thead>\n",
       "    <tr style=\"text-align: right;\">\n",
       "      <th></th>\n",
       "      <th>s1_d1</th>\n",
       "      <th>s1_d2</th>\n",
       "      <th>s1_d3</th>\n",
       "      <th>s1_d4</th>\n",
       "      <th>s1_d5</th>\n",
       "      <th>s1_d6</th>\n",
       "      <th>s1_d7</th>\n",
       "      <th>s1_d8</th>\n",
       "      <th>s1_d9</th>\n",
       "      <th>s1_d10</th>\n",
       "      <th>...</th>\n",
       "      <th>s10_d87</th>\n",
       "      <th>s10_d90</th>\n",
       "      <th>s10_d91</th>\n",
       "      <th>s10_d92</th>\n",
       "      <th>s10_d93</th>\n",
       "      <th>s10_d94</th>\n",
       "      <th>s10_d95</th>\n",
       "      <th>s10_d96</th>\n",
       "      <th>s10_d97</th>\n",
       "      <th>s10_d98</th>\n",
       "    </tr>\n",
       "    <tr>\n",
       "      <th>Date</th>\n",
       "      <th></th>\n",
       "      <th></th>\n",
       "      <th></th>\n",
       "      <th></th>\n",
       "      <th></th>\n",
       "      <th></th>\n",
       "      <th></th>\n",
       "      <th></th>\n",
       "      <th></th>\n",
       "      <th></th>\n",
       "      <th></th>\n",
       "      <th></th>\n",
       "      <th></th>\n",
       "      <th></th>\n",
       "      <th></th>\n",
       "      <th></th>\n",
       "      <th></th>\n",
       "      <th></th>\n",
       "      <th></th>\n",
       "      <th></th>\n",
       "      <th></th>\n",
       "    </tr>\n",
       "  </thead>\n",
       "  <tbody>\n",
       "    <tr>\n",
       "      <th>2010-02-05</th>\n",
       "      <td>24924.50</td>\n",
       "      <td>50605.27</td>\n",
       "      <td>13740.12</td>\n",
       "      <td>39954.04</td>\n",
       "      <td>32229.38</td>\n",
       "      <td>5749.03</td>\n",
       "      <td>21084.08</td>\n",
       "      <td>40129.01</td>\n",
       "      <td>16930.99</td>\n",
       "      <td>30721.50</td>\n",
       "      <td>...</td>\n",
       "      <td>26394.89</td>\n",
       "      <td>16873.50</td>\n",
       "      <td>16363.10</td>\n",
       "      <td>54538.90</td>\n",
       "      <td>1337.33</td>\n",
       "      <td>22.15</td>\n",
       "      <td>77349.87</td>\n",
       "      <td>10576.00</td>\n",
       "      <td>6242.07</td>\n",
       "      <td>74.00</td>\n",
       "    </tr>\n",
       "    <tr>\n",
       "      <th>2010-02-12</th>\n",
       "      <td>46039.49</td>\n",
       "      <td>44682.74</td>\n",
       "      <td>10887.84</td>\n",
       "      <td>35351.21</td>\n",
       "      <td>29620.81</td>\n",
       "      <td>9135.00</td>\n",
       "      <td>18310.31</td>\n",
       "      <td>37334.83</td>\n",
       "      <td>16562.49</td>\n",
       "      <td>31494.77</td>\n",
       "      <td>...</td>\n",
       "      <td>22280.68</td>\n",
       "      <td>16145.65</td>\n",
       "      <td>14371.53</td>\n",
       "      <td>52893.10</td>\n",
       "      <td>1482.82</td>\n",
       "      <td>1531.13</td>\n",
       "      <td>71980.72</td>\n",
       "      <td>9385.66</td>\n",
       "      <td>6101.56</td>\n",
       "      <td>181.25</td>\n",
       "    </tr>\n",
       "    <tr>\n",
       "      <th>2010-02-19</th>\n",
       "      <td>41595.55</td>\n",
       "      <td>47928.89</td>\n",
       "      <td>11523.47</td>\n",
       "      <td>36826.95</td>\n",
       "      <td>26468.27</td>\n",
       "      <td>6060.26</td>\n",
       "      <td>19985.20</td>\n",
       "      <td>38717.60</td>\n",
       "      <td>15880.85</td>\n",
       "      <td>29634.13</td>\n",
       "      <td>...</td>\n",
       "      <td>22896.50</td>\n",
       "      <td>15874.73</td>\n",
       "      <td>13266.10</td>\n",
       "      <td>48087.25</td>\n",
       "      <td>1322.86</td>\n",
       "      <td>3627.75</td>\n",
       "      <td>71524.04</td>\n",
       "      <td>9871.61</td>\n",
       "      <td>5676.73</td>\n",
       "      <td>9.00</td>\n",
       "    </tr>\n",
       "    <tr>\n",
       "      <th>2010-02-26</th>\n",
       "      <td>19403.54</td>\n",
       "      <td>44292.87</td>\n",
       "      <td>11135.17</td>\n",
       "      <td>34660.16</td>\n",
       "      <td>24101.89</td>\n",
       "      <td>5244.56</td>\n",
       "      <td>17224.22</td>\n",
       "      <td>35318.20</td>\n",
       "      <td>15175.52</td>\n",
       "      <td>27921.96</td>\n",
       "      <td>...</td>\n",
       "      <td>21536.65</td>\n",
       "      <td>16752.37</td>\n",
       "      <td>13372.08</td>\n",
       "      <td>52140.66</td>\n",
       "      <td>1387.30</td>\n",
       "      <td>-12.74</td>\n",
       "      <td>75904.32</td>\n",
       "      <td>9830.56</td>\n",
       "      <td>5653.97</td>\n",
       "      <td>24.50</td>\n",
       "    </tr>\n",
       "    <tr>\n",
       "      <th>2010-03-05</th>\n",
       "      <td>21827.90</td>\n",
       "      <td>48397.98</td>\n",
       "      <td>12275.58</td>\n",
       "      <td>38086.19</td>\n",
       "      <td>23082.14</td>\n",
       "      <td>4221.25</td>\n",
       "      <td>19659.70</td>\n",
       "      <td>38776.09</td>\n",
       "      <td>24064.70</td>\n",
       "      <td>33299.27</td>\n",
       "      <td>...</td>\n",
       "      <td>22496.77</td>\n",
       "      <td>15286.39</td>\n",
       "      <td>13008.35</td>\n",
       "      <td>53637.96</td>\n",
       "      <td>1317.98</td>\n",
       "      <td>4.52</td>\n",
       "      <td>74608.89</td>\n",
       "      <td>8679.74</td>\n",
       "      <td>5769.35</td>\n",
       "      <td>11.00</td>\n",
       "    </tr>\n",
       "  </tbody>\n",
       "</table>\n",
       "<p>5 rows × 676 columns</p>\n",
       "</div>"
      ],
      "text/plain": [
       "               s1_d1     s1_d2     s1_d3     s1_d4     s1_d5    s1_d6  \\\n",
       "Date                                                                    \n",
       "2010-02-05  24924.50  50605.27  13740.12  39954.04  32229.38  5749.03   \n",
       "2010-02-12  46039.49  44682.74  10887.84  35351.21  29620.81  9135.00   \n",
       "2010-02-19  41595.55  47928.89  11523.47  36826.95  26468.27  6060.26   \n",
       "2010-02-26  19403.54  44292.87  11135.17  34660.16  24101.89  5244.56   \n",
       "2010-03-05  21827.90  48397.98  12275.58  38086.19  23082.14  4221.25   \n",
       "\n",
       "               s1_d7     s1_d8     s1_d9    s1_d10  ...   s10_d87   s10_d90  \\\n",
       "Date                                                ...                       \n",
       "2010-02-05  21084.08  40129.01  16930.99  30721.50  ...  26394.89  16873.50   \n",
       "2010-02-12  18310.31  37334.83  16562.49  31494.77  ...  22280.68  16145.65   \n",
       "2010-02-19  19985.20  38717.60  15880.85  29634.13  ...  22896.50  15874.73   \n",
       "2010-02-26  17224.22  35318.20  15175.52  27921.96  ...  21536.65  16752.37   \n",
       "2010-03-05  19659.70  38776.09  24064.70  33299.27  ...  22496.77  15286.39   \n",
       "\n",
       "             s10_d91   s10_d92  s10_d93  s10_d94   s10_d95   s10_d96  s10_d97  \\\n",
       "Date                                                                            \n",
       "2010-02-05  16363.10  54538.90  1337.33    22.15  77349.87  10576.00  6242.07   \n",
       "2010-02-12  14371.53  52893.10  1482.82  1531.13  71980.72   9385.66  6101.56   \n",
       "2010-02-19  13266.10  48087.25  1322.86  3627.75  71524.04   9871.61  5676.73   \n",
       "2010-02-26  13372.08  52140.66  1387.30   -12.74  75904.32   9830.56  5653.97   \n",
       "2010-03-05  13008.35  53637.96  1317.98     4.52  74608.89   8679.74  5769.35   \n",
       "\n",
       "            s10_d98  \n",
       "Date                 \n",
       "2010-02-05    74.00  \n",
       "2010-02-12   181.25  \n",
       "2010-02-19     9.00  \n",
       "2010-02-26    24.50  \n",
       "2010-03-05    11.00  \n",
       "\n",
       "[5 rows x 676 columns]"
      ]
     },
     "execution_count": 269,
     "metadata": {},
     "output_type": "execute_result"
    }
   ],
   "source": [
    "train = pd.read_csv(\"data_walmart_train.csv\", index_col=\"Date\")\n",
    "test = pd.read_csv(\"data_walmart_test.csv\", index_col=\"Date\")\n",
    "missing_train = pd.read_csv(\"data_walmart_train_missing.csv\", index_col=\"Date\")\n",
    "train.index = pd.to_datetime(train.index)\n",
    "test.index = pd.to_datetime(test.index)\n",
    "missing_train.index = pd.to_datetime(missing_train.index)\n",
    "\n",
    "train.head()"
   ]
  },
  {
   "cell_type": "code",
   "execution_count": 270,
   "metadata": {},
   "outputs": [],
   "source": [
    "def P(series, L):\n",
    "    T = len(series)\n",
    "    num_cols = int(T/L)\n",
    "    P = np.zeros((L, num_cols))\n",
    "    for col in range(num_cols):\n",
    "        P[:, col] = series[col*L : (1+col)*L]\n",
    "    return P\n",
    "\n",
    "def construct_P_hat(P, r):\n",
    "    U, S, Vh = np.linalg.svd(P)\n",
    "    S_r = np.diag(S)\n",
    "    S_r[r:, r:] = 0\n",
    "    S_r = np.hstack([S_r, np.zeros((S_r.shape[0], Vh.shape[0] - S_r.shape[1]))])\n",
    "    P_hat = U @ S_r @ Vh\n",
    "    print(\"P_hat.shape =\", P_hat.shape)\n",
    "    \n",
    "    return P_hat\n",
    "\n",
    "def optimize_r(P):\n",
    "    U, S, Vh = np.linalg.svd(P)\n",
    "    arr = (S**2).cumsum() / (S**2).sum()\n",
    "    print(arr)\n",
    "    r = np.searchsorted(arr, 0.99, side='right')\n",
    "    return r+1"
   ]
  },
  {
   "cell_type": "code",
   "execution_count": 271,
   "metadata": {},
   "outputs": [
    {
     "data": {
      "text/plain": [
       "array([[1., 5.],\n",
       "       [2., 6.],\n",
       "       [3., 7.],\n",
       "       [4., 8.]])"
      ]
     },
     "execution_count": 271,
     "metadata": {},
     "output_type": "execute_result"
    }
   ],
   "source": [
    "arr = np.array([1, 2, 3, 4, 5, 6, 7, 8])\n",
    "P(arr, L=4)"
   ]
  },
  {
   "cell_type": "code",
   "execution_count": 272,
   "metadata": {},
   "outputs": [],
   "source": [
    "# Full data\n",
    "L = 10\n",
    "\n",
    "train_s10_d83 = train.loc[:, \"s10_d83\"]\n",
    "train_s1_d34 = train.loc[:, \"s1_d34\"]"
   ]
  },
  {
   "cell_type": "code",
   "execution_count": 273,
   "metadata": {},
   "outputs": [
    {
     "name": "stdout",
     "output_type": "stream",
     "text": [
      "s10_d83 missing: 19\n",
      "s1_d34 missing: 48\n",
      "observed: 0.8416666666666667\n",
      "observed: 0.6\n",
      "[0.80487713 0.8922433  0.93202116 0.95616785 0.97584063 0.98863859\n",
      " 0.99564717 0.99803581 0.99958549 1.        ]\n",
      "[0.6084575  0.73290468 0.81380524 0.88317841 0.92872292 0.96331227\n",
      " 0.98815545 0.99384364 0.99782147 1.        ]\n",
      "r_s10_d83 = 7\n",
      "r_s1_d34 = 8\n"
     ]
    }
   ],
   "source": [
    "# Missing data\n",
    "L = 10\n",
    "\n",
    "num_missing_train_s10_d83 = missing_train.loc[:, \"s10_d83\"].isna().sum()\n",
    "num_missing_train_s1_d34 = missing_train.loc[:, \"s1_d34\"].isna().sum()\n",
    "\n",
    "print(\"s10_d83 missing:\", num_missing_train_s10_d83)\n",
    "print(\"s1_d34 missing:\", num_missing_train_s1_d34)\n",
    "\n",
    "observed_s10_d83 =  1 - (num_missing_train_s10_d83 / len(train_s10_d83))\n",
    "observed_s1_d34 =  1 - (num_missing_train_s1_d34 / len(train_s1_d34))\n",
    "\n",
    "print(\"observed:\", observed_s10_d83)\n",
    "print(\"observed:\", observed_s1_d34)\n",
    "\n",
    "missing_train_s10_d83 = missing_train.loc[:, \"s10_d83\"].fillna(0)\n",
    "missing_train_s1_d34 = missing_train.loc[:, \"s1_d34\"].fillna(0)\n",
    "\n",
    "P_s10_d83 = P(missing_train_s10_d83, L)\n",
    "r_s10_d83 = optimize_r(P_s10_d83)\n",
    "\n",
    "P_s1_d34 = P(missing_train_s1_d34, L)\n",
    "r_s1_d34 = optimize_r(P_s1_d34)\n",
    "\n",
    "full_P_s1_d34 = P(train_s1_d34, L=10)\n",
    "\n",
    "print(\"r_s10_d83 =\", r_s10_d83)\n",
    "print(\"r_s1_d34 =\", r_s1_d34)"
   ]
  },
  {
   "cell_type": "code",
   "execution_count": 274,
   "metadata": {},
   "outputs": [
    {
     "name": "stdout",
     "output_type": "stream",
     "text": [
      "P_hat.shape = (10, 12)\n",
      "P_hat.shape = (10, 12)\n"
     ]
    }
   ],
   "source": [
    "P_s10_d83_hat = construct_P_hat(P_s10_d83, r=5) * (1/observed_s10_d83)\n",
    "P_s1_d34_hat = construct_P_hat(P_s1_d34, r=5) * (1/observed_s1_d34)"
   ]
  },
  {
   "cell_type": "code",
   "execution_count": 275,
   "metadata": {},
   "outputs": [
    {
     "data": {
      "text/plain": [
       "0.12"
      ]
     },
     "execution_count": 275,
     "metadata": {},
     "output_type": "execute_result"
    }
   ],
   "source": [
    "# s10_d83\n",
    "zero_indexes_s10_d83 = np.where(P_s10_d83 == 0)\n",
    "zero_positions = list(zip(zero_indexes_s10_d83[0], zero_indexes_s10_d83[1]))\n",
    "L = 10\n",
    "MSE = 0\n",
    "n = len(zero_positions)\n",
    "for pos in zero_positions:\n",
    "    MSE += (P(train_s10_d83, L)[pos] - P_s10_d83_hat[pos])**2\n",
    "\n",
    "np.round(MSE / n / 1e6, 2)"
   ]
  },
  {
   "cell_type": "code",
   "execution_count": 276,
   "metadata": {},
   "outputs": [
    {
     "name": "stdout",
     "output_type": "stream",
     "text": [
      "Number of iterations = 48\n"
     ]
    },
    {
     "data": {
      "text/plain": [
       "118.55"
      ]
     },
     "execution_count": 276,
     "metadata": {},
     "output_type": "execute_result"
    }
   ],
   "source": [
    "# s1_d34\n",
    "zero_indexes_s1_d34 = np.where(P_s1_d34 == 0)\n",
    "zero_positions = list(zip(zero_indexes_s1_d34[0], zero_indexes_s1_d34[1]))\n",
    "\n",
    "MSE = 0\n",
    "n = len(zero_positions)\n",
    "\n",
    "num_iter = 0\n",
    "for pos in zero_positions:\n",
    "    num_iter += 1\n",
    "    # print(f\"Missing {pos}\")\n",
    "    MSE += (full_P_s1_d34[pos] - P_s1_d34_hat[pos])**2\n",
    "print(\"Number of iterations =\", num_iter)\n",
    "\n",
    "np.round(MSE / n / 1e6, 2)"
   ]
  },
  {
   "cell_type": "code",
   "execution_count": null,
   "metadata": {},
   "outputs": [],
   "source": []
  }
 ],
 "metadata": {
  "kernelspec": {
   "display_name": "base",
   "language": "python",
   "name": "python3"
  },
  "language_info": {
   "codemirror_mode": {
    "name": "ipython",
    "version": 3
   },
   "file_extension": ".py",
   "mimetype": "text/x-python",
   "name": "python",
   "nbconvert_exporter": "python",
   "pygments_lexer": "ipython3",
   "version": "3.11.7"
  }
 },
 "nbformat": 4,
 "nbformat_minor": 2
}
