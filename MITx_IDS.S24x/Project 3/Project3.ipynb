{
 "cells": [
  {
   "cell_type": "code",
   "execution_count": 134,
   "metadata": {},
   "outputs": [],
   "source": [
    "\n",
    "import numpy as np\n",
    "import pandas as pd\n",
    "import copy\n",
    "import matplotlib.pyplot as plt\n",
    "\n",
    "np.set_printoptions(precision=4, suppress=True)"
   ]
  },
  {
   "cell_type": "code",
   "execution_count": 135,
   "metadata": {},
   "outputs": [],
   "source": [
    "np.random.seed(10001)\n",
    "sigma = 0.2\n",
    "W = sigma * np.random.randn(100, 3)\n",
    "np.savetxt('W.csv', W, delimiter=',')\n",
    "\n",
    "\n",
    "np.random.seed(10001)\n",
    "sigma = 0.5\n",
    "u = sigma * np.random.randn(100)\n",
    "np.savetxt('u.csv', u, delimiter=',')"
   ]
  },
  {
   "cell_type": "code",
   "execution_count": 136,
   "metadata": {},
   "outputs": [],
   "source": [
    "A = np.array([\n",
    "    [0, 1, 0],\n",
    "    [0, 0, 1],\n",
    "    [0.06, -0.47, 1.20]\n",
    "])\n",
    "\n",
    "B = np.array([0, 0, 1])[:, np.newaxis]\n",
    "\n",
    "M = np.eye(3)\n",
    "R = 0.1\n",
    "\n",
    "T = 100\n",
    "\n",
    "x0 = np.zeros((3,))[:, np.newaxis]\n",
    "ut = 0  # zero policy"
   ]
  },
  {
   "cell_type": "code",
   "execution_count": 137,
   "metadata": {},
   "outputs": [
    {
     "data": {
      "text/plain": [
       "(100, 3)"
      ]
     },
     "execution_count": 137,
     "metadata": {},
     "output_type": "execute_result"
    }
   ],
   "source": [
    "W = np.genfromtxt(\"W.csv\", delimiter=\",\")\n",
    "W.shape"
   ]
  },
  {
   "cell_type": "code",
   "execution_count": 138,
   "metadata": {},
   "outputs": [
    {
     "name": "stdout",
     "output_type": "stream",
     "text": [
      "-0.0411\n",
      "0.1229\n",
      "-0.2518\n"
     ]
    }
   ],
   "source": [
    "print(np.round(W[0, 0], 4))\n",
    "print(np.round(W[1, 1], 4))\n",
    "print(np.round(W[2, 2], 4))"
   ]
  },
  {
   "cell_type": "code",
   "execution_count": 139,
   "metadata": {},
   "outputs": [],
   "source": [
    "def calc_phi(xt, ut):\n",
    "    m = len(xt)\n",
    "    \n",
    "    if type(ut) in [int, float]:\n",
    "        n = 1\n",
    "    else:\n",
    "        n = len(ut)\n",
    "    poly_arr = np.ones((m*2+2, n))  # axis 0 is poly, axis 1 is different u values\n",
    "    for i in range(m):\n",
    "        poly_arr[2*i+1, :] = (xt[i])**2\n",
    "        poly_arr[2*i+2, :] = xt[i]*ut\n",
    "    poly_arr[-1, :] = ut**2\n",
    "    return poly_arr\n",
    "\n",
    "def transition(xt, ut, wt):\n",
    "    xt1 = A @ xt + B * ut + wt\n",
    "    return xt1\n",
    "\n",
    "def cost(xt, ut):\n",
    "    return xt.T @ M @ xt + R * ut**2\n",
    "\n",
    "def calc_ut(xt, K):\n",
    "    return -K @ xt\n",
    "\n",
    "def run_simulation(x0, u_arr, w_arr, iter_lim=None):\n",
    "    assert u_arr.shape[0] == w_arr.shape[0]\n",
    "    x_arr = []\n",
    "    C_arr = []\n",
    "    x = copy.deepcopy(x0)\n",
    "    iter_count = 0\n",
    "    for i, u in enumerate(u_arr):\n",
    "        w = w_arr[i, :][:, np.newaxis]\n",
    "        # print(\"w.shape =\", w.shape)\n",
    "        x = transition(x, u, w)\n",
    "        C = cost(x, u)\n",
    "        \n",
    "        x_arr.append(x)\n",
    "        C_arr.append(C)\n",
    "        \n",
    "        if iter_lim is not None:\n",
    "            iter_count += 1\n",
    "            if iter_count > iter_lim:\n",
    "                break\n",
    "    \n",
    "    x_arr = np.array(x_arr).squeeze()\n",
    "    C_arr = np.array(C_arr).squeeze()\n",
    "    # print(C_arr.shape)\n",
    "    J_arr = C_arr.cumsum()\n",
    "    \n",
    "    return x_arr, C_arr, J_arr\n",
    "\n",
    "def calc_Q(xt, ut, theta):\n",
    "    phi = calc_phi(xt, ut)\n",
    "    return theta.T @ phi\n",
    "\n",
    "def run_Q_simulation(x0, w_arr, theta0, T=100):\n",
    "    x_arr = [x0]\n",
    "    u_arr = []\n",
    "    C_arr = []\n",
    "    \n",
    "    x = copy.deepcopy(x0)\n",
    "    theta = copy.deepcopy(theta0)\n",
    "\n",
    "    for i in range(T):\n",
    "        w = w_arr[i, :][:, np.newaxis]\n",
    "        u = -1/(2*theta[-1]) * (theta[2]*x[0] + theta[4]*x[1] + theta[6]*x[2])\n",
    "        u_arr.append(u)\n",
    "        \n",
    "        x = transition(x, u, w)\n",
    "        C = cost(x, u)\n",
    "        x_arr.append(x)\n",
    "        C_arr.append(C)\n",
    "        \n",
    "    u_arr = np.array(u_arr).squeeze()\n",
    "    x_arr = np.array(x_arr).squeeze()\n",
    "    C_arr = np.array(C_arr).squeeze()\n",
    "    \n",
    "    J_arr = C_arr.cumsum()\n",
    "    print(\"Cumulative cost:\", J_arr[-2])\n",
    "    return x_arr, C_arr, J_arr"
   ]
  },
  {
   "cell_type": "code",
   "execution_count": 140,
   "metadata": {},
   "outputs": [
    {
     "data": {
      "text/plain": [
       "array([[ 0.0582, -0.4535,  1.1459]])"
      ]
     },
     "execution_count": 140,
     "metadata": {},
     "output_type": "execute_result"
    }
   ],
   "source": [
    "from scipy import linalg as la\n",
    "P = la.solve_discrete_are(A, B, M, R)\n",
    "K = la.solve(R + B.T.dot(P).dot(B), B.T.dot(P).dot(A))\n",
    "K"
   ]
  },
  {
   "cell_type": "code",
   "execution_count": 141,
   "metadata": {},
   "outputs": [],
   "source": [
    "T = 100\n",
    "x = x0\n",
    "x_arr = [x0]\n",
    "u_arr = []\n",
    "for t in range(T):\n",
    "    u = calc_ut(x, K)\n",
    "    w = W[t, :][:, np.newaxis]\n",
    "    u_arr.append(u)\n",
    "    x = transition(x, u, w)\n",
    "u_arr = np.array(u_arr)"
   ]
  },
  {
   "cell_type": "code",
   "execution_count": 142,
   "metadata": {},
   "outputs": [],
   "source": [
    "performance_dict = {}\n",
    "\n",
    "# LQR\n",
    "performance_dict[\"LQR\"] = run_simulation(x0, u_arr, W)\n",
    "\n",
    "# Zero policy\n",
    "u_arr = np.zeros(T)\n",
    "performance_dict[\"Zero\"] = run_simulation(x0, u_arr, W)\n",
    "\n",
    "# Random policy\n",
    "u_arr = np.genfromtxt(\"u.csv\", delimiter=\",\")\n",
    "performance_dict[\"Random\"] = run_simulation(x0, u_arr, W)"
   ]
  },
  {
   "cell_type": "code",
   "execution_count": 143,
   "metadata": {},
   "outputs": [
    {
     "name": "stdout",
     "output_type": "stream",
     "text": [
      "Cumulative cost: 52.406571630526116\n"
     ]
    }
   ],
   "source": [
    "theta0 = np.array([1, 1, 1, -2, -2, 2, 2, 1])[:, np.newaxis]\n",
    "\n",
    "x_arr, C_arr, J_arr = run_Q_simulation(x0, W, theta0, T=100)"
   ]
  }
 ],
 "metadata": {
  "kernelspec": {
   "display_name": "Python 3",
   "language": "python",
   "name": "python3"
  },
  "language_info": {
   "codemirror_mode": {
    "name": "ipython",
    "version": 3
   },
   "file_extension": ".py",
   "mimetype": "text/x-python",
   "name": "python",
   "nbconvert_exporter": "python",
   "pygments_lexer": "ipython3",
   "version": "3.12.5"
  }
 },
 "nbformat": 4,
 "nbformat_minor": 2
}
