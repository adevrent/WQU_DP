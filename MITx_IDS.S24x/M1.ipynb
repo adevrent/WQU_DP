{
 "cells": [
  {
   "cell_type": "code",
   "execution_count": 5,
   "metadata": {},
   "outputs": [],
   "source": [
    "def u(t):\n",
    "    if (t == 0) or (t == 2):\n",
    "        return 2\n",
    "    elif t == 1:\n",
    "        return 3\n",
    "    elif t == 3:\n",
    "        return 1\n",
    "    else:\n",
    "        return 0\n",
    "    \n",
    "def y(t):\n",
    "    return 0.5 * u(t-1) + 0.5 * u(t-2)"
   ]
  },
  {
   "cell_type": "code",
   "execution_count": 10,
   "metadata": {},
   "outputs": [
    {
     "data": {
      "text/plain": [
       "0.5"
      ]
     },
     "execution_count": 10,
     "metadata": {},
     "output_type": "execute_result"
    }
   ],
   "source": [
    "y(5)"
   ]
  },
  {
   "cell_type": "code",
   "execution_count": 50,
   "metadata": {},
   "outputs": [],
   "source": [
    "import numpy as np\n",
    "np.set_printoptions(precision=2, suppress=True)"
   ]
  },
  {
   "cell_type": "code",
   "execution_count": 51,
   "metadata": {},
   "outputs": [],
   "source": [
    "def DFT(u):\n",
    "    if u.ndim == 1:\n",
    "        N = len(u)\n",
    "        u = u[:, np.newaxis]\n",
    "    else:\n",
    "        n, N = u.shape\n",
    "    t_arr = np.arange(1, N+1)\n",
    "    k_arr = np.arange(1, N+1)\n",
    "    exp_term = np.exp(-1j * (2*np.pi/N) * t_arr)\n",
    "    u_exp_term = (u * exp_term)\n",
    "    DFT = 1/np.sqrt(N) * (u_exp_term).sum(axis=1, keepdims=True) * k_arr\n",
    "    return DFT"
   ]
  },
  {
   "cell_type": "code",
   "execution_count": 52,
   "metadata": {},
   "outputs": [
    {
     "data": {
      "text/plain": [
       "array([[-0.1 -0.25j, -0.21-0.5j , -0.31-0.75j, -0.41-1.j  , -0.52-1.25j,\n",
       "        -0.62-1.5j , -0.72-1.75j, -0.83-2.j  ],\n",
       "       [ 0.85-0.71j,  1.71-1.41j,  2.56-2.12j,  3.41-2.83j,  4.27-3.54j,\n",
       "         5.12-4.24j,  5.97-4.95j,  6.83-5.66j],\n",
       "       [-0.35+0.j  , -0.71+0.j  , -1.06+0.j  , -1.41+0.j  , -1.77+0.j  ,\n",
       "        -2.12+0.j  , -2.47+0.j  , -2.83+0.j  ],\n",
       "       [ 0.1 -0.25j,  0.21-0.5j ,  0.31-0.75j,  0.41-1.j  ,  0.52-1.25j,\n",
       "         0.62-1.5j ,  0.72-1.75j,  0.83-2.j  ]])"
      ]
     },
     "execution_count": 52,
     "metadata": {},
     "output_type": "execute_result"
    }
   ],
   "source": [
    "u_arr = np.array([\n",
    "    [1, 0, 1, 2, 0, 0, 1, 1],\n",
    "    [1, 2, 0, 0, 0, 0, 1, 1],\n",
    "    [0, 0, 0, 2, 0, 0, 0, 1],\n",
    "    [0, 1, 1, 0, 0, 1, 0, 1]\n",
    "])\n",
    "\n",
    "DFT(u_arr)"
   ]
  }
 ],
 "metadata": {
  "kernelspec": {
   "display_name": "Python 3",
   "language": "python",
   "name": "python3"
  },
  "language_info": {
   "codemirror_mode": {
    "name": "ipython",
    "version": 3
   },
   "file_extension": ".py",
   "mimetype": "text/x-python",
   "name": "python",
   "nbconvert_exporter": "python",
   "pygments_lexer": "ipython3",
   "version": "3.11.7"
  }
 },
 "nbformat": 4,
 "nbformat_minor": 2
}
