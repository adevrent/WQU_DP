{
 "cells": [
  {
   "cell_type": "code",
   "execution_count": 278,
   "metadata": {},
   "outputs": [],
   "source": [
    "import pandas as pd\n",
    "import numpy as np\n",
    "from matplotlib import pyplot as plt"
   ]
  },
  {
   "cell_type": "code",
   "execution_count": 279,
   "metadata": {},
   "outputs": [
    {
     "name": "stderr",
     "output_type": "stream",
     "text": [
      "<>:1: SyntaxWarning: invalid escape sequence '\\d'\n",
      "<>:1: SyntaxWarning: invalid escape sequence '\\d'\n",
      "C:\\Users\\adevr\\AppData\\Local\\Temp\\ipykernel_8364\\3782765340.py:1: SyntaxWarning: invalid escape sequence '\\d'\n",
      "  df_house = pd.read_csv(\".\\data_zillow_house_prices.csv\")\n"
     ]
    },
    {
     "data": {
      "text/html": [
       "<div>\n",
       "<style scoped>\n",
       "    .dataframe tbody tr th:only-of-type {\n",
       "        vertical-align: middle;\n",
       "    }\n",
       "\n",
       "    .dataframe tbody tr th {\n",
       "        vertical-align: top;\n",
       "    }\n",
       "\n",
       "    .dataframe thead th {\n",
       "        text-align: right;\n",
       "    }\n",
       "</style>\n",
       "<table border=\"1\" class=\"dataframe\">\n",
       "  <thead>\n",
       "    <tr style=\"text-align: right;\">\n",
       "      <th></th>\n",
       "      <th>RegionID</th>\n",
       "      <th>SizeRank</th>\n",
       "      <th>RegionName</th>\n",
       "      <th>RegionType</th>\n",
       "      <th>StateName</th>\n",
       "      <th>2000-01-31</th>\n",
       "      <th>2000-02-29</th>\n",
       "      <th>2000-03-31</th>\n",
       "      <th>2000-04-30</th>\n",
       "      <th>2000-05-31</th>\n",
       "      <th>...</th>\n",
       "      <th>2021-11-30</th>\n",
       "      <th>2021-12-31</th>\n",
       "      <th>2022-01-31</th>\n",
       "      <th>2022-02-28</th>\n",
       "      <th>2022-03-31</th>\n",
       "      <th>2022-04-30</th>\n",
       "      <th>2022-05-31</th>\n",
       "      <th>2022-06-30</th>\n",
       "      <th>2022-07-31</th>\n",
       "      <th>2022-08-31</th>\n",
       "    </tr>\n",
       "  </thead>\n",
       "  <tbody>\n",
       "    <tr>\n",
       "      <th>0</th>\n",
       "      <td>102001</td>\n",
       "      <td>0</td>\n",
       "      <td>United States</td>\n",
       "      <td>country</td>\n",
       "      <td>NaN</td>\n",
       "      <td>127881.0</td>\n",
       "      <td>128227.0</td>\n",
       "      <td>128591.0</td>\n",
       "      <td>129332.0</td>\n",
       "      <td>130079.0</td>\n",
       "      <td>...</td>\n",
       "      <td>318303.0</td>\n",
       "      <td>322658.0</td>\n",
       "      <td>327381.0</td>\n",
       "      <td>332588.0</td>\n",
       "      <td>337848.0</td>\n",
       "      <td>343392.0</td>\n",
       "      <td>348415.0</td>\n",
       "      <td>352585.0</td>\n",
       "      <td>354986.0</td>\n",
       "      <td>356026.0</td>\n",
       "    </tr>\n",
       "    <tr>\n",
       "      <th>1</th>\n",
       "      <td>394913</td>\n",
       "      <td>1</td>\n",
       "      <td>New York, NY</td>\n",
       "      <td>msa</td>\n",
       "      <td>NY</td>\n",
       "      <td>224676.0</td>\n",
       "      <td>226018.0</td>\n",
       "      <td>227226.0</td>\n",
       "      <td>229604.0</td>\n",
       "      <td>231817.0</td>\n",
       "      <td>...</td>\n",
       "      <td>573600.0</td>\n",
       "      <td>576842.0</td>\n",
       "      <td>580804.0</td>\n",
       "      <td>585445.0</td>\n",
       "      <td>591876.0</td>\n",
       "      <td>599008.0</td>\n",
       "      <td>606525.0</td>\n",
       "      <td>612535.0</td>\n",
       "      <td>616856.0</td>\n",
       "      <td>619142.0</td>\n",
       "    </tr>\n",
       "    <tr>\n",
       "      <th>2</th>\n",
       "      <td>753899</td>\n",
       "      <td>2</td>\n",
       "      <td>Los Angeles, CA</td>\n",
       "      <td>msa</td>\n",
       "      <td>CA</td>\n",
       "      <td>227786.0</td>\n",
       "      <td>228579.0</td>\n",
       "      <td>229794.0</td>\n",
       "      <td>232104.0</td>\n",
       "      <td>234580.0</td>\n",
       "      <td>...</td>\n",
       "      <td>845860.0</td>\n",
       "      <td>855023.0</td>\n",
       "      <td>865646.0</td>\n",
       "      <td>877802.0</td>\n",
       "      <td>895038.0</td>\n",
       "      <td>914016.0</td>\n",
       "      <td>930381.0</td>\n",
       "      <td>931707.0</td>\n",
       "      <td>928599.0</td>\n",
       "      <td>914636.0</td>\n",
       "    </tr>\n",
       "    <tr>\n",
       "      <th>3</th>\n",
       "      <td>394463</td>\n",
       "      <td>3</td>\n",
       "      <td>Chicago, IL</td>\n",
       "      <td>msa</td>\n",
       "      <td>IL</td>\n",
       "      <td>170004.0</td>\n",
       "      <td>170405.0</td>\n",
       "      <td>170924.0</td>\n",
       "      <td>171963.0</td>\n",
       "      <td>173064.0</td>\n",
       "      <td>...</td>\n",
       "      <td>288807.0</td>\n",
       "      <td>291527.0</td>\n",
       "      <td>294162.0</td>\n",
       "      <td>296729.0</td>\n",
       "      <td>300023.0</td>\n",
       "      <td>303490.0</td>\n",
       "      <td>307454.0</td>\n",
       "      <td>310438.0</td>\n",
       "      <td>312286.0</td>\n",
       "      <td>312609.0</td>\n",
       "    </tr>\n",
       "    <tr>\n",
       "      <th>4</th>\n",
       "      <td>394514</td>\n",
       "      <td>4</td>\n",
       "      <td>Dallas, TX</td>\n",
       "      <td>msa</td>\n",
       "      <td>TX</td>\n",
       "      <td>129921.0</td>\n",
       "      <td>130025.0</td>\n",
       "      <td>130112.0</td>\n",
       "      <td>130323.0</td>\n",
       "      <td>130544.0</td>\n",
       "      <td>...</td>\n",
       "      <td>337274.0</td>\n",
       "      <td>343129.0</td>\n",
       "      <td>350514.0</td>\n",
       "      <td>358982.0</td>\n",
       "      <td>367040.0</td>\n",
       "      <td>376487.0</td>\n",
       "      <td>385149.0</td>\n",
       "      <td>392668.0</td>\n",
       "      <td>394861.0</td>\n",
       "      <td>393920.0</td>\n",
       "    </tr>\n",
       "    <tr>\n",
       "      <th>...</th>\n",
       "      <td>...</td>\n",
       "      <td>...</td>\n",
       "      <td>...</td>\n",
       "      <td>...</td>\n",
       "      <td>...</td>\n",
       "      <td>...</td>\n",
       "      <td>...</td>\n",
       "      <td>...</td>\n",
       "      <td>...</td>\n",
       "      <td>...</td>\n",
       "      <td>...</td>\n",
       "      <td>...</td>\n",
       "      <td>...</td>\n",
       "      <td>...</td>\n",
       "      <td>...</td>\n",
       "      <td>...</td>\n",
       "      <td>...</td>\n",
       "      <td>...</td>\n",
       "      <td>...</td>\n",
       "      <td>...</td>\n",
       "      <td>...</td>\n",
       "    </tr>\n",
       "    <tr>\n",
       "      <th>888</th>\n",
       "      <td>753929</td>\n",
       "      <td>923</td>\n",
       "      <td>Zapata, TX</td>\n",
       "      <td>msa</td>\n",
       "      <td>TX</td>\n",
       "      <td>NaN</td>\n",
       "      <td>NaN</td>\n",
       "      <td>NaN</td>\n",
       "      <td>NaN</td>\n",
       "      <td>NaN</td>\n",
       "      <td>...</td>\n",
       "      <td>107811.0</td>\n",
       "      <td>110066.0</td>\n",
       "      <td>112647.0</td>\n",
       "      <td>115339.0</td>\n",
       "      <td>115955.0</td>\n",
       "      <td>116220.0</td>\n",
       "      <td>116214.0</td>\n",
       "      <td>117199.0</td>\n",
       "      <td>118364.0</td>\n",
       "      <td>119798.0</td>\n",
       "    </tr>\n",
       "    <tr>\n",
       "      <th>889</th>\n",
       "      <td>394743</td>\n",
       "      <td>924</td>\n",
       "      <td>Ketchikan, AK</td>\n",
       "      <td>msa</td>\n",
       "      <td>AK</td>\n",
       "      <td>NaN</td>\n",
       "      <td>NaN</td>\n",
       "      <td>NaN</td>\n",
       "      <td>NaN</td>\n",
       "      <td>NaN</td>\n",
       "      <td>...</td>\n",
       "      <td>341382.0</td>\n",
       "      <td>346968.0</td>\n",
       "      <td>352628.0</td>\n",
       "      <td>357313.0</td>\n",
       "      <td>357544.0</td>\n",
       "      <td>358017.0</td>\n",
       "      <td>359810.0</td>\n",
       "      <td>363289.0</td>\n",
       "      <td>366462.0</td>\n",
       "      <td>369645.0</td>\n",
       "    </tr>\n",
       "    <tr>\n",
       "      <th>890</th>\n",
       "      <td>753874</td>\n",
       "      <td>925</td>\n",
       "      <td>Craig, CO</td>\n",
       "      <td>msa</td>\n",
       "      <td>CO</td>\n",
       "      <td>94670.0</td>\n",
       "      <td>95014.0</td>\n",
       "      <td>95596.0</td>\n",
       "      <td>96288.0</td>\n",
       "      <td>97002.0</td>\n",
       "      <td>...</td>\n",
       "      <td>244237.0</td>\n",
       "      <td>247636.0</td>\n",
       "      <td>250594.0</td>\n",
       "      <td>252962.0</td>\n",
       "      <td>253211.0</td>\n",
       "      <td>253361.0</td>\n",
       "      <td>254294.0</td>\n",
       "      <td>258151.0</td>\n",
       "      <td>262571.0</td>\n",
       "      <td>267315.0</td>\n",
       "    </tr>\n",
       "    <tr>\n",
       "      <th>891</th>\n",
       "      <td>394767</td>\n",
       "      <td>926</td>\n",
       "      <td>Lamesa, TX</td>\n",
       "      <td>msa</td>\n",
       "      <td>TX</td>\n",
       "      <td>NaN</td>\n",
       "      <td>NaN</td>\n",
       "      <td>NaN</td>\n",
       "      <td>NaN</td>\n",
       "      <td>NaN</td>\n",
       "      <td>...</td>\n",
       "      <td>93043.0</td>\n",
       "      <td>94667.0</td>\n",
       "      <td>96323.0</td>\n",
       "      <td>98574.0</td>\n",
       "      <td>99773.0</td>\n",
       "      <td>100829.0</td>\n",
       "      <td>101918.0</td>\n",
       "      <td>103465.0</td>\n",
       "      <td>105142.0</td>\n",
       "      <td>106274.0</td>\n",
       "    </tr>\n",
       "    <tr>\n",
       "      <th>892</th>\n",
       "      <td>395188</td>\n",
       "      <td>927</td>\n",
       "      <td>Vernon, TX</td>\n",
       "      <td>msa</td>\n",
       "      <td>TX</td>\n",
       "      <td>NaN</td>\n",
       "      <td>NaN</td>\n",
       "      <td>NaN</td>\n",
       "      <td>NaN</td>\n",
       "      <td>NaN</td>\n",
       "      <td>...</td>\n",
       "      <td>80226.0</td>\n",
       "      <td>82378.0</td>\n",
       "      <td>84611.0</td>\n",
       "      <td>87248.0</td>\n",
       "      <td>87941.0</td>\n",
       "      <td>88596.0</td>\n",
       "      <td>88884.0</td>\n",
       "      <td>90056.0</td>\n",
       "      <td>91466.0</td>\n",
       "      <td>92952.0</td>\n",
       "    </tr>\n",
       "  </tbody>\n",
       "</table>\n",
       "<p>893 rows × 277 columns</p>\n",
       "</div>"
      ],
      "text/plain": [
       "     RegionID  SizeRank       RegionName RegionType StateName  2000-01-31  \\\n",
       "0      102001         0    United States    country       NaN    127881.0   \n",
       "1      394913         1     New York, NY        msa        NY    224676.0   \n",
       "2      753899         2  Los Angeles, CA        msa        CA    227786.0   \n",
       "3      394463         3      Chicago, IL        msa        IL    170004.0   \n",
       "4      394514         4       Dallas, TX        msa        TX    129921.0   \n",
       "..        ...       ...              ...        ...       ...         ...   \n",
       "888    753929       923       Zapata, TX        msa        TX         NaN   \n",
       "889    394743       924    Ketchikan, AK        msa        AK         NaN   \n",
       "890    753874       925        Craig, CO        msa        CO     94670.0   \n",
       "891    394767       926       Lamesa, TX        msa        TX         NaN   \n",
       "892    395188       927       Vernon, TX        msa        TX         NaN   \n",
       "\n",
       "     2000-02-29  2000-03-31  2000-04-30  2000-05-31  ...  2021-11-30  \\\n",
       "0      128227.0    128591.0    129332.0    130079.0  ...    318303.0   \n",
       "1      226018.0    227226.0    229604.0    231817.0  ...    573600.0   \n",
       "2      228579.0    229794.0    232104.0    234580.0  ...    845860.0   \n",
       "3      170405.0    170924.0    171963.0    173064.0  ...    288807.0   \n",
       "4      130025.0    130112.0    130323.0    130544.0  ...    337274.0   \n",
       "..          ...         ...         ...         ...  ...         ...   \n",
       "888         NaN         NaN         NaN         NaN  ...    107811.0   \n",
       "889         NaN         NaN         NaN         NaN  ...    341382.0   \n",
       "890     95014.0     95596.0     96288.0     97002.0  ...    244237.0   \n",
       "891         NaN         NaN         NaN         NaN  ...     93043.0   \n",
       "892         NaN         NaN         NaN         NaN  ...     80226.0   \n",
       "\n",
       "     2021-12-31  2022-01-31  2022-02-28  2022-03-31  2022-04-30  2022-05-31  \\\n",
       "0      322658.0    327381.0    332588.0    337848.0    343392.0    348415.0   \n",
       "1      576842.0    580804.0    585445.0    591876.0    599008.0    606525.0   \n",
       "2      855023.0    865646.0    877802.0    895038.0    914016.0    930381.0   \n",
       "3      291527.0    294162.0    296729.0    300023.0    303490.0    307454.0   \n",
       "4      343129.0    350514.0    358982.0    367040.0    376487.0    385149.0   \n",
       "..          ...         ...         ...         ...         ...         ...   \n",
       "888    110066.0    112647.0    115339.0    115955.0    116220.0    116214.0   \n",
       "889    346968.0    352628.0    357313.0    357544.0    358017.0    359810.0   \n",
       "890    247636.0    250594.0    252962.0    253211.0    253361.0    254294.0   \n",
       "891     94667.0     96323.0     98574.0     99773.0    100829.0    101918.0   \n",
       "892     82378.0     84611.0     87248.0     87941.0     88596.0     88884.0   \n",
       "\n",
       "     2022-06-30  2022-07-31  2022-08-31  \n",
       "0      352585.0    354986.0    356026.0  \n",
       "1      612535.0    616856.0    619142.0  \n",
       "2      931707.0    928599.0    914636.0  \n",
       "3      310438.0    312286.0    312609.0  \n",
       "4      392668.0    394861.0    393920.0  \n",
       "..          ...         ...         ...  \n",
       "888    117199.0    118364.0    119798.0  \n",
       "889    363289.0    366462.0    369645.0  \n",
       "890    258151.0    262571.0    267315.0  \n",
       "891    103465.0    105142.0    106274.0  \n",
       "892     90056.0     91466.0     92952.0  \n",
       "\n",
       "[893 rows x 277 columns]"
      ]
     },
     "execution_count": 279,
     "metadata": {},
     "output_type": "execute_result"
    }
   ],
   "source": [
    "df_house = pd.read_csv(\".\\data_zillow_house_prices.csv\")\n",
    "df_house"
   ]
  },
  {
   "cell_type": "code",
   "execution_count": 280,
   "metadata": {},
   "outputs": [
    {
     "name": "stderr",
     "output_type": "stream",
     "text": [
      "<>:1: SyntaxWarning: invalid escape sequence '\\d'\n",
      "<>:1: SyntaxWarning: invalid escape sequence '\\d'\n",
      "C:\\Users\\adevr\\AppData\\Local\\Temp\\ipykernel_8364\\3220168093.py:1: SyntaxWarning: invalid escape sequence '\\d'\n",
      "  df_rates = pd.read_csv(\".\\data_interest_rates.csv\")\n"
     ]
    },
    {
     "data": {
      "text/html": [
       "<div>\n",
       "<style scoped>\n",
       "    .dataframe tbody tr th:only-of-type {\n",
       "        vertical-align: middle;\n",
       "    }\n",
       "\n",
       "    .dataframe tbody tr th {\n",
       "        vertical-align: top;\n",
       "    }\n",
       "\n",
       "    .dataframe thead th {\n",
       "        text-align: right;\n",
       "    }\n",
       "</style>\n",
       "<table border=\"1\" class=\"dataframe\">\n",
       "  <thead>\n",
       "    <tr style=\"text-align: right;\">\n",
       "      <th></th>\n",
       "      <th>DATE</th>\n",
       "      <th>MORTGAGE30US</th>\n",
       "    </tr>\n",
       "  </thead>\n",
       "  <tbody>\n",
       "    <tr>\n",
       "      <th>0</th>\n",
       "      <td>1971-04-02</td>\n",
       "      <td>7.33</td>\n",
       "    </tr>\n",
       "    <tr>\n",
       "      <th>1</th>\n",
       "      <td>1971-04-09</td>\n",
       "      <td>7.31</td>\n",
       "    </tr>\n",
       "    <tr>\n",
       "      <th>2</th>\n",
       "      <td>1971-04-16</td>\n",
       "      <td>7.31</td>\n",
       "    </tr>\n",
       "    <tr>\n",
       "      <th>3</th>\n",
       "      <td>1971-04-23</td>\n",
       "      <td>7.31</td>\n",
       "    </tr>\n",
       "    <tr>\n",
       "      <th>4</th>\n",
       "      <td>1971-04-30</td>\n",
       "      <td>7.29</td>\n",
       "    </tr>\n",
       "    <tr>\n",
       "      <th>...</th>\n",
       "      <td>...</td>\n",
       "      <td>...</td>\n",
       "    </tr>\n",
       "    <tr>\n",
       "      <th>2680</th>\n",
       "      <td>2022-08-11</td>\n",
       "      <td>5.22</td>\n",
       "    </tr>\n",
       "    <tr>\n",
       "      <th>2681</th>\n",
       "      <td>2022-08-18</td>\n",
       "      <td>5.13</td>\n",
       "    </tr>\n",
       "    <tr>\n",
       "      <th>2682</th>\n",
       "      <td>2022-08-25</td>\n",
       "      <td>5.55</td>\n",
       "    </tr>\n",
       "    <tr>\n",
       "      <th>2683</th>\n",
       "      <td>2022-09-01</td>\n",
       "      <td>5.66</td>\n",
       "    </tr>\n",
       "    <tr>\n",
       "      <th>2684</th>\n",
       "      <td>2022-09-08</td>\n",
       "      <td>5.89</td>\n",
       "    </tr>\n",
       "  </tbody>\n",
       "</table>\n",
       "<p>2685 rows × 2 columns</p>\n",
       "</div>"
      ],
      "text/plain": [
       "            DATE  MORTGAGE30US\n",
       "0     1971-04-02          7.33\n",
       "1     1971-04-09          7.31\n",
       "2     1971-04-16          7.31\n",
       "3     1971-04-23          7.31\n",
       "4     1971-04-30          7.29\n",
       "...          ...           ...\n",
       "2680  2022-08-11          5.22\n",
       "2681  2022-08-18          5.13\n",
       "2682  2022-08-25          5.55\n",
       "2683  2022-09-01          5.66\n",
       "2684  2022-09-08          5.89\n",
       "\n",
       "[2685 rows x 2 columns]"
      ]
     },
     "execution_count": 280,
     "metadata": {},
     "output_type": "execute_result"
    }
   ],
   "source": [
    "df_rates = pd.read_csv(\".\\data_interest_rates.csv\")\n",
    "df_rates"
   ]
  },
  {
   "cell_type": "code",
   "execution_count": 281,
   "metadata": {},
   "outputs": [
    {
     "data": {
      "text/plain": [
       "2000-02-29    233010.0\n",
       "2000-03-31    234265.0\n",
       "2000-04-30    236467.0\n",
       "2000-05-31    238657.0\n",
       "2000-06-30    241004.0\n",
       "                ...   \n",
       "2022-04-30    643355.0\n",
       "2022-05-31    651279.0\n",
       "2022-06-30    656882.0\n",
       "2022-07-31    658173.0\n",
       "2022-08-31    657035.0\n",
       "Name: 11, Length: 271, dtype: object"
      ]
     },
     "execution_count": 281,
     "metadata": {},
     "output_type": "execute_result"
    }
   ],
   "source": [
    "boston_arr = (df_house[df_house[\"RegionName\"] == \"Boston, MA\"]).squeeze()\n",
    "boston_arr = boston_arr.iloc[6:]\n",
    "boston_arr.index = pd.to_datetime(boston_arr.index)\n",
    "boston_arr"
   ]
  },
  {
   "cell_type": "code",
   "execution_count": 282,
   "metadata": {},
   "outputs": [
    {
     "data": {
      "text/plain": [
       "<Axes: >"
      ]
     },
     "execution_count": 282,
     "metadata": {},
     "output_type": "execute_result"
    },
    {
     "data": {
      "image/png": "[encoded data removed]",
      "text/plain": [
       "<Figure size 640x480 with 1 Axes>"
      ]
     },
     "metadata": {},
     "output_type": "display_data"
    }
   ],
   "source": [
    "boston_arr.plot()"
   ]
  },
  {
   "cell_type": "code",
   "execution_count": 283,
   "metadata": {},
   "outputs": [
    {
     "data": {
      "text/plain": [
       "2010-01-31    352001.0\n",
       "2010-02-28    353713.0\n",
       "2010-03-31    354899.0\n",
       "2010-04-30    356066.0\n",
       "2010-05-31    356716.0\n",
       "                ...   \n",
       "2017-08-31    452393.0\n",
       "2017-09-30    454372.0\n",
       "2017-10-31    455955.0\n",
       "2017-11-30    459183.0\n",
       "2017-12-31    461409.0\n",
       "Name: 11, Length: 96, dtype: object"
      ]
     },
     "execution_count": 283,
     "metadata": {},
     "output_type": "execute_result"
    }
   ],
   "source": [
    "boston_slice = boston_arr[\"2010-01-01\":\"2017-12-31\"]\n",
    "boston_slice"
   ]
  },
  {
   "cell_type": "code",
   "execution_count": 284,
   "metadata": {},
   "outputs": [
    {
     "name": "stdout",
     "output_type": "stream",
     "text": [
      "ADF Statistic: -3.9032704282470343\n",
      "p-value: 0.012\n",
      "Number of lags used: 4\n",
      "Number of observations used: 91\n",
      "Critical Values: {'1%': -4.061865559807901, '5%': -3.4598875383872256, '10%': -3.155966861981154}\n"
     ]
    }
   ],
   "source": [
    "from statsmodels.tsa.stattools import adfuller\n",
    "# Perform the ADF test\n",
    "result = adfuller(boston_slice, regression=\"ct\")\n",
    "\n",
    "# Output the results\n",
    "print('ADF Statistic:', result[0])\n",
    "print('p-value:', np.round(result[1], 3))\n",
    "print('Number of lags used:', result[2])\n",
    "print('Number of observations used:', result[3])\n",
    "print('Critical Values:', result[4])"
   ]
  },
  {
   "cell_type": "code",
   "execution_count": 285,
   "metadata": {},
   "outputs": [
    {
     "data": {
      "image/png": "[encoded data removed]",
      "text/plain": [
       "<Figure size 1000x600 with 1 Axes>"
      ]
     },
     "metadata": {},
     "output_type": "display_data"
    }
   ],
   "source": [
    "import scipy.signal\n",
    "import matplotlib.pyplot as plt\n",
    "\n",
    "# Remove linear trend using scipy's detrend function\n",
    "detrended_series = scipy.signal.detrend(boston_slice)\n",
    "\n",
    "# Plot the original and detrended series\n",
    "plt.figure(figsize=(10,6))\n",
    "# plt.plot(boston_slice, label='Original Series')\n",
    "plt.plot(detrended_series, label='Detrended Series', linestyle='--')\n",
    "plt.legend()\n",
    "plt.show()"
   ]
  },
  {
   "cell_type": "code",
   "execution_count": 286,
   "metadata": {},
   "outputs": [
    {
     "data": {
      "image/png": "[encoded data removed]",
      "text/plain": [
       "<Figure size 640x480 with 1 Axes>"
      ]
     },
     "execution_count": 286,
     "metadata": {},
     "output_type": "execute_result"
    },
    {
     "data": {
      "image/png": "[encoded data removed]",
      "text/plain": [
       "<Figure size 640x480 with 1 Axes>"
      ]
     },
     "metadata": {},
     "output_type": "display_data"
    }
   ],
   "source": [
    "from statsmodels.graphics.tsaplots import plot_acf, plot_pacf\n",
    "plot_acf(detrended_series)"
   ]
  },
  {
   "cell_type": "code",
   "execution_count": 287,
   "metadata": {},
   "outputs": [
    {
     "data": {
      "image/png": "[encoded data removed]",
      "text/plain": [
       "<Figure size 640x480 with 1 Axes>"
      ]
     },
     "execution_count": 287,
     "metadata": {},
     "output_type": "execute_result"
    },
    {
     "data": {
      "image/png": "[encoded data removed]",
      "text/plain": [
       "<Figure size 640x480 with 1 Axes>"
      ]
     },
     "metadata": {},
     "output_type": "display_data"
    }
   ],
   "source": [
    "plot_pacf(detrended_series)"
   ]
  },
  {
   "cell_type": "markdown",
   "metadata": {},
   "source": [
    "_______________"
   ]
  },
  {
   "cell_type": "code",
   "execution_count": 288,
   "metadata": {},
   "outputs": [
    {
     "data": {
      "text/plain": [
       "array([352001.0, 353713.0, 354899.0, 356066.0, 356716.0, 357129.0,\n",
       "       356795.0, 356125.0, 354136.0, 352315.0, 350636.0, 350304.0,\n",
       "       349837.0, 348675.0, 346875.0, 345693.0, 344661.0, 344398.0,\n",
       "       343288.0, 342164.0, 340304.0, 338485.0, 336798.0, 335661.0,\n",
       "       334657.0, 334386.0, 334821.0, 335780.0, 336786.0, 337311.0,\n",
       "       338127.0, 338671.0, 339142.0, 340236.0, 342055.0, 344523.0,\n",
       "       345795.0, 348378.0, 351491.0, 355845.0, 359064.0, 361313.0,\n",
       "       363265.0, 365480.0, 368559.0, 371360.0, 373611.0, 375259.0,\n",
       "       377058.0, 378455.0, 380091.0, 382074.0, 384085.0, 385860.0,\n",
       "       386985.0, 387732.0, 387864.0, 387590.0, 387939.0, 389653.0,\n",
       "       392695.0, 395785.0, 397917.0, 398531.0, 399579.0, 400689.0,\n",
       "       402814.0, 404393.0, 405885.0, 407586.0, 409159.0, 410308.0,\n",
       "       412396.0, 414549.0, 417185.0, 419633.0, 422551.0, 424924.0,\n",
       "       425863.0, 426340.0, 428093.0, 429842.0, 432699.0, 434567.0,\n",
       "       436553.0, 437953.0, 440024.0, 442791.0, 445409.0, 448045.0,\n",
       "       450885.0, 452393.0, 454372.0, 455955.0, 459183.0, 461409.0],\n",
       "      dtype=object)"
      ]
     },
     "execution_count": 288,
     "metadata": {},
     "output_type": "execute_result"
    }
   ],
   "source": [
    "train = boston_slice.to_numpy()\n",
    "train"
   ]
  },
  {
   "cell_type": "code",
   "execution_count": 289,
   "metadata": {},
   "outputs": [
    {
     "data": {
      "text/plain": [
       "2018-01-31    464123.0\n",
       "2018-02-28    466719.0\n",
       "2018-03-31    470227.0\n",
       "2018-04-30    472858.0\n",
       "2018-05-31    475336.0\n",
       "Name: 11, dtype: object"
      ]
     },
     "execution_count": 289,
     "metadata": {},
     "output_type": "execute_result"
    }
   ],
   "source": [
    "test = boston_arr[\"2018-01-01\":\"2019-12-31\"]\n",
    "test.head()"
   ]
  },
  {
   "cell_type": "code",
   "execution_count": 290,
   "metadata": {},
   "outputs": [
    {
     "data": {
      "text/html": [
       "<table class=\"simpletable\">\n",
       "<caption>AutoReg Model Results</caption>\n",
       "<tr>\n",
       "  <th>Dep. Variable:</th>         <td>y</td>        <th>  No. Observations:  </th>    <td>96</td>   \n",
       "</tr>\n",
       "<tr>\n",
       "  <th>Model:</th>            <td>AutoReg(5)</td>    <th>  Log Likelihood     </th> <td>-701.831</td>\n",
       "</tr>\n",
       "<tr>\n",
       "  <th>Method:</th>         <td>Conditional MLE</td> <th>  S.D. of innovations</th>  <td>541.039</td>\n",
       "</tr>\n",
       "<tr>\n",
       "  <th>Date:</th>          <td>Sat, 19 Oct 2024</td> <th>  AIC                </th> <td>1419.662</td>\n",
       "</tr>\n",
       "<tr>\n",
       "  <th>Time:</th>              <td>16:11:42</td>     <th>  BIC                </th> <td>1439.749</td>\n",
       "</tr>\n",
       "<tr>\n",
       "  <th>Sample:</th>                <td>5</td>        <th>  HQIC               </th> <td>1427.766</td>\n",
       "</tr>\n",
       "<tr>\n",
       "  <th></th>                      <td>96</td>        <th>                     </th>     <td> </td>   \n",
       "</tr>\n",
       "</table>\n",
       "<table class=\"simpletable\">\n",
       "<tr>\n",
       "    <td></td>       <th>coef</th>     <th>std err</th>      <th>z</th>      <th>P>|z|</th>  <th>[0.025</th>    <th>0.975]</th>  \n",
       "</tr>\n",
       "<tr>\n",
       "  <th>const</th> <td> 5781.6635</td> <td> 1465.892</td> <td>    3.944</td> <td> 0.000</td> <td> 2908.569</td> <td> 8654.759</td>\n",
       "</tr>\n",
       "<tr>\n",
       "  <th>trend</th> <td>   34.6587</td> <td>    7.480</td> <td>    4.634</td> <td> 0.000</td> <td>   19.999</td> <td>   49.318</td>\n",
       "</tr>\n",
       "<tr>\n",
       "  <th>y.L1</th>  <td>    1.8215</td> <td>    0.092</td> <td>   19.776</td> <td> 0.000</td> <td>    1.641</td> <td>    2.002</td>\n",
       "</tr>\n",
       "<tr>\n",
       "  <th>y.L2</th>  <td>   -0.7910</td> <td>    0.192</td> <td>   -4.125</td> <td> 0.000</td> <td>   -1.167</td> <td>   -0.415</td>\n",
       "</tr>\n",
       "<tr>\n",
       "  <th>y.L3</th>  <td>   -0.6297</td> <td>    0.212</td> <td>   -2.969</td> <td> 0.003</td> <td>   -1.045</td> <td>   -0.214</td>\n",
       "</tr>\n",
       "<tr>\n",
       "  <th>y.L4</th>  <td>    1.0506</td> <td>    0.195</td> <td>    5.377</td> <td> 0.000</td> <td>    0.668</td> <td>    1.434</td>\n",
       "</tr>\n",
       "<tr>\n",
       "  <th>y.L5</th>  <td>   -0.4705</td> <td>    0.090</td> <td>   -5.256</td> <td> 0.000</td> <td>   -0.646</td> <td>   -0.295</td>\n",
       "</tr>\n",
       "</table>\n",
       "<table class=\"simpletable\">\n",
       "<caption>Roots</caption>\n",
       "<tr>\n",
       "    <td></td>   <th>            Real</th>  <th>         Imaginary</th> <th>         Modulus</th>  <th>        Frequency</th>\n",
       "</tr>\n",
       "<tr>\n",
       "  <th>AR.1</th> <td>          -1.1897</td> <td>          -0.0000j</td> <td>           1.1897</td> <td>          -0.5000</td>\n",
       "</tr>\n",
       "<tr>\n",
       "  <th>AR.2</th> <td>           0.6261</td> <td>          -1.0560j</td> <td>           1.2277</td> <td>          -0.1648</td>\n",
       "</tr>\n",
       "<tr>\n",
       "  <th>AR.3</th> <td>           0.6261</td> <td>          +1.0560j</td> <td>           1.2277</td> <td>           0.1648</td>\n",
       "</tr>\n",
       "<tr>\n",
       "  <th>AR.4</th> <td>           1.0853</td> <td>          -0.0864j</td> <td>           1.0887</td> <td>          -0.0126</td>\n",
       "</tr>\n",
       "<tr>\n",
       "  <th>AR.5</th> <td>           1.0853</td> <td>          +0.0864j</td> <td>           1.0887</td> <td>           0.0126</td>\n",
       "</tr>\n",
       "</table>"
      ],
      "text/latex": [
       "\\begin{center}\n",
       "\\begin{tabular}{lclc}\n",
       "\\toprule\n",
       "\\textbf{Dep. Variable:} &             y             & \\textbf{  No. Observations:  } &             96             \\\\\n",
       "\\textbf{Model:}         &         AutoReg(5)        & \\textbf{  Log Likelihood     } &          -701.831          \\\\\n",
       "\\textbf{Method:}        &      Conditional MLE      & \\textbf{  S.D. of innovations} &          541.039           \\\\\n",
       "\\textbf{Date:}          &      Sat, 19 Oct 2024     & \\textbf{  AIC                } &          1419.662          \\\\\n",
       "\\textbf{Time:}          &          16:11:42         & \\textbf{  BIC                } &          1439.749          \\\\\n",
       "\\textbf{Sample:}        &             5             & \\textbf{  HQIC               } &          1427.766          \\\\\n",
       "\\textbf{}               &             96            & \\textbf{                     } &                            \\\\\n",
       "\\bottomrule\n",
       "\\end{tabular}\n",
       "\\begin{tabular}{lcccccc}\n",
       "               & \\textbf{coef} & \\textbf{std err} & \\textbf{z} & \\textbf{P$> |$z$|$} & \\textbf{[0.025} & \\textbf{0.975]}  \\\\\n",
       "\\midrule\n",
       "\\textbf{const} &    5781.6635  &     1465.892     &     3.944  &         0.000        &     2908.569    &     8654.759     \\\\\n",
       "\\textbf{trend} &      34.6587  &        7.480     &     4.634  &         0.000        &       19.999    &       49.318     \\\\\n",
       "\\textbf{y.L1}  &       1.8215  &        0.092     &    19.776  &         0.000        &        1.641    &        2.002     \\\\\n",
       "\\textbf{y.L2}  &      -0.7910  &        0.192     &    -4.125  &         0.000        &       -1.167    &       -0.415     \\\\\n",
       "\\textbf{y.L3}  &      -0.6297  &        0.212     &    -2.969  &         0.003        &       -1.045    &       -0.214     \\\\\n",
       "\\textbf{y.L4}  &       1.0506  &        0.195     &     5.377  &         0.000        &        0.668    &        1.434     \\\\\n",
       "\\textbf{y.L5}  &      -0.4705  &        0.090     &    -5.256  &         0.000        &       -0.646    &       -0.295     \\\\\n",
       "\\bottomrule\n",
       "\\end{tabular}\n",
       "\\begin{tabular}{lcccc}\n",
       "              & \\textbf{            Real} & \\textbf{         Imaginary} & \\textbf{         Modulus} & \\textbf{        Frequency}  \\\\\n",
       "\\midrule\n",
       "\\textbf{AR.1} &               -1.1897     &                -0.0000j     &                1.1897     &               -0.5000       \\\\\n",
       "\\textbf{AR.2} &                0.6261     &                -1.0560j     &                1.2277     &               -0.1648       \\\\\n",
       "\\textbf{AR.3} &                0.6261     &                +1.0560j     &                1.2277     &                0.1648       \\\\\n",
       "\\textbf{AR.4} &                1.0853     &                -0.0864j     &                1.0887     &               -0.0126       \\\\\n",
       "\\textbf{AR.5} &                1.0853     &                +0.0864j     &                1.0887     &                0.0126       \\\\\n",
       "\\bottomrule\n",
       "\\end{tabular}\n",
       "%\\caption{AutoReg Model Results}\n",
       "\\end{center}"
      ],
      "text/plain": [
       "<class 'statsmodels.iolib.summary.Summary'>\n",
       "\"\"\"\n",
       "                            AutoReg Model Results                             \n",
       "==============================================================================\n",
       "Dep. Variable:                      y   No. Observations:                   96\n",
       "Model:                     AutoReg(5)   Log Likelihood                -701.831\n",
       "Method:               Conditional MLE   S.D. of innovations            541.039\n",
       "Date:                Sat, 19 Oct 2024   AIC                           1419.662\n",
       "Time:                        16:11:42   BIC                           1439.749\n",
       "Sample:                             5   HQIC                          1427.766\n",
       "                                   96                                         \n",
       "==============================================================================\n",
       "                 coef    std err          z      P>|z|      [0.025      0.975]\n",
       "------------------------------------------------------------------------------\n",
       "const       5781.6635   1465.892      3.944      0.000    2908.569    8654.759\n",
       "trend         34.6587      7.480      4.634      0.000      19.999      49.318\n",
       "y.L1           1.8215      0.092     19.776      0.000       1.641       2.002\n",
       "y.L2          -0.7910      0.192     -4.125      0.000      -1.167      -0.415\n",
       "y.L3          -0.6297      0.212     -2.969      0.003      -1.045      -0.214\n",
       "y.L4           1.0506      0.195      5.377      0.000       0.668       1.434\n",
       "y.L5          -0.4705      0.090     -5.256      0.000      -0.646      -0.295\n",
       "                                    Roots                                    \n",
       "=============================================================================\n",
       "                  Real          Imaginary           Modulus         Frequency\n",
       "-----------------------------------------------------------------------------\n",
       "AR.1           -1.1897           -0.0000j            1.1897           -0.5000\n",
       "AR.2            0.6261           -1.0560j            1.2277           -0.1648\n",
       "AR.3            0.6261           +1.0560j            1.2277            0.1648\n",
       "AR.4            1.0853           -0.0864j            1.0887           -0.0126\n",
       "AR.5            1.0853           +0.0864j            1.0887            0.0126\n",
       "-----------------------------------------------------------------------------\n",
       "\"\"\""
      ]
     },
     "execution_count": 290,
     "metadata": {},
     "output_type": "execute_result"
    }
   ],
   "source": [
    "from statsmodels.tsa.ar_model import AutoReg\n",
    "\n",
    "p = 5\n",
    "res = AutoReg(train, lags=p, trend=\"ct\").fit()\n",
    "res.summary()"
   ]
  },
  {
   "cell_type": "markdown",
   "metadata": {},
   "source": [
    "p=1 : MSE=1.2\n",
    "\n",
    "p=2 : MSE=0.4\n",
    "\n",
    "p=3 : MSE=0.4\n",
    "\n",
    "p=4 : MSE=0.4\n",
    "\n",
    "p=4 : MSE=0.3"
   ]
  },
  {
   "cell_type": "code",
   "execution_count": 291,
   "metadata": {},
   "outputs": [
    {
     "data": {
      "text/plain": [
       "{1: 1.1815135004442354,\n",
       " 2: 0.38798065765300316,\n",
       " 3: 0.38290128013326175,\n",
       " 4: 0.3662614780241956,\n",
       " 5: 0.2774775940885144}"
      ]
     },
     "execution_count": 291,
     "metadata": {},
     "output_type": "execute_result"
    }
   ],
   "source": [
    "MSE_dict = {}\n",
    "for p in [1, 2, 3, 4, 5]:\n",
    "    res = AutoReg(train, lags=p, trend=\"ct\").fit()\n",
    "    MSE = (res.resid**2).sum() / len(train) / 10**6\n",
    "    MSE_dict[p] = MSE\n",
    "\n",
    "MSE_dict"
   ]
  },
  {
   "cell_type": "code",
   "execution_count": 292,
   "metadata": {},
   "outputs": [
    {
     "data": {
      "text/plain": [
       "2010-01-31    352001.0\n",
       "2010-02-28    353713.0\n",
       "2010-03-31    354899.0\n",
       "2010-04-30    356066.0\n",
       "2010-05-31    356716.0\n",
       "                ...   \n",
       "2017-08-31    452393.0\n",
       "2017-09-30    454372.0\n",
       "2017-10-31    455955.0\n",
       "2017-11-30    459183.0\n",
       "2017-12-31    461409.0\n",
       "Name: 11, Length: 96, dtype: object"
      ]
     },
     "execution_count": 292,
     "metadata": {},
     "output_type": "execute_result"
    }
   ],
   "source": [
    "boston_slice"
   ]
  },
  {
   "cell_type": "code",
   "execution_count": 293,
   "metadata": {},
   "outputs": [
    {
     "data": {
      "text/html": [
       "<table class=\"simpletable\">\n",
       "<caption>AutoReg Model Results</caption>\n",
       "<tr>\n",
       "  <th>Dep. Variable:</th>         <td>y</td>        <th>  No. Observations:  </th>    <td>96</td>   \n",
       "</tr>\n",
       "<tr>\n",
       "  <th>Model:</th>            <td>AutoReg(2)</td>    <th>  Log Likelihood     </th> <td>-739.199</td>\n",
       "</tr>\n",
       "<tr>\n",
       "  <th>Method:</th>         <td>Conditional MLE</td> <th>  S.D. of innovations</th>  <td>629.472</td>\n",
       "</tr>\n",
       "<tr>\n",
       "  <th>Date:</th>          <td>Sat, 19 Oct 2024</td> <th>  AIC                </th> <td>1488.398</td>\n",
       "</tr>\n",
       "<tr>\n",
       "  <th>Time:</th>              <td>16:11:42</td>     <th>  BIC                </th> <td>1501.115</td>\n",
       "</tr>\n",
       "<tr>\n",
       "  <th>Sample:</th>                <td>2</td>        <th>  HQIC               </th> <td>1493.535</td>\n",
       "</tr>\n",
       "<tr>\n",
       "  <th></th>                      <td>96</td>        <th>                     </th>     <td> </td>   \n",
       "</tr>\n",
       "</table>\n",
       "<table class=\"simpletable\">\n",
       "<tr>\n",
       "    <td></td>       <th>coef</th>     <th>std err</th>      <th>z</th>      <th>P>|z|</th>  <th>[0.025</th>    <th>0.975]</th>  \n",
       "</tr>\n",
       "<tr>\n",
       "  <th>const</th> <td> 4059.3360</td> <td> 1491.870</td> <td>    2.721</td> <td> 0.007</td> <td> 1135.325</td> <td> 6983.347</td>\n",
       "</tr>\n",
       "<tr>\n",
       "  <th>trend</th> <td>   25.9208</td> <td>    6.973</td> <td>    3.717</td> <td> 0.000</td> <td>   12.253</td> <td>   39.588</td>\n",
       "</tr>\n",
       "<tr>\n",
       "  <th>y.L1</th>  <td>    1.7525</td> <td>    0.059</td> <td>   29.648</td> <td> 0.000</td> <td>    1.637</td> <td>    1.868</td>\n",
       "</tr>\n",
       "<tr>\n",
       "  <th>y.L2</th>  <td>   -0.7658</td> <td>    0.058</td> <td>  -13.148</td> <td> 0.000</td> <td>   -0.880</td> <td>   -0.652</td>\n",
       "</tr>\n",
       "</table>\n",
       "<table class=\"simpletable\">\n",
       "<caption>Roots</caption>\n",
       "<tr>\n",
       "    <td></td>   <th>            Real</th>  <th>         Imaginary</th> <th>         Modulus</th>  <th>        Frequency</th>\n",
       "</tr>\n",
       "<tr>\n",
       "  <th>AR.1</th> <td>           1.0854</td> <td>          +0.0000j</td> <td>           1.0854</td> <td>           0.0000</td>\n",
       "</tr>\n",
       "<tr>\n",
       "  <th>AR.2</th> <td>           1.2031</td> <td>          +0.0000j</td> <td>           1.2031</td> <td>           0.0000</td>\n",
       "</tr>\n",
       "</table>"
      ],
      "text/latex": [
       "\\begin{center}\n",
       "\\begin{tabular}{lclc}\n",
       "\\toprule\n",
       "\\textbf{Dep. Variable:} &             y             & \\textbf{  No. Observations:  } &             96             \\\\\n",
       "\\textbf{Model:}         &         AutoReg(2)        & \\textbf{  Log Likelihood     } &          -739.199          \\\\\n",
       "\\textbf{Method:}        &      Conditional MLE      & \\textbf{  S.D. of innovations} &          629.472           \\\\\n",
       "\\textbf{Date:}          &      Sat, 19 Oct 2024     & \\textbf{  AIC                } &          1488.398          \\\\\n",
       "\\textbf{Time:}          &          16:11:42         & \\textbf{  BIC                } &          1501.115          \\\\\n",
       "\\textbf{Sample:}        &             2             & \\textbf{  HQIC               } &          1493.535          \\\\\n",
       "\\textbf{}               &             96            & \\textbf{                     } &                            \\\\\n",
       "\\bottomrule\n",
       "\\end{tabular}\n",
       "\\begin{tabular}{lcccccc}\n",
       "               & \\textbf{coef} & \\textbf{std err} & \\textbf{z} & \\textbf{P$> |$z$|$} & \\textbf{[0.025} & \\textbf{0.975]}  \\\\\n",
       "\\midrule\n",
       "\\textbf{const} &    4059.3360  &     1491.870     &     2.721  &         0.007        &     1135.325    &     6983.347     \\\\\n",
       "\\textbf{trend} &      25.9208  &        6.973     &     3.717  &         0.000        &       12.253    &       39.588     \\\\\n",
       "\\textbf{y.L1}  &       1.7525  &        0.059     &    29.648  &         0.000        &        1.637    &        1.868     \\\\\n",
       "\\textbf{y.L2}  &      -0.7658  &        0.058     &   -13.148  &         0.000        &       -0.880    &       -0.652     \\\\\n",
       "\\bottomrule\n",
       "\\end{tabular}\n",
       "\\begin{tabular}{lcccc}\n",
       "              & \\textbf{            Real} & \\textbf{         Imaginary} & \\textbf{         Modulus} & \\textbf{        Frequency}  \\\\\n",
       "\\midrule\n",
       "\\textbf{AR.1} &                1.0854     &                +0.0000j     &                1.0854     &                0.0000       \\\\\n",
       "\\textbf{AR.2} &                1.2031     &                +0.0000j     &                1.2031     &                0.0000       \\\\\n",
       "\\bottomrule\n",
       "\\end{tabular}\n",
       "%\\caption{AutoReg Model Results}\n",
       "\\end{center}"
      ],
      "text/plain": [
       "<class 'statsmodels.iolib.summary.Summary'>\n",
       "\"\"\"\n",
       "                            AutoReg Model Results                             \n",
       "==============================================================================\n",
       "Dep. Variable:                      y   No. Observations:                   96\n",
       "Model:                     AutoReg(2)   Log Likelihood                -739.199\n",
       "Method:               Conditional MLE   S.D. of innovations            629.472\n",
       "Date:                Sat, 19 Oct 2024   AIC                           1488.398\n",
       "Time:                        16:11:42   BIC                           1501.115\n",
       "Sample:                             2   HQIC                          1493.535\n",
       "                                   96                                         \n",
       "==============================================================================\n",
       "                 coef    std err          z      P>|z|      [0.025      0.975]\n",
       "------------------------------------------------------------------------------\n",
       "const       4059.3360   1491.870      2.721      0.007    1135.325    6983.347\n",
       "trend         25.9208      6.973      3.717      0.000      12.253      39.588\n",
       "y.L1           1.7525      0.059     29.648      0.000       1.637       1.868\n",
       "y.L2          -0.7658      0.058    -13.148      0.000      -0.880      -0.652\n",
       "                                    Roots                                    \n",
       "=============================================================================\n",
       "                  Real          Imaginary           Modulus         Frequency\n",
       "-----------------------------------------------------------------------------\n",
       "AR.1            1.0854           +0.0000j            1.0854            0.0000\n",
       "AR.2            1.2031           +0.0000j            1.2031            0.0000\n",
       "-----------------------------------------------------------------------------\n",
       "\"\"\""
      ]
     },
     "execution_count": 293,
     "metadata": {},
     "output_type": "execute_result"
    }
   ],
   "source": [
    "p = 2\n",
    "res = AutoReg(train, lags=p, trend=\"ct\").fit()\n",
    "res.summary()"
   ]
  },
  {
   "attachments": {
    "image.png": {
     "image/png": "[encoded data removed]"
    }
   },
   "cell_type": "markdown",
   "metadata": {},
   "source": [
    "![image.png](attachment:image.png)"
   ]
  },
  {
   "cell_type": "code",
   "execution_count": 294,
   "metadata": {},
   "outputs": [
    {
     "data": {
      "text/plain": [
       "array([4059.336 ,   25.9208,    1.7525,   -0.7658])"
      ]
     },
     "execution_count": 294,
     "metadata": {},
     "output_type": "execute_result"
    }
   ],
   "source": [
    "def predict_y_t(params, y_lags_arr):\n",
    "    return params[0] + y_lags_arr @ params[1:]\n",
    "\n",
    "params = res.params\n",
    "params"
   ]
  },
  {
   "cell_type": "code",
   "execution_count": 295,
   "metadata": {},
   "outputs": [
    {
     "data": {
      "text/plain": [
       "0     464123.0\n",
       "1     466719.0\n",
       "2     470227.0\n",
       "3     472858.0\n",
       "4     475336.0\n",
       "5     477316.0\n",
       "6     478886.0\n",
       "7     480190.0\n",
       "8     480991.0\n",
       "9     482472.0\n",
       "10    483526.0\n",
       "11    484936.0\n",
       "12    486288.0\n",
       "13    487146.0\n",
       "14    486783.0\n",
       "15    485946.0\n",
       "16    485379.0\n",
       "17    485838.0\n",
       "18    485973.0\n",
       "19    486692.0\n",
       "20    488060.0\n",
       "21    489468.0\n",
       "22    490736.0\n",
       "23    492230.0\n",
       "Name: 11, dtype: float64"
      ]
     },
     "execution_count": 295,
     "metadata": {},
     "output_type": "execute_result"
    }
   ],
   "source": [
    "s_no_idx = test.reset_index()\n",
    "s_no_idx = s_no_idx.iloc[:, 1]\n",
    "s_no_idx = s_no_idx.astype(float)\n",
    "s_no_idx"
   ]
  },
  {
   "cell_type": "code",
   "execution_count": 296,
   "metadata": {},
   "outputs": [],
   "source": [
    "np.set_printoptions(precision=4, suppress=True)"
   ]
  },
  {
   "cell_type": "code",
   "execution_count": 297,
   "metadata": {},
   "outputs": [
    {
     "data": {
      "text/plain": [
       "array([[     1., 464123., 466719.],\n",
       "       [     2., 466719., 470227.],\n",
       "       [     3., 470227., 472858.],\n",
       "       [     4., 472858., 475336.],\n",
       "       [     5., 475336., 477316.]])"
      ]
     },
     "execution_count": 297,
     "metadata": {},
     "output_type": "execute_result"
    }
   ],
   "source": [
    "y_lags_arr = [s_no_idx[i:i+2].to_list() for i in range(0, len(s_no_idx)-1)]\n",
    "y_lags_arr = np.array(y_lags_arr)\n",
    "y_lags_arr = np.hstack([np.arange(1, y_lags_arr.shape[0]+1)[:, np.newaxis], y_lags_arr])\n",
    "y_lags_arr[:5]"
   ]
  },
  {
   "cell_type": "code",
   "execution_count": 298,
   "metadata": {},
   "outputs": [
    {
     "data": {
      "text/plain": [
       "array([460053.0651, 461942.1113, 466100.995 , 468840.1173, 471692.4622,\n",
       "       473986.037 , 475764.7895, 477462.5633, 477758.1192, 479572.3428,\n",
       "       480365.6451, 481827.2443, 483565.4884, 485373.0089, 485403.7265,\n",
       "       484397.0124, 483077.7911, 483804.7211, 483516.6404, 483755.0247,\n",
       "       485100.1368, 486622.5554, 487726.5638])"
      ]
     },
     "execution_count": 298,
     "metadata": {},
     "output_type": "execute_result"
    }
   ],
   "source": [
    "predictions = predict_y_t(params, y_lags_arr)\n",
    "predictions"
   ]
  },
  {
   "cell_type": "code",
   "execution_count": 299,
   "metadata": {},
   "outputs": [
    {
     "data": {
      "text/plain": [
       "0     464123.0\n",
       "1     466719.0\n",
       "2     470227.0\n",
       "3     472858.0\n",
       "4     475336.0\n",
       "5     477316.0\n",
       "6     478886.0\n",
       "7     480190.0\n",
       "8     480991.0\n",
       "9     482472.0\n",
       "10    483526.0\n",
       "11    484936.0\n",
       "12    486288.0\n",
       "13    487146.0\n",
       "14    486783.0\n",
       "15    485946.0\n",
       "16    485379.0\n",
       "17    485838.0\n",
       "18    485973.0\n",
       "19    486692.0\n",
       "20    488060.0\n",
       "21    489468.0\n",
       "22    490736.0\n",
       "23    492230.0\n",
       "Name: 11, dtype: object"
      ]
     },
     "execution_count": 299,
     "metadata": {},
     "output_type": "execute_result"
    }
   ],
   "source": [
    "test.reset_index().iloc[:, 1]"
   ]
  },
  {
   "cell_type": "code",
   "execution_count": 301,
   "metadata": {},
   "outputs": [
    {
     "data": {
      "text/plain": [
       "<matplotlib.legend.Legend at 0x1db6daf1340>"
      ]
     },
     "execution_count": 301,
     "metadata": {},
     "output_type": "execute_result"
    },
    {
     "data": {
      "image/png": "[encoded data removed]",
      "text/plain": [
       "<Figure size 640x480 with 1 Axes>"
      ]
     },
     "metadata": {},
     "output_type": "display_data"
    }
   ],
   "source": [
    "plt.plot(predictions, label=\"preds\", c=\"r\")\n",
    "plt.plot(test.reset_index().iloc[:, 1], label=\"test data\", c=\"b\")\n",
    "plt.legend()"
   ]
  }
 ],
 "metadata": {
  "kernelspec": {
   "display_name": "Python 3",
   "language": "python",
   "name": "python3"
  },
  "language_info": {
   "codemirror_mode": {
    "name": "ipython",
    "version": 3
   },
   "file_extension": ".py",
   "mimetype": "text/x-python",
   "name": "python",
   "nbconvert_exporter": "python",
   "pygments_lexer": "ipython3",
   "version": "3.12.5"
  }
 },
 "nbformat": 4,
 "nbformat_minor": 2
}
