{
 "cells": [
  {
   "cell_type": "code",
   "execution_count": 278,
   "metadata": {},
   "outputs": [],
   "source": [
    "import numpy as np\n",
    "import pandas as pd"
   ]
  },
  {
   "cell_type": "code",
   "execution_count": 279,
   "metadata": {},
   "outputs": [],
   "source": [
    "y_1= np.array([0, 0, 0, 0, 0,  2.7,  7.74,  6.24,   8.32,  8.75, 11.46, 8.94,  11.68, 12.62, 15.13, 13.9,  15.83, 16.12, 18.04, 19.58, 18.9,  22.14, 22.9,  23.5, 24.9,  24.32, 25.88, 26.06, 27.73, 29.53, 29.31, 30.6,  31.31, 32.15, 33.33, 34.99])\n",
    "\n",
    "y_2=np.array([-1.12,  1.23,  3.66,  3.74,  3.81,  4.11,  5.25,  8.69,  8.05,  8.36, 10.19, 13.1,  12.12, 13.62, 14.3,  14.65, 14.86, 16.65, 17.79, 19.59, 20.84, 21.93, 22.29, 23.89,  23.25, 26.25, 26.51, 26.7,  28.49, 28.92, 31.13, 32.52, 34.19, 31.6,  32.56, 34.5]) \n",
    "\n",
    "y_3=np.array([0.16,  1.88,  2.32,  0.98,  3.69,  5.83,  6.23,  7.76,  7.78,  8.8,  10.19, 11.41,  12.2,  13.12, 13.33, 15.38, 16.12, 18.13, 19.2,  19.19, 19.62, 20.36, 22.42, 23.08,  23.66, 25.04, 25.38, 27.7,  27.55, 30.22, 30.4,  31.59, 30.91, 33.17, 34.74, 34.05]) \n",
    "\n",
    "y_4=np.array([-0.27,  1.03,  0.63,  3.32,  4.85,  4.14,  6.35,  5.69,  7.96,  7.38, 11.12, 11.41,  11.98, 12.22, 15.27, 16.97, 14.14, 18.24, 19.63, 19.34, 18.8,  21.86, 21.82, 22.4,  22.77, 25.55, 26.79, 26.38, 28.52, 27.86, 30.8,  31.05, 31.81, 32.9,  34.87, 35.75])\n",
    "\n",
    "y_5=np.array([0.53,  1.14,  2.08,  3.62,  4.23,  5.68,  5.69,  4.57,  9.04, 11.19, 10.44, 10.9,  11.86, 12.88, 14.02, 13.88, 15.48, 16.0, 18.25, 18.7,  20.5,  20.83, 22.99, 23.21,  26.19, 23.1,  25.35, 27.9,  30.53, 28.75, 30.04, 30.77, 33.33, 32.71, 34.68, 34.68])"
   ]
  },
  {
   "cell_type": "code",
   "execution_count": 280,
   "metadata": {},
   "outputs": [
    {
     "data": {
      "text/plain": [
       "13.416407864998739"
      ]
     },
     "execution_count": 280,
     "metadata": {},
     "output_type": "execute_result"
    }
   ],
   "source": [
    "N = 5\n",
    "T = 36\n",
    "L = np.sqrt(N*T)\n",
    "L"
   ]
  },
  {
   "cell_type": "code",
   "execution_count": 281,
   "metadata": {},
   "outputs": [
    {
     "data": {
      "text/plain": [
       "array([[ 0.  ,  0.  ,  0.  ,  0.  ,  0.  ,  2.7 ,  7.74,  6.24,  8.32,\n",
       "         8.75, 11.46,  8.94, 11.68, 12.62, 15.13, 13.9 , 15.83, 16.12,\n",
       "        18.04, 19.58, 18.9 , 22.14, 22.9 , 23.5 , 24.9 , 24.32, 25.88,\n",
       "        26.06, 27.73, 29.53, 29.31, 30.6 , 31.31, 32.15, 33.33, 34.99],\n",
       "       [-1.12,  1.23,  3.66,  3.74,  3.81,  4.11,  5.25,  8.69,  8.05,\n",
       "         8.36, 10.19, 13.1 , 12.12, 13.62, 14.3 , 14.65, 14.86, 16.65,\n",
       "        17.79, 19.59, 20.84, 21.93, 22.29, 23.89, 23.25, 26.25, 26.51,\n",
       "        26.7 , 28.49, 28.92, 31.13, 32.52, 34.19, 31.6 , 32.56, 34.5 ],\n",
       "       [ 0.16,  1.88,  2.32,  0.98,  3.69,  5.83,  6.23,  7.76,  7.78,\n",
       "         8.8 , 10.19, 11.41, 12.2 , 13.12, 13.33, 15.38, 16.12, 18.13,\n",
       "        19.2 , 19.19, 19.62, 20.36, 22.42, 23.08, 23.66, 25.04, 25.38,\n",
       "        27.7 , 27.55, 30.22, 30.4 , 31.59, 30.91, 33.17, 34.74, 34.05],\n",
       "       [-0.27,  1.03,  0.63,  3.32,  4.85,  4.14,  6.35,  5.69,  7.96,\n",
       "         7.38, 11.12, 11.41, 11.98, 12.22, 15.27, 16.97, 14.14, 18.24,\n",
       "        19.63, 19.34, 18.8 , 21.86, 21.82, 22.4 , 22.77, 25.55, 26.79,\n",
       "        26.38, 28.52, 27.86, 30.8 , 31.05, 31.81, 32.9 , 34.87, 35.75],\n",
       "       [ 0.53,  1.14,  2.08,  3.62,  4.23,  5.68,  5.69,  4.57,  9.04,\n",
       "        11.19, 10.44, 10.9 , 11.86, 12.88, 14.02, 13.88, 15.48, 16.  ,\n",
       "        18.25, 18.7 , 20.5 , 20.83, 22.99, 23.21, 26.19, 23.1 , 25.35,\n",
       "        27.9 , 30.53, 28.75, 30.04, 30.77, 33.33, 32.71, 34.68, 34.68]])"
      ]
     },
     "execution_count": 281,
     "metadata": {},
     "output_type": "execute_result"
    }
   ],
   "source": [
    "Y = np.vstack([y_1, y_2, y_3, y_4, y_5])\n",
    "Y"
   ]
  },
  {
   "cell_type": "code",
   "execution_count": 282,
   "metadata": {},
   "outputs": [],
   "source": [
    "L = 12\n",
    "T = 36\n",
    "N = 5\n",
    "\n",
    "def construct_page_matrix(y, L):\n",
    "    T = y.shape[0]\n",
    "    P = np.zeros((L, int(T/L)))\n",
    "\n",
    "    for j in range(P.shape[1]):\n",
    "        P[:, j] = y[j*L:(j+1)*L]\n",
    "    \n",
    "    return P\n",
    "\n",
    "def construct_stacked_page_matrix(Y, L):\n",
    "    N, T = Y.shape\n",
    "    stacked_P = np.hstack([construct_page_matrix(Y[i, :], L) for i in range (N)])\n",
    "\n",
    "    return stacked_P"
   ]
  },
  {
   "cell_type": "code",
   "execution_count": 283,
   "metadata": {},
   "outputs": [
    {
     "data": {
      "text/plain": [
       "210.65"
      ]
     },
     "execution_count": 283,
     "metadata": {},
     "output_type": "execute_result"
    }
   ],
   "source": [
    "stacked_P = construct_stacked_page_matrix(Y, L)\n",
    "\n",
    "stacked_P[2, :].sum()"
   ]
  },
  {
   "cell_type": "code",
   "execution_count": 284,
   "metadata": {},
   "outputs": [
    {
     "data": {
      "text/plain": [
       "array([0., 0., 0., 0., 0.])"
      ]
     },
     "execution_count": 284,
     "metadata": {},
     "output_type": "execute_result"
    }
   ],
   "source": [
    "stacked_P[:5, 0]"
   ]
  },
  {
   "cell_type": "code",
   "execution_count": 285,
   "metadata": {},
   "outputs": [
    {
     "data": {
      "text/plain": [
       "(12, 15)"
      ]
     },
     "execution_count": 285,
     "metadata": {},
     "output_type": "execute_result"
    }
   ],
   "source": [
    "stacked_P.shape"
   ]
  },
  {
   "cell_type": "code",
   "execution_count": 286,
   "metadata": {},
   "outputs": [
    {
     "name": "stdout",
     "output_type": "stream",
     "text": [
      "U.shape = (12, 12)\n",
      "S.shape = (12,)\n",
      "VT.shape = (15, 15)\n"
     ]
    }
   ],
   "source": [
    "U, S, VT = np.linalg.svd(stacked_P)\n",
    "print(\"U.shape =\", U.shape)\n",
    "print(\"S.shape =\", S.shape)\n",
    "print(\"VT.shape =\", VT.shape)"
   ]
  },
  {
   "cell_type": "code",
   "execution_count": 287,
   "metadata": {},
   "outputs": [
    {
     "data": {
      "text/plain": [
       "(15, 15)"
      ]
     },
     "execution_count": 287,
     "metadata": {},
     "output_type": "execute_result"
    }
   ],
   "source": [
    "VT.shape"
   ]
  },
  {
   "cell_type": "code",
   "execution_count": 288,
   "metadata": {},
   "outputs": [
    {
     "data": {
      "text/plain": [
       "array([0.8264, 0.9009, 0.9181, 0.9347, 0.9499, 0.961 , 0.9709, 0.9802,\n",
       "       0.9887, 0.9938, 0.9982, 1.    ])"
      ]
     },
     "execution_count": 288,
     "metadata": {},
     "output_type": "execute_result"
    }
   ],
   "source": [
    "S.cumsum() / S.sum()"
   ]
  },
  {
   "cell_type": "code",
   "execution_count": 289,
   "metadata": {},
   "outputs": [
    {
     "data": {
      "text/plain": [
       "(12, 15)"
      ]
     },
     "execution_count": 289,
     "metadata": {},
     "output_type": "execute_result"
    }
   ],
   "source": [
    "r = 2\n",
    "S_r = np.diag(S)\n",
    "S_r = np.hstack([S_r, np.zeros((S_r.shape[0], 3))])\n",
    "S_r[r:, r:] = 0\n",
    "S_r.shape"
   ]
  },
  {
   "cell_type": "code",
   "execution_count": 290,
   "metadata": {},
   "outputs": [
    {
     "data": {
      "text/plain": [
       "0.9722222222222222"
      ]
     },
     "execution_count": 290,
     "metadata": {},
     "output_type": "execute_result"
    }
   ],
   "source": [
    "rho_hat = (N*T - 5) / (N*T)\n",
    "rho_hat"
   ]
  },
  {
   "cell_type": "code",
   "execution_count": 291,
   "metadata": {},
   "outputs": [
    {
     "data": {
      "text/plain": [
       "(15, 15)"
      ]
     },
     "execution_count": 291,
     "metadata": {},
     "output_type": "execute_result"
    }
   ],
   "source": [
    "VT.shape"
   ]
  },
  {
   "cell_type": "code",
   "execution_count": 292,
   "metadata": {},
   "outputs": [
    {
     "data": {
      "text/plain": [
       "array([-1.6773, -0.2737,  0.6666,  1.0894,  1.8218])"
      ]
     },
     "execution_count": 292,
     "metadata": {},
     "output_type": "execute_result"
    }
   ],
   "source": [
    "np.set_printoptions(precision=4, suppress=True)\n",
    "\n",
    "P_hat = (1/rho_hat * U @ S_r @ VT)\n",
    "P_hat[:5, 0]"
   ]
  },
  {
   "cell_type": "code",
   "execution_count": 293,
   "metadata": {},
   "outputs": [
    {
     "data": {
      "text/plain": [
       "array([274.007 ,   7.3519,   6.4945,   5.5289,   4.7904])"
      ]
     },
     "execution_count": 293,
     "metadata": {},
     "output_type": "execute_result"
    }
   ],
   "source": [
    "U, S, VT = np.linalg.svd(Y)\n",
    "S"
   ]
  },
  {
   "cell_type": "code",
   "execution_count": 294,
   "metadata": {},
   "outputs": [
    {
     "data": {
      "text/plain": [
       "array([0.919 , 0.9436, 0.9654, 0.9839, 1.    ])"
      ]
     },
     "execution_count": 294,
     "metadata": {},
     "output_type": "execute_result"
    }
   ],
   "source": [
    "S.cumsum() / S.sum()"
   ]
  },
  {
   "cell_type": "code",
   "execution_count": 295,
   "metadata": {},
   "outputs": [
    {
     "name": "stdout",
     "output_type": "stream",
     "text": [
      "U.shape = (5, 5)\n",
      "S.shape = (5, 5)\n",
      "VT.shape = (36, 36)\n"
     ]
    }
   ],
   "source": [
    "print(\"U.shape =\", U.shape)\n",
    "print(\"S.shape =\", np.diag(S).shape)\n",
    "print(\"VT.shape =\", VT.shape)"
   ]
  },
  {
   "cell_type": "code",
   "execution_count": 296,
   "metadata": {},
   "outputs": [
    {
     "data": {
      "text/plain": [
       "(5, 36)"
      ]
     },
     "execution_count": 296,
     "metadata": {},
     "output_type": "execute_result"
    }
   ],
   "source": [
    "r = 1\n",
    "S_r = np.diag(S)\n",
    "S_r[r:, r:] = 0\n",
    "S_r = np.hstack([S_r, np.zeros((S_r.shape[0], VT.shape[0]-S_r.shape[1]))])\n",
    "S_r.shape"
   ]
  },
  {
   "cell_type": "code",
   "execution_count": 297,
   "metadata": {},
   "outputs": [
    {
     "data": {
      "text/plain": [
       "array([[-0.1432,  1.0752,  1.7716,  2.377 ,  3.3773,  4.5657,  6.3416,\n",
       "         6.6921,  8.3557,  9.033 , 10.8401, 11.3303, 12.1514, 13.0901,\n",
       "        14.6276, 15.1861, 15.517 , 17.289 , 18.8658, 19.5731, 20.037 ,\n",
       "        21.7491, 22.8258, 23.57  , 24.5207, 25.2329, 26.3789, 27.3617,\n",
       "        29.0035, 29.4971, 30.8023, 31.7863, 32.8087, 33.0018, 34.5558,\n",
       "        35.3239],\n",
       "       [-0.146 ,  1.0964,  1.8066,  2.424 ,  3.444 ,  4.6559,  6.4668,\n",
       "         6.8242,  8.5207,  9.2114, 11.0541, 11.5541, 12.3913, 13.3486,\n",
       "        14.9164, 15.4859, 15.8234, 17.6304, 19.2383, 19.9596, 20.4327,\n",
       "        22.1785, 23.2765, 24.0354, 25.0048, 25.7311, 26.8997, 27.902 ,\n",
       "        29.5762, 30.0795, 31.4105, 32.414 , 33.4565, 33.6534, 35.2382,\n",
       "        36.0214],\n",
       "       [-0.1451,  1.0894,  1.795 ,  2.4085,  3.4219,  4.6261,  6.4255,\n",
       "         6.7806,  8.4662,  9.1525, 10.9834, 11.4802, 12.3121, 13.2632,\n",
       "        14.821 , 15.3869, 15.7222, 17.5176, 19.1153, 19.832 , 20.302 ,\n",
       "        22.0367, 23.1277, 23.8816, 24.8449, 25.5665, 26.7277, 27.7235,\n",
       "        29.3871, 29.8871, 31.2096, 32.2067, 33.2425, 33.4382, 35.0128,\n",
       "        35.791 ],\n",
       "       [-0.1453,  1.0909,  1.7976,  2.4118,  3.4267,  4.6326,  6.4345,\n",
       "         6.7901,  8.478 ,  9.1653, 10.9988, 11.4962, 12.3293, 13.2817,\n",
       "        14.8417, 15.4084, 15.7441, 17.5421, 19.142 , 19.8597, 20.3304,\n",
       "        22.0675, 23.16  , 23.915 , 24.8796, 25.6023, 26.765 , 27.7623,\n",
       "        29.4281, 29.9289, 31.2532, 32.2517, 33.289 , 33.4849, 35.0617,\n",
       "        35.841 ],\n",
       "       [-0.1458,  1.0943,  1.8031,  2.4192,  3.4372,  4.6468,  6.4542,\n",
       "         6.8109,  8.5041,  9.1934, 11.0326, 11.5315, 12.3671, 13.3225,\n",
       "        14.8873, 15.4557, 15.7925, 17.596 , 19.2008, 19.9207, 20.3928,\n",
       "        22.1353, 23.2311, 23.9885, 24.9561, 25.6809, 26.8472, 27.8475,\n",
       "        29.5185, 30.0208, 31.3492, 32.3507, 33.3912, 33.5878, 35.1694,\n",
       "        35.9511]])"
      ]
     },
     "execution_count": 297,
     "metadata": {},
     "output_type": "execute_result"
    }
   ],
   "source": [
    "1/rho_hat * (U @ S_r @ VT)"
   ]
  }
 ],
 "metadata": {
  "kernelspec": {
   "display_name": "base",
   "language": "python",
   "name": "python3"
  },
  "language_info": {
   "codemirror_mode": {
    "name": "ipython",
    "version": 3
   },
   "file_extension": ".py",
   "mimetype": "text/x-python",
   "name": "python",
   "nbconvert_exporter": "python",
   "pygments_lexer": "ipython3",
   "version": "3.11.7"
  }
 },
 "nbformat": 4,
 "nbformat_minor": 2
}
