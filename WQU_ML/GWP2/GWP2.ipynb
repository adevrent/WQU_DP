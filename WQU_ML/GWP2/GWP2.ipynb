{
 "cells": [
  {
   "cell_type": "code",
   "execution_count": null,
   "metadata": {
    "vscode": {
     "languageId": "plaintext"
    }
   },
   "outputs": [],
   "source": []
  },
  {
   "cell_type": "markdown",
   "metadata": {},
   "source": [
    "$ f(x) = \\beta_0 + \\large \\sum_{{i \\in \\mathbb{S}}} \\normalsize \\alpha_i K(x, x_i)$\n",
    "\n",
    "where,\n",
    "\n",
    "* $f(x)$ is the **decision value** that compares the similarity of vector $x$ to all **support vectors** $x_i$.\n",
    "* $\\beta_0$ is the **bias** coefficient.\n",
    "* $\\mathbb{S}$ is the set of **support vectors**.\n",
    "* $\\alpha_i$ are the **coefficients** corresponding to each support vector $x_i$.\n",
    "* $K(x, x_i)$ is the **kernel** function, which is generally a non-linear function of the dot product of $x$ and $x_i$"
   ]
  }
 ],
 "metadata": {
  "language_info": {
   "name": "python"
  }
 },
 "nbformat": 4,
 "nbformat_minor": 2
}
