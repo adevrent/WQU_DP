{
 "cells": [
  {
   "cell_type": "code",
   "execution_count": 25,
   "metadata": {},
   "outputs": [],
   "source": [
    "import numpy as np"
   ]
  },
  {
   "cell_type": "code",
   "execution_count": 26,
   "metadata": {},
   "outputs": [
    {
     "data": {
      "text/plain": [
       "11.0"
      ]
     },
     "execution_count": 26,
     "metadata": {},
     "output_type": "execute_result"
    }
   ],
   "source": [
    "P = np.array([0.4, 0.6])  # probability measure\n",
    "S0 = 10  # stock price at t=0\n",
    "S1 = np.array([20, 5])  # possible stock prices at t=1\n",
    "np.dot(P, S1)  # expected value of S1"
   ]
  },
  {
   "cell_type": "code",
   "execution_count": 27,
   "metadata": {},
   "outputs": [
    {
     "name": "stdout",
     "output_type": "stream",
     "text": [
      "Expected return: 1.0\n",
      "Expected rate of return: 0.1\n"
     ]
    }
   ],
   "source": [
    "R = S1 - S0  # possible returns at S1\n",
    "E_R = np.dot(P, R)  # Expected return\n",
    "E_r = E_R / S0  # Expected rate of return\n",
    "\n",
    "print(\"Expected return:\", E_R)\n",
    "print(\"Expected rate of return:\", E_r)"
   ]
  },
  {
   "cell_type": "code",
   "execution_count": 28,
   "metadata": {},
   "outputs": [
    {
     "name": "stdout",
     "output_type": "stream",
     "text": [
      "variance: 0.54\n",
      "std: 0.7348469228349535\n"
     ]
    }
   ],
   "source": [
    "# Variance of returns\n",
    "sigma2 = np.dot(P, (R/S0 - E_r)**2)\n",
    "sigma = np.sqrt(sigma2)\n",
    "\n",
    "print(\"variance:\", sigma2)\n",
    "print(\"std:\", sigma)"
   ]
  },
  {
   "cell_type": "code",
   "execution_count": 29,
   "metadata": {},
   "outputs": [
    {
     "data": {
      "text/plain": [
       "array([[11, 20],\n",
       "       [11,  5]])"
      ]
     },
     "execution_count": 29,
     "metadata": {},
     "output_type": "execute_result"
    }
   ],
   "source": [
    "B = [10, np.array([11, 11])]\n",
    "S = [10, np.array([20, 5])]\n",
    "M = np.array([B[1], S[1]]).T  # t=1 prices matrix\n",
    "M"
   ]
  },
  {
   "cell_type": "code",
   "execution_count": 30,
   "metadata": {},
   "outputs": [
    {
     "data": {
      "text/plain": [
       "array([5, 0])"
      ]
     },
     "execution_count": 30,
     "metadata": {},
     "output_type": "execute_result"
    }
   ],
   "source": [
    "K = 15\n",
    "C1 = np.maximum(S[1]-K, 0)  # payoffs of call option with K=15\n",
    "C1"
   ]
  },
  {
   "cell_type": "code",
   "execution_count": 32,
   "metadata": {},
   "outputs": [
    {
     "data": {
      "text/plain": [
       "array([-0.15151515,  0.33333333])"
      ]
     },
     "execution_count": 32,
     "metadata": {},
     "output_type": "execute_result"
    }
   ],
   "source": [
    "phi = np.linalg.solve(M, C1)  # M @ phi = C1, solution to this equation.\n",
    "phi"
   ]
  },
  {
   "cell_type": "code",
   "execution_count": 33,
   "metadata": {},
   "outputs": [
    {
     "name": "stdout",
     "output_type": "stream",
     "text": [
      "C0 = 1.8181818181818183\n"
     ]
    }
   ],
   "source": [
    "# Price of the call option by replication\n",
    "C0 = np.dot(phi, np.array([B[0], S[0]]))\n",
    "print(\"C0 =\", C0)"
   ]
  },
  {
   "cell_type": "code",
   "execution_count": null,
   "metadata": {},
   "outputs": [],
   "source": []
  }
 ],
 "metadata": {
  "kernelspec": {
   "display_name": "base",
   "language": "python",
   "name": "python3"
  },
  "language_info": {
   "codemirror_mode": {
    "name": "ipython",
    "version": 3
   },
   "file_extension": ".py",
   "mimetype": "text/x-python",
   "name": "python",
   "nbconvert_exporter": "python",
   "pygments_lexer": "ipython3",
   "version": "3.11.5"
  }
 },
 "nbformat": 4,
 "nbformat_minor": 2
}
