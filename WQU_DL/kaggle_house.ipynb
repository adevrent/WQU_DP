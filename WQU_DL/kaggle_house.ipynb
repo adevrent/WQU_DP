{
 "cells": [
  {
   "cell_type": "code",
   "execution_count": 12,
   "metadata": {},
   "outputs": [],
   "source": [
    "import pandas as pd\n",
    "import torch\n",
    "from torch import nn\n",
    "from d2l import torch as d2l"
   ]
  },
  {
   "cell_type": "code",
   "execution_count": 13,
   "metadata": {},
   "outputs": [],
   "source": [
    "class KaggleHouse(d2l.DataModule):\n",
    "    def __init__(self, batch_size, train=None, val=None):\n",
    "        super().__init__()\n",
    "        self.save_hyperparameters()\n",
    "        if self.train is None:\n",
    "            self.raw_train = pd.read_csv(d2l.download(\n",
    "                d2l.DATA_URL + 'kaggle_house_pred_train.csv', self.root,\n",
    "                sha1_hash='585e9cc93e70b39160e7921475f9bcd7d31219ce'))\n",
    "            self.raw_val = pd.read_csv(d2l.download(\n",
    "                d2l.DATA_URL + 'kaggle_house_pred_test.csv', self.root,\n",
    "                sha1_hash='fa19780a7b011d9b009e8bff8e99922a8ee2eb90'))"
   ]
  },
  {
   "cell_type": "code",
   "execution_count": 14,
   "metadata": {},
   "outputs": [
    {
     "name": "stdout",
     "output_type": "stream",
     "text": [
      "(1460, 81)\n",
      "<class 'pandas.core.frame.DataFrame'>\n",
      "(1459, 80)\n",
      "<class 'pandas.core.frame.DataFrame'>\n"
     ]
    }
   ],
   "source": [
    "data = KaggleHouse(batch_size=64)\n",
    "print(data.raw_train.shape)\n",
    "print(type(data.raw_train))\n",
    "print(data.raw_val.shape)\n",
    "print(type(data.raw_val))"
   ]
  },
  {
   "cell_type": "code",
   "execution_count": 15,
   "metadata": {},
   "outputs": [
    {
     "name": "stdout",
     "output_type": "stream",
     "text": [
      "   Id  MSSubClass MSZoning  LotFrontage  LotArea Street Alley LotShape  \\\n",
      "0   1          60       RL         65.0     8450   Pave   NaN      Reg   \n",
      "1   2          20       RL         80.0     9600   Pave   NaN      Reg   \n",
      "2   3          60       RL         68.0    11250   Pave   NaN      IR1   \n",
      "3   4          70       RL         60.0     9550   Pave   NaN      IR1   \n",
      "4   5          60       RL         84.0    14260   Pave   NaN      IR1   \n",
      "\n",
      "  LandContour Utilities  ... PoolArea PoolQC Fence MiscFeature MiscVal MoSold  \\\n",
      "0         Lvl    AllPub  ...        0    NaN   NaN         NaN       0      2   \n",
      "1         Lvl    AllPub  ...        0    NaN   NaN         NaN       0      5   \n",
      "2         Lvl    AllPub  ...        0    NaN   NaN         NaN       0      9   \n",
      "3         Lvl    AllPub  ...        0    NaN   NaN         NaN       0      2   \n",
      "4         Lvl    AllPub  ...        0    NaN   NaN         NaN       0     12   \n",
      "\n",
      "  YrSold  SaleType  SaleCondition  SalePrice  \n",
      "0   2008        WD         Normal     208500  \n",
      "1   2007        WD         Normal     181500  \n",
      "2   2008        WD         Normal     223500  \n",
      "3   2006        WD        Abnorml     140000  \n",
      "4   2008        WD         Normal     250000  \n",
      "\n",
      "[5 rows x 81 columns]\n"
     ]
    }
   ],
   "source": [
    "print(data.raw_train.head())"
   ]
  },
  {
   "cell_type": "code",
   "execution_count": 16,
   "metadata": {},
   "outputs": [],
   "source": [
    "# Add new features to KaggleHouse class\n",
    "\n",
    "@d2l.add_to_class(KaggleHouse)\n",
    "def preprocess(self):\n",
    "    # Remove the ID and label columns\n",
    "    label = \"SalePrice\"\n",
    "    features = pd.concat(\n",
    "        [self.raw_train.drop(columns=[\"Id\", label]), self.raw_val.drop(columns=[\"Id\"])])\n",
    "    \n",
    "    # Standardize the numerical features\n",
    "    numeric_features = features.dtypes[features.dtypes != \"object\"].index\n",
    "    features[numeric_features] = features[numeric_features].apply(lambda x: (x - x.mean()) / x.std(), axis=0)\n",
    "    \n",
    "    # Replace NAN numerical features by 0\n",
    "    features[numeric_features] = features[numeric_features].fillna(0)\n",
    "    \n",
    "    # Replace discrete features by one-hot encoding\n",
    "    features = pd.get_dummies(features, dummy_na=True)\n",
    "    \n",
    "    # Save preprocessed features\n",
    "    \n",
    "    self.train = features.iloc[:self.raw_train.shape[0], :].copy()\n",
    "    self.train[label] = self.raw_train[label]\n",
    "    self.val = features.iloc[self.raw_train.shape[0]:, :].copy()"
   ]
  },
  {
   "cell_type": "code",
   "execution_count": 18,
   "metadata": {},
   "outputs": [
    {
     "name": "stdout",
     "output_type": "stream",
     "text": [
      "(1460, 331)\n",
      "   MSSubClass  LotFrontage   LotArea  OverallQual  OverallCond  YearBuilt  \\\n",
      "0    0.067320    -0.184443 -0.217841     0.646073    -0.507197   1.046078   \n",
      "1   -0.873466     0.458096 -0.072032    -0.063174     2.187904   0.154737   \n",
      "2    0.067320    -0.055935  0.137173     0.646073    -0.507197   0.980053   \n",
      "3    0.302516    -0.398622 -0.078371     0.646073    -0.507197  -1.859033   \n",
      "4    0.067320     0.629439  0.518814     1.355319    -0.507197   0.947040   \n",
      "\n",
      "   YearRemodAdd  MasVnrArea  BsmtFinSF1  BsmtFinSF2  ...  SaleType_WD  \\\n",
      "0      0.896679    0.523038    0.580708    -0.29303  ...         True   \n",
      "1     -0.395536   -0.569893    1.177709    -0.29303  ...         True   \n",
      "2      0.848819    0.333448    0.097840    -0.29303  ...         True   \n",
      "3     -0.682695   -0.569893   -0.494771    -0.29303  ...         True   \n",
      "4      0.753100    1.381770    0.468770    -0.29303  ...         True   \n",
      "\n",
      "   SaleType_nan  SaleCondition_Abnorml  SaleCondition_AdjLand  \\\n",
      "0         False                  False                  False   \n",
      "1         False                  False                  False   \n",
      "2         False                  False                  False   \n",
      "3         False                   True                  False   \n",
      "4         False                  False                  False   \n",
      "\n",
      "   SaleCondition_Alloca  SaleCondition_Family  SaleCondition_Normal  \\\n",
      "0                 False                 False                  True   \n",
      "1                 False                 False                  True   \n",
      "2                 False                 False                  True   \n",
      "3                 False                 False                 False   \n",
      "4                 False                 False                  True   \n",
      "\n",
      "   SaleCondition_Partial  SaleCondition_nan  SalePrice  \n",
      "0                  False              False     208500  \n",
      "1                  False              False     181500  \n",
      "2                  False              False     223500  \n",
      "3                  False              False     140000  \n",
      "4                  False              False     250000  \n",
      "\n",
      "[5 rows x 331 columns]\n"
     ]
    }
   ],
   "source": [
    "data.preprocess()\n",
    "\n",
    "print(data.train.shape)\n",
    "print(data.train.head())"
   ]
  },
  {
   "cell_type": "code",
   "execution_count": null,
   "metadata": {},
   "outputs": [],
   "source": [
    "@d2l.add_to_class(KaggleHouse)\n",
    "def get_dataloader(self, train):\n",
    "    label = 'SalePrice'\n",
    "    data = self.train if train else self.val\n",
    "    if label not in data:\n",
    "        return\n",
    "    get_tensor = lambda x: torch.tensor(x.values.astype(float), dtype=torch.float32)\n",
    "    # Logarithm of prices\n",
    "    tensors = (\n",
    "        get_tensor(data.drop(columns=[label])),  # X\n",
    "        torch.log(get_tensor(data[label])).reshape((-1, 1))  # Y\n",
    "    )\n",
    "    return self.get_tensorloader(tensors, train)"
   ]
  },
  {
   "cell_type": "code",
   "execution_count": null,
   "metadata": {},
   "outputs": [],
   "source": [
    "def k_fold_data(data, k):\n",
    "    rets = []\n",
    "    fold_size = data.train.shape[0] // k\n",
    "    for j in range(k):\n",
    "        idx = range(j * fold_size, (j+1) * fold_size)\n",
    "        rets.append(KaggleHouse(data.batch_size, data.train.drop(index=idx), data.train.loc[idx]))\n",
    "    return rets"
   ]
  }
 ],
 "metadata": {
  "kernelspec": {
   "display_name": ".venv",
   "language": "python",
   "name": "python3"
  },
  "language_info": {
   "codemirror_mode": {
    "name": "ipython",
    "version": 3
   },
   "file_extension": ".py",
   "mimetype": "text/x-python",
   "name": "python",
   "nbconvert_exporter": "python",
   "pygments_lexer": "ipython3",
   "version": "3.11.4"
  }
 },
 "nbformat": 4,
 "nbformat_minor": 2
}
