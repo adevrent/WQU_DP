{
 "cells": [
  {
   "cell_type": "code",
   "execution_count": 47,
   "metadata": {},
   "outputs": [],
   "source": [
    "import alpha_vantage\n",
    "from alpha_vantage.timeseries import TimeSeries"
   ]
  },
  {
   "cell_type": "code",
   "execution_count": 48,
   "metadata": {},
   "outputs": [
    {
     "data": {
      "text/html": [
       "<div>\n",
       "<style scoped>\n",
       "    .dataframe tbody tr th:only-of-type {\n",
       "        vertical-align: middle;\n",
       "    }\n",
       "\n",
       "    .dataframe tbody tr th {\n",
       "        vertical-align: top;\n",
       "    }\n",
       "\n",
       "    .dataframe thead th {\n",
       "        text-align: right;\n",
       "    }\n",
       "</style>\n",
       "<table border=\"1\" class=\"dataframe\">\n",
       "  <thead>\n",
       "    <tr style=\"text-align: right;\">\n",
       "      <th></th>\n",
       "      <th>1. open</th>\n",
       "      <th>2. high</th>\n",
       "      <th>3. low</th>\n",
       "      <th>4. close</th>\n",
       "      <th>5. volume</th>\n",
       "    </tr>\n",
       "    <tr>\n",
       "      <th>date</th>\n",
       "      <th></th>\n",
       "      <th></th>\n",
       "      <th></th>\n",
       "      <th></th>\n",
       "      <th></th>\n",
       "    </tr>\n",
       "  </thead>\n",
       "  <tbody>\n",
       "    <tr>\n",
       "      <th>2024-08-15</th>\n",
       "      <td>205.02</td>\n",
       "      <td>215.8800</td>\n",
       "      <td>204.82</td>\n",
       "      <td>214.14</td>\n",
       "      <td>89848530.0</td>\n",
       "    </tr>\n",
       "    <tr>\n",
       "      <th>2024-08-14</th>\n",
       "      <td>207.39</td>\n",
       "      <td>208.4400</td>\n",
       "      <td>198.75</td>\n",
       "      <td>201.38</td>\n",
       "      <td>70250014.0</td>\n",
       "    </tr>\n",
       "    <tr>\n",
       "      <th>2024-08-13</th>\n",
       "      <td>198.47</td>\n",
       "      <td>208.4900</td>\n",
       "      <td>197.06</td>\n",
       "      <td>207.83</td>\n",
       "      <td>76247387.0</td>\n",
       "    </tr>\n",
       "    <tr>\n",
       "      <th>2024-08-12</th>\n",
       "      <td>199.02</td>\n",
       "      <td>199.2600</td>\n",
       "      <td>194.67</td>\n",
       "      <td>197.49</td>\n",
       "      <td>64044903.0</td>\n",
       "    </tr>\n",
       "    <tr>\n",
       "      <th>2024-08-09</th>\n",
       "      <td>197.05</td>\n",
       "      <td>200.8800</td>\n",
       "      <td>195.11</td>\n",
       "      <td>200.00</td>\n",
       "      <td>58648274.0</td>\n",
       "    </tr>\n",
       "    <tr>\n",
       "      <th>...</th>\n",
       "      <td>...</td>\n",
       "      <td>...</td>\n",
       "      <td>...</td>\n",
       "      <td>...</td>\n",
       "      <td>...</td>\n",
       "    </tr>\n",
       "    <tr>\n",
       "      <th>2010-07-06</th>\n",
       "      <td>20.00</td>\n",
       "      <td>20.0000</td>\n",
       "      <td>15.83</td>\n",
       "      <td>16.11</td>\n",
       "      <td>6866900.0</td>\n",
       "    </tr>\n",
       "    <tr>\n",
       "      <th>2010-07-02</th>\n",
       "      <td>23.00</td>\n",
       "      <td>23.1000</td>\n",
       "      <td>18.71</td>\n",
       "      <td>19.20</td>\n",
       "      <td>5139800.0</td>\n",
       "    </tr>\n",
       "    <tr>\n",
       "      <th>2010-07-01</th>\n",
       "      <td>25.00</td>\n",
       "      <td>25.9200</td>\n",
       "      <td>20.27</td>\n",
       "      <td>21.96</td>\n",
       "      <td>8218800.0</td>\n",
       "    </tr>\n",
       "    <tr>\n",
       "      <th>2010-06-30</th>\n",
       "      <td>25.79</td>\n",
       "      <td>30.4192</td>\n",
       "      <td>23.30</td>\n",
       "      <td>23.83</td>\n",
       "      <td>17187100.0</td>\n",
       "    </tr>\n",
       "    <tr>\n",
       "      <th>2010-06-29</th>\n",
       "      <td>19.00</td>\n",
       "      <td>25.0000</td>\n",
       "      <td>17.54</td>\n",
       "      <td>23.89</td>\n",
       "      <td>18766300.0</td>\n",
       "    </tr>\n",
       "  </tbody>\n",
       "</table>\n",
       "<p>3557 rows × 5 columns</p>\n",
       "</div>"
      ],
      "text/plain": [
       "            1. open   2. high  3. low  4. close   5. volume\n",
       "date                                                       \n",
       "2024-08-15   205.02  215.8800  204.82    214.14  89848530.0\n",
       "2024-08-14   207.39  208.4400  198.75    201.38  70250014.0\n",
       "2024-08-13   198.47  208.4900  197.06    207.83  76247387.0\n",
       "2024-08-12   199.02  199.2600  194.67    197.49  64044903.0\n",
       "2024-08-09   197.05  200.8800  195.11    200.00  58648274.0\n",
       "...             ...       ...     ...       ...         ...\n",
       "2010-07-06    20.00   20.0000   15.83     16.11   6866900.0\n",
       "2010-07-02    23.00   23.1000   18.71     19.20   5139800.0\n",
       "2010-07-01    25.00   25.9200   20.27     21.96   8218800.0\n",
       "2010-06-30    25.79   30.4192   23.30     23.83  17187100.0\n",
       "2010-06-29    19.00   25.0000   17.54     23.89  18766300.0\n",
       "\n",
       "[3557 rows x 5 columns]"
      ]
     },
     "execution_count": 48,
     "metadata": {},
     "output_type": "execute_result"
    }
   ],
   "source": [
    "APIkey = \"2SRLF3NBCPEO7UI5\"\n",
    "\n",
    "from alpha_vantage.timeseries import TimeSeries\n",
    "\n",
    "ts = TimeSeries(key=APIkey, output_format=\"pandas\")\n",
    "data, _ = ts.get_daily(symbol=\"TSLA\", outputsize=\"full\")\n",
    "data"
   ]
  },
  {
   "cell_type": "markdown",
   "metadata": {},
   "source": [
    "# Cholesky Decomposition\n",
    "\n",
    "Cholesky factorization is a decomposition of a <u> positive-definite </u>, <u> symmetric matrix </u> into a product of a triangular matrix and its conjugate transpose:\n",
    "\n",
    "$ C = L L^T $\n",
    "\n",
    "where,\n",
    "\n",
    "$C:$ $(d \\times d)$ **correlation** matrix of $d$ different stock rate of returns.\n",
    "\n",
    "$L:$ $(d \\times d)$ lower triangular Cholesky matrix, which will be used to multiply $d$ standard random variables $Z_i \\quad i.i.d \\sim N(0, 1)$ to create new <u> correlated</u> values (stock returns)."
   ]
  },
  {
   "cell_type": "markdown",
   "metadata": {},
   "source": [
    "To create correlated values using the **Cholesky** matrix $L$,\n",
    "\n",
    "$Z = \\begin{bmatrix}\n",
    "Z_1 \\\\\n",
    "Z_2 \\\\\n",
    "\\cdots \\\\\n",
    "Z_d\n",
    "\\end{bmatrix}\n",
    "$ where $Z_i \\quad iid \\sim N(0, 1)$\n",
    "\n",
    "Then we multiply Cholesky matrix $L$ with our standard gaussian vector $Z$ to obtain correlated values vector $\\epsilon:$\n",
    "\n",
    "$\\epsilon = L Z$"
   ]
  },
  {
   "cell_type": "code",
   "execution_count": 49,
   "metadata": {},
   "outputs": [
    {
     "name": "stderr",
     "output_type": "stream",
     "text": [
      "[*********************100%%**********************]  5 of 5 completed\n"
     ]
    },
    {
     "data": {
      "text/html": [
       "<div>\n",
       "<style scoped>\n",
       "    .dataframe tbody tr th:only-of-type {\n",
       "        vertical-align: middle;\n",
       "    }\n",
       "\n",
       "    .dataframe tbody tr th {\n",
       "        vertical-align: top;\n",
       "    }\n",
       "\n",
       "    .dataframe thead th {\n",
       "        text-align: right;\n",
       "    }\n",
       "</style>\n",
       "<table border=\"1\" class=\"dataframe\">\n",
       "  <thead>\n",
       "    <tr style=\"text-align: right;\">\n",
       "      <th>Ticker</th>\n",
       "      <th>AAPL</th>\n",
       "      <th>AMZN</th>\n",
       "      <th>GOOG</th>\n",
       "      <th>META</th>\n",
       "      <th>MSFT</th>\n",
       "    </tr>\n",
       "    <tr>\n",
       "      <th>Date</th>\n",
       "      <th></th>\n",
       "      <th></th>\n",
       "      <th></th>\n",
       "      <th></th>\n",
       "      <th></th>\n",
       "    </tr>\n",
       "  </thead>\n",
       "  <tbody>\n",
       "    <tr>\n",
       "      <th>2014-08-18</th>\n",
       "      <td>22.011223</td>\n",
       "      <td>16.7265</td>\n",
       "      <td>28.995308</td>\n",
       "      <td>74.437035</td>\n",
       "      <td>38.330494</td>\n",
       "    </tr>\n",
       "    <tr>\n",
       "      <th>2014-08-19</th>\n",
       "      <td>22.315325</td>\n",
       "      <td>16.7565</td>\n",
       "      <td>29.229397</td>\n",
       "      <td>75.135605</td>\n",
       "      <td>38.758018</td>\n",
       "    </tr>\n",
       "    <tr>\n",
       "      <th>2014-08-20</th>\n",
       "      <td>22.324209</td>\n",
       "      <td>16.7890</td>\n",
       "      <td>29.111357</td>\n",
       "      <td>74.656578</td>\n",
       "      <td>38.433102</td>\n",
       "    </tr>\n",
       "    <tr>\n",
       "      <th>2014-08-21</th>\n",
       "      <td>22.326427</td>\n",
       "      <td>16.6455</td>\n",
       "      <td>29.055573</td>\n",
       "      <td>74.417084</td>\n",
       "      <td>38.663948</td>\n",
       "    </tr>\n",
       "    <tr>\n",
       "      <th>2014-08-22</th>\n",
       "      <td>22.490694</td>\n",
       "      <td>16.5795</td>\n",
       "      <td>29.015230</td>\n",
       "      <td>74.417084</td>\n",
       "      <td>38.604111</td>\n",
       "    </tr>\n",
       "  </tbody>\n",
       "</table>\n",
       "</div>"
      ],
      "text/plain": [
       "Ticker           AAPL     AMZN       GOOG       META       MSFT\n",
       "Date                                                           \n",
       "2014-08-18  22.011223  16.7265  28.995308  74.437035  38.330494\n",
       "2014-08-19  22.315325  16.7565  29.229397  75.135605  38.758018\n",
       "2014-08-20  22.324209  16.7890  29.111357  74.656578  38.433102\n",
       "2014-08-21  22.326427  16.6455  29.055573  74.417084  38.663948\n",
       "2014-08-22  22.490694  16.5795  29.015230  74.417084  38.604111"
      ]
     },
     "execution_count": 49,
     "metadata": {},
     "output_type": "execute_result"
    }
   ],
   "source": [
    "import yfinance as yf\n",
    "import matplotlib.pyplot as plt\n",
    "import numpy as np\n",
    "\n",
    "tickers = [\"AAPL\", \"AMZN\", \"META\", \"GOOG\", \"MSFT\"]\n",
    "df_tickers = yf.download(tickers, period=\"10y\")[\"Adj Close\"]\n",
    "df_tickers.head()"
   ]
  },
  {
   "cell_type": "code",
   "execution_count": 50,
   "metadata": {},
   "outputs": [
    {
     "data": {
      "text/html": [
       "<div>\n",
       "<style scoped>\n",
       "    .dataframe tbody tr th:only-of-type {\n",
       "        vertical-align: middle;\n",
       "    }\n",
       "\n",
       "    .dataframe tbody tr th {\n",
       "        vertical-align: top;\n",
       "    }\n",
       "\n",
       "    .dataframe thead th {\n",
       "        text-align: right;\n",
       "    }\n",
       "</style>\n",
       "<table border=\"1\" class=\"dataframe\">\n",
       "  <thead>\n",
       "    <tr style=\"text-align: right;\">\n",
       "      <th>Ticker</th>\n",
       "      <th>AAPL</th>\n",
       "      <th>AMZN</th>\n",
       "      <th>GOOG</th>\n",
       "      <th>META</th>\n",
       "      <th>MSFT</th>\n",
       "    </tr>\n",
       "    <tr>\n",
       "      <th>Date</th>\n",
       "      <th></th>\n",
       "      <th></th>\n",
       "      <th></th>\n",
       "      <th></th>\n",
       "      <th></th>\n",
       "    </tr>\n",
       "  </thead>\n",
       "  <tbody>\n",
       "    <tr>\n",
       "      <th>2014-08-19</th>\n",
       "      <td>0.013627</td>\n",
       "      <td>0.001790</td>\n",
       "      <td>0.008009</td>\n",
       "      <td>0.009297</td>\n",
       "      <td>0.011031</td>\n",
       "    </tr>\n",
       "    <tr>\n",
       "      <th>2014-08-20</th>\n",
       "      <td>0.000398</td>\n",
       "      <td>0.001936</td>\n",
       "      <td>-0.004055</td>\n",
       "      <td>-0.006416</td>\n",
       "      <td>-0.008454</td>\n",
       "    </tr>\n",
       "    <tr>\n",
       "      <th>2014-08-21</th>\n",
       "      <td>0.000099</td>\n",
       "      <td>-0.008621</td>\n",
       "      <td>-0.001920</td>\n",
       "      <td>-0.003218</td>\n",
       "      <td>0.005971</td>\n",
       "    </tr>\n",
       "    <tr>\n",
       "      <th>2014-08-22</th>\n",
       "      <td>0.007304</td>\n",
       "      <td>-0.003981</td>\n",
       "      <td>-0.001390</td>\n",
       "      <td>0.000000</td>\n",
       "      <td>-0.001550</td>\n",
       "    </tr>\n",
       "    <tr>\n",
       "      <th>2014-08-25</th>\n",
       "      <td>0.002167</td>\n",
       "      <td>0.007275</td>\n",
       "      <td>-0.004068</td>\n",
       "      <td>0.005998</td>\n",
       "      <td>0.000443</td>\n",
       "    </tr>\n",
       "  </tbody>\n",
       "</table>\n",
       "</div>"
      ],
      "text/plain": [
       "Ticker          AAPL      AMZN      GOOG      META      MSFT\n",
       "Date                                                        \n",
       "2014-08-19  0.013627  0.001790  0.008009  0.009297  0.011031\n",
       "2014-08-20  0.000398  0.001936 -0.004055 -0.006416 -0.008454\n",
       "2014-08-21  0.000099 -0.008621 -0.001920 -0.003218  0.005971\n",
       "2014-08-22  0.007304 -0.003981 -0.001390  0.000000 -0.001550\n",
       "2014-08-25  0.002167  0.007275 -0.004068  0.005998  0.000443"
      ]
     },
     "execution_count": 50,
     "metadata": {},
     "output_type": "execute_result"
    }
   ],
   "source": [
    "df_returns = (df_tickers.diff() / df_tickers).dropna()\n",
    "df_returns.head()"
   ]
  },
  {
   "cell_type": "code",
   "execution_count": 51,
   "metadata": {},
   "outputs": [
    {
     "data": {
      "text/plain": [
       "[<matplotlib.lines.Line2D at 0x17399261690>,\n",
       " <matplotlib.lines.Line2D at 0x1739a2a00d0>,\n",
       " <matplotlib.lines.Line2D at 0x1739a289e90>,\n",
       " <matplotlib.lines.Line2D at 0x1739a410990>,\n",
       " <matplotlib.lines.Line2D at 0x1739a280cd0>]"
      ]
     },
     "execution_count": 51,
     "metadata": {},
     "output_type": "execute_result"
    },
    {
     "data": {
      "image/png": "[encoded data removed]",
      "text/plain": [
       "<Figure size 640x480 with 1 Axes>"
      ]
     },
     "metadata": {},
     "output_type": "display_data"
    }
   ],
   "source": [
    "plt.plot(df_returns)"
   ]
  },
  {
   "cell_type": "code",
   "execution_count": 53,
   "metadata": {},
   "outputs": [
    {
     "data": {
      "text/plain": [
       "Ticker\n",
       "AAPL    0.018013\n",
       "AMZN    0.020526\n",
       "GOOG    0.017756\n",
       "META    0.024340\n",
       "MSFT    0.017102\n",
       "dtype: float64"
      ]
     },
     "execution_count": 53,
     "metadata": {},
     "output_type": "execute_result"
    }
   ],
   "source": [
    "# Volatilities\n",
    "df_returns.std()"
   ]
  },
  {
   "cell_type": "code",
   "execution_count": 55,
   "metadata": {},
   "outputs": [
    {
     "data": {
      "text/html": [
       "<div>\n",
       "<style scoped>\n",
       "    .dataframe tbody tr th:only-of-type {\n",
       "        vertical-align: middle;\n",
       "    }\n",
       "\n",
       "    .dataframe tbody tr th {\n",
       "        vertical-align: top;\n",
       "    }\n",
       "\n",
       "    .dataframe thead th {\n",
       "        text-align: right;\n",
       "    }\n",
       "</style>\n",
       "<table border=\"1\" class=\"dataframe\">\n",
       "  <thead>\n",
       "    <tr style=\"text-align: right;\">\n",
       "      <th>Ticker</th>\n",
       "      <th>AAPL</th>\n",
       "      <th>AMZN</th>\n",
       "      <th>GOOG</th>\n",
       "      <th>META</th>\n",
       "      <th>MSFT</th>\n",
       "    </tr>\n",
       "    <tr>\n",
       "      <th>Ticker</th>\n",
       "      <th></th>\n",
       "      <th></th>\n",
       "      <th></th>\n",
       "      <th></th>\n",
       "      <th></th>\n",
       "    </tr>\n",
       "  </thead>\n",
       "  <tbody>\n",
       "    <tr>\n",
       "      <th>AAPL</th>\n",
       "      <td>1.000000</td>\n",
       "      <td>0.558791</td>\n",
       "      <td>0.611844</td>\n",
       "      <td>0.517462</td>\n",
       "      <td>0.684703</td>\n",
       "    </tr>\n",
       "    <tr>\n",
       "      <th>AMZN</th>\n",
       "      <td>0.558791</td>\n",
       "      <td>1.000000</td>\n",
       "      <td>0.654769</td>\n",
       "      <td>0.580099</td>\n",
       "      <td>0.648670</td>\n",
       "    </tr>\n",
       "    <tr>\n",
       "      <th>GOOG</th>\n",
       "      <td>0.611844</td>\n",
       "      <td>0.654769</td>\n",
       "      <td>1.000000</td>\n",
       "      <td>0.616425</td>\n",
       "      <td>0.722178</td>\n",
       "    </tr>\n",
       "    <tr>\n",
       "      <th>META</th>\n",
       "      <td>0.517462</td>\n",
       "      <td>0.580099</td>\n",
       "      <td>0.616425</td>\n",
       "      <td>1.000000</td>\n",
       "      <td>0.574530</td>\n",
       "    </tr>\n",
       "    <tr>\n",
       "      <th>MSFT</th>\n",
       "      <td>0.684703</td>\n",
       "      <td>0.648670</td>\n",
       "      <td>0.722178</td>\n",
       "      <td>0.574530</td>\n",
       "      <td>1.000000</td>\n",
       "    </tr>\n",
       "  </tbody>\n",
       "</table>\n",
       "</div>"
      ],
      "text/plain": [
       "Ticker      AAPL      AMZN      GOOG      META      MSFT\n",
       "Ticker                                                  \n",
       "AAPL    1.000000  0.558791  0.611844  0.517462  0.684703\n",
       "AMZN    0.558791  1.000000  0.654769  0.580099  0.648670\n",
       "GOOG    0.611844  0.654769  1.000000  0.616425  0.722178\n",
       "META    0.517462  0.580099  0.616425  1.000000  0.574530\n",
       "MSFT    0.684703  0.648670  0.722178  0.574530  1.000000"
      ]
     },
     "execution_count": 55,
     "metadata": {},
     "output_type": "execute_result"
    }
   ],
   "source": [
    "corr_matrix = df_returns.corr()  # Correlation matrix\n",
    "corr_matrix"
   ]
  },
  {
   "cell_type": "code",
   "execution_count": 57,
   "metadata": {},
   "outputs": [
    {
     "data": {
      "text/plain": [
       "array([[1.        , 0.        , 0.        , 0.        , 0.        ],\n",
       "       [0.55879129, 0.82930832, 0.        , 0.        , 0.        ],\n",
       "       [0.61184433, 0.37727267, 0.69520633, 0.        , 0.        ],\n",
       "       [0.51746227, 0.35082875, 0.24087927, 0.74238074, 0.        ],\n",
       "       [0.68470327, 0.32082557, 0.26209147, 0.05998949, 0.59662526]])"
      ]
     },
     "execution_count": 57,
     "metadata": {},
     "output_type": "execute_result"
    }
   ],
   "source": [
    "L = np.linalg.cholesky(corr_matrix)\n",
    "L"
   ]
  },
  {
   "cell_type": "code",
   "execution_count": 60,
   "metadata": {},
   "outputs": [
    {
     "data": {
      "text/plain": [
       "array([[ True,  True,  True,  True,  True],\n",
       "       [ True,  True,  True,  True,  True],\n",
       "       [ True,  True,  True,  True,  True],\n",
       "       [ True,  True,  True,  True,  True],\n",
       "       [ True,  True,  True,  True,  True]])"
      ]
     },
     "execution_count": 60,
     "metadata": {},
     "output_type": "execute_result"
    }
   ],
   "source": [
    "# Check if L @ L^T equals corr_matrix\n",
    "np.isclose(L @ L.T, corr_matrix)"
   ]
  },
  {
   "cell_type": "code",
   "execution_count": 73,
   "metadata": {},
   "outputs": [
    {
     "data": {
      "text/plain": [
       "array([ 0.01773963,  0.35296813,  0.4679505 , -0.1487568 ,  0.39052739])"
      ]
     },
     "execution_count": 73,
     "metadata": {},
     "output_type": "execute_result"
    }
   ],
   "source": [
    "d = L.shape[0]  # shape of the Cholesky matrix\n",
    "\n",
    "# Generate a standard gaussian vector z\n",
    "z = np.random.standard_normal(d)\n",
    "\n",
    "# Generate correlated values vector\n",
    "epsilon = L @ z\n",
    "epsilon"
   ]
  },
  {
   "cell_type": "code",
   "execution_count": null,
   "metadata": {},
   "outputs": [],
   "source": [
    "# np.random.choice([\"bahçeşehir\", \"çorlu\"])"
   ]
  },
  {
   "cell_type": "code",
   "execution_count": null,
   "metadata": {},
   "outputs": [],
   "source": []
  }
 ],
 "metadata": {
  "kernelspec": {
   "display_name": "base",
   "language": "python",
   "name": "python3"
  },
  "language_info": {
   "codemirror_mode": {
    "name": "ipython",
    "version": 3
   },
   "file_extension": ".py",
   "mimetype": "text/x-python",
   "name": "python",
   "nbconvert_exporter": "python",
   "pygments_lexer": "ipython3",
   "version": "3.11.7"
  }
 },
 "nbformat": 4,
 "nbformat_minor": 2
}
