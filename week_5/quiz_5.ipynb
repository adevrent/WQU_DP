{
 "cells": [
  {
   "cell_type": "code",
   "execution_count": 22,
   "metadata": {},
   "outputs": [],
   "source": [
    "import numpy as np\n",
    "import yfinance as yf\n",
    "import datetime"
   ]
  },
  {
   "cell_type": "code",
   "execution_count": 23,
   "metadata": {},
   "outputs": [
    {
     "name": "stderr",
     "output_type": "stream",
     "text": [
      "[*********************100%%**********************]  1 of 1 completed\n"
     ]
    },
    {
     "data": {
      "text/plain": [
       "0.0010040576093313103"
      ]
     },
     "execution_count": 23,
     "metadata": {},
     "output_type": "execute_result"
    }
   ],
   "source": [
    "start = datetime.date(2021, 1, 1)\n",
    "end = datetime.date(2021, 12, 31)\n",
    "\n",
    "df = yf.download(\"SPY\", start, end)[\"Adj Close\"]\n",
    "\n",
    "N = len(df)\n",
    "\n",
    "df_returns = df.diff() / df\n",
    "(1 + df_returns).prod() ** (1/N) - 1"
   ]
  },
  {
   "cell_type": "code",
   "execution_count": 24,
   "metadata": {},
   "outputs": [
    {
     "data": {
      "text/plain": [
       "0.0010040576093313103"
      ]
     },
     "execution_count": 24,
     "metadata": {},
     "output_type": "execute_result"
    }
   ],
   "source": [
    "N = len(df)\n",
    "\n",
    "df_returns = df.diff() / df\n",
    "(1 + df_returns).prod() ** (1/N) - 1"
   ]
  },
  {
   "cell_type": "code",
   "execution_count": 25,
   "metadata": {},
   "outputs": [
    {
     "name": "stderr",
     "output_type": "stream",
     "text": [
      "[*********************100%%**********************]  1 of 1 completed"
     ]
    },
    {
     "name": "stderr",
     "output_type": "stream",
     "text": [
      "\n"
     ]
    },
    {
     "data": {
      "text/plain": [
       "0.6125018538299144"
      ]
     },
     "execution_count": 25,
     "metadata": {},
     "output_type": "execute_result"
    }
   ],
   "source": [
    "start = datetime.date(2007, 1, 1)\n",
    "end = datetime.date(2010, 12, 31)\n",
    "\n",
    "df = yf.download(\"JPM\", start, end)[\"Adj Close\"]\n",
    "N = len(df)\n",
    "\n",
    "df_returns = df.diff() / df\n",
    "df_returns.std() * np.sqrt(252)"
   ]
  },
  {
   "cell_type": "code",
   "execution_count": 30,
   "metadata": {},
   "outputs": [
    {
     "name": "stderr",
     "output_type": "stream",
     "text": [
      "[*********************100%%**********************]  3 of 3 completed\n"
     ]
    },
    {
     "data": {
      "text/html": [
       "<div>\n",
       "<style scoped>\n",
       "    .dataframe tbody tr th:only-of-type {\n",
       "        vertical-align: middle;\n",
       "    }\n",
       "\n",
       "    .dataframe tbody tr th {\n",
       "        vertical-align: top;\n",
       "    }\n",
       "\n",
       "    .dataframe thead th {\n",
       "        text-align: right;\n",
       "    }\n",
       "</style>\n",
       "<table border=\"1\" class=\"dataframe\">\n",
       "  <thead>\n",
       "    <tr style=\"text-align: right;\">\n",
       "      <th>Ticker</th>\n",
       "      <th>CSCO</th>\n",
       "      <th>GE</th>\n",
       "      <th>MMM</th>\n",
       "    </tr>\n",
       "    <tr>\n",
       "      <th>Ticker</th>\n",
       "      <th></th>\n",
       "      <th></th>\n",
       "      <th></th>\n",
       "    </tr>\n",
       "  </thead>\n",
       "  <tbody>\n",
       "    <tr>\n",
       "      <th>CSCO</th>\n",
       "      <td>1.000000</td>\n",
       "      <td>0.303056</td>\n",
       "      <td>0.453027</td>\n",
       "    </tr>\n",
       "    <tr>\n",
       "      <th>GE</th>\n",
       "      <td>0.303056</td>\n",
       "      <td>1.000000</td>\n",
       "      <td>0.411273</td>\n",
       "    </tr>\n",
       "    <tr>\n",
       "      <th>MMM</th>\n",
       "      <td>0.453027</td>\n",
       "      <td>0.411273</td>\n",
       "      <td>1.000000</td>\n",
       "    </tr>\n",
       "  </tbody>\n",
       "</table>\n",
       "</div>"
      ],
      "text/plain": [
       "Ticker      CSCO        GE       MMM\n",
       "Ticker                              \n",
       "CSCO    1.000000  0.303056  0.453027\n",
       "GE      0.303056  1.000000  0.411273\n",
       "MMM     0.453027  0.411273  1.000000"
      ]
     },
     "execution_count": 30,
     "metadata": {},
     "output_type": "execute_result"
    }
   ],
   "source": [
    "start = datetime.date(2021, 1, 1)\n",
    "end = datetime.date(2021, 12, 31)\n",
    "\n",
    "df = yf.download([\"CSCO\", \"GE\", \"MMM\"], start, end)[\"Adj Close\"]\n",
    "df\n",
    "N = len(df)\n",
    "\n",
    "df_returns = df.diff() / df\n",
    "df_returns.corr()\n",
    "# df_returns.std() * np.sqrt(252)"
   ]
  },
  {
   "cell_type": "code",
   "execution_count": 34,
   "metadata": {},
   "outputs": [
    {
     "name": "stderr",
     "output_type": "stream",
     "text": [
      "[*********************100%%**********************]  1 of 1 completed\n"
     ]
    },
    {
     "data": {
      "text/plain": [
       "Date\n",
       "2021-01-04         NaN\n",
       "2021-01-05    1.009905\n",
       "2021-01-06    0.984120\n",
       "2021-01-07    0.991521\n",
       "2021-01-08    0.997920\n",
       "                ...   \n",
       "2021-12-23    1.013427\n",
       "2021-12-27    1.005071\n",
       "2021-12-28    1.010910\n",
       "2021-12-29    1.002187\n",
       "2021-12-30    0.998880\n",
       "Name: Adj Close, Length: 251, dtype: float64"
      ]
     },
     "execution_count": 34,
     "metadata": {},
     "output_type": "execute_result"
    }
   ],
   "source": [
    "start = datetime.date(2021, 1, 1)\n",
    "end = datetime.date(2021, 12, 31)\n",
    "\n",
    "df = yf.download(\"AMZN\", start, end)[\"Adj Close\"]\n",
    "N = len(df)\n",
    "\n",
    "df_returns = df.diff() / df\n",
    "(1 + df_returns).cumprod()"
   ]
  },
  {
   "cell_type": "code",
   "execution_count": 35,
   "metadata": {},
   "outputs": [
    {
     "name": "stderr",
     "output_type": "stream",
     "text": [
      "[*********************100%%**********************]  1 of 1 completed\n"
     ]
    },
    {
     "data": {
      "text/plain": [
       "0.43230125132553004"
      ]
     },
     "execution_count": 35,
     "metadata": {},
     "output_type": "execute_result"
    }
   ],
   "source": [
    "start = datetime.date(2015, 1, 1)\n",
    "end = datetime.date(2020, 12, 31)\n",
    "\n",
    "df = yf.download(\"BA\", start, end)[\"Adj Close\"]\n",
    "N = len(df)\n",
    "\n",
    "df_returns = df.diff() / df\n",
    "df_returns.std() * np.sqrt(252)"
   ]
  },
  {
   "cell_type": "code",
   "execution_count": 37,
   "metadata": {},
   "outputs": [
    {
     "name": "stderr",
     "output_type": "stream",
     "text": [
      "[*********************100%%**********************]  3 of 3 completed\n"
     ]
    },
    {
     "data": {
      "text/html": [
       "<div>\n",
       "<style scoped>\n",
       "    .dataframe tbody tr th:only-of-type {\n",
       "        vertical-align: middle;\n",
       "    }\n",
       "\n",
       "    .dataframe tbody tr th {\n",
       "        vertical-align: top;\n",
       "    }\n",
       "\n",
       "    .dataframe thead th {\n",
       "        text-align: right;\n",
       "    }\n",
       "</style>\n",
       "<table border=\"1\" class=\"dataframe\">\n",
       "  <thead>\n",
       "    <tr style=\"text-align: right;\">\n",
       "      <th>Ticker</th>\n",
       "      <th>AAPL</th>\n",
       "      <th>AMZN</th>\n",
       "      <th>TSLA</th>\n",
       "    </tr>\n",
       "    <tr>\n",
       "      <th>Ticker</th>\n",
       "      <th></th>\n",
       "      <th></th>\n",
       "      <th></th>\n",
       "    </tr>\n",
       "  </thead>\n",
       "  <tbody>\n",
       "    <tr>\n",
       "      <th>AAPL</th>\n",
       "      <td>1.000000</td>\n",
       "      <td>0.586739</td>\n",
       "      <td>0.539811</td>\n",
       "    </tr>\n",
       "    <tr>\n",
       "      <th>AMZN</th>\n",
       "      <td>0.586739</td>\n",
       "      <td>1.000000</td>\n",
       "      <td>0.421339</td>\n",
       "    </tr>\n",
       "    <tr>\n",
       "      <th>TSLA</th>\n",
       "      <td>0.539811</td>\n",
       "      <td>0.421339</td>\n",
       "      <td>1.000000</td>\n",
       "    </tr>\n",
       "  </tbody>\n",
       "</table>\n",
       "</div>"
      ],
      "text/plain": [
       "Ticker      AAPL      AMZN      TSLA\n",
       "Ticker                              \n",
       "AAPL    1.000000  0.586739  0.539811\n",
       "AMZN    0.586739  1.000000  0.421339\n",
       "TSLA    0.539811  0.421339  1.000000"
      ]
     },
     "execution_count": 37,
     "metadata": {},
     "output_type": "execute_result"
    }
   ],
   "source": [
    "start = datetime.date(2021, 1, 1)\n",
    "end = datetime.date(2021, 7, 31)\n",
    "\n",
    "df = yf.download([\"AAPL\", \"AMZN\", \"TSLA\"], start, end)[\"Adj Close\"]\n",
    "df\n",
    "N = len(df)\n",
    "\n",
    "df_returns = df.diff() / df\n",
    "df_returns.corr()\n",
    "# df_returns.std() * np.sqrt(252)"
   ]
  },
  {
   "cell_type": "code",
   "execution_count": 38,
   "metadata": {},
   "outputs": [
    {
     "name": "stderr",
     "output_type": "stream",
     "text": [
      "[*********************100%%**********************]  1 of 1 completed\n"
     ]
    },
    {
     "data": {
      "text/plain": [
       "0.04706772729731268"
      ]
     },
     "execution_count": 38,
     "metadata": {},
     "output_type": "execute_result"
    }
   ],
   "source": [
    "start = datetime.date(2021, 1, 1)\n",
    "end = datetime.date(2021, 12, 31)\n",
    "\n",
    "df = yf.download(\"XOM\", start, end)[\"Adj Close\"]\n",
    "N = len(df)\n",
    "\n",
    "df_returns = np.log(df / df.shift(1))\n",
    "df_returns.max()"
   ]
  },
  {
   "cell_type": "code",
   "execution_count": 46,
   "metadata": {},
   "outputs": [
    {
     "name": "stderr",
     "output_type": "stream",
     "text": [
      "[*********************100%%**********************]  2 of 2 completed\n"
     ]
    },
    {
     "data": {
      "text/html": [
       "<div>\n",
       "<style scoped>\n",
       "    .dataframe tbody tr th:only-of-type {\n",
       "        vertical-align: middle;\n",
       "    }\n",
       "\n",
       "    .dataframe tbody tr th {\n",
       "        vertical-align: top;\n",
       "    }\n",
       "\n",
       "    .dataframe thead th {\n",
       "        text-align: right;\n",
       "    }\n",
       "</style>\n",
       "<table border=\"1\" class=\"dataframe\">\n",
       "  <thead>\n",
       "    <tr style=\"text-align: right;\">\n",
       "      <th>Ticker</th>\n",
       "      <th>F</th>\n",
       "      <th>LMT</th>\n",
       "    </tr>\n",
       "    <tr>\n",
       "      <th>Ticker</th>\n",
       "      <th></th>\n",
       "      <th></th>\n",
       "    </tr>\n",
       "  </thead>\n",
       "  <tbody>\n",
       "    <tr>\n",
       "      <th>F</th>\n",
       "      <td>1.000000</td>\n",
       "      <td>0.140124</td>\n",
       "    </tr>\n",
       "    <tr>\n",
       "      <th>LMT</th>\n",
       "      <td>0.140124</td>\n",
       "      <td>1.000000</td>\n",
       "    </tr>\n",
       "  </tbody>\n",
       "</table>\n",
       "</div>"
      ],
      "text/plain": [
       "Ticker         F       LMT\n",
       "Ticker                    \n",
       "F       1.000000  0.140124\n",
       "LMT     0.140124  1.000000"
      ]
     },
     "execution_count": 46,
     "metadata": {},
     "output_type": "execute_result"
    }
   ],
   "source": [
    "start = datetime.date(2001, 1, 1)\n",
    "end = datetime.date(2008, 7, 31)\n",
    "\n",
    "df = yf.download([\"F\", \"LMT\"], start, end)[\"Adj Close\"]\n",
    "df\n",
    "N = len(df)\n",
    "\n",
    "df_returns = df.diff() / df\n",
    "df_returns.corr()"
   ]
  },
  {
   "cell_type": "code",
   "execution_count": 47,
   "metadata": {},
   "outputs": [
    {
     "data": {
      "text/plain": [
       "array([[ 0.25099801,  0.        ],\n",
       "       [-0.09960238,  0.14859127]])"
      ]
     },
     "execution_count": 47,
     "metadata": {},
     "output_type": "execute_result"
    }
   ],
   "source": [
    "C = np.array([\n",
    "    [0.063, -0.025],\n",
    "    [-0.025, 0.032]\n",
    "])\n",
    "\n",
    "np.linalg.cholesky(C)"
   ]
  },
  {
   "cell_type": "code",
   "execution_count": 48,
   "metadata": {},
   "outputs": [
    {
     "name": "stdout",
     "output_type": "stream",
     "text": [
      "Your investment will be worth 4.287336836628989 millions!\n"
     ]
    }
   ],
   "source": [
    "A_ret = 0.22\n",
    "n_year = 30\n",
    "Initial_invest = 11000\n",
    "\n",
    "Total_ret = (1 + A_ret) ** n_year\n",
    "Final_invest = Initial_invest * Total_ret\n",
    "print(\"Your investment will be worth \" + str(Final_invest / 10**6) + \" millions!\")"
   ]
  },
  {
   "cell_type": "code",
   "execution_count": 51,
   "metadata": {},
   "outputs": [
    {
     "name": "stderr",
     "output_type": "stream",
     "text": [
      "[*********************100%%**********************]  2 of 2 completed\n"
     ]
    },
    {
     "data": {
      "text/html": [
       "<div>\n",
       "<style scoped>\n",
       "    .dataframe tbody tr th:only-of-type {\n",
       "        vertical-align: middle;\n",
       "    }\n",
       "\n",
       "    .dataframe tbody tr th {\n",
       "        vertical-align: top;\n",
       "    }\n",
       "\n",
       "    .dataframe thead th {\n",
       "        text-align: right;\n",
       "    }\n",
       "</style>\n",
       "<table border=\"1\" class=\"dataframe\">\n",
       "  <thead>\n",
       "    <tr style=\"text-align: right;\">\n",
       "      <th>Ticker</th>\n",
       "      <th>BA</th>\n",
       "      <th>JPM</th>\n",
       "    </tr>\n",
       "    <tr>\n",
       "      <th>Ticker</th>\n",
       "      <th></th>\n",
       "      <th></th>\n",
       "    </tr>\n",
       "  </thead>\n",
       "  <tbody>\n",
       "    <tr>\n",
       "      <th>BA</th>\n",
       "      <td>0.041953</td>\n",
       "      <td>0.031079</td>\n",
       "    </tr>\n",
       "    <tr>\n",
       "      <th>JPM</th>\n",
       "      <td>0.031079</td>\n",
       "      <td>0.107770</td>\n",
       "    </tr>\n",
       "  </tbody>\n",
       "</table>\n",
       "</div>"
      ],
      "text/plain": [
       "Ticker        BA       JPM\n",
       "Ticker                    \n",
       "BA      0.041953  0.031079\n",
       "JPM     0.031079  0.107770"
      ]
     },
     "execution_count": 51,
     "metadata": {},
     "output_type": "execute_result"
    }
   ],
   "source": [
    "start = datetime.date(2005, 1, 1)\n",
    "end = datetime.date(2010, 7, 31)\n",
    "\n",
    "df = yf.download([\"BA\", \"JPM\"], start, end)[\"Adj Close\"]\n",
    "df\n",
    "N = len(df)\n",
    "\n",
    "df_returns = df.diff() / df\n",
    "df_returns.cov()*100"
   ]
  },
  {
   "cell_type": "code",
   "execution_count": 52,
   "metadata": {},
   "outputs": [
    {
     "name": "stderr",
     "output_type": "stream",
     "text": [
      "[*********************100%%**********************]  3 of 3 completed\n"
     ]
    },
    {
     "data": {
      "text/html": [
       "<div>\n",
       "<style scoped>\n",
       "    .dataframe tbody tr th:only-of-type {\n",
       "        vertical-align: middle;\n",
       "    }\n",
       "\n",
       "    .dataframe tbody tr th {\n",
       "        vertical-align: top;\n",
       "    }\n",
       "\n",
       "    .dataframe thead th {\n",
       "        text-align: right;\n",
       "    }\n",
       "</style>\n",
       "<table border=\"1\" class=\"dataframe\">\n",
       "  <thead>\n",
       "    <tr style=\"text-align: right;\">\n",
       "      <th>Ticker</th>\n",
       "      <th>BA</th>\n",
       "      <th>C</th>\n",
       "      <th>JPM</th>\n",
       "    </tr>\n",
       "    <tr>\n",
       "      <th>Ticker</th>\n",
       "      <th></th>\n",
       "      <th></th>\n",
       "      <th></th>\n",
       "    </tr>\n",
       "  </thead>\n",
       "  <tbody>\n",
       "    <tr>\n",
       "      <th>BA</th>\n",
       "      <td>1.000000</td>\n",
       "      <td>0.787234</td>\n",
       "      <td>0.742004</td>\n",
       "    </tr>\n",
       "    <tr>\n",
       "      <th>C</th>\n",
       "      <td>0.787234</td>\n",
       "      <td>1.000000</td>\n",
       "      <td>0.935203</td>\n",
       "    </tr>\n",
       "    <tr>\n",
       "      <th>JPM</th>\n",
       "      <td>0.742004</td>\n",
       "      <td>0.935203</td>\n",
       "      <td>1.000000</td>\n",
       "    </tr>\n",
       "  </tbody>\n",
       "</table>\n",
       "</div>"
      ],
      "text/plain": [
       "Ticker        BA         C       JPM\n",
       "Ticker                              \n",
       "BA      1.000000  0.787234  0.742004\n",
       "C       0.787234  1.000000  0.935203\n",
       "JPM     0.742004  0.935203  1.000000"
      ]
     },
     "execution_count": 52,
     "metadata": {},
     "output_type": "execute_result"
    }
   ],
   "source": [
    "start = datetime.date(2020, 1, 1)\n",
    "end = datetime.date(2020, 7, 31)\n",
    "\n",
    "df = yf.download([\"BA\", \"C\", \"JPM\"], start, end)[\"Adj Close\"]\n",
    "N = len(df)\n",
    "\n",
    "df_returns = df.diff() / df\n",
    "C = df_returns.corr()\n",
    "C"
   ]
  }
 ],
 "metadata": {
  "kernelspec": {
   "display_name": "base",
   "language": "python",
   "name": "python3"
  },
  "language_info": {
   "codemirror_mode": {
    "name": "ipython",
    "version": 3
   },
   "file_extension": ".py",
   "mimetype": "text/x-python",
   "name": "python",
   "nbconvert_exporter": "python",
   "pygments_lexer": "ipython3",
   "version": "3.11.5"
  }
 },
 "nbformat": 4,
 "nbformat_minor": 2
}
