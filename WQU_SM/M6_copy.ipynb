{
 "cells": [
  {
   "cell_type": "code",
   "execution_count": 15,
   "metadata": {},
   "outputs": [
    {
     "name": "stdout",
     "output_type": "stream",
     "text": [
      "True action values: [ 0.47143516 -1.19097569]\n",
      "Estimated Q values after three steps: [0.37351662 0.        ]\n"
     ]
    }
   ],
   "source": [
    "import numpy as np\n",
    "\n",
    "def optimal_action(qvalue, eps):\n",
    "    \"\"\"\n",
    "    Determines what is the action to take given a measure of past\n",
    "    expected rewards across actions. With probability eps the action\n",
    "    is not the greedy one\n",
    "    \"\"\"\n",
    "    if np.random.rand() < eps:\n",
    "        return np.random.randint(len(qvalue))  # random action\n",
    "    else:\n",
    "        return qvalue.argmax()  # greedy action\n",
    "\n",
    "def reward_update(action, reward, qvalue_old, alpha):\n",
    "    qvalue_new = qvalue_old.copy()\n",
    "    qvalue_new[action] = qvalue_old[action] + alpha * (reward - qvalue_old[action])\n",
    "    return qvalue_new\n",
    "\n",
    "# Parameters for the specific question\n",
    "NK = 2            # 2-armed bandit\n",
    "ITEMAX = 1        # Only 3 steps\n",
    "EPSILON_M = [0.75] # Greedy policy (no exploration)\n",
    "NEPISODES = 1     # Single episode for the question\n",
    "\n",
    "# Set random seed for reproducibility\n",
    "np.random.seed(1234)\n",
    "\n",
    "# Initialize true values of each action\n",
    "NMEANS = np.random.normal(loc=0.0, scale=1.0, size=NK)\n",
    "print(\"True action values:\", NMEANS)\n",
    "\n",
    "# Initialize Q-values and action count\n",
    "qvalue = np.zeros(NK)\n",
    "nchoices = np.zeros(NK)\n",
    "alpha = 0.25\n",
    "\n",
    "# Run for specified episodes and steps\n",
    "for run in range(NEPISODES):\n",
    "    for tt in range(ITEMAX):\n",
    "        # Select action using greedy policy\n",
    "        action = optimal_action(qvalue, EPSILON_M[0])\n",
    "        \n",
    "        # Generate reward for the selected action based on its true value\n",
    "        reward = np.random.normal(loc=NMEANS[action], scale=2.0)\n",
    "        \n",
    "        # Update action count and Q-value\n",
    "        nchoices[action] += 1\n",
    "        # qvalue = reward_update(action, reward, qvalue, 1 / nchoices[action])\n",
    "        qvalue = reward_update(action, reward, qvalue, alpha)\n",
    "\n",
    "# Print final Q-values as the answer to the question\n",
    "print(\"Estimated Q values after three steps:\", qvalue)\n"
   ]
  }
 ],
 "metadata": {
  "kernelspec": {
   "display_name": "base",
   "language": "python",
   "name": "python3"
  },
  "language_info": {
   "codemirror_mode": {
    "name": "ipython",
    "version": 3
   },
   "file_extension": ".py",
   "mimetype": "text/x-python",
   "name": "python",
   "nbconvert_exporter": "python",
   "pygments_lexer": "ipython3",
   "version": "3.11.7"
  }
 },
 "nbformat": 4,
 "nbformat_minor": 2
}
