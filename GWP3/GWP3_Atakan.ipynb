{
 "cells": [
  {
   "cell_type": "markdown",
   "metadata": {},
   "source": [
    "We are going to be using the following parameters:\n",
    "\n",
    "$S_0 = 80$\n",
    "\n",
    "$K = 80$\n",
    "\n",
    "$ r = 0.055$\n",
    "\n",
    "$\\sigma = 0.35$\n",
    "\n",
    "$T = 0.25$"
   ]
  },
  {
   "cell_type": "markdown",
   "metadata": {},
   "source": [
    "# Team Member A - Atakan Devrent"
   ]
  },
  {
   "cell_type": "markdown",
   "metadata": {},
   "source": [
    "For the Heston model, I am going to use the following parameters:\n",
    "\n",
    "$\\nu_0 = 0.032$\n",
    "\n",
    "$\\kappa_{\\nu} = 1.85 $\n",
    "\n",
    "$ \\theta{\\nu} = 0.045 $"
   ]
  },
  {
   "cell_type": "markdown",
   "metadata": {},
   "source": [
    "First, we remind ourselves the **Heston** model for option pricing which uses stochastic volatility:\n",
    "\n",
    "$$\n",
    "\\begin{align*}\n",
    "dS_t &= \\mu S_t dt + \\sqrt{v_t} S_t dW^S_t \\\\\n",
    "dv_t &= \\kappa(\\theta - v_t) dt + \\sigma \\sqrt{v_t} dW^v_t \\\\\n",
    "dW^S_t dW^v_t &= \\rho dt\n",
    "\\end{align*}\n",
    "$$\n",
    "\n",
    "Where:\n",
    "$$\n",
    "\\begin{align*}\n",
    "S_t &: \\text{Asset price at time } t \\\\\n",
    "v_t &: \\text{Variance of the asset price at time } t \\\\\n",
    "\\mu &: \\text{Drift of the asset price} \\\\\n",
    "\\kappa &: \\text{Rate of mean reversion} \\\\\n",
    "\\theta &: \\text{Long-term mean of the variance} \\\\\n",
    "\\sigma &: \\text{Volatility of volatility} \\\\\n",
    "W^S_t, W^v_t &: \\text{Wiener processes} \\\\\n",
    "\\rho &: \\text{Correlation between the two Wiener processes}\n",
    "\\end{align*}\n",
    "$$"
   ]
  },
  {
   "cell_type": "markdown",
   "metadata": {},
   "source": [
    "## 5, 6, 7)"
   ]
  },
  {
   "cell_type": "code",
   "execution_count": 12,
   "metadata": {},
   "outputs": [
    {
     "name": "stdout",
     "output_type": "stream",
     "text": [
      "Question 5 Results (rho = -0.30):\n",
      "ATM European Call Price: 3.46\n",
      "ATM European Put Price: 2.38\n",
      "\n",
      "Question 6 Results (rho = -0.70):\n",
      "ATM European Call Price: 3.51\n",
      "ATM European Put Price: 2.41\n",
      "\n",
      "Question 7 Results:\n",
      "For rho = -0.30:\n",
      "Call Delta: 0.61\n",
      "Put Delta: -0.40\n",
      "Call Gamma: 0.04\n",
      "Put Gamma: 0.05\n",
      "\n",
      "For rho = -0.70:\n",
      "Call Delta: 0.62\n",
      "Put Delta: -0.36\n",
      "Call Gamma: -0.02\n",
      "Put Gamma: 0.01\n"
     ]
    }
   ],
   "source": [
    "# Team Member A\n",
    "\n",
    "import numpy as np\n",
    "from scipy.stats import norm\n",
    "\n",
    "def heston_model_monte_carlo(S0, K, T, r, v0, kappa, theta, sigma, rho, num_simulations, num_steps):\n",
    "    dt = T / num_steps\n",
    "    \n",
    "    S = np.zeros((num_simulations, num_steps + 1))\n",
    "    v = np.zeros((num_simulations, num_steps + 1))\n",
    "    \n",
    "    S[:, 0] = S0\n",
    "    v[:, 0] = v0\n",
    "    \n",
    "    z1 = np.random.normal(0, 1, (num_simulations, num_steps))\n",
    "    z2 = rho * z1 + np.sqrt(1 - rho**2) * np.random.normal(0, 1, (num_simulations, num_steps))\n",
    "    \n",
    "    for t in range(1, num_steps + 1):\n",
    "        S[:, t] = S[:, t-1] * np.exp((r - 0.5 * v[:, t-1]) * dt + np.sqrt(v[:, t-1] * dt) * z1[:, t-1])\n",
    "        v[:, t] = np.maximum(v[:, t-1] + kappa * (theta - v[:, t-1]) * dt + sigma * np.sqrt(v[:, t-1] * dt) * z2[:, t-1], 0)\n",
    "    \n",
    "    call_payoffs = np.maximum(S[:, -1] - K, 0)\n",
    "    put_payoffs = np.maximum(K - S[:, -1], 0)\n",
    "    \n",
    "    call_price = np.exp(-r * T) * np.mean(call_payoffs)\n",
    "    put_price = np.exp(-r * T) * np.mean(put_payoffs)\n",
    "    \n",
    "    return call_price, put_price\n",
    "\n",
    "def calculate_greeks(S0, K, T, r, v0, kappa, theta, sigma, rho, num_simulations, num_steps):\n",
    "    call_price, put_price = heston_model_monte_carlo(S0, K, T, r, v0, kappa, theta, sigma, rho, num_simulations, num_steps)\n",
    "    \n",
    "    dS = 0.01 * S0\n",
    "    call_price_up, put_price_up = heston_model_monte_carlo(S0 + dS, K, T, r, v0, kappa, theta, sigma, rho, num_simulations, num_steps)\n",
    "    call_price_down, put_price_down = heston_model_monte_carlo(S0 - dS, K, T, r, v0, kappa, theta, sigma, rho, num_simulations, num_steps)\n",
    "    \n",
    "    call_delta = (call_price_up - call_price_down) / (2 * dS)\n",
    "    put_delta = (put_price_up - put_price_down) / (2 * dS)\n",
    "    \n",
    "    call_gamma = (call_price_up - 2*call_price + call_price_down) / (dS**2)\n",
    "    put_gamma = (put_price_up - 2*put_price + put_price_down) / (dS**2)\n",
    "    \n",
    "    return call_price, put_price, call_delta, put_delta, call_gamma, put_gamma\n",
    "\n",
    "# Parameters\n",
    "S0 = 80  # Initial stock price\n",
    "K = 80   # Strike price (ATM)\n",
    "T = 3/12  # Time to maturity in years\n",
    "r = 0.055  # Risk-free rate\n",
    "v0 = 0.032  # Initial variance\n",
    "kappa = 1.85  # Mean reversion speed\n",
    "theta = 0.045  # Long-term variance\n",
    "sigma_v = 0.35  # Volatility of variance\n",
    "num_simulations = 100000\n",
    "num_steps = 100\n",
    "\n",
    "# Question 5: rho = -0.30\n",
    "rho_5 = -0.30\n",
    "results_5 = calculate_greeks(S0, K, T, r, v0, kappa, theta, sigma_v, rho_5, num_simulations, num_steps)\n",
    "\n",
    "# Question 6: rho = -0.70\n",
    "rho_6 = -0.70\n",
    "results_6 = calculate_greeks(S0, K, T, r, v0, kappa, theta, sigma_v, rho_6, num_simulations, num_steps)\n",
    "\n",
    "# Print results\n",
    "print(\"Question 5 Results (rho = -0.30):\")\n",
    "print(f\"ATM European Call Price: {results_5[0]:.2f}\")\n",
    "print(f\"ATM European Put Price: {results_5[1]:.2f}\")\n",
    "\n",
    "print(\"\\nQuestion 6 Results (rho = -0.70):\")\n",
    "print(f\"ATM European Call Price: {results_6[0]:.2f}\")\n",
    "print(f\"ATM European Put Price: {results_6[1]:.2f}\")\n",
    "\n",
    "print(\"\\nQuestion 7 Results:\")\n",
    "print(\"For rho = -0.30:\")\n",
    "print(f\"Call Delta: {results_5[2]:.2f}\")\n",
    "print(f\"Put Delta: {results_5[3]:.2f}\")\n",
    "print(f\"Call Gamma: {results_5[4]:.2f}\")\n",
    "print(f\"Put Gamma: {results_5[5]:.2f}\")\n",
    "\n",
    "print(\"\\nFor rho = -0.70:\")\n",
    "print(f\"Call Delta: {results_6[2]:.2f}\")\n",
    "print(f\"Put Delta: {results_6[3]:.2f}\")\n",
    "print(f\"Call Gamma: {results_6[4]:.2f}\")\n",
    "print(f\"Put Gamma: {results_6[5]:.2f}\")"
   ]
  }
 ],
 "metadata": {
  "kernelspec": {
   "display_name": "Python 3",
   "language": "python",
   "name": "python3"
  },
  "language_info": {
   "codemirror_mode": {
    "name": "ipython",
    "version": 3
   },
   "file_extension": ".py",
   "mimetype": "text/x-python",
   "name": "python",
   "nbconvert_exporter": "python",
   "pygments_lexer": "ipython3",
   "version": "3.12.5"
  }
 },
 "nbformat": 4,
 "nbformat_minor": 2
}
