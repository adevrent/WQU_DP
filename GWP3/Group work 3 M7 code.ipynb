{
 "cells": [
  {
   "cell_type": "markdown",
   "id": "117e1dd2",
   "metadata": {},
   "source": [
    "# Group Member A: Heston Model Implementation (Questions 5, 6, and 7)"
   ]
  },
  {
   "cell_type": "code",
   "execution_count": 15,
   "id": "756ac15e",
   "metadata": {},
   "outputs": [
    {
     "name": "stdout",
     "output_type": "stream",
     "text": [
      "Question 5 Results (rho = -0.30):\n",
      "ATM European Call Price: 3.49\n",
      "ATM European Put Price: 2.36\n",
      "\n",
      "Question 6 Results (rho = -0.70):\n",
      "ATM European Call Price: 3.47\n",
      "ATM European Put Price: 2.41\n",
      "\n",
      "Question 7 Results:\n",
      "For rho = -0.30:\n",
      "Call Delta: 0.62\n",
      "Put Delta: -0.41\n",
      "Call Gamma: -0.04\n",
      "Put Gamma: 0.10\n",
      "\n",
      "For rho = -0.70:\n",
      "Call Delta: 0.63\n",
      "Put Delta: -0.37\n",
      "Call Gamma: 0.12\n",
      "Put Gamma: 0.02\n"
     ]
    }
   ],
   "source": [
    "import numpy as np\n",
    "\n",
    "# Function to simulate the Heston model using Monte Carlo simulation\n",
    "def heston_model_monte_carlo(S0, K, T, r, v0, kappa, theta, sigma_v, rho, num_simulations, num_steps):\n",
    "    dt = T / num_steps\n",
    "    S = np.zeros((num_simulations, num_steps + 1))\n",
    "    v = np.zeros((num_simulations, num_steps + 1))\n",
    "    \n",
    "    S[:, 0] = S0\n",
    "    v[:, 0] = v0\n",
    "    \n",
    "    # Generate correlated random variables\n",
    "    z1 = np.random.normal(0, 1, (num_simulations, num_steps))\n",
    "    z2 = rho * z1 + np.sqrt(1 - rho**2) * np.random.normal(0, 1, (num_simulations, num_steps))\n",
    "    \n",
    "    for t in range(1, num_steps + 1):\n",
    "        S[:, t] = S[:, t-1] * np.exp((r - 0.5 * v[:, t-1]) * dt + np.sqrt(v[:, t-1] * dt) * z1[:, t-1])\n",
    "        v[:, t] = np.maximum(v[:, t-1] + kappa * (theta - v[:, t-1]) * dt + sigma_v * np.sqrt(v[:, t-1] * dt) * z2[:, t-1], 0)\n",
    "    \n",
    "    call_payoffs = np.maximum(S[:, -1] - K, 0)\n",
    "    put_payoffs = np.maximum(K - S[:, -1], 0)\n",
    "    \n",
    "    call_price = np.exp(-r * T) * np.mean(call_payoffs)\n",
    "    put_price = np.exp(-r * T) * np.mean(put_payoffs)\n",
    "    \n",
    "    return call_price, put_price\n",
    "\n",
    "# Function to calculate Greeks (Delta and Gamma) using numerical approximation\n",
    "def calculate_greeks(S0, K, T, r, v0, kappa, theta, sigma_v, rho, num_simulations, num_steps):\n",
    "    call_price, put_price = heston_model_monte_carlo(S0, K, T, r, v0, kappa, theta, sigma_v, rho, num_simulations, num_steps)\n",
    "    \n",
    "    dS = 0.01 * S0\n",
    "    call_price_up, put_price_up = heston_model_monte_carlo(S0 + dS, K, T, r, v0, kappa, theta, sigma_v, rho, num_simulations, num_steps)\n",
    "    call_price_down, put_price_down = heston_model_monte_carlo(S0 - dS, K, T, r, v0, kappa, theta, sigma_v, rho, num_simulations, num_steps)\n",
    "    \n",
    "    call_delta = (call_price_up - call_price_down) / (2 * dS)\n",
    "    put_delta = (put_price_up - put_price_down) / (2 * dS)\n",
    "    \n",
    "    call_gamma = (call_price_up - 2*call_price + call_price_down) / (dS**2)\n",
    "    put_gamma = (put_price_up - 2*put_price + put_price_down) / (dS**2)\n",
    "    \n",
    "    return call_price, put_price, call_delta, put_delta, call_gamma, put_gamma\n",
    "\n",
    "# Parameters\n",
    "S0 = 80  # Initial stock price\n",
    "K = 80   # Strike price (ATM)\n",
    "T = 3/12  # Time to maturity in years\n",
    "r = 0.055  # Risk-free rate\n",
    "v0 = 0.032  # Initial variance\n",
    "kappa = 1.85  # Mean reversion speed\n",
    "theta = 0.045  # Long-term variance\n",
    "sigma_v = 0.35  # Volatility of variance\n",
    "num_simulations = 100000\n",
    "num_steps = 100\n",
    "\n",
    "# Question 5: rho = -0.30\n",
    "rho_5 = -0.30\n",
    "results_5 = calculate_greeks(S0, K, T, r, v0, kappa, theta, sigma_v, rho_5, num_simulations, num_steps)\n",
    "\n",
    "# Question 6: rho = -0.70\n",
    "rho_6 = -0.70\n",
    "results_6 = calculate_greeks(S0, K, T, r, v0, kappa, theta, sigma_v, rho_6, num_simulations, num_steps)\n",
    "\n",
    "# Print results\n",
    "print(\"Question 5 Results (rho = -0.30):\")\n",
    "print(f\"ATM European Call Price: {results_5[0]:.2f}\")\n",
    "print(f\"ATM European Put Price: {results_5[1]:.2f}\")\n",
    "\n",
    "print(\"\\nQuestion 6 Results (rho = -0.70):\")\n",
    "print(f\"ATM European Call Price: {results_6[0]:.2f}\")\n",
    "print(f\"ATM European Put Price: {results_6[1]:.2f}\")\n",
    "\n",
    "print(\"\\nQuestion 7 Results:\")\n",
    "print(\"For rho = -0.30:\")\n",
    "print(f\"Call Delta: {results_5[2]:.2f}\")\n",
    "print(f\"Put Delta: {results_5[3]:.2f}\")\n",
    "print(f\"Call Gamma: {results_5[4]:.2f}\")\n",
    "print(f\"Put Gamma: {results_5[5]:.2f}\")\n",
    "\n",
    "print(\"\\nFor rho = -0.70:\")\n",
    "print(f\"Call Delta: {results_6[2]:.2f}\")\n",
    "print(f\"Put Delta: {results_6[3]:.2f}\")\n",
    "print(f\"Call Gamma: {results_6[4]:.2f}\")\n",
    "print(f\"Put Gamma: {results_6[5]:.2f}\")\n"
   ]
  },
  {
   "cell_type": "markdown",
   "id": "5b3d4bc3",
   "metadata": {},
   "source": [
    "# Group Member B: Merton Model Implementation (Questions 8, 9, and 10)\n"
   ]
  },
  {
   "cell_type": "code",
   "execution_count": 16,
   "id": "9c1f3db8",
   "metadata": {},
   "outputs": [
    {
     "name": "stdout",
     "output_type": "stream",
     "text": [
      "European Call Option Price with lambda = 0.75: 5.1185\n",
      "European Put Option Price with lambda = 0.75: 9.4981\n",
      "European Call Option Price with lambda = 0.25: 5.7480\n",
      "European Put Option Price with lambda = 0.25: 6.4731\n",
      "Delta for European Call Option with lambda = 0.75: -3.7459\n",
      "Gamma for European Call Option with lambda = 0.75: -623.6532\n",
      "Delta for European Put Option with lambda = 0.75: -2.6978\n",
      "Gamma for European Put Option with lambda = 0.75: -763.9699\n"
     ]
    }
   ],
   "source": [
    "import numpy as np\n",
    "\n",
    "# Function to simulate asset prices under Merton jump diffusion model\n",
    "def merton_jump_diffusion(S0, r, sigma, T, mu, delta, lamb, n_simulations, n_steps):\n",
    "    dt = T / n_steps\n",
    "    prices = np.zeros((n_simulations, n_steps + 1))\n",
    "    prices[:, 0] = S0\n",
    "    \n",
    "    for t in range(1, n_steps + 1):\n",
    "        Z = np.random.normal(0, 1, n_simulations)\n",
    "        J = np.random.poisson(lamb * dt, n_simulations)\n",
    "        prices[:, t] = prices[:, t-1] * np.exp((r - 0.5 * sigma**2) * dt + sigma * np.sqrt(dt) * Z) \\\n",
    "                        * np.exp((mu + delta * np.random.normal(0, 1, n_simulations)) * J)\n",
    "\n",
    "    return prices\n",
    "\n",
    "# Parameters\n",
    "S0 = 80  # Initial stock price\n",
    "K = 80   # Strike price (ATM)\n",
    "r = 0.055  # Risk-free rate\n",
    "sigma = 0.35  # Volatility\n",
    "T = 3 / 12  # Time to maturity (3 months)\n",
    "mu = -0.5  # Mean jump size\n",
    "delta = 0.22  # Jump volatility\n",
    "lamb1 = 0.75  # Jump intensity for Q8\n",
    "lamb2 = 0.25  # Jump intensity for Q9\n",
    "n_simulations = 100000  # Number of simulations\n",
    "n_steps = 252  # Daily time steps\n",
    "\n",
    "# Simulate paths under Merton model with lambda = 0.75\n",
    "prices_lamb1 = merton_jump_diffusion(S0, r, sigma, T, mu, delta, lamb1, n_simulations, n_steps)\n",
    "call_payoff_lamb1 = np.maximum(prices_lamb1[:, -1] - K, 0)\n",
    "put_payoff_lamb1 = np.maximum(K - prices_lamb1[:, -1], 0)\n",
    "\n",
    "# Price calculation\n",
    "call_price_lamb1 = np.exp(-r * T) * np.mean(call_payoff_lamb1)\n",
    "put_price_lamb1 = np.exp(-r * T) * np.mean(put_payoff_lamb1)\n",
    "\n",
    "print(f\"European Call Option Price with lambda = 0.75: {call_price_lamb1:.4f}\")\n",
    "print(f\"European Put Option Price with lambda = 0.75: {put_price_lamb1:.4f}\")\n",
    "\n",
    "# Simulate paths under Merton model with lambda = 0.25\n",
    "prices_lamb2 = merton_jump_diffusion(S0, r, sigma, T, mu, delta, lamb2, n_simulations, n_steps)\n",
    "call_payoff_lamb2 = np.maximum(prices_lamb2[:, -1] - K, 0)\n",
    "put_payoff_lamb2 = np.maximum(K - prices_lamb2[:, -1], 0)\n",
    "\n",
    "# Price calculation\n",
    "call_price_lamb2 = np.exp(-r * T) * np.mean(call_payoff_lamb2)\n",
    "put_price_lamb2 = np.exp(-r * T) * np.mean(put_payoff_lamb2)\n",
    "\n",
    "print(f\"European Call Option Price with lambda = 0.25: {call_price_lamb2:.4f}\")\n",
    "print(f\"European Put Option Price with lambda = 0.25: {put_price_lamb2:.4f}\")\n",
    "\n",
    "# Function to calculate Delta\n",
    "def calculate_delta(option_price_up, option_price_down, epsilon):\n",
    "    return (option_price_up - option_price_down) / (2 * epsilon)\n",
    "\n",
    "# Function to calculate Gamma\n",
    "def calculate_gamma(option_price_up, option_price_mid, option_price_down, epsilon):\n",
    "    return (option_price_up - 2 * option_price_mid + option_price_down) / (epsilon ** 2)\n",
    "\n",
    "# Parameters for Delta and Gamma\n",
    "epsilon = 1e-4 * S0  # Small change in stock price\n",
    "\n",
    "# Simulate paths with S0 + epsilon\n",
    "prices_up = merton_jump_diffusion(S0 + epsilon, r, sigma, T, mu, delta, lamb1, n_simulations, n_steps)\n",
    "call_payoff_up = np.maximum(prices_up[:, -1] - K, 0)\n",
    "put_payoff_up = np.maximum(K - prices_up[:, -1], 0)\n",
    "\n",
    "call_price_up = np.exp(-r * T) * np.mean(call_payoff_up)\n",
    "put_price_up = np.exp(-r * T) * np.mean(put_payoff_up)\n",
    "\n",
    "# Simulate paths with S0 - epsilon\n",
    "prices_down = merton_jump_diffusion(S0 - epsilon, r, sigma, T, mu, delta, lamb1, n_simulations, n_steps)\n",
    "call_payoff_down = np.maximum(prices_down[:, -1] - K, 0)\n",
    "put_payoff_down = np.maximum(K - prices_down[:, -1], 0)\n",
    "\n",
    "call_price_down = np.exp(-r * T) * np.mean(call_payoff_down)\n",
    "put_price_down = np.exp(-r * T) * np.mean(put_payoff_down)\n",
    "\n",
    "# Calculate Delta and Gamma for Call and Put\n",
    "delta_call = calculate_delta(call_price_up, call_price_down, epsilon)\n",
    "delta_put = calculate_delta(put_price_up, put_price_down, epsilon)\n",
    "gamma_call = calculate_gamma(call_price_up, call_price_lamb1, call_price_down, epsilon)\n",
    "gamma_put = calculate_gamma(put_price_up, put_price_lamb1, put_price_down, epsilon)\n",
    "\n",
    "print(f\"Delta for European Call Option with lambda = 0.75: {delta_call:.4f}\")\n",
    "print(f\"Gamma for European Call Option with lambda = 0.75: {gamma_call:.4f}\")\n",
    "print(f\"Delta for European Put Option with lambda = 0.75: {delta_put:.4f}\")\n",
    "print(f\"Gamma for European Put Option with lambda = 0.75: {gamma_put:.4f}\")\n"
   ]
  },
  {
   "cell_type": "markdown",
   "id": "a533f899",
   "metadata": {},
   "source": [
    "# Group Member C: Model Validation and Pricing for Various Strikes (Questions 11 and 12)"
   ]
  },
  {
   "cell_type": "markdown",
   "id": "0e0449ee",
   "metadata": {},
   "source": [
    "## Checking Put-Call Parity (Question 11)"
   ]
  },
  {
   "attachments": {
    "image.png": {
     "image/png": "[encoded data removed]"
    }
   },
   "cell_type": "markdown",
   "id": "d9d8645c",
   "metadata": {},
   "source": [
    "![image.png](attachment:image.png)"
   ]
  },
  {
   "cell_type": "code",
   "execution_count": 17,
   "id": "d28bc351",
   "metadata": {},
   "outputs": [
    {
     "name": "stdout",
     "output_type": "stream",
     "text": [
      "\n",
      "Put-Call Parity Check:\n",
      "Question 5 (Heston, rho = -0.30): Satisfied (LHS: 1.1223, RHS: 1.0925)\n",
      "Question 6 (Heston, rho = -0.70): Satisfied (LHS: 1.0674, RHS: 1.0925)\n",
      "Question 8 (Merton, lambda = 0.75): Not Satisfied (LHS: -4.3796, RHS: 1.0925)\n",
      "Question 9 (Merton, lambda = 0.25): Not Satisfied (LHS: -0.7251, RHS: 1.0925)\n"
     ]
    }
   ],
   "source": [
    "\n",
    "def check_put_call_parity(call_price, put_price, S0, K, r, T):\n",
    "    lhs = call_price - put_price\n",
    "    rhs = S0 - K * np.exp(-r * T)\n",
    "    parity = np.isclose(lhs, rhs, atol=0.03)\n",
    "    return parity, lhs, rhs\n",
    "\n",
    "# Check for Heston Model with rho = -0.30 and -0.70\n",
    "parity_5, lhs_5, rhs_5 = check_put_call_parity(results_5[0], results_5[1], S0, K, r, T)\n",
    "parity_6, lhs_6, rhs_6 = check_put_call_parity(results_6[0], results_6[1], S0, K, r, T)\n",
    "\n",
    "# Check for Merton Model with lambda = 0.75 and 0.25\n",
    "parity_8, lhs_8, rhs_8 = check_put_call_parity(call_price_lamb1, put_price_lamb1, S0, K, r, T)\n",
    "parity_9, lhs_9, rhs_9 = check_put_call_parity(call_price_lamb2, put_price_lamb2, S0, K, r, T)\n",
    "\n",
    "# Print results\n",
    "print(\"\\nPut-Call Parity Check:\")\n",
    "print(f\"Question 5 (Heston, rho = -0.30): {'Satisfied' if parity_5 else 'Not Satisfied'} (LHS: {lhs_5:.4f}, RHS: {rhs_5:.4f})\")\n",
    "print(f\"Question 6 (Heston, rho = -0.70): {'Satisfied' if parity_6 else 'Not Satisfied'} (LHS: {lhs_6:.4f}, RHS: {rhs_6:.4f})\")\n",
    "print(f\"Question 8 (Merton, lambda = 0.75): {'Satisfied' if parity_8 else 'Not Satisfied'} (LHS: {lhs_8:.4f}, RHS: {rhs_8:.4f})\")\n",
    "print(f\"Question 9 (Merton, lambda = 0.25): {'Satisfied' if parity_9 else 'Not Satisfied'} (LHS: {lhs_9:.4f}, RHS: {rhs_9:.4f})\")\n"
   ]
  },
  {
   "cell_type": "markdown",
   "id": "dec26d95",
   "metadata": {},
   "source": [
    "### Pricing for Various Strikes (Question 12)\n",
    "For this part, we will price options using the Heston and Merton models for different strike prices corresponding to the moneyness values of 0.85, 0.90, 0.95, 1, 1.05, 1.10, and 1.15."
   ]
  },
  {
   "cell_type": "code",
   "execution_count": 18,
   "id": "39ade48e",
   "metadata": {},
   "outputs": [
    {
     "data": {
      "text/plain": [
       "([(68.0, 13.089179366899636, 0.14976813556534296),\n",
       "  (72.0, 9.373065426905885, 0.42420523251368647),\n",
       "  (76.0, 6.125785550880165, 1.0800001290054455),\n",
       "  (80.0, 3.4949630550414845, 2.3792944906622293),\n",
       "  (84.0, 1.6793321134444832, 4.515805056173341),\n",
       "  (88.0, 0.6840941347949119, 7.486025795562966),\n",
       "  (92.0, 0.2566060279417509, 10.964996147286653)],)"
      ]
     },
     "execution_count": 18,
     "metadata": {},
     "output_type": "execute_result"
    }
   ],
   "source": [
    "strikes = [S0 * m for m in [0.85, 0.90, 0.95, 1.00, 1.05, 1.10, 1.15]]\n",
    "\n",
    "# Function to price options for different strikes using the corrected models\n",
    "def price_heston_for_strikes(S0, T, r, v0, kappa, theta, sigma_v, rho, num_simulations, num_steps, strikes):\n",
    "    call_prices = []\n",
    "    put_prices = []\n",
    "    for K in strikes:\n",
    "        call_price, put_price = heston_model_monte_carlo(S0, K, T, r, v0, kappa, theta, sigma_v, rho, num_simulations, int(num_steps))\n",
    "        call_prices.append(call_price)\n",
    "        put_prices.append(put_price)\n",
    "    return call_prices, put_prices\n",
    "\n",
    "def price_merton_for_strikes(S0, r, sigma, T, mu, delta, lamb, n_simulations, n_steps, strikes):\n",
    "    call_prices = []\n",
    "    put_prices = []\n",
    "    for K in strikes:\n",
    "        prices = merton_jump_diffusion(S0, r, sigma, T, mu, delta, lamb, n_simulations, n_steps)\n",
    "        call_price = np.exp(-r * T) * np.mean(np.maximum(prices[:, -1] - K, 0))\n",
    "        put_price = np.exp(-r * T) * np.mean(np.maximum(K - prices[:, -1], 0))\n",
    "        call_prices.append(call_price)\n",
    "        put_prices.append(put_price)\n",
    "    return call_prices, put_prices\n",
    "\n",
    "# Running the Heston model for various strikes\n",
    "call_prices_heston, put_prices_heston = price_heston_for_strikes(S0, T, r, v0, kappa, theta, sigma_v, rho_5, num_simulations, num_steps, strikes)\n",
    "\n",
    "# Running the Merton model for various strikes\n",
    "call_prices_merton, put_prices_merton = price_merton_for_strikes(S0, r, sigma, T, mu, delta, lamb1, num_simulations, num_steps, strikes)\n",
    "\n",
    "# Collecting and displaying the results\n",
    "heston_results = [(K, call_price, put_price) for K, call_price, put_price in zip(strikes, call_prices_heston, put_prices_heston)]\n",
    "merton_results = [(K, call_price, put_price) for K, call_price, put_price in zip(strikes, call_prices_merton, put_prices_merton)]\n",
    "\n",
    "heston_results, \n"
   ]
  },
  {
   "cell_type": "code",
   "execution_count": 19,
   "id": "26a2da7a",
   "metadata": {},
   "outputs": [
    {
     "name": "stdout",
     "output_type": "stream",
     "text": [
      "Heston result\n"
     ]
    },
    {
     "data": {
      "text/html": [
       "<div>\n",
       "<style scoped>\n",
       "    .dataframe tbody tr th:only-of-type {\n",
       "        vertical-align: middle;\n",
       "    }\n",
       "\n",
       "    .dataframe tbody tr th {\n",
       "        vertical-align: top;\n",
       "    }\n",
       "\n",
       "    .dataframe thead th {\n",
       "        text-align: right;\n",
       "    }\n",
       "</style>\n",
       "<table border=\"1\" class=\"dataframe\">\n",
       "  <thead>\n",
       "    <tr style=\"text-align: right;\">\n",
       "      <th></th>\n",
       "      <th>strike Price</th>\n",
       "      <th>Call Price</th>\n",
       "      <th>Put Price</th>\n",
       "    </tr>\n",
       "  </thead>\n",
       "  <tbody>\n",
       "    <tr>\n",
       "      <th>0</th>\n",
       "      <td>68.0</td>\n",
       "      <td>13.09</td>\n",
       "      <td>0.15</td>\n",
       "    </tr>\n",
       "    <tr>\n",
       "      <th>1</th>\n",
       "      <td>72.0</td>\n",
       "      <td>9.37</td>\n",
       "      <td>0.42</td>\n",
       "    </tr>\n",
       "    <tr>\n",
       "      <th>2</th>\n",
       "      <td>76.0</td>\n",
       "      <td>6.13</td>\n",
       "      <td>1.08</td>\n",
       "    </tr>\n",
       "    <tr>\n",
       "      <th>3</th>\n",
       "      <td>80.0</td>\n",
       "      <td>3.49</td>\n",
       "      <td>2.38</td>\n",
       "    </tr>\n",
       "    <tr>\n",
       "      <th>4</th>\n",
       "      <td>84.0</td>\n",
       "      <td>1.68</td>\n",
       "      <td>4.52</td>\n",
       "    </tr>\n",
       "    <tr>\n",
       "      <th>5</th>\n",
       "      <td>88.0</td>\n",
       "      <td>0.68</td>\n",
       "      <td>7.49</td>\n",
       "    </tr>\n",
       "    <tr>\n",
       "      <th>6</th>\n",
       "      <td>92.0</td>\n",
       "      <td>0.26</td>\n",
       "      <td>10.96</td>\n",
       "    </tr>\n",
       "  </tbody>\n",
       "</table>\n",
       "</div>"
      ],
      "text/plain": [
       "   strike Price  Call Price  Put Price\n",
       "0          68.0       13.09       0.15\n",
       "1          72.0        9.37       0.42\n",
       "2          76.0        6.13       1.08\n",
       "3          80.0        3.49       2.38\n",
       "4          84.0        1.68       4.52\n",
       "5          88.0        0.68       7.49\n",
       "6          92.0        0.26      10.96"
      ]
     },
     "execution_count": 19,
     "metadata": {},
     "output_type": "execute_result"
    }
   ],
   "source": [
    "import pandas as pd\n",
    "heston=pd.DataFrame(heston_results, columns=['strike Price','Call Price','Put Price'])\n",
    "print('Heston result')\n",
    "np.round(heston, 2)"
   ]
  },
  {
   "cell_type": "code",
   "execution_count": 20,
   "id": "80e63dd2",
   "metadata": {},
   "outputs": [
    {
     "name": "stdout",
     "output_type": "stream",
     "text": [
      "Merton result\n"
     ]
    },
    {
     "data": {
      "text/html": [
       "<div>\n",
       "<style scoped>\n",
       "    .dataframe tbody tr th:only-of-type {\n",
       "        vertical-align: middle;\n",
       "    }\n",
       "\n",
       "    .dataframe tbody tr th {\n",
       "        vertical-align: top;\n",
       "    }\n",
       "\n",
       "    .dataframe thead th {\n",
       "        text-align: right;\n",
       "    }\n",
       "</style>\n",
       "<table border=\"1\" class=\"dataframe\">\n",
       "  <thead>\n",
       "    <tr style=\"text-align: right;\">\n",
       "      <th></th>\n",
       "      <th>strike Price</th>\n",
       "      <th>Call Price</th>\n",
       "      <th>Put Price</th>\n",
       "    </tr>\n",
       "  </thead>\n",
       "  <tbody>\n",
       "    <tr>\n",
       "      <th>0</th>\n",
       "      <td>68.0</td>\n",
       "      <td>11.76</td>\n",
       "      <td>4.30</td>\n",
       "    </tr>\n",
       "    <tr>\n",
       "      <th>1</th>\n",
       "      <td>72.0</td>\n",
       "      <td>9.21</td>\n",
       "      <td>5.66</td>\n",
       "    </tr>\n",
       "    <tr>\n",
       "      <th>2</th>\n",
       "      <td>76.0</td>\n",
       "      <td>6.96</td>\n",
       "      <td>7.40</td>\n",
       "    </tr>\n",
       "    <tr>\n",
       "      <th>3</th>\n",
       "      <td>80.0</td>\n",
       "      <td>5.13</td>\n",
       "      <td>9.49</td>\n",
       "    </tr>\n",
       "    <tr>\n",
       "      <th>4</th>\n",
       "      <td>84.0</td>\n",
       "      <td>3.66</td>\n",
       "      <td>11.99</td>\n",
       "    </tr>\n",
       "    <tr>\n",
       "      <th>5</th>\n",
       "      <td>88.0</td>\n",
       "      <td>2.56</td>\n",
       "      <td>14.83</td>\n",
       "    </tr>\n",
       "    <tr>\n",
       "      <th>6</th>\n",
       "      <td>92.0</td>\n",
       "      <td>1.72</td>\n",
       "      <td>17.89</td>\n",
       "    </tr>\n",
       "  </tbody>\n",
       "</table>\n",
       "</div>"
      ],
      "text/plain": [
       "   strike Price  Call Price  Put Price\n",
       "0          68.0       11.76       4.30\n",
       "1          72.0        9.21       5.66\n",
       "2          76.0        6.96       7.40\n",
       "3          80.0        5.13       9.49\n",
       "4          84.0        3.66      11.99\n",
       "5          88.0        2.56      14.83\n",
       "6          92.0        1.72      17.89"
      ]
     },
     "execution_count": 20,
     "metadata": {},
     "output_type": "execute_result"
    }
   ],
   "source": [
    "merton=pd.DataFrame(merton_results, columns=['strike Price','Call Price','Put Price'])\n",
    "print('Merton result')\n",
    "np.round(merton, 2)"
   ]
  },
  {
   "cell_type": "markdown",
   "id": "8a041fae",
   "metadata": {},
   "source": [
    "# Step 2"
   ]
  },
  {
   "cell_type": "markdown",
   "id": "ce2da223",
   "metadata": {},
   "source": [
    "# Question 13: Pricing American Call Options"
   ]
  },
  {
   "cell_type": "markdown",
   "id": "0b550003",
   "metadata": {},
   "source": [
    "### American Option Pricing Using the Heston Model (ρ = -0.30)"
   ]
  },
  {
   "cell_type": "code",
   "execution_count": 21,
   "id": "2caaf7ca",
   "metadata": {},
   "outputs": [
    {
     "name": "stdout",
     "output_type": "stream",
     "text": [
      "Heston american call price : 3.45\n"
     ]
    }
   ],
   "source": [
    "import numpy as np\n",
    "\n",
    "# American option pricing using Least-Squares Monte Carlo (LSM) with the Heston model\n",
    "def lsm_heston_american_call(S0, K, T, r, v0, kappa, theta, sigma_v, rho, num_simulations, num_steps):\n",
    "    dt = T / num_steps\n",
    "    S = np.zeros((num_simulations, num_steps + 1))\n",
    "    v = np.zeros((num_simulations, num_steps + 1))\n",
    "    S[:, 0] = S0\n",
    "    v[:, 0] = v0\n",
    "    \n",
    "    z1 = np.random.normal(0, 1, (num_simulations, num_steps))\n",
    "    z2 = rho * z1 + np.sqrt(1 - rho**2) * np.random.normal(0, 1, (num_simulations, num_steps))\n",
    "    \n",
    "    for t in range(1, num_steps + 1):\n",
    "        S[:, t] = S[:, t-1] * np.exp((r - 0.5 * v[:, t-1]) * dt + np.sqrt(v[:, t-1] * dt) * z1[:, t-1])\n",
    "        v[:, t] = np.maximum(v[:, t-1] + kappa * (theta - v[:, t-1]) * dt + sigma_v * np.sqrt(v[:, t-1] * dt) * z2[:, t-1], 0)\n",
    "    \n",
    "    cash_flows = np.maximum(S[:, -1] - K, 0)\n",
    "    for t in range(num_steps - 1, 0, -1):\n",
    "        in_the_money = S[:, t] > K\n",
    "        regression = np.polyfit(S[in_the_money, t], cash_flows[in_the_money] * np.exp(-r * dt * (num_steps - t)), 2)\n",
    "        continuation_values = np.polyval(regression, S[in_the_money, t])\n",
    "        exercise_values = S[in_the_money, t] - K\n",
    "        cash_flows[in_the_money] = np.where(exercise_values > continuation_values, exercise_values, cash_flows[in_the_money] * np.exp(-r * dt))\n",
    "    \n",
    "    option_price = np.mean(cash_flows * np.exp(-r * dt))\n",
    "    return option_price\n",
    "\n",
    "# Parameters (Heston Model with ρ = -0.30)\n",
    "S0 = 80  # Initial stock price\n",
    "K = 80   # Strike price\n",
    "T = 3/12  # Time to maturity in years\n",
    "r = 0.055  # Risk-free rate\n",
    "v0 = 0.032  # Initial variance\n",
    "kappa = 1.85  # Mean reversion speed\n",
    "theta = 0.045  # Long-term variance\n",
    "sigma_v = 0.35  # Volatility of variance\n",
    "rho = -0.30  # Correlation\n",
    "num_simulations = 10000\n",
    "num_steps = 50\n",
    "\n",
    "# Calculate American Call Price using Heston model\n",
    "american_call_price_heston = lsm_heston_american_call(S0, K, T, r, v0, kappa, theta, sigma_v, rho, num_simulations, num_steps)\n",
    "print('Heston american call price :', np.round(american_call_price_heston, 2))\n"
   ]
  },
  {
   "cell_type": "markdown",
   "id": "d57d004d",
   "metadata": {},
   "source": [
    "### American Option Pricing Using the Merton Model (λ = 0.75):"
   ]
  },
  {
   "cell_type": "code",
   "execution_count": 22,
   "id": "e1baa8b2",
   "metadata": {},
   "outputs": [
    {
     "name": "stdout",
     "output_type": "stream",
     "text": [
      "Merton american call price:  5.25\n"
     ]
    }
   ],
   "source": [
    "# American option pricing using Least-Squares Monte Carlo (LSM) with the Merton model\n",
    "def lsm_merton_american_call(S0, K, T, r, sigma, mu, delta, lamb, num_simulations, num_steps):\n",
    "    dt = T / num_steps\n",
    "    S = np.zeros((num_simulations, num_steps + 1))\n",
    "    S[:, 0] = S0\n",
    "    \n",
    "    for t in range(1, num_steps + 1):\n",
    "        Z = np.random.normal(0, 1, num_simulations)\n",
    "        J = np.random.poisson(lamb * dt, num_simulations)\n",
    "        S[:, t] = S[:, t-1] * np.exp((r - 0.5 * sigma**2) * dt + sigma * np.sqrt(dt) * Z) \\\n",
    "                  * np.exp((mu + delta * np.random.normal(0, 1, num_simulations)) * J)\n",
    "    \n",
    "    cash_flows = np.maximum(S[:, -1] - K, 0)\n",
    "    for t in range(num_steps - 1, 0, -1):\n",
    "        in_the_money = S[:, t] > K\n",
    "        regression = np.polyfit(S[in_the_money, t], cash_flows[in_the_money] * np.exp(-r * dt * (num_steps - t)), 2)\n",
    "        continuation_values = np.polyval(regression, S[in_the_money, t])\n",
    "        exercise_values = S[in_the_money, t] - K\n",
    "        cash_flows[in_the_money] = np.where(exercise_values > continuation_values, exercise_values, cash_flows[in_the_money] * np.exp(-r * dt))\n",
    "    \n",
    "    option_price = np.mean(cash_flows * np.exp(-r * dt))\n",
    "    return option_price\n",
    "\n",
    "# Parameters (Merton Model with λ = 0.75)\n",
    "sigma = 0.35  # Volatility\n",
    "mu = -0.5  # Mean jump size\n",
    "delta = 0.22  # Jump volatility\n",
    "lamb = 0.75  # Jump intensity\n",
    "\n",
    "# Calculate American Call Price using Merton model\n",
    "american_call_price_merton = lsm_merton_american_call(S0, K, T, r, sigma, mu, delta, lamb, num_simulations, num_steps)\n",
    "print('Merton american call price: ', np.round(american_call_price_merton, 2))\n"
   ]
  },
  {
   "cell_type": "markdown",
   "id": "034b9b2f",
   "metadata": {},
   "source": [
    "## Question 14: Pricing a European Up-and-In Call Option using the Heston Model"
   ]
  },
  {
   "cell_type": "markdown",
   "id": "86767a9f",
   "metadata": {},
   "source": [
    "### European Up-and-In Call Option Pricing Using the Heston Model"
   ]
  },
  {
   "cell_type": "code",
   "execution_count": 23,
   "id": "94da5342",
   "metadata": {},
   "outputs": [
    {
     "name": "stdout",
     "output_type": "stream",
     "text": [
      "Heston up and in call price:  0.11\n"
     ]
    }
   ],
   "source": [
    "def heston_up_and_in_call(S0, K, T, r, v0, kappa, theta, sigma_v, rho, barrier, num_simulations, num_steps):\n",
    "    dt = T / num_steps\n",
    "    S = np.zeros((num_simulations, num_steps + 1))\n",
    "    v = np.zeros((num_simulations, num_steps + 1))\n",
    "    S[:, 0] = S0\n",
    "    v[:, 0] = v0\n",
    "    \n",
    "    z1 = np.random.normal(0, 1, (num_simulations, num_steps))\n",
    "    z2 = rho * z1 + np.sqrt(1 - rho**2) * np.random.normal(0, 1, (num_simulations, num_steps))\n",
    "    \n",
    "    for t in range(1, num_steps + 1):\n",
    "        S[:, t] = S[:, t-1] * np.exp((r - 0.5 * v[:, t-1]) * dt + np.sqrt(v[:, t-1] * dt) * z1[:, t-1])\n",
    "        v[:, t] = np.maximum(v[:, t-1] + kappa * (theta - v[:, t-1]) * dt + sigma_v * np.sqrt(v[:, t-1] * dt) * z2[:, t-1], 0)\n",
    "    \n",
    "    reached_barrier = np.any(S >= barrier, axis=1)\n",
    "    payoff = np.maximum(S[:, -1] - K, 0)\n",
    "    up_and_in_payoff = payoff * reached_barrier\n",
    "    option_price = np.exp(-r * T) * np.mean(up_and_in_payoff)\n",
    "    \n",
    "    return option_price\n",
    "\n",
    "# Parameters for the Up-and-In Call option\n",
    "barrier = 95\n",
    "K = 95\n",
    "\n",
    "# Calculate European Up-and-In Call Price using Heston model\n",
    "up_and_in_call_price_heston = heston_up_and_in_call(S0, K, T, r, v0, kappa, theta, sigma_v, rho, barrier, num_simulations, num_steps)\n",
    "\n",
    "print('Heston up and in call price: ', np.round(up_and_in_call_price_heston, 2))\n"
   ]
  },
  {
   "cell_type": "markdown",
   "id": "533cd914",
   "metadata": {},
   "source": [
    "## Question 15: Pricing a European Down-and-In Put Option using the Merton Model"
   ]
  },
  {
   "cell_type": "markdown",
   "id": "d8aa880d",
   "metadata": {},
   "source": [
    "### European Down-and-In Put Option Pricing Using the Merton Model:"
   ]
  },
  {
   "cell_type": "code",
   "execution_count": 24,
   "id": "ae872bd3",
   "metadata": {},
   "outputs": [
    {
     "name": "stdout",
     "output_type": "stream",
     "text": [
      "Merton down and in put price:  3.33\n"
     ]
    }
   ],
   "source": [
    "def merton_down_and_in_put(S0, K, T, r, sigma, mu, delta, lamb, barrier, num_simulations, num_steps):\n",
    "    dt = T / num_steps\n",
    "    S = np.zeros((num_simulations, num_steps + 1))\n",
    "    S[:, 0] = S0\n",
    "    \n",
    "    for t in range(1, num_steps + 1):\n",
    "        Z = np.random.normal(0, 1, num_simulations)\n",
    "        J = np.random.poisson(lamb * dt, num_simulations)\n",
    "        S[:, t] = S[:, t-1] * np.exp((r - 0.5 * sigma**2) * dt + sigma * np.sqrt(dt) * Z) \\\n",
    "                  * np.exp((mu + delta * np.random.normal(0, 1, num_simulations)) * J)\n",
    "    \n",
    "    breached_barrier = np.any(S <= barrier, axis=1)\n",
    "    payoff = np.maximum(K - S[:, -1], 0)\n",
    "    down_and_in_payoff = payoff * breached_barrier\n",
    "    option_price = np.exp(-r * T) * np.mean(down_and_in_payoff)\n",
    "    \n",
    "    return option_price\n",
    "\n",
    "# Parameters for the Down-and-In Put option\n",
    "barrier = 65\n",
    "K = 65\n",
    "\n",
    "# Calculate European Down-and-In Put Price using Merton model\n",
    "down_and_in_put_price_merton = merton_down_and_in_put(S0, K, T, r, sigma, mu, delta, lamb, barrier, num_simulations, num_steps)\n",
    "\n",
    "print('Merton down and in put price: ', np.round(down_and_in_put_price_merton, 2))\n"
   ]
  },
  {
   "cell_type": "markdown",
   "id": "6d281da5",
   "metadata": {},
   "source": [
    "## Visualization: American vs. European Call Prices"
   ]
  },
  {
   "cell_type": "code",
   "execution_count": 25,
   "id": "fe188cd0",
   "metadata": {},
   "outputs": [
    {
     "data": {
      "image/png": "[encoded data removed]",
      "text/plain": [
       "<Figure size 800x600 with 1 Axes>"
      ]
     },
     "metadata": {},
     "output_type": "display_data"
    }
   ],
   "source": [
    "import matplotlib.pyplot as plt\n",
    "\n",
    "# Data for visualization\n",
    "models = ['Heston', 'Merton']\n",
    "european_prices = [3.47, 5.15]\n",
    "american_prices = [3.74, 5.30]\n",
    "\n",
    "# Plotting the data\n",
    "plt.figure(figsize=(8, 6))\n",
    "x = range(len(models))\n",
    "plt.bar(x, european_prices, width=0.4, label='European Call', color='blue', align='center')\n",
    "plt.bar(x, american_prices, width=0.4, label='American Call', color='orange', align='edge')\n",
    "\n",
    "plt.xticks(x, models)\n",
    "plt.ylabel('Option Price')\n",
    "plt.title('Comparison of European and American Call Option Prices')\n",
    "plt.legend()\n",
    "plt.show()\n"
   ]
  },
  {
   "cell_type": "markdown",
   "id": "2a3f7276",
   "metadata": {},
   "source": [
    "## Visualization: European vs. Up-and-In Call Prices"
   ]
  },
  {
   "cell_type": "code",
   "execution_count": 26,
   "id": "92aba19b",
   "metadata": {},
   "outputs": [
    {
     "data": {
      "image/png": "[encoded data removed]",
      "text/plain": [
       "<Figure size 800x600 with 1 Axes>"
      ]
     },
     "metadata": {},
     "output_type": "display_data"
    }
   ],
   "source": [
    "# Data for visualization\n",
    "option_types = ['European Call', 'Up-and-In Call']\n",
    "call_prices = [3.50, 1.25]\n",
    "\n",
    "# Plotting the data\n",
    "plt.figure(figsize=(8, 6))\n",
    "plt.bar(option_types, call_prices, color=['blue', 'orange'])\n",
    "\n",
    "plt.ylabel('Option Price')\n",
    "plt.title('Comparison of European and Up-and-In Call Option Prices')\n",
    "plt.show()\n"
   ]
  },
  {
   "cell_type": "markdown",
   "id": "8069e164",
   "metadata": {},
   "source": [
    "## Visualization: European vs. Down-and-In Put Prices"
   ]
  },
  {
   "cell_type": "code",
   "execution_count": 27,
   "id": "e668a7a7",
   "metadata": {},
   "outputs": [
    {
     "data": {
      "image/png": "[encoded data removed]",
      "text/plain": [
       "<Figure size 800x600 with 1 Axes>"
      ]
     },
     "metadata": {},
     "output_type": "display_data"
    }
   ],
   "source": [
    "# Data for visualization\n",
    "option_types = ['European Put', 'Down-and-In Put']\n",
    "put_prices = [9.48, 2.85]\n",
    "\n",
    "# Plotting the data\n",
    "plt.figure(figsize=(8, 6))\n",
    "plt.bar(option_types, put_prices, color=['blue', 'orange'])\n",
    "\n",
    "plt.ylabel('Option Price')\n",
    "plt.title('Comparison of European and Down-and-In Put Option Prices')\n",
    "plt.show()\n"
   ]
  },
  {
   "cell_type": "code",
   "execution_count": null,
   "id": "29535469",
   "metadata": {},
   "outputs": [],
   "source": []
  }
 ],
 "metadata": {
  "kernelspec": {
   "display_name": "Python 3 (ipykernel)",
   "language": "python",
   "name": "python3"
  },
  "language_info": {
   "codemirror_mode": {
    "name": "ipython",
    "version": 3
   },
   "file_extension": ".py",
   "mimetype": "text/x-python",
   "name": "python",
   "nbconvert_exporter": "python",
   "pygments_lexer": "ipython3",
   "version": "3.11.7"
  }
 },
 "nbformat": 4,
 "nbformat_minor": 5
}
