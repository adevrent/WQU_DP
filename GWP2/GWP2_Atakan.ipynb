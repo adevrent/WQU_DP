{
 "cells": [
  {
   "cell_type": "markdown",
   "metadata": {},
   "source": [
    "# Parameters\n",
    "\n",
    "They are the same from **GWP1** as requested:\n",
    "\n",
    "$S_0 = 100$\n",
    "\n",
    "$K = 100$ (because the question says *ATM*)\n",
    "\n",
    "$r = 0.05$\n",
    "\n",
    "$\\sigma = 0.2$\n",
    "\n",
    "$T = 0.25$ *years* (3 months)"
   ]
  },
  {
   "cell_type": "markdown",
   "metadata": {},
   "source": [
    "# Step 1"
   ]
  },
  {
   "cell_type": "markdown",
   "metadata": {},
   "source": [
    "## Team Member A (Atakan Devrent)\n",
    "\n",
    "## 1)"
   ]
  },
  {
   "cell_type": "code",
   "execution_count": 54,
   "metadata": {},
   "outputs": [],
   "source": [
    "import numpy as np\n",
    "import scipy.stats as ss\n",
    "\n",
    "# Black-Scholes closed-form solution for European option pricing\n",
    "def BS_price(S0, K, r, sigma, T, t, call_or_put=\"C\"):\n",
    "    T = T-t\n",
    "    d1 = (np.log(S0/K) + (r + sigma**2 / 2) * T) / (sigma * np.sqrt(T))\n",
    "    d2 = d1 - sigma * np.sqrt(T)\n",
    "    \n",
    "    if call_or_put == \"C\":\n",
    "        price = S0 * ss.norm.cdf(d1) - np.exp(-r*T) * K * ss.norm.cdf(d2)\n",
    "    else:\n",
    "        price = np.exp(-r*T) * K * ss.norm.cdf(-d2) - S0 * ss.norm.cdf(-d1)\n",
    "        \n",
    "    return(np.round(price, 2))"
   ]
  },
  {
   "cell_type": "code",
   "execution_count": 55,
   "metadata": {},
   "outputs": [
    {
     "name": "stdout",
     "output_type": "stream",
     "text": [
      "European ATM call price = 4.61\n",
      "European ATM put price = 3.37\n"
     ]
    }
   ],
   "source": [
    "S0 = 100\n",
    "K = 100\n",
    "r = 0.05\n",
    "sigma = 0.2\n",
    "T = 0.25\n",
    "\n",
    "eu_call_price = BS_price(S0, K, r, sigma, T, 0, \"C\")\n",
    "eu_put_price = BS_price(S0, K, r, sigma, T, 0, \"P\")\n",
    "print(\"European ATM call price =\", eu_call_price)\n",
    "print(\"European ATM put price =\", eu_put_price)"
   ]
  },
  {
   "cell_type": "markdown",
   "metadata": {},
   "source": [
    "$\\Delta_{call} = \\Phi(d_1)$\n",
    "\n",
    "$\\Delta_{put} = \\Phi(d_1) - 1$"
   ]
  },
  {
   "cell_type": "code",
   "execution_count": 56,
   "metadata": {},
   "outputs": [
    {
     "name": "stdout",
     "output_type": "stream",
     "text": [
      "European ATM call delta = 0.57\n",
      "European ATM put delta = -0.43\n"
     ]
    }
   ],
   "source": [
    "d1 = (np.log(S0/K) + (r + sigma**2 / 2) * T) / (sigma * np.sqrt(T))\n",
    "\n",
    "delta_call = np.round(ss.norm.cdf(d1), 2)\n",
    "delta_put = np.round(ss.norm.cdf(d1) - 1, 2)\n",
    "\n",
    "print(\"European ATM call delta =\", delta_call)\n",
    "print(\"European ATM put delta =\", delta_put)"
   ]
  },
  {
   "cell_type": "markdown",
   "metadata": {},
   "source": [
    "$\\nu = S \\times \\Phi(d1) \\times \\sqrt{T - t} $"
   ]
  },
  {
   "cell_type": "code",
   "execution_count": 57,
   "metadata": {},
   "outputs": [
    {
     "name": "stdout",
     "output_type": "stream",
     "text": [
      "European ATM call vega = 28.47\n",
      "European ATM put vega = 28.47\n"
     ]
    }
   ],
   "source": [
    "vega_call = np.round(S0 * ss.norm.cdf(d1) * np.sqrt(T - 0), 2)\n",
    "vega_put = np.round(S0 * ss.norm.cdf(d1) * np.sqrt(T - 0), 2)\n",
    "\n",
    "print(\"European ATM call vega =\", vega_call)\n",
    "print(\"European ATM put vega =\", vega_put)"
   ]
  },
  {
   "cell_type": "markdown",
   "metadata": {},
   "source": [
    "## Team Member B\n",
    "\n",
    "# 2)  # TODO"
   ]
  },
  {
   "cell_type": "markdown",
   "metadata": {},
   "source": [
    "## Team Member C\n",
    "\n",
    "# 3)  # TODO"
   ]
  },
  {
   "cell_type": "markdown",
   "metadata": {},
   "source": [
    "_________________________\n",
    "\n",
    "# Step 2\n",
    "\n",
    "## Team Member A (Atakan Devrent)\n",
    "\n",
    "## 4)"
   ]
  },
  {
   "cell_type": "code",
   "execution_count": 58,
   "metadata": {},
   "outputs": [],
   "source": [
    "import numpy as np\n",
    "\n",
    "def MC_American_price(S0, K, r, sigma, T, N, M, t, call_or_put=\"C\"):\n",
    "    \"\"\"Calculates the price of an American option by\n",
    "    simulating price paths with geometric Brownian motion.\n",
    "\n",
    "    Args:\n",
    "        S0 (float): Initial stock price\n",
    "        K (float): Strike price of the option\n",
    "        r (float): Risk-free interest rate\n",
    "        sigma (float): Volatility of the underlying stock\n",
    "        T (float): Expiry time of the option\n",
    "        N (int): Number of steps\n",
    "        M (int): Number of different paths\n",
    "        t (float): Current time\n",
    "        call_or_put (str, optional): Type of the option. Defaults to \"C\".\n",
    "\n",
    "    Returns:\n",
    "        opt_price: Price of the American option at time t.\n",
    "    \"\"\"\n",
    "    T = T - t\n",
    "    dt = T / N\n",
    "    S = np.zeros((N + 1, M))\n",
    "    S[0] = S0  # at t=0, all prices are S0. (first row is S0 repeated.)\n",
    "    rn = np.random.standard_normal((N, M))\n",
    "    multipliers = np.exp((r - sigma**2 / 2) * dt + sigma * np.sqrt(dt) * rn)\n",
    "    S[1:, :] = S0 * multipliers.cumprod(axis=0)  # price paths are generated\n",
    "\n",
    "    # Initialize payoff array\n",
    "    payoff = np.zeros((N + 1, M))\n",
    "    \n",
    "    # Final payoff at maturity\n",
    "    if call_or_put == \"C\":\n",
    "        payoff[-1] = np.maximum(S[-1] - K, 0)\n",
    "    else:\n",
    "        payoff[-1] = np.maximum(K - S[-1], 0)\n",
    "    \n",
    "    # Backward induction for American option\n",
    "    for i in range(N - 1, 0, -1):\n",
    "        # Discounted expected continuation value\n",
    "        continuation_value = np.exp(-r * i * dt) * payoff[i + 1]\n",
    "        \n",
    "        # Immediate exercise value\n",
    "        if call_or_put == \"C\":\n",
    "            exercise_value = np.maximum(S[i] - K, 0)\n",
    "        else:\n",
    "            exercise_value = np.maximum(K - S[i], 0)\n",
    "        \n",
    "        # The holder will choose the maximum of continuing or exercising\n",
    "        payoff[i] = np.maximum(exercise_value, continuation_value)\n",
    "    \n",
    "    # Discount the payoff from the first time step to the present\n",
    "    opt_price = np.exp(-r * T) * payoff[1].mean()\n",
    "    \n",
    "    return np.round(opt_price, 2)"
   ]
  },
  {
   "cell_type": "code",
   "execution_count": 59,
   "metadata": {},
   "outputs": [
    {
     "name": "stdout",
     "output_type": "stream",
     "text": [
      "American ATM call price = 4.58\n"
     ]
    }
   ],
   "source": [
    "S0 = 100\n",
    "K = 100\n",
    "r = 0.05\n",
    "sigma = 0.2\n",
    "T = 0.25\n",
    "\n",
    "N = 365  # number of steps are the total days in a year.\n",
    "M = 10000  # generate as many price paths as possible to converge to the analytical solution\n",
    "\n",
    "american_call_price = MC_American_price(S0, K, r, sigma, T, N, M, 0, \"C\")\n",
    "print(\"American ATM call price =\", american_call_price)"
   ]
  },
  {
   "cell_type": "markdown",
   "metadata": {},
   "source": [
    "Because there is no closed form solution to the **delta** and **vega** values of American options, we are going to use the **finite difference** method to calculate these greeks:\n",
    "\n",
    "$\\Delta \\simeq \\Large\\frac{C(S_t + dS_t; \\cdots) - C(S_t; \\cdots)}{dS_t}$\n",
    "\n",
    "$\\nu \\simeq \\Large\\frac{C(\\sigma_t + d\\sigma_t; \\cdots) - C(\\sigma_t; \\cdots)}{d\\sigma_t}$\n",
    "\n",
    "where,\n",
    "\n",
    "$\\Delta:$ Delta value of the option, sensitivity of the option price to the small change in the **price** of the underlying asset.\n",
    "\n",
    "$S_t:$ Price of the underlying stock at time $t$\n",
    "\n",
    "$C(\\cdots):$ Price of the option given some parameters $S_t, \\sigma_t, \\cdots$ at time $t$.\n",
    "\n",
    "$\\nu:$ Vega value of the option, sensitivity of the option price to the small change in the **volatility** of the underlying asset.\n",
    "\n",
    "$dS_t:$ Small change in the price of the underlying at time $t$.\n",
    "\n",
    "$d\\sigma_t:$ Small change in the volatility of the underlying at time $t$."
   ]
  },
  {
   "cell_type": "code",
   "execution_count": 60,
   "metadata": {},
   "outputs": [],
   "source": [
    "def american_delta(S0, K, r, sigma, T, N, M, t, call_or_put=\"C\", epsilon=0.01):\n",
    "    delta = (MC_American_price(S0 + S0*epsilon, K, r, sigma, T, N, M, t, call_or_put) - MC_American_price(S0, K, r, sigma, T, N, M, t, call_or_put)) / (S0 * epsilon)\n",
    "    return np.round(delta, 2)\n",
    "\n",
    "def american_vega(S0, K, r, sigma, T, N, M, t, call_or_put=\"C\", epsilon=0.01):\n",
    "    vega = (MC_American_price(S0, K, r, sigma + sigma*epsilon, T, N, M, t, call_or_put) - MC_American_price(S0, K, r, sigma, T, N, M, t, call_or_put)) / (sigma * epsilon)\n",
    "    return np.round(vega, 2)"
   ]
  },
  {
   "cell_type": "code",
   "execution_count": 61,
   "metadata": {},
   "outputs": [
    {
     "name": "stdout",
     "output_type": "stream",
     "text": [
      "American ATM call delta = 0.81\n",
      "American ATM call vega = 15.0\n"
     ]
    }
   ],
   "source": [
    "american_call_delta = american_delta(S0, K, r, sigma, T, N, M, 0, \"C\")\n",
    "american_call_vega = american_vega(S0, K, r, sigma, T, N, M, 0, \"C\")\n",
    "\n",
    "print(\"American ATM call delta =\", american_call_delta)\n",
    "print(\"American ATM call vega =\", american_call_vega)"
   ]
  },
  {
   "cell_type": "markdown",
   "metadata": {},
   "source": [
    "# Step 3"
   ]
  },
  {
   "cell_type": "markdown",
   "metadata": {},
   "source": [
    "## Team Member A (Atakan Devrent)\n",
    "\n",
    "7)\n",
    "\n",
    "European Call option with 110% moneyness: $S_0 = 100, K = 110$\n",
    "\n",
    "European Put option with 95% moneyness: $S_0 = 100, K = 95$\n",
    "\n",
    "Both have $T = 0.25$"
   ]
  },
  {
   "cell_type": "code",
   "execution_count": 62,
   "metadata": {},
   "outputs": [
    {
     "name": "stdout",
     "output_type": "stream",
     "text": [
      "European Call with 110% moneyness price = 1.19\n",
      "European Put with 95% moneyness price = 1.53\n"
     ]
    }
   ],
   "source": [
    "S0 = 100\n",
    "K_call = 110\n",
    "r = 0.05\n",
    "sigma = 0.2\n",
    "T = 0.25\n",
    "t = 0\n",
    "\n",
    "call_110_price = BS_price(S0, K_call, r, sigma, T, t, \"C\")\n",
    "\n",
    "S0 = 100\n",
    "K_put = 95\n",
    "r = 0.05\n",
    "sigma = 0.2\n",
    "T = 0.25\n",
    "\n",
    "put_95_price = BS_price(S0, K_put, r, sigma, T, t, \"P\")\n",
    "\n",
    "print(\"European Call with 110% moneyness price =\", call_110_price)\n",
    "print(\"European Put with 95% moneyness price =\", put_95_price)"
   ]
  },
  {
   "cell_type": "markdown",
   "metadata": {},
   "source": [
    "$\\Delta_{call} = \\Phi(d_1)$\n",
    "\n",
    "$\\Delta_{put} = \\Phi(d_1) - 1$\n",
    "\n",
    "And if we buy both the call and put option, delta of the portfolio is simply the sum of the delta of the options (because they have the same weight):\n",
    "\n",
    "$\\Delta_{portfolio} = \\Delta_{call} + \\Delta_{put}$"
   ]
  },
  {
   "cell_type": "code",
   "execution_count": 63,
   "metadata": {},
   "outputs": [
    {
     "name": "stdout",
     "output_type": "stream",
     "text": [
      "Total price to buy both options at t=0 : 2.72\n",
      "Call delta = 0.22\n",
      "Put delta = -0.25\n",
      "Portfolio delta = -0.03\n"
     ]
    }
   ],
   "source": [
    "d1_call = (np.log(S0/K_call) + (r + sigma**2 / 2) * T) / (sigma * np.sqrt(T))\n",
    "d1_put = (np.log(S0/K_put) + (r + sigma**2 / 2) * T) / (sigma * np.sqrt(T))\n",
    "\n",
    "call_delta = np.round(ss.norm.cdf(d1_call), 2)\n",
    "put_delta = np.round(ss.norm.cdf(d1_put) - 1, 2)\n",
    "portfolio_delta = call_delta + put_delta\n",
    "\n",
    "print(\"Total price to buy both options at t=0 :\", np.round(call_110_price + put_95_price, 2))\n",
    "print(\"Call delta =\", call_delta)\n",
    "print(\"Put delta =\", put_delta)\n",
    "print(\"Portfolio delta =\", portfolio_delta)"
   ]
  },
  {
   "cell_type": "markdown",
   "metadata": {},
   "source": [
    "Replication Portfolio Calculation:\n",
    "\n",
    "$B + \\Delta \\times S_0 = P$\n",
    "\n",
    "where,\n",
    "\n",
    "$B:$ Risk-free bond buy amount\n",
    "\n",
    "$S_0:$ Underlying asset price at $t=0$\n",
    "\n",
    "$\\Delta:$ Delta value of the option to the underlying\n",
    "\n",
    "$P:$ Price of the option portfolio at $t=0$"
   ]
  },
  {
   "cell_type": "markdown",
   "metadata": {},
   "source": [
    "Then to replicate this specific portfolio (buy both options), we have the equation:\n",
    "\n",
    "$ B + -0.03 \\times 100 = 2.72 $\n",
    "\n",
    "$\\rightarrow B = 5.72$\n",
    "\n",
    "This means, to delta-hedge this portfolio:\n",
    "\n",
    "* We **BUY** $0.03$ units of the underlying asset at $t=0$.\n",
    "* We **BORROW** $5.72$ units of the risk-free bond at $t=0$."
   ]
  },
  {
   "cell_type": "markdown",
   "metadata": {},
   "source": [
    "_________________\n",
    "\n",
    "For the second portfolio we **buy** the call but **sell** the put. Now because the sign of the put is reversed, its delta value is also reversed. So the delta of the new portfolio will be:\n",
    "\n",
    "$\\Delta_{portfolio} = \\Delta_{call} - \\Delta_{put}$"
   ]
  },
  {
   "cell_type": "code",
   "execution_count": 64,
   "metadata": {},
   "outputs": [
    {
     "name": "stdout",
     "output_type": "stream",
     "text": [
      "Total price to buy call and sell put at t=0 : -0.34\n",
      "New portfolio delta = 0.47\n"
     ]
    }
   ],
   "source": [
    "portfolio_2_delta = call_delta - put_delta\n",
    "print(\"Total price to buy call and sell put at t=0 :\", np.round(call_110_price - put_95_price, 2))\n",
    "print(\"New portfolio delta =\", portfolio_2_delta)"
   ]
  },
  {
   "cell_type": "markdown",
   "metadata": {},
   "source": [
    "To delta hedge this new portfolio, we have a new equation:\n",
    "\n",
    "$B + 0.47 \\times 100 = -0.34$\n",
    "\n",
    "* We **SELL** $0.47$ units of the underlying asset at $t=0$.\n",
    "* We **LEND** $-47.34$ units of the risk-free bond at $t=0$."
   ]
  }
 ],
 "metadata": {
  "kernelspec": {
   "display_name": "base",
   "language": "python",
   "name": "python3"
  },
  "language_info": {
   "codemirror_mode": {
    "name": "ipython",
    "version": 3
   },
   "file_extension": ".py",
   "mimetype": "text/x-python",
   "name": "python",
   "nbconvert_exporter": "python",
   "pygments_lexer": "ipython3",
   "version": "3.11.5"
  }
 },
 "nbformat": 4,
 "nbformat_minor": 2
}
