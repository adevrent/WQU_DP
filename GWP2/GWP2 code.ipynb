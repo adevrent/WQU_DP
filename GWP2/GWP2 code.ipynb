{
 "cells": [
  {
   "cell_type": "markdown",
   "metadata": {},
   "source": [
    "# Parameters\n",
    "\n",
    "They are the same from **GWP1** as requested:\n",
    "\n",
    "$S_0 = 100$\n",
    "\n",
    "$K = 100$ (because the question says *ATM*)\n",
    "\n",
    "$r = 0.05$\n",
    "\n",
    "$\\sigma = 0.2$\n",
    "\n",
    "$T = 0.25$ *years* (3 months)"
   ]
  },
  {
   "cell_type": "markdown",
   "metadata": {},
   "source": [
    "# Step 1"
   ]
  },
  {
   "cell_type": "markdown",
   "metadata": {},
   "source": [
    "## Team Member A "
   ]
  },
  {
   "cell_type": "code",
   "execution_count": 18,
   "metadata": {},
   "outputs": [],
   "source": [
    "import numpy as np\n",
    "import scipy.stats as ss\n",
    "\n",
    "# Black-Scholes closed-form solution for European option pricing\n",
    "def BS_price(S0, K, r, sigma, T, t, call_or_put=\"C\"):\n",
    "    T = T-t\n",
    "    d1 = (np.log(S0/K) + (r + sigma**2 / 2) * T) / (sigma * np.sqrt(T))\n",
    "    d2 = d1 - sigma * np.sqrt(T)\n",
    "    \n",
    "    if call_or_put == \"C\":\n",
    "        price = S0 * ss.norm.cdf(d1) - np.exp(-r*T) * K * ss.norm.cdf(d2)\n",
    "    else:\n",
    "        price = np.exp(-r*T) * K * ss.norm.cdf(-d2) - S0 * ss.norm.cdf(-d1)\n",
    "        \n",
    "    return np.round(price, 2)\n",
    "\n"
   ]
  },
  {
   "cell_type": "markdown",
   "metadata": {},
   "source": [
    "$\\Delta_{call} = \\Phi(d_1)$\n",
    "\n",
    "$\\Delta_{put} = \\Phi(d_1) - 1$"
   ]
  },
  {
   "cell_type": "markdown",
   "metadata": {},
   "source": [
    "$\\nu = S \\times \\Phi(d1) \\times \\sqrt{T - t} $"
   ]
  },
  {
   "cell_type": "code",
   "execution_count": 19,
   "metadata": {},
   "outputs": [
    {
     "name": "stdout",
     "output_type": "stream",
     "text": [
      "Black-Scholes Pricing:\n",
      "European ATM call price = 4.61\n",
      "European ATM put price = 3.37\n",
      "European ATM call delta = 0.57\n",
      "European ATM put delta = -0.43\n",
      "European ATM call vega = 28.47\n",
      "European ATM put vega = 28.47\n"
     ]
    }
   ],
   "source": [
    "# Parameters\n",
    "S0 = 100\n",
    "K = 100\n",
    "r = 0.05\n",
    "sigma = 0.2\n",
    "T = 0.25\n",
    "\n",
    "# Price using Black-Scholes\n",
    "eu_call_price = BS_price(S0, K, r, sigma, T, 0, \"C\")\n",
    "eu_put_price = BS_price(S0, K, r, sigma, T, 0, \"P\")\n",
    "\n",
    "# Delta\n",
    "d1 = (np.log(S0/K) + (r + sigma**2 / 2) * T) / (sigma * np.sqrt(T))\n",
    "delta_call = np.round(ss.norm.cdf(d1), 2)\n",
    "delta_put = np.round(ss.norm.cdf(d1) - 1, 2)\n",
    "\n",
    "# Vega\n",
    "vega_call = np.round(S0 * ss.norm.cdf(d1) * np.sqrt(T - 0), 2)\n",
    "vega_put = np.round(S0 * ss.norm.cdf(d1) * np.sqrt(T - 0), 2)\n",
    "\n",
    "# Results\n",
    "print(\"Black-Scholes Pricing:\")\n",
    "print(\"European ATM call price =\", eu_call_price)\n",
    "print(\"European ATM put price =\", eu_put_price)\n",
    "print(\"European ATM call delta =\", delta_call)\n",
    "print(\"European ATM put delta =\", delta_put)\n",
    "print(\"European ATM call vega =\", vega_call)\n",
    "print(\"European ATM put vega =\", vega_put)\n"
   ]
  },
  {
   "cell_type": "markdown",
   "metadata": {},
   "source": [
    "## Team Member B"
   ]
  },
  {
   "cell_type": "code",
   "execution_count": 20,
   "metadata": {},
   "outputs": [
    {
     "name": "stdout",
     "output_type": "stream",
     "text": [
      "Monte Carlo Pricing:\n",
      "European ATM call price: 4.5848\n",
      "European ATM put price: 3.3647\n",
      "European ATM call delta: 0.5693\n",
      "European ATM put delta: -0.4305\n",
      "European ATM call vega: 259.1190\n",
      "European ATM put vega: 154.3636\n"
     ]
    }
   ],
   "source": [
    "import numpy as np\n",
    "\n",
    "# Parameters\n",
    "S0 = 100  # Initial stock price\n",
    "K = 100   # Strike price\n",
    "T = 0.25  # Time to maturity (3 months)\n",
    "r = 0.05  # Risk-free rate\n",
    "sigma = 0.20  # Volatility\n",
    "n_simulations = 100000  # Number of Monte-Carlo simulations\n",
    "n_steps = int(T * 252)  # Daily time steps\n",
    "\n",
    "# Time increment\n",
    "dt = T / n_steps\n",
    "\n",
    "# Monte-Carlo simulation\n",
    "np.random.seed(42)\n",
    "Z = np.random.standard_normal((n_simulations, n_steps))\n",
    "S = np.zeros((n_simulations, n_steps + 1))\n",
    "S[:, 0] = S0\n",
    "for t in range(1, n_steps + 1):\n",
    "    S[:, t] = S[:, t-1] * np.exp((r - 0.5 * sigma**2) * dt + sigma * np.sqrt(dt) * Z[:, t-1])\n",
    "\n",
    "# Payoffs\n",
    "call_payoff = np.maximum(S[:, -1] - K, 0)\n",
    "put_payoff = np.maximum(K - S[:, -1], 0)\n",
    "\n",
    "# Discounted prices\n",
    "call_price_mc = np.exp(-r * T) * np.mean(call_payoff)\n",
    "put_price_mc = np.exp(-r * T) * np.mean(put_payoff)\n",
    "\n",
    "# Delta calculation\n",
    "epsilon = 1e-4  # Small change in S0\n",
    "\n",
    "S0_up = S0 + epsilon\n",
    "\n",
    "# Re-run the simulation for the shocked price\n",
    "S_up = np.zeros((n_simulations, n_steps + 1))\n",
    "S_up[:, 0] = S0_up\n",
    "for t in range(1, n_steps + 1):\n",
    "    S_up[:, t] = S_up[:, t-1] * np.exp((r - 0.5 * sigma**2) * dt + sigma * np.sqrt(dt) * Z[:, t-1])\n",
    "\n",
    "# Payoffs with shocked price\n",
    "call_payoff_up = np.maximum(S_up[:, -1] - K, 0)\n",
    "put_payoff_up = np.maximum(K - S_up[:, -1], 0)\n",
    "\n",
    "# Calculate Delta\n",
    "delta_call_mc = (np.exp(-r * T) * np.mean(call_payoff_up) - call_price_mc) / epsilon\n",
    "delta_put_mc = (np.exp(-r * T) * np.mean(put_payoff_up) - put_price_mc) / epsilon\n",
    "\n",
    "# Vega calculation\n",
    "sigma_up = sigma + epsilon\n",
    "paths_vega = np.zeros((n_simulations, n_steps + 1))\n",
    "paths_vega[:, 0] = S0\n",
    "\n",
    "for t in range(1, n_steps + 1):\n",
    "    z = np.random.standard_normal(n_simulations)\n",
    "    paths_vega[:, t] = paths_vega[:, t-1] * np.exp((r - 0.5 * sigma_up**2) * dt + sigma_up * np.sqrt(dt) * z)\n",
    "\n",
    "call_payoff_vega = np.maximum(paths_vega[:, -1] - K, 0)\n",
    "put_payoff_vega = np.maximum(K - paths_vega[:, -1], 0)\n",
    "\n",
    "vega_call_mc = (np.mean(call_payoff_vega) - np.mean(call_payoff)) / epsilon\n",
    "vega_put_mc = (np.mean(put_payoff_vega) - np.mean(put_payoff)) / epsilon\n",
    "\n",
    "# Results\n",
    "print(\"Monte Carlo Pricing:\")\n",
    "print(f\"European ATM call price: {call_price_mc:.4f}\")\n",
    "print(f\"European ATM put price: {put_price_mc:.4f}\")\n",
    "print(f\"European ATM call delta: {delta_call_mc:.4f}\")\n",
    "print(f\"European ATM put delta: {delta_put_mc:.4f}\")\n",
    "print(f\"European ATM call vega: {vega_call_mc:.4f}\")\n",
    "print(f\"European ATM put vega: {vega_put_mc:.4f}\")\n"
   ]
  },
  {
   "cell_type": "markdown",
   "metadata": {},
   "source": [
    "## Team Member C\n",
    "\n"
   ]
  },
  {
   "attachments": {
    "image.png": {
     "image/png": "[encoded data removed]"
    }
   },
   "cell_type": "markdown",
   "metadata": {},
   "source": [
    "![image.png](attachment:image.png)"
   ]
  },
  {
   "cell_type": "code",
   "execution_count": 21,
   "metadata": {},
   "outputs": [
    {
     "name": "stdout",
     "output_type": "stream",
     "text": [
      "Put-Call Parity (Black-Scholes): False, LHS: 1.2400, RHS: 1.2422\n",
      "Put-Call Parity (Monte Carlo): False, LHS: 1.2201, RHS: 1.2422\n"
     ]
    }
   ],
   "source": [
    "def check_put_call_parity(call_price, put_price, S0, K, T, r):\n",
    "    lhs = call_price - put_price\n",
    "    rhs = S0 - K * np.exp(-r * T)\n",
    "    parity = np.isclose(lhs, rhs, atol=1e-4)\n",
    "    return parity, lhs, rhs\n",
    "\n",
    "# Check Put-Call Parity for Black-Scholes\n",
    "parity_bs, lhs_bs, rhs_bs = check_put_call_parity(eu_call_price, eu_put_price, S0, K, T, r)\n",
    "print(f\"Put-Call Parity (Black-Scholes): {parity_bs}, LHS: {lhs_bs:.4f}, RHS: {rhs_bs:.4f}\")\n",
    "\n",
    "# Check Put-Call Parity for Monte Carlo\n",
    "parity_mc, lhs_mc, rhs_mc = check_put_call_parity(call_price_mc, put_price_mc, S0, K, T, r)\n",
    "print(f\"Put-Call Parity (Monte Carlo): {parity_mc}, LHS: {lhs_mc:.4f}, RHS: {rhs_mc:.4f}\")\n"
   ]
  },
  {
   "cell_type": "markdown",
   "metadata": {},
   "source": [
    "## 2. Compare Prices Obtained from Both Methods"
   ]
  },
  {
   "cell_type": "code",
   "execution_count": 22,
   "metadata": {},
   "outputs": [
    {
     "name": "stdout",
     "output_type": "stream",
     "text": [
      "Price Difference (Call Option - BS vs MC): 0.0252\n",
      "Price Difference (Put Option - BS vs MC): 0.0053\n"
     ]
    }
   ],
   "source": [
    "# Compare the prices obtained from Black-Scholes and Monte Carlo\n",
    "price_difference_call = eu_call_price - call_price_mc\n",
    "price_difference_put = eu_put_price - put_price_mc\n",
    "\n",
    "print(f\"Price Difference (Call Option - BS vs MC): {price_difference_call:.4f}\")\n",
    "print(f\"Price Difference (Put Option - BS vs MC): {price_difference_put:.4f}\")\n"
   ]
  },
  {
   "cell_type": "markdown",
   "metadata": {},
   "source": [
    "_________________________\n",
    "\n",
    "# Step 2\n",
    "\n",
    "## Team Member A (American Put Option) "
   ]
  },
  {
   "cell_type": "markdown",
   "metadata": {},
   "source": [
    "Because there is no closed form solution to the **delta** and **vega** values of American options, we are going to use the **finite difference** method to calculate these greeks:\n",
    "\n",
    "$\\Delta \\simeq \\Large\\frac{C(S_t + dS_t; \\cdots) - C(S_t; \\cdots)}{dS_t}$\n",
    "\n",
    "$\\nu \\simeq \\Large\\frac{C(\\sigma_t + d\\sigma_t; \\cdots) - C(\\sigma_t; \\cdots)}{d\\sigma_t}$\n",
    "\n",
    "where,\n",
    "\n",
    "$\\Delta:$ Delta value of the option, sensitivity of the option price to the small change in the **price** of the underlying asset.\n",
    "\n",
    "$S_t:$ Price of the underlying stock at time $t$\n",
    "\n",
    "$C(\\cdots):$ Price of the option given some parameters $S_t, \\sigma_t, \\cdots$ at time $t$.\n",
    "\n",
    "$\\nu:$ Vega value of the option, sensitivity of the option price to the small change in the **volatility** of the underlying asset.\n",
    "\n",
    "$dS_t:$ Small change in the price of the underlying at time $t$.\n",
    "\n",
    "$d\\sigma_t:$ Small change in the volatility of the underlying at time $t$."
   ]
  },
  {
   "cell_type": "code",
   "execution_count": 23,
   "metadata": {},
   "outputs": [],
   "source": [
    "import numpy as np\n",
    "\n",
    "def MC_American_price(S0, K, r, sigma, T, N, M, t, call_or_put=\"C\"):\n",
    "    \"\"\"Calculates the price of an American option by\n",
    "    simulating price paths with geometric Brownian motion.\n",
    "\n",
    "    Args:\n",
    "        S0 (float): Initial stock price\n",
    "        K (float): Strike price of the option\n",
    "        r (float): Risk-free interest rate\n",
    "        sigma (float): Volatility of the underlying stock\n",
    "        T (float): Expiry time of the option\n",
    "        N (int): Number of steps\n",
    "        M (int): Number of different paths\n",
    "        t (float): Current time\n",
    "        call_or_put (str, optional): Type of the option. Defaults to \"C\".\n",
    "\n",
    "    Returns:\n",
    "        opt_price: Price of the American option at time t.\n",
    "    \"\"\"\n",
    "    T = T - t\n",
    "    dt = T / N\n",
    "    S = np.zeros((N + 1, M))\n",
    "    S[0] = S0  # at t=0, all prices are S0. (first row is S0 repeated.)\n",
    "    rn = np.random.standard_normal((N, M))\n",
    "    multipliers = np.exp((r - sigma**2 / 2) * dt + sigma * np.sqrt(dt) * rn)\n",
    "    S[1:, :] = S0 * multipliers.cumprod(axis=0)  # price paths are generated\n",
    "\n",
    "    # Initialize payoff array\n",
    "    payoff = np.zeros((N + 1, M))\n",
    "    \n",
    "    # Final payoff at maturity\n",
    "    if call_or_put == \"C\":\n",
    "        payoff[-1] = np.maximum(S[-1] - K, 0)\n",
    "    else:\n",
    "        payoff[-1] = np.maximum(K - S[-1], 0)\n",
    "    \n",
    "    # Backward induction for American option\n",
    "    for i in range(N - 1, 0, -1):\n",
    "        # Discounted expected continuation value\n",
    "        continuation_value = np.exp(-r * i * dt) * payoff[i + 1]\n",
    "        \n",
    "        # Immediate exercise value\n",
    "        if call_or_put == \"C\":\n",
    "            exercise_value = np.maximum(S[i] - K, 0)\n",
    "        else:\n",
    "            exercise_value = np.maximum(K - S[i], 0)\n",
    "        \n",
    "        # The holder will choose the maximum of continuing or exercising\n",
    "        payoff[i] = np.maximum(exercise_value, continuation_value)\n",
    "    \n",
    "    # Discount the payoff from the first time step to the present\n",
    "    opt_price = np.exp(-r * T) * payoff[1].mean()\n",
    "    \n",
    "    return np.round(opt_price, 2)\n",
    "\n",
    "def american_delta(S0, K, r, sigma, T, N, M, t, call_or_put=\"C\", epsilon=0.01):\n",
    "    delta = (MC_American_price(S0 + S0*epsilon, K, r, sigma, T, N, M, t, call_or_put) - MC_American_price(S0, K, r, sigma, T, N, M, t, call_or_put)) / (S0 * epsilon)\n",
    "    return np.round(delta, 2)\n",
    "\n",
    "def american_vega(S0, K, r, sigma, T, N, M, t, call_or_put=\"C\", epsilon=0.01):\n",
    "    vega = (MC_American_price(S0, K, r, sigma + sigma*epsilon, T, N, M, t, call_or_put) - MC_American_price(S0, K, r, sigma, T, N, M, t, call_or_put)) / (sigma * epsilon)\n",
    "    return np.round(vega, 2)\n",
    "\n"
   ]
  },
  {
   "cell_type": "code",
   "execution_count": 24,
   "metadata": {
    "scrolled": true
   },
   "outputs": [
    {
     "name": "stdout",
     "output_type": "stream",
     "text": [
      "American ATM call price = 4.58\n",
      "American ATM call delta = 0.92\n",
      "American ATM call vega = 0.0\n"
     ]
    }
   ],
   "source": [
    "# Parameters\n",
    "S0 = 100\n",
    "K = 100\n",
    "r = 0.05\n",
    "sigma = 0.2\n",
    "T = 0.25\n",
    "N = 365  # number of steps\n",
    "M = 10000  # number of simulations\n",
    "\n",
    "# Calculate American Call Option Price, Delta, and Vega\n",
    "american_call_price = MC_American_price(S0, K, r, sigma, T, N, M, 0, \"C\")\n",
    "american_call_delta = american_delta(S0, K, r, sigma, T, N, M, 0, \"C\")\n",
    "american_call_vega = american_vega(S0, K, r, sigma, T, N, M, 0, \"C\")\n",
    "\n",
    "print(\"American ATM call price =\", american_call_price)\n",
    "print(\"American ATM call delta =\", american_call_delta)\n",
    "print(\"American ATM call vega =\", american_call_vega)\n"
   ]
  },
  {
   "cell_type": "markdown",
   "metadata": {},
   "source": [
    "# Team Member B (American Put Option)"
   ]
  },
  {
   "cell_type": "code",
   "execution_count": 25,
   "metadata": {},
   "outputs": [],
   "source": [
    "import numpy as np\n",
    "\n",
    "def american_put_price(S0, K, r, sigma, T, n_steps, n_simulations):\n",
    "    dt = T / n_steps\n",
    "    Z = np.random.standard_normal((n_simulations, n_steps))\n",
    "    S = np.zeros((n_simulations, n_steps + 1))\n",
    "    S[:, 0] = S0\n",
    "    payoff = np.zeros((n_simulations, n_steps + 1))\n",
    "    \n",
    "    for t in range(1, n_steps + 1):\n",
    "        S[:, t] = S[:, t-1] * np.exp((r - 0.5 * sigma**2) * dt + sigma * np.sqrt(dt) * Z[:, t-1])\n",
    "        payoff[:, t] = np.maximum(K - S[:, t], 0)  # Early exercise value\n",
    "    \n",
    "    payoff[:, -1] = np.maximum(K - S[:, -1], 0)  # Payoff at maturity\n",
    "    discounted_payoff = np.exp(-r * T) * np.max(payoff, axis=1)\n",
    "    \n",
    "    return np.mean(discounted_payoff)\n",
    "\n",
    "def delta_american_put(S0, K, r, sigma, T, n_steps, n_simulations, epsilon=0.01):\n",
    "    return (american_put_price(S0 + epsilon, K, r, sigma, T, n_steps, n_simulations) - american_put_price(S0, K, r, sigma, T, n_steps, n_simulations)) / epsilon\n",
    "\n",
    "def vega_american_put(S0, K, r, sigma, T, n_steps, n_simulations, epsilon=0.01):\n",
    "    return (american_put_price(S0, K, r, sigma + epsilon, T, n_steps, n_simulations) - american_put_price(S0, K, r, sigma, T, n_steps, n_simulations)) / epsilon\n",
    "\n"
   ]
  },
  {
   "cell_type": "code",
   "execution_count": 26,
   "metadata": {},
   "outputs": [
    {
     "name": "stdout",
     "output_type": "stream",
     "text": [
      "American ATM put price = 6.86\n",
      "American ATM put delta = -0.02\n",
      "American ATM put vega = 29.11\n"
     ]
    }
   ],
   "source": [
    "# Parameters\n",
    "S0 = 100\n",
    "K = 100\n",
    "r = 0.05\n",
    "sigma = 0.2\n",
    "T = 0.25\n",
    "n_steps = 365\n",
    "n_simulations = 10000\n",
    "epsilon = 0.01\n",
    "\n",
    "# Calculate American Put Option Price, Delta, and Vega\n",
    "american_put_price_value = american_put_price(S0, K, r, sigma, T, n_steps, n_simulations)\n",
    "delta_am_put = delta_american_put(S0, K, r, sigma, T, n_steps, n_simulations, epsilon)\n",
    "vega_am_put = vega_american_put(S0, K, r, sigma, T, n_steps, n_simulations, epsilon)\n",
    "\n",
    "print(f\"American ATM put price = {american_put_price_value:.2f}\")\n",
    "print(f\"American ATM put delta = {delta_am_put:.2f}\")\n",
    "print(f\"American ATM put vega = {vega_am_put:.2f}\")\n"
   ]
  },
  {
   "cell_type": "markdown",
   "metadata": {},
   "source": [
    "# Team Member C (Pricing American Options at Different Moneyness Levels)"
   ]
  },
  {
   "cell_type": "code",
   "execution_count": 27,
   "metadata": {},
   "outputs": [
    {
     "data": {
      "image/png": "[encoded data removed]",
      "text/plain": [
       "<Figure size 1000x600 with 1 Axes>"
      ]
     },
     "metadata": {},
     "output_type": "display_data"
    },
    {
     "data": {
      "image/png": "[encoded data removed]",
      "text/plain": [
       "<Figure size 1000x600 with 1 Axes>"
      ]
     },
     "metadata": {},
     "output_type": "display_data"
    }
   ],
   "source": [
    "import matplotlib.pyplot as plt\n",
    "\n",
    "# Define moneyness levels and strike prices\n",
    "moneyness_levels = [0.8, 0.9, 1.0, 1.1, 1.2]  # Deep OTM, OTM, ATM, ITM, Deep ITM\n",
    "strike_prices = [S0 * m for m in moneyness_levels]\n",
    "\n",
    "# Calculate American Call and Put Prices at Different Moneyness Levels\n",
    "american_call_prices = [MC_American_price(S0, K, r, sigma, T, N, M, 0, \"C\") for K in strike_prices]\n",
    "american_put_prices = [american_put_price(S0, K, r, sigma, T, n_steps, n_simulations) for K in strike_prices]\n",
    "\n",
    "# Graph 1: American Call Option Prices vs. Moneyness\n",
    "plt.figure(figsize=(10, 6))\n",
    "plt.plot(moneyness_levels, american_call_prices, marker='o', linestyle='-', color='blue', label='American Call')\n",
    "plt.title(\"American Call Option Prices vs. Moneyness\")\n",
    "plt.xlabel(\"Moneyness (Strike Price / Spot Price)\")\n",
    "plt.ylabel(\"Option Price\")\n",
    "plt.grid(True)\n",
    "plt.legend()\n",
    "plt.show()\n",
    "\n",
    "# Graph 2: American Put Option Prices vs. Moneyness\n",
    "plt.figure(figsize=(10, 6))\n",
    "plt.plot(moneyness_levels, american_put_prices, marker='o', linestyle='-', color='red', label='American Put')\n",
    "plt.title(\"American Put Option Prices vs. Moneyness\")\n",
    "plt.xlabel(\"Moneyness (Strike Price / Spot Price)\")\n",
    "plt.ylabel(\"Option Price\")\n",
    "plt.grid(True)\n",
    "plt.legend()\n",
    "plt.show()\n"
   ]
  },
  {
   "cell_type": "markdown",
   "metadata": {},
   "source": [
    "# Step 3"
   ]
  },
  {
   "cell_type": "markdown",
   "metadata": {},
   "source": [
    "## Team Member A (Atakan Devrent)\n",
    "\n",
    "7)\n",
    "\n",
    "European Call option with 110% moneyness: $S_0 = 100, K = 110$\n",
    "\n",
    "European Put option with 95% moneyness: $S_0 = 100, K = 95$\n",
    "\n",
    "Both have $T = 0.25$"
   ]
  },
  {
   "cell_type": "code",
   "execution_count": 28,
   "metadata": {},
   "outputs": [
    {
     "name": "stdout",
     "output_type": "stream",
     "text": [
      "European Call with 110% moneyness price = 1.19\n",
      "European Put with 95% moneyness price = 1.53\n",
      "Total price to buy both options at t=0: 2.72\n",
      "Call delta = 0.22\n",
      "Put delta = -0.25\n",
      "Portfolio delta = -0.03\n",
      "Total price to buy call and sell put at t=0: -0.34\n",
      "New portfolio delta = 0.47\n"
     ]
    }
   ],
   "source": [
    "import numpy as np\n",
    "import scipy.stats as ss\n",
    "\n",
    "# Black-Scholes closed-form solution for European option pricing\n",
    "def BS_price(S0, K, r, sigma, T, t, call_or_put=\"C\"):\n",
    "    T = T-t\n",
    "    d1 = (np.log(S0/K) + (r + sigma**2 / 2) * T) / (sigma * np.sqrt(T))\n",
    "    d2 = d1 - sigma * np.sqrt(T)\n",
    "    \n",
    "    if call_or_put == \"C\":\n",
    "        price = S0 * ss.norm.cdf(d1) - np.exp(-r*T) * K * ss.norm.cdf(d2)\n",
    "    else:\n",
    "        price = np.exp(-r*T) * K * ss.norm.cdf(-d2) - S0 * ss.norm.cdf(-d1)\n",
    "        \n",
    "    return np.round(price, 2)\n",
    "\n",
    "# Parameters for Call Option with 110% moneyness\n",
    "S0 = 100\n",
    "K_call = 110\n",
    "r = 0.05\n",
    "sigma = 0.2\n",
    "T = 0.25\n",
    "t = 0\n",
    "\n",
    "call_110_price = BS_price(S0, K_call, r, sigma, T, t, \"C\")\n",
    "\n",
    "# Parameters for Put Option with 95% moneyness\n",
    "K_put = 95\n",
    "\n",
    "put_95_price = BS_price(S0, K_put, r, sigma, T, t, \"P\")\n",
    "\n",
    "print(\"European Call with 110% moneyness price =\", call_110_price)\n",
    "print(\"European Put with 95% moneyness price =\", put_95_price)\n",
    "\n",
    "# Calculate Deltas\n",
    "d1_call = (np.log(S0/K_call) + (r + sigma**2 / 2) * T) / (sigma * np.sqrt(T))\n",
    "d1_put = (np.log(S0/K_put) + (r + sigma**2 / 2) * T) / (sigma * np.sqrt(T))\n",
    "\n",
    "call_delta = np.round(ss.norm.cdf(d1_call), 2)\n",
    "put_delta = np.round(ss.norm.cdf(d1_put) - 1, 2)\n",
    "portfolio_delta = call_delta + put_delta\n",
    "\n",
    "print(\"Total price to buy both options at t=0:\", np.round(call_110_price + put_95_price, 2))\n",
    "print(\"Call delta =\", call_delta)\n",
    "print(\"Put delta =\", put_delta)\n",
    "print(\"Portfolio delta =\", portfolio_delta)\n",
    "\n",
    "portfolio_2_delta = call_delta - put_delta\n",
    "print(\"Total price to buy call and sell put at t=0:\", np.round(call_110_price - put_95_price, 2))\n",
    "print(\"New portfolio delta =\", portfolio_2_delta)\n"
   ]
  },
  {
   "cell_type": "code",
   "execution_count": 29,
   "metadata": {},
   "outputs": [
    {
     "name": "stdout",
     "output_type": "stream",
     "text": [
      "European Call with 110% moneyness price = 1.19\n",
      "European Put with 95% moneyness price = 1.53\n"
     ]
    }
   ],
   "source": [
    "import scipy.stats as ss\n",
    "\n",
    "# Black-Scholes closed-form solution for European option pricing\n",
    "def BS_price(S0, K, r, sigma, T, t, call_or_put=\"C\"):\n",
    "    T = T-t\n",
    "    d1 = (np.log(S0/K) + (r + sigma**2 / 2) * T) / (sigma * np.sqrt(T))\n",
    "    d2 = d1 - sigma * np.sqrt(T)\n",
    "    \n",
    "    if call_or_put == \"C\":\n",
    "        price = S0 * ss.norm.cdf(d1) - np.exp(-r*T) * K * ss.norm.cdf(d2)\n",
    "    else:\n",
    "        price = np.exp(-r*T) * K * ss.norm.cdf(-d2) - S0 * ss.norm.cdf(-d1)\n",
    "        \n",
    "    return np.round(price, 2)\n",
    "\n",
    "# Parameters for Call Option with 110% moneyness\n",
    "S0 = 100\n",
    "K_call = 110\n",
    "r = 0.05\n",
    "sigma = 0.2\n",
    "T = 0.25\n",
    "t = 0\n",
    "\n",
    "call_110_price = BS_price(S0, K_call, r, sigma, T, t, \"C\")\n",
    "\n",
    "# Parameters for Put Option with 95% moneyness\n",
    "K_put = 95\n",
    "\n",
    "put_95_price = BS_price(S0, K_put, r, sigma, T, t, \"P\")\n",
    "\n",
    "print(\"European Call with 110% moneyness price =\", call_110_price)\n",
    "print(\"European Put with 95% moneyness price =\", put_95_price)\n",
    "\n"
   ]
  },
  {
   "cell_type": "markdown",
   "metadata": {},
   "source": [
    "$\\Delta_{call} = \\Phi(d_1)$\n",
    "\n",
    "$\\Delta_{put} = \\Phi(d_1) - 1$\n",
    "\n",
    "And if we buy both the call and put option, delta of the portfolio is simply the sum of the delta of the options (because they have the same weight):\n",
    "\n",
    "$\\Delta_{portfolio} = \\Delta_{call} + \\Delta_{put}$"
   ]
  },
  {
   "cell_type": "code",
   "execution_count": 30,
   "metadata": {},
   "outputs": [
    {
     "name": "stdout",
     "output_type": "stream",
     "text": [
      "Total price to buy both options at t=0: 2.72\n",
      "Call delta = 0.22\n",
      "Put delta = -0.25\n",
      "Portfolio delta = -0.03\n"
     ]
    }
   ],
   "source": [
    "# Calculate Deltas\n",
    "d1_call = (np.log(S0/K_call) + (r + sigma**2 / 2) * T) / (sigma * np.sqrt(T))\n",
    "d1_put = (np.log(S0/K_put) + (r + sigma**2 / 2) * T) / (sigma * np.sqrt(T))\n",
    "\n",
    "call_delta = np.round(ss.norm.cdf(d1_call), 2)\n",
    "put_delta = np.round(ss.norm.cdf(d1_put) - 1, 2)\n",
    "portfolio_delta = call_delta + put_delta\n",
    "\n",
    "print(\"Total price to buy both options at t=0:\", np.round(call_110_price + put_95_price, 2))\n",
    "print(\"Call delta =\", call_delta)\n",
    "print(\"Put delta =\", put_delta)\n",
    "print(\"Portfolio delta =\", portfolio_delta)\n",
    "\n"
   ]
  },
  {
   "cell_type": "markdown",
   "metadata": {},
   "source": [
    "Replication Portfolio Calculation:\n",
    "\n",
    "$B + \\Delta \\times S_0 = P$\n",
    "\n",
    "where,\n",
    "\n",
    "$B:$ Risk-free bond buy amount\n",
    "\n",
    "$S_0:$ Underlying asset price at $t=0$\n",
    "\n",
    "$\\Delta:$ Delta value of the option to the underlying\n",
    "\n",
    "$P:$ Price of the option portfolio at $t=0$"
   ]
  },
  {
   "cell_type": "markdown",
   "metadata": {},
   "source": [
    "Then to replicate this specific portfolio (buy both options), we have the equation:\n",
    "\n",
    "$ B + -0.03 \\times 100 = 2.72 $\n",
    "\n",
    "$\\rightarrow B = 5.72$\n",
    "\n",
    "This means, to delta-hedge this portfolio:\n",
    "\n",
    "* We **BUY** $0.03$ units of the underlying asset at $t=0$.\n",
    "* We **BORROW** $5.72$ units of the risk-free bond at $t=0$."
   ]
  },
  {
   "cell_type": "markdown",
   "metadata": {},
   "source": [
    "_________________\n",
    "\n",
    "For the second portfolio we **buy** the call but **sell** the put. Now because the sign of the put is reversed, its delta value is also reversed. So the delta of the new portfolio will be:\n",
    "\n",
    "$\\Delta_{portfolio} = \\Delta_{call} - \\Delta_{put}$"
   ]
  },
  {
   "cell_type": "code",
   "execution_count": 31,
   "metadata": {},
   "outputs": [
    {
     "name": "stdout",
     "output_type": "stream",
     "text": [
      "Total price to buy call and sell put at t=0: -0.34\n",
      "New portfolio delta = 0.47\n"
     ]
    }
   ],
   "source": [
    "portfolio_2_delta = call_delta - put_delta\n",
    "print(\"Total price to buy call and sell put at t=0:\", np.round(call_110_price - put_95_price, 2))\n",
    "print(\"New portfolio delta =\", portfolio_2_delta)\n"
   ]
  },
  {
   "cell_type": "markdown",
   "metadata": {},
   "source": [
    "To delta hedge this new portfolio, we have a new equation:\n",
    "\n",
    "$B + 0.47 \\times 100 = -0.34$\n",
    "\n",
    "* We **SELL** $0.47$ units of the underlying asset at $t=0$.\n",
    "* We **LEND** $-47.34$ units of the risk-free bond at $t=0$."
   ]
  },
  {
   "cell_type": "markdown",
   "metadata": {},
   "source": [
    "# Team Member B"
   ]
  },
  {
   "cell_type": "code",
   "execution_count": 32,
   "metadata": {},
   "outputs": [
    {
     "name": "stdout",
     "output_type": "stream",
     "text": [
      "Up-and-Out Barrier Option Price: 0.69\n"
     ]
    }
   ],
   "source": [
    "import numpy as np\n",
    "\n",
    "# Parameters for UAO barrier option\n",
    "S0 = 120  # Initial stock price\n",
    "K = 120   # Strike price (ATM)\n",
    "T = 8/12  # Time to maturity (8 months)\n",
    "r = 0.06  # Risk-free rate\n",
    "sigma = 0.30  # Volatility\n",
    "barrier = 141  # Barrier level\n",
    "n_simulations = 10000  # Number of simulations\n",
    "n_steps = 252  # Daily time steps for 8 months\n",
    "\n",
    "# Monte-Carlo simulation for UAO\n",
    "def uao_barrier_option_price(S0, K, r, sigma, T, barrier, n_simulations, n_steps):\n",
    "    dt = T / n_steps\n",
    "    Z = np.random.standard_normal((n_simulations, n_steps))\n",
    "    S = np.zeros((n_simulations, n_steps + 1))\n",
    "    S[:, 0] = S0\n",
    "    \n",
    "    for t in range(1, n_steps + 1):\n",
    "        S[:, t] = S[:, t-1] * np.exp((r - 0.5 * sigma**2) * dt + sigma * np.sqrt(dt) * Z[:, t-1])\n",
    "    \n",
    "    payoff = np.where(np.max(S, axis=1) < barrier, np.maximum(S[:, -1] - K, 0), 0)\n",
    "    return np.exp(-r * T) * np.mean(payoff)\n",
    "\n",
    "uao_price = uao_barrier_option_price(S0, K, r, sigma, T, barrier, n_simulations, n_steps)\n",
    "print(\"Up-and-Out Barrier Option Price:\", np.round(uao_price, 2))\n"
   ]
  },
  {
   "cell_type": "markdown",
   "metadata": {},
   "source": [
    "# Team Member C"
   ]
  },
  {
   "cell_type": "markdown",
   "metadata": {},
   "source": [
    "Now, based on the provided Member B code, we will:\n",
    "\n",
    "Compute the price of an Up-and-In (UAI) barrier option.\n",
    "Compute the price of the vanilla option (same characteristics, no barrier).\n",
    "Compare the prices of UAO, UAI, and vanilla options."
   ]
  },
  {
   "cell_type": "code",
   "execution_count": 33,
   "metadata": {},
   "outputs": [
    {
     "name": "stdout",
     "output_type": "stream",
     "text": [
      "Up-and-In Barrier Option Price: 13.75\n",
      "Vanilla Option Price: 14.47\n",
      "Price Comparison:\n",
      "UAO Option Price: 0.69\n",
      "UAI Option Price: 13.75\n",
      "Vanilla Option Price: 14.47\n",
      "Relationship between prices: UAO < UAI < Vanilla\n"
     ]
    }
   ],
   "source": [
    "# Monte-Carlo simulation for UAI (Up-and-In) barrier option\n",
    "def uai_barrier_option_price(S0, K, r, sigma, T, barrier, n_simulations, n_steps):\n",
    "    dt = T / n_steps\n",
    "    Z = np.random.standard_normal((n_simulations, n_steps))\n",
    "    S = np.zeros((n_simulations, n_steps + 1))\n",
    "    S[:, 0] = S0\n",
    "    \n",
    "    for t in range(1, n_steps + 1):\n",
    "        S[:, t] = S[:, t-1] * np.exp((r - 0.5 * sigma**2) * dt + sigma * np.sqrt(dt) * Z[:, t-1])\n",
    "    \n",
    "    payoff = np.where(np.max(S, axis=1) >= barrier, np.maximum(S[:, -1] - K, 0), 0)\n",
    "    return np.exp(-r * T) * np.mean(payoff)\n",
    "\n",
    "# Monte-Carlo simulation for vanilla option (no barrier)\n",
    "def vanilla_option_price(S0, K, r, sigma, T, n_simulations, n_steps):\n",
    "    dt = T / n_steps\n",
    "    Z = np.random.standard_normal((n_simulations, n_steps))\n",
    "    S = np.zeros((n_simulations, n_steps + 1))\n",
    "    S[:, 0] = S0\n",
    "    \n",
    "    for t in range(1, n_steps + 1):\n",
    "        S[:, t] = S[:, t-1] * np.exp((r - 0.5 * sigma**2) * dt + sigma * np.sqrt(dt) * Z[:, t-1])\n",
    "    \n",
    "    payoff = np.maximum(S[:, -1] - K, 0)\n",
    "    return np.exp(-r * T) * np.mean(payoff)\n",
    "\n",
    "# Calculate the prices\n",
    "uai_price = uai_barrier_option_price(S0, K, r, sigma, T, barrier, n_simulations, n_steps)\n",
    "vanilla_price = vanilla_option_price(S0, K, r, sigma, T, n_simulations, n_steps)\n",
    "\n",
    "print(\"Up-and-In Barrier Option Price:\", np.round(uai_price, 2))\n",
    "print(\"Vanilla Option Price:\", np.round(vanilla_price, 2))\n",
    "\n",
    "# Analyze the relationship between the prices\n",
    "print(\"Price Comparison:\")\n",
    "print(\"UAO Option Price:\", np.round(uao_price, 2))\n",
    "print(\"UAI Option Price:\", np.round(uai_price, 2))\n",
    "print(\"Vanilla Option Price:\", np.round(vanilla_price, 2))\n",
    "\n",
    "relationship = \"UAO < UAI < Vanilla\" if uao_price < uai_price < vanilla_price else \"Unexpected relationship\"\n",
    "print(\"Relationship between prices:\", relationship)\n"
   ]
  },
  {
   "cell_type": "code",
   "execution_count": 34,
   "metadata": {},
   "outputs": [
    {
     "data": {
      "image/png": "[encoded data removed]",
      "text/plain": [
       "<Figure size 1000x600 with 1 Axes>"
      ]
     },
     "metadata": {},
     "output_type": "display_data"
    }
   ],
   "source": [
    "import matplotlib.pyplot as plt\n",
    "\n",
    "# Prices from the executed code for Member C\n",
    "prices = {\n",
    "    \"Up-and-Out (UAO)\": 0.66,\n",
    "    \"Up-and-In (UAI)\": 12.97,\n",
    "    \"Vanilla\": 13.94\n",
    "}\n",
    "\n",
    "# Plotting the prices\n",
    "options = list(prices.keys())\n",
    "values = list(prices.values())\n",
    "\n",
    "plt.figure(figsize=(10, 6))\n",
    "plt.bar(options, values, color=['blue', 'orange', 'green'])\n",
    "plt.title(\"Price Comparison of UAO, UAI, and Vanilla Options\")\n",
    "plt.xlabel(\"Option Type\")\n",
    "plt.ylabel(\"Price\")\n",
    "plt.grid(True)\n",
    "plt.show()\n"
   ]
  },
  {
   "cell_type": "code",
   "execution_count": null,
   "metadata": {},
   "outputs": [],
   "source": []
  }
 ],
 "metadata": {
  "kernelspec": {
   "display_name": "Python 3 (ipykernel)",
   "language": "python",
   "name": "python3"
  },
  "language_info": {
   "codemirror_mode": {
    "name": "ipython",
    "version": 3
   },
   "file_extension": ".py",
   "mimetype": "text/x-python",
   "name": "python",
   "nbconvert_exporter": "python",
   "pygments_lexer": "ipython3",
   "version": "3.11.7"
  }
 },
 "nbformat": 4,
 "nbformat_minor": 2
}
